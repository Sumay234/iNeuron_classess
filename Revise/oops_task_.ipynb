{
 "cells": [
  {
   "cell_type": "code",
   "execution_count": null,
   "id": "846e8b92",
   "metadata": {},
   "outputs": [],
   "source": [
    "q1 . Create your own package for all the list function \n",
    "q2 .create your onw package for all the tuple function\n",
    "q3 . create your own package for all dictonary function\n",
    "q4 . create your own package for all the set function\n",
    "\n",
    "\n",
    "restriction :\n",
    "    always use exception handling\n",
    "    never usr print statement \n",
    "    always use logging while writing a code and log every activity performed by code in respective logging file \n",
    "    \n",
    "\n",
    "    you have to submit this by next sunday : before 30th of jan 10 AM IST \n",
    "sudhanshu@ineuron.ai"
   ]
  },
  {
   "cell_type": "code",
   "execution_count": null,
   "id": "3d502dd3",
   "metadata": {},
   "outputs": [],
   "source": [
    "open(\"own_package.py\",\"w+\")"
   ]
  },
  {
   "cell_type": "code",
   "execution_count": null,
   "id": "c5a808f8",
   "metadata": {},
   "outputs": [],
   "source": [
    "import logging\n",
    "logging.basicConfig(filename=\"own_packa.log\", level=logging.DEBUG,format=\"%(asctime)s %(levelname)   %(message)s\")"
   ]
  },
  {
   "cell_type": "code",
   "execution_count": null,
   "id": "5ab91a4c",
   "metadata": {},
   "outputs": [],
   "source": [
    "logging.info(\"this is my info log\")\n",
    "logging.warning(\"this is my warning log\")\n",
    "logging.debug(\"this is my debug log\")\n",
    "logging.error(\"this is my error log\")"
   ]
  },
  {
   "cell_type": "code",
   "execution_count": null,
   "id": "3e82124d",
   "metadata": {},
   "outputs": [],
   "source": [
    "class oops_task:\n",
    "    \n",
    "    def __init__ (self,it_is_list,a_tuple,dictionary):\n",
    "        self.it_is_list=it_is_list\n",
    "        self.a_tuple=a_tuple\n",
    "        self.dictionary=dictionary\n",
    "        \n",
    "    def get_list(self):\n",
    "        try:\n",
    "            if type(it_is_list) == list:\n",
    "                logging.info(\"Its is a list: \",self.it_is_list)\n",
    "        except Exception as e:\n",
    "            logging.exception(\"Pls enter dictionary\",e)\n",
    "                \n",
    "    def get_tuple(self):\n",
    "        try:\n",
    "            if type(a_tuple) == tuple:\n",
    "                logging.info(\"its a tuple: \",self.a_tuple)\n",
    "        except Exception as e:\n",
    "            logging.exception(\"pls enter a tuple\",e)\n",
    "            \n",
    "    def get_dictionary(self):\n",
    "        try:\n",
    "            if type(dictionary) == dict:\n",
    "                logging.info(\"its a dictionary: \",self.dictionary)\n",
    "        except Exception as e:\n",
    "            logging.exception(\"Pls give a dictonary\",e)"
   ]
  },
  {
   "cell_type": "code",
   "execution_count": 17,
   "id": "c7173336",
   "metadata": {},
   "outputs": [],
   "source": [
    "from own_package import logging"
   ]
  },
  {
   "cell_type": "code",
   "execution_count": 18,
   "id": "f54dea5f",
   "metadata": {},
   "outputs": [],
   "source": [
    "from own_package import oops_task"
   ]
  },
  {
   "cell_type": "code",
   "execution_count": 20,
   "id": "15e04333",
   "metadata": {},
   "outputs": [],
   "source": [
    "logging.a=oops_task([1,2,3],(4,5,6),{\"a\":7,\"b\":8,\"c\":9})"
   ]
  },
  {
   "cell_type": "code",
   "execution_count": 23,
   "id": "90b1a88c",
   "metadata": {},
   "outputs": [
    {
     "data": {
      "text/plain": [
       "(4, 5, 6)"
      ]
     },
     "execution_count": 23,
     "metadata": {},
     "output_type": "execute_result"
    }
   ],
   "source": [
    "logging.a.a_tuple"
   ]
  },
  {
   "cell_type": "code",
   "execution_count": 14,
   "id": "d2c07da0",
   "metadata": {},
   "outputs": [
    {
     "data": {
      "text/plain": [
       "{'a': 7, 'b': 8, 'c': 9}"
      ]
     },
     "execution_count": 14,
     "metadata": {},
     "output_type": "execute_result"
    }
   ],
   "source": [
    "a.dictionary"
   ]
  },
  {
   "cell_type": "code",
   "execution_count": 7,
   "id": "bfeb3c75",
   "metadata": {},
   "outputs": [
    {
     "data": {
      "text/plain": [
       "[1, 2, 3]"
      ]
     },
     "execution_count": 7,
     "metadata": {},
     "output_type": "execute_result"
    }
   ],
   "source": [
    "a.it_is_list"
   ]
  },
  {
   "cell_type": "code",
   "execution_count": null,
   "id": "9e56fa7e",
   "metadata": {},
   "outputs": [],
   "source": []
  },
  {
   "cell_type": "code",
   "execution_count": null,
   "id": "37bfbae6",
   "metadata": {},
   "outputs": [],
   "source": []
  },
  {
   "cell_type": "code",
   "execution_count": null,
   "id": "e11c8323",
   "metadata": {},
   "outputs": [],
   "source": [
    "class dect_parser:\n",
    "    \n",
    "    def __init__(self,dic):\n",
    "        if type(dic) != dict:\n",
    "            raise Exception (\"You have to give dictonary \")\n",
    "        else:\n",
    "            self.dic = dic\n",
    "    \n",
    "    def get_key(self):\n",
    "        return self.dic.keys()\n",
    "    \n",
    "    def get_values(self):\n",
    "        return self.dic.values()\n",
    "    \n",
    "    def take_input(self):\n",
    "        a=input(\"Enter key \")\n",
    "        b=input(\"Enter value \")\n",
    "        self.dic[a] = b\n",
    "        \n",
    "    def insert_key_value_pair(self,key,value):\n",
    "        self.dic[key] = value\n",
    "        return (\"value_inserted\")\n",
    "    \n",
    "class dictparser:\n",
    "    \n",
    "    def __init__(self,d):\n",
    "        self.d = d\n",
    "    \n",
    "    def my_keys(self):\n",
    "        if type(self.d) == dict:\n",
    "            return self.d.keys()\n",
    "        \n",
    "    def my_values(self):\n",
    "        if type(self.d) == dict:\n",
    "            return self.d.values()\n",
    "        \n",
    "    def input_key(self):\n",
    "        a=input(\"enter key \")\n",
    "        b=input(\"enter values \")\n",
    "        self.d[a] = b"
   ]
  },
  {
   "cell_type": "code",
   "execution_count": 1,
   "id": "8d6b5ff1",
   "metadata": {},
   "outputs": [],
   "source": [
    "class xyz:\n",
    "    def __init__(self,a,b,c):\n",
    "        \n",
    "        self.a=a\n",
    "        self.b=b\n",
    "        self.c=c\n",
    "        \n",
    "    def test(self):\n",
    "        print(\"this is my first method in xyz class\")\n",
    "        \n",
    "class xyz1:\n",
    "    def __init__(self,p,q,r):\n",
    "        \n",
    "        self.p=p\n",
    "        self.q=q\n",
    "        self.r=r\n",
    "        \n",
    "    def test1(self):\n",
    "        print(\"this is my first method in xyz1 class\")\n",
    "\"\"\"   this will not work\n",
    "class child(xyz1,xyz):\n",
    "    def __init__(self,*args,*mas):\n",
    "        xyz.__init__(self,*args)\n",
    "        xyz1.__init__(self,*mas)\n",
    "\"\"\"\n",
    "class xyz2:\n",
    "    def __init__(self,x,y,z):\n",
    "        \n",
    "        self.x=x\n",
    "        self.y=y\n",
    "        self.z=z\n",
    "\n",
    "        #this will also not work\n",
    "class child(xyz,xyz1,xyz2):\n",
    "    def __init__(self,*args,**kwargs):\n",
    "        xyz.__init__(self,*args)\n",
    "        xyz1.__init__(self,**kwargs)\n",
    "        xyz2.__init__(self,**kwargs)\n",
    "\n"
   ]
  },
  {
   "cell_type": "code",
   "execution_count": 5,
   "id": "5a6c8300",
   "metadata": {},
   "outputs": [
    {
     "ename": "TypeError",
     "evalue": "__init__() got an unexpected keyword argument 'x'",
     "output_type": "error",
     "traceback": [
      "\u001b[1;31m---------------------------------------------------------------------------\u001b[0m",
      "\u001b[1;31mTypeError\u001b[0m                                 Traceback (most recent call last)",
      "Input \u001b[1;32mIn [5]\u001b[0m, in \u001b[0;36m<cell line: 1>\u001b[1;34m()\u001b[0m\n\u001b[1;32m----> 1\u001b[0m n\u001b[38;5;241m=\u001b[39m\u001b[43mchild\u001b[49m\u001b[43m(\u001b[49m\u001b[38;5;241;43m4\u001b[39;49m\u001b[43m,\u001b[49m\u001b[38;5;241;43m5\u001b[39;49m\u001b[43m,\u001b[49m\u001b[38;5;241;43m6\u001b[39;49m\u001b[43m,\u001b[49m\u001b[43mp\u001b[49m\u001b[38;5;241;43m=\u001b[39;49m\u001b[38;5;241;43m3\u001b[39;49m\u001b[43m,\u001b[49m\u001b[43mq\u001b[49m\u001b[38;5;241;43m=\u001b[39;49m\u001b[38;5;241;43m8\u001b[39;49m\u001b[43m,\u001b[49m\u001b[43mr\u001b[49m\u001b[38;5;241;43m=\u001b[39;49m\u001b[38;5;241;43m7\u001b[39;49m\u001b[43m,\u001b[49m\u001b[43mx\u001b[49m\u001b[38;5;241;43m=\u001b[39;49m\u001b[38;5;241;43m7\u001b[39;49m\u001b[43m,\u001b[49m\u001b[43my\u001b[49m\u001b[38;5;241;43m=\u001b[39;49m\u001b[38;5;241;43m6\u001b[39;49m\u001b[43m,\u001b[49m\u001b[43mz\u001b[49m\u001b[38;5;241;43m=\u001b[39;49m\u001b[38;5;241;43m9\u001b[39;49m\u001b[43m)\u001b[49m\n",
      "Input \u001b[1;32mIn [1]\u001b[0m, in \u001b[0;36mchild.__init__\u001b[1;34m(self, *args, **kwargs)\u001b[0m\n\u001b[0;32m     35\u001b[0m \u001b[38;5;28;01mdef\u001b[39;00m \u001b[38;5;21m__init__\u001b[39m(\u001b[38;5;28mself\u001b[39m,\u001b[38;5;241m*\u001b[39margs,\u001b[38;5;241m*\u001b[39m\u001b[38;5;241m*\u001b[39mkwargs):\n\u001b[0;32m     36\u001b[0m     xyz\u001b[38;5;241m.\u001b[39m\u001b[38;5;21m__init__\u001b[39m(\u001b[38;5;28mself\u001b[39m,\u001b[38;5;241m*\u001b[39margs)\n\u001b[1;32m---> 37\u001b[0m     xyz1\u001b[38;5;241m.\u001b[39m\u001b[38;5;21m__init__\u001b[39m(\u001b[38;5;28mself\u001b[39m,\u001b[38;5;241m*\u001b[39m\u001b[38;5;241m*\u001b[39mkwargs)\n\u001b[0;32m     38\u001b[0m     xyz2\u001b[38;5;241m.\u001b[39m\u001b[38;5;21m__init__\u001b[39m(\u001b[38;5;28mself\u001b[39m,\u001b[38;5;241m*\u001b[39m\u001b[38;5;241m*\u001b[39mkwargs)\n",
      "\u001b[1;31mTypeError\u001b[0m: __init__() got an unexpected keyword argument 'x'"
     ]
    }
   ],
   "source": [
    "n=child(4,5,6,p=3,q=8,r=7,x=7,y=6,z=9)"
   ]
  },
  {
   "cell_type": "code",
   "execution_count": 11,
   "id": "d4ab1ae5",
   "metadata": {},
   "outputs": [],
   "source": [
    "class xyz:\n",
    "    def __init__(self,a,b,c):\n",
    "        \n",
    "        self.a=a\n",
    "        self.b=b\n",
    "        self.c=c\n",
    "        \n",
    "    def test(self):\n",
    "        print(\"this is my first method in xyz class\")\n",
    "        \n",
    "class xyz1:\n",
    "    def __init__(self,p,q,r):\n",
    "        \n",
    "        self.p=p\n",
    "        self.q=q\n",
    "        self.r=r\n",
    "        \n",
    "    def test1(self):\n",
    "        print(\"this is my first method in xyz1 class\")\n",
    "\"\"\"   this will not work\n",
    "class child(xyz1,xyz):\n",
    "    def __init__(self,*args,*mas):\n",
    "        xyz.__init__(self,*args)\n",
    "        xyz1.__init__(self,*mas)\n",
    "\"\"\"\n",
    "class xyz2:\n",
    "    def __init__(self,x,y,z):\n",
    "        \n",
    "        self.x=x\n",
    "        self.y=y\n",
    "        self.z=z\n",
    "\n",
    "        #this will also not work\n",
    "class child(xyz,xyz1,xyz2):\n",
    "    def __init__(self,*args,**kwargs):\n",
    "        xyz.__init__(self,*args)\n",
    "        xyz1.__init__(self,*args)\n",
    "        xyz2.__init__(self,**kwargs)\n",
    "\n"
   ]
  },
  {
   "cell_type": "code",
   "execution_count": 10,
   "id": "0660ba65",
   "metadata": {},
   "outputs": [
    {
     "ename": "TypeError",
     "evalue": "__init__() missing 3 required positional arguments: 'a', 'b', and 'c'",
     "output_type": "error",
     "traceback": [
      "\u001b[1;31m---------------------------------------------------------------------------\u001b[0m",
      "\u001b[1;31mTypeError\u001b[0m                                 Traceback (most recent call last)",
      "Input \u001b[1;32mIn [10]\u001b[0m, in \u001b[0;36m<cell line: 1>\u001b[1;34m()\u001b[0m\n\u001b[1;32m----> 1\u001b[0m n\u001b[38;5;241m=\u001b[39m\u001b[43mchild\u001b[49m\u001b[43m(\u001b[49m\u001b[38;5;241;43m4\u001b[39;49m\u001b[43m,\u001b[49m\u001b[38;5;241;43m5\u001b[39;49m\u001b[43m,\u001b[49m\u001b[38;5;241;43m6\u001b[39;49m\u001b[43m,\u001b[49m\u001b[43mp\u001b[49m\u001b[38;5;241;43m=\u001b[39;49m\u001b[38;5;241;43m3\u001b[39;49m\u001b[43m,\u001b[49m\u001b[43mq\u001b[49m\u001b[38;5;241;43m=\u001b[39;49m\u001b[38;5;241;43m8\u001b[39;49m\u001b[43m,\u001b[49m\u001b[43mr\u001b[49m\u001b[38;5;241;43m=\u001b[39;49m\u001b[38;5;241;43m7\u001b[39;49m\u001b[43m,\u001b[49m\u001b[43mx\u001b[49m\u001b[38;5;241;43m=\u001b[39;49m\u001b[38;5;241;43m7\u001b[39;49m\u001b[43m,\u001b[49m\u001b[43my\u001b[49m\u001b[38;5;241;43m=\u001b[39;49m\u001b[38;5;241;43m6\u001b[39;49m\u001b[43m,\u001b[49m\u001b[43mz\u001b[49m\u001b[38;5;241;43m=\u001b[39;49m\u001b[38;5;241;43m9\u001b[39;49m\u001b[43m)\u001b[49m\n",
      "Input \u001b[1;32mIn [9]\u001b[0m, in \u001b[0;36mchild.__init__\u001b[1;34m(self, *args, **kwargs)\u001b[0m\n\u001b[0;32m     35\u001b[0m \u001b[38;5;28;01mdef\u001b[39;00m \u001b[38;5;21m__init__\u001b[39m(\u001b[38;5;28mself\u001b[39m,\u001b[38;5;241m*\u001b[39margs,\u001b[38;5;241m*\u001b[39m\u001b[38;5;241m*\u001b[39mkwargs):\n\u001b[1;32m---> 36\u001b[0m     \u001b[43mxyz\u001b[49m\u001b[38;5;241;43m.\u001b[39;49m\u001b[38;5;21;43m__init__\u001b[39;49m\u001b[43m(\u001b[49m\u001b[38;5;28;43mself\u001b[39;49m\u001b[43m)\u001b[49m\n\u001b[0;32m     37\u001b[0m     xyz1\u001b[38;5;241m.\u001b[39m\u001b[38;5;21m__init__\u001b[39m(\u001b[38;5;28mself\u001b[39m,\u001b[38;5;241m*\u001b[39margs)\n\u001b[0;32m     38\u001b[0m     xyz2\u001b[38;5;241m.\u001b[39m\u001b[38;5;21m__init__\u001b[39m(\u001b[38;5;28mself\u001b[39m,\u001b[38;5;241m*\u001b[39m\u001b[38;5;241m*\u001b[39mkwargs)\n",
      "\u001b[1;31mTypeError\u001b[0m: __init__() missing 3 required positional arguments: 'a', 'b', and 'c'"
     ]
    }
   ],
   "source": [
    "n=child(4,5,6,p=3,q=8,r=7,x=7,y=6,z=9)"
   ]
  },
  {
   "cell_type": "code",
   "execution_count": 7,
   "id": "23fab603",
   "metadata": {},
   "outputs": [
    {
     "ename": "TypeError",
     "evalue": "__init__() takes 3 positional arguments but 10 were given",
     "output_type": "error",
     "traceback": [
      "\u001b[1;31m---------------------------------------------------------------------------\u001b[0m",
      "\u001b[1;31mTypeError\u001b[0m                                 Traceback (most recent call last)",
      "Input \u001b[1;32mIn [7]\u001b[0m, in \u001b[0;36m<cell line: 1>\u001b[1;34m()\u001b[0m\n\u001b[1;32m----> 1\u001b[0m n\u001b[38;5;241m=\u001b[39m\u001b[43mchild\u001b[49m\u001b[43m(\u001b[49m\u001b[38;5;241;43m4\u001b[39;49m\u001b[43m,\u001b[49m\u001b[38;5;241;43m5\u001b[39;49m\u001b[43m,\u001b[49m\u001b[38;5;241;43m6\u001b[39;49m\u001b[43m,\u001b[49m\u001b[38;5;241;43m3\u001b[39;49m\u001b[43m,\u001b[49m\u001b[38;5;241;43m8\u001b[39;49m\u001b[43m,\u001b[49m\u001b[38;5;241;43m7\u001b[39;49m\u001b[43m,\u001b[49m\u001b[38;5;241;43m7\u001b[39;49m\u001b[43m,\u001b[49m\u001b[38;5;241;43m6\u001b[39;49m\u001b[43m,\u001b[49m\u001b[38;5;241;43m9\u001b[39;49m\u001b[43m)\u001b[49m\n",
      "\u001b[1;31mTypeError\u001b[0m: __init__() takes 3 positional arguments but 10 were given"
     ]
    }
   ],
   "source": [
    "n=child(4,5,6,3,8,7,7,6,9)"
   ]
  },
  {
   "cell_type": "code",
   "execution_count": null,
   "id": "237c9095",
   "metadata": {},
   "outputs": [],
   "source": []
  }
 ],
 "metadata": {
  "kernelspec": {
   "display_name": "Python 3 (ipykernel)",
   "language": "python",
   "name": "python3"
  },
  "language_info": {
   "codemirror_mode": {
    "name": "ipython",
    "version": 3
   },
   "file_extension": ".py",
   "mimetype": "text/x-python",
   "name": "python",
   "nbconvert_exporter": "python",
   "pygments_lexer": "ipython3",
   "version": "3.9.12"
  }
 },
 "nbformat": 4,
 "nbformat_minor": 5
}
