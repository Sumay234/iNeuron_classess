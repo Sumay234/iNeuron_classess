{
 "cells": [
  {
   "cell_type": "code",
   "execution_count": 1,
   "id": "6cc0aade",
   "metadata": {},
   "outputs": [],
   "source": [
    "import logging"
   ]
  },
  {
   "cell_type": "code",
   "execution_count": 2,
   "id": "5bed94de",
   "metadata": {},
   "outputs": [],
   "source": [
    "logging.basicConfig(filename=\"19-02-23.log\",level=logging.DEBUG)"
   ]
  },
  {
   "cell_type": "code",
   "execution_count": 3,
   "id": "ed4aaeba",
   "metadata": {},
   "outputs": [],
   "source": [
    "logging.info(\"this is my info log\")\n",
    "logging.warning(\"this is my warning log\")\n",
    "logging.error(\"this is my error log\")"
   ]
  },
  {
   "cell_type": "code",
   "execution_count": 38,
   "id": "61fa9491",
   "metadata": {},
   "outputs": [],
   "source": [
    "logging.shutdown()"
   ]
  },
  {
   "cell_type": "code",
   "execution_count": 37,
   "id": "28197af7",
   "metadata": {},
   "outputs": [
    {
     "data": {
      "text/plain": [
       "'C:\\\\Users\\\\win11\\\\iNeuron_Classes\\\\Revise'"
      ]
     },
     "execution_count": 37,
     "metadata": {},
     "output_type": "execute_result"
    }
   ],
   "source": [
    "pwd()"
   ]
  },
  {
   "cell_type": "code",
   "execution_count": 21,
   "id": "75cac0cf",
   "metadata": {},
   "outputs": [],
   "source": [
    "def divs(a,b):\n",
    "    logging.info(f\"The value of a is :{a} and b is :{b}\")\n",
    "    try:\n",
    "        logging.info(\"The Current code start from here\")\n",
    "        div=(a/b)\n",
    "        logging.info(f\"The value is {div}\")\n",
    "    except Exception as e:\n",
    "        logging.error(\"Error happen check code\")\n",
    "        logging.exception(\"Exception occured\" + str (e))"
   ]
  },
  {
   "cell_type": "code",
   "execution_count": 18,
   "id": "b933a732",
   "metadata": {},
   "outputs": [],
   "source": [
    "divs(4,2)"
   ]
  },
  {
   "cell_type": "code",
   "execution_count": 19,
   "id": "d1c0e6ce",
   "metadata": {},
   "outputs": [],
   "source": [
    "divs(8,4)"
   ]
  },
  {
   "cell_type": "code",
   "execution_count": 20,
   "id": "fe382002",
   "metadata": {},
   "outputs": [],
   "source": [
    "divs(125,5)"
   ]
  },
  {
   "cell_type": "code",
   "execution_count": 25,
   "id": "4a624472",
   "metadata": {},
   "outputs": [],
   "source": [
    "divs(36,3)"
   ]
  },
  {
   "cell_type": "code",
   "execution_count": 23,
   "id": "2173c9e9",
   "metadata": {},
   "outputs": [
    {
     "name": "stdout",
     "output_type": "stream",
     "text": [
      "ABCDEF\n"
     ]
    }
   ],
   "source": [
    "print(\"ABCDEF\")"
   ]
  },
  {
   "cell_type": "code",
   "execution_count": 24,
   "id": "18733857",
   "metadata": {},
   "outputs": [],
   "source": [
    "logging.info(\"ABCD\")"
   ]
  },
  {
   "cell_type": "code",
   "execution_count": null,
   "id": "f3df7f08",
   "metadata": {},
   "outputs": [],
   "source": [
    "ls=listsearch((1,2,3,4,\"Ram\",\"Sham\"))"
   ]
  },
  {
   "cell_type": "code",
   "execution_count": 26,
   "id": "408b7a56",
   "metadata": {},
   "outputs": [],
   "source": [
    "logging.debug(\"1234568\")"
   ]
  },
  {
   "cell_type": "code",
   "execution_count": 29,
   "id": "d62ccf04",
   "metadata": {},
   "outputs": [],
   "source": [
    "divs(100,2)"
   ]
  },
  {
   "cell_type": "code",
   "execution_count": 34,
   "id": "ef6c9b21",
   "metadata": {},
   "outputs": [],
   "source": [
    "logging.shutdown()"
   ]
  },
  {
   "cell_type": "code",
   "execution_count": 46,
   "id": "86f450d9",
   "metadata": {},
   "outputs": [
    {
     "name": "stdout",
     "output_type": "stream",
     "text": [
      " Volume in drive C is Windows-SSD\n",
      " Volume Serial Number is FC3B-5102\n",
      "\n",
      " Directory of C:\\Users\\win11\\iNeuron_Classes\\Revise\n",
      "\n",
      "19-02-2023  06:11 PM    <DIR>          .\n",
      "14-02-2023  04:22 PM    <DIR>          ..\n",
      "19-02-2023  05:46 PM    <DIR>          .ipynb_checkpoints\n",
      "19-12-2022  07:05 PM    <DIR>          __pycache__\n",
      "19-02-2023  06:07 PM             8,793 19-02-23.log\n",
      "20-01-2023  10:14 PM             4,635 file_class.log\n",
      "14-02-2023  12:57 PM                18 ineuron_courses.csv\n",
      "14-02-2023  12:57 PM        16,526,659 iNeuron_scrapping.ipynb\n",
      "19-02-2023  06:11 PM             6,151 logging practise1.ipynb\n",
      "18-12-2022  11:31 AM               702 ooops.py\n",
      "19-12-2022  05:48 PM            14,535 oops.ipynb\n",
      "07-01-2023  08:23 PM            15,918 oops_task_.ipynb\n",
      "20-01-2023  10:26 PM            23,778 OPPs_1_practise08-01-23.ipynb\n",
      "19-12-2022  06:03 PM                 0 own_packa.log\n",
      "19-12-2022  07:04 PM             1,190 own_package.py\n",
      "14-02-2023  09:26 PM           114,022 Rossmann_Sales_Prediction.ipynb\n",
      "20-01-2023  10:07 PM               330 test_1.txt\n",
      "04-01-2023  09:55 PM             6,051 tkinter.ipynb\n",
      "20-01-2023  09:46 PM               666 tset.txt\n",
      "09-02-2023  09:38 AM            10,400 Untitled.ipynb\n",
      "              16 File(s)     16,733,848 bytes\n",
      "               4 Dir(s)  64,427,651,072 bytes free\n"
     ]
    }
   ],
   "source": [
    "%ls"
   ]
  },
  {
   "cell_type": "code",
   "execution_count": 47,
   "id": "fb42b285",
   "metadata": {},
   "outputs": [],
   "source": [
    "logging.basicConfig(filename=\"class.log\",level=logging.DEBUG,filemode=\"w\",format=\"%(asctime)s %(levelname)   %(message)s\")"
   ]
  },
  {
   "cell_type": "code",
   "execution_count": null,
   "id": "ce8cede6",
   "metadata": {},
   "outputs": [],
   "source": []
  }
 ],
 "metadata": {
  "kernelspec": {
   "display_name": "Python 3 (ipykernel)",
   "language": "python",
   "name": "python3"
  },
  "language_info": {
   "codemirror_mode": {
    "name": "ipython",
    "version": 3
   },
   "file_extension": ".py",
   "mimetype": "text/x-python",
   "name": "python",
   "nbconvert_exporter": "python",
   "pygments_lexer": "ipython3",
   "version": "3.10.2"
  }
 },
 "nbformat": 4,
 "nbformat_minor": 5
}
