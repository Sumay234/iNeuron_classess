{
 "cells": [
  {
   "cell_type": "code",
   "execution_count": 1,
   "id": "6a2fd4cf",
   "metadata": {},
   "outputs": [],
   "source": [
    "# 1) Write a Python programe to find a area of rectange using class\n",
    "\n",
    "class rectange():\n",
    "    \n",
    "    def __init__(self,length,breadth):\n",
    "        self.length = length\n",
    "        self.breadth = breadth\n",
    "        \n",
    "    def area(self):\n",
    "        return self.length * self.breadth\n",
    "    "
   ]
  },
  {
   "cell_type": "code",
   "execution_count": 4,
   "id": "dc8771d6",
   "metadata": {},
   "outputs": [
    {
     "name": "stdout",
     "output_type": "stream",
     "text": [
      "Enter the Length of rectange: 4\n",
      "Enter the Breadth of rectange: 5\n",
      "Area of rectange is  20\n"
     ]
    }
   ],
   "source": [
    "a= int(input(\"Enter the Length of rectange: \"))\n",
    "b= int(input(\"Enter the Breadth of rectange: \"))\n",
    "obj=rectange(a,b)\n",
    "\n",
    "print(\"Area of rectange is \",obj.area())"
   ]
  },
  {
   "cell_type": "code",
   "execution_count": 12,
   "id": "4ed983fd",
   "metadata": {},
   "outputs": [
    {
     "data": {
      "text/plain": [
       "24"
      ]
     },
     "execution_count": 12,
     "metadata": {},
     "output_type": "execute_result"
    }
   ],
   "source": [
    "area_2=rectange(4,6).area()  # another way to call class and object simontinusly\n",
    "area_2"
   ]
  },
  {
   "cell_type": "code",
   "execution_count": 2,
   "id": "4132b4f2",
   "metadata": {},
   "outputs": [
    {
     "name": "stdout",
     "output_type": "stream",
     "text": [
      "Enter the radius of circle: 4\n",
      "area of rcircle 50.24\n",
      "perimeter of circle 25.12\n"
     ]
    }
   ],
   "source": [
    "# 2) Python programe to create a class and compute the area and perimeter of circle\n",
    "\n",
    "class circle():\n",
    "    \n",
    "    def __init__(self,radius):\n",
    "        self.radius=radius\n",
    "        \n",
    "    def area(self):\n",
    "        return self.radius**2*3.14\n",
    "    \n",
    "    def perimeter(self):\n",
    "        return 2*3.14*self.radius\n",
    "    \n",
    "r=float(input(\"Enter the radius of circle: \"))\n",
    "obj=circle(r)\n",
    "\n",
    "print(\"area of rcircle\",obj.area())\n",
    "print(\"perimeter of circle\", obj.perimeter())"
   ]
  },
  {
   "cell_type": "code",
   "execution_count": 4,
   "id": "50fb4fe3",
   "metadata": {},
   "outputs": [
    {
     "name": "stdout",
     "output_type": "stream",
     "text": [
      "Enter the num a: 4\n",
      "Enter the num b: 2\n",
      "addition  6\n",
      "subtact  2\n",
      "multiply 8\n",
      "div 2.0\n"
     ]
    }
   ],
   "source": [
    "# 3) python programe to create a class which Perform basic calculator operation\n",
    "\n",
    "class cal():\n",
    "    \n",
    "    def __init__(self,a,b):\n",
    "        self.a=a\n",
    "        self.b=b\n",
    "        \n",
    "    def add(self):\n",
    "        return (self.a+self.b)\n",
    "    \n",
    "    def sub(self):\n",
    "        return (self.a-self.b)\n",
    "    \n",
    "    def mul(self):\n",
    "        return (self.a*self.b)\n",
    "    \n",
    "    def div(self):\n",
    "        return (self.a/self.b)\n",
    "    \n",
    "a=int(input(\"Enter the num a: \"))\n",
    "b=int(input(\"Enter the num b: \"))\n",
    "\n",
    "calculator=cal(a,b)\n",
    "\n",
    "print(\"addition \",calculator.add())\n",
    "print(\"subtact \", calculator.sub())\n",
    "print(\"multiply\", calculator.mul())\n",
    "print(\"div\",calculator.div())"
   ]
  },
  {
   "cell_type": "code",
   "execution_count": 9,
   "id": "7513b6e9",
   "metadata": {},
   "outputs": [
    {
     "name": "stdout",
     "output_type": "stream",
     "text": [
      "Enter string: hello\n",
      "hello\n"
     ]
    }
   ],
   "source": [
    "# 4) python program to create a class in which one method accepts a string from the user and another prints it.\n",
    "\n",
    "class print_1():\n",
    "    \n",
    "    def __init__(self):\n",
    "        self.string=''\n",
    "        \n",
    "    def get(self):\n",
    "        self.string=input(\"Enter string: \")\n",
    "    \n",
    "    def put(self):\n",
    "        print(self.string)\n",
    "        \n",
    "xyz=print_1()\n",
    "xyz.get()\n",
    "xyz.put()"
   ]
  },
  {
   "cell_type": "code",
   "execution_count": 10,
   "id": "aacf3cd5",
   "metadata": {},
   "outputs": [
    {
     "name": "stdout",
     "output_type": "stream",
     "text": [
      "you are how Hello\n"
     ]
    }
   ],
   "source": [
    "# 5) pythong program to reverse a string word by word\n",
    "\n",
    "class py_solution():\n",
    "    \n",
    "    def reverse_word(self,s):\n",
    "        return ' '.join(reversed(s.split()))\n",
    "    \n",
    "print(py_solution().reverse_word(\"Hello how are you\"))"
   ]
  },
  {
   "cell_type": "code",
   "execution_count": 14,
   "id": "8baae346",
   "metadata": {},
   "outputs": [
    {
     "name": "stdout",
     "output_type": "stream",
     "text": [
      "Sumay\n"
     ]
    },
    {
     "data": {
      "text/plain": [
       "'SUMAY'"
      ]
     },
     "execution_count": 14,
     "metadata": {},
     "output_type": "execute_result"
    }
   ],
   "source": [
    "# 6) \n",
    "\n",
    "class string_s():\n",
    "    \n",
    "    def __init__(self):\n",
    "        self.str_1= ' '\n",
    "        \n",
    "    def get_string(self):\n",
    "        self.str_1 = input()\n",
    "        \n",
    "    def print_string(self):\n",
    "        return self.str_1.upper()\n",
    "    \n",
    "str1=string_s()\n",
    "str1.get_string()\n",
    "str1.print_string()"
   ]
  },
  {
   "cell_type": "code",
   "execution_count": 16,
   "id": "2be3171a",
   "metadata": {},
   "outputs": [
    {
     "data": {
      "text/plain": [
       "60"
      ]
     },
     "execution_count": 16,
     "metadata": {},
     "output_type": "execute_result"
    }
   ],
   "source": [
    "class rectange():\n",
    "    \n",
    "    def __init__(self,length,width):\n",
    "        self.length=length\n",
    "        self.width=width\n",
    "        \n",
    "    def area_rectange(self):\n",
    "        return self.length*self.width\n",
    "    \n",
    "rec=rectange(12,5)\n",
    "rec.area_rectange()"
   ]
  },
  {
   "cell_type": "code",
   "execution_count": null,
   "id": "15e8340a",
   "metadata": {},
   "outputs": [],
   "source": []
  }
 ],
 "metadata": {
  "kernelspec": {
   "display_name": "Python 3 (ipykernel)",
   "language": "python",
   "name": "python3"
  },
  "language_info": {
   "codemirror_mode": {
    "name": "ipython",
    "version": 3
   },
   "file_extension": ".py",
   "mimetype": "text/x-python",
   "name": "python",
   "nbconvert_exporter": "python",
   "pygments_lexer": "ipython3",
   "version": "3.9.12"
  }
 },
 "nbformat": 4,
 "nbformat_minor": 5
}
