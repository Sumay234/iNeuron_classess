{
 "cells": [
  {
   "cell_type": "code",
   "execution_count": 1,
   "id": "3fb202c7",
   "metadata": {},
   "outputs": [],
   "source": [
    "import logging"
   ]
  },
  {
   "cell_type": "code",
   "execution_count": 3,
   "id": "97ed79c0",
   "metadata": {},
   "outputs": [],
   "source": [
    "logging.basicConfig(filename=\"logging_2.log\",level=logging.DEBUG,\n",
    "                    format=\"%(asctime)s:%(name)s:%(message)s\")"
   ]
  },
  {
   "cell_type": "code",
   "execution_count": 8,
   "id": "7a8f96e9",
   "metadata": {},
   "outputs": [],
   "source": [
    "def add(x,y):\n",
    "    ''' ADD IT'''\n",
    "    return x+y\n",
    "\n",
    "def sub(x,y):\n",
    "    '''Subtract it'''\n",
    "    return x-y\n",
    "\n",
    "def multiply(x,y):\n",
    "    '''MULTIPY IT'''\n",
    "    return x*y\n",
    "\n",
    "def divided(x,y):\n",
    "    '''Divivded it'''\n",
    "    return x/y\n",
    "\n",
    "logging.info(\"code start from here\")"
   ]
  },
  {
   "cell_type": "code",
   "execution_count": 5,
   "id": "807b80df",
   "metadata": {},
   "outputs": [],
   "source": [
    "num_1=10\n",
    "num_2=5"
   ]
  },
  {
   "cell_type": "code",
   "execution_count": 18,
   "id": "188a0309",
   "metadata": {},
   "outputs": [],
   "source": [
    "add_result=add(10,5)\n",
    "logging.debug(f\"the result of ADD: {add_result}\")"
   ]
  },
  {
   "cell_type": "code",
   "execution_count": 16,
   "id": "64cc9b14",
   "metadata": {},
   "outputs": [],
   "source": [
    "sub_result=sub(num_1,num_2)\n",
    "logging.info(\"This is the subtraction part---\")\n",
    "logging.debug(f\"The result of subtraction is : {sub_result}\")"
   ]
  },
  {
   "cell_type": "code",
   "execution_count": 17,
   "id": "70951b7c",
   "metadata": {},
   "outputs": [],
   "source": [
    "multiply_result=multiply(10,15)\n",
    "logging.info(\"This is a Multiply part---\")\n",
    "logging.debug(f\"This is the result of the multiply {multiply_result}\")"
   ]
  },
  {
   "cell_type": "code",
   "execution_count": 22,
   "id": "a940d17d",
   "metadata": {},
   "outputs": [],
   "source": [
    "class circle():\n",
    "    def __init__(self,r):\n",
    "        self.r=r\n",
    "    \n",
    "    def area(self):\n",
    "        return (self.r**2*3.14)\n",
    "    \n",
    "    def perimeter(self):\n",
    "        return (2*3.14*self.r)\n",
    "    \n",
    "new_circle=circle(8)"
   ]
  },
  {
   "cell_type": "code",
   "execution_count": 24,
   "id": "edb23c91",
   "metadata": {},
   "outputs": [
    {
     "data": {
      "text/plain": [
       "200.96"
      ]
     },
     "execution_count": 24,
     "metadata": {},
     "output_type": "execute_result"
    }
   ],
   "source": [
    "new_circle.area()"
   ]
  },
  {
   "cell_type": "code",
   "execution_count": 25,
   "id": "27df876d",
   "metadata": {},
   "outputs": [
    {
     "data": {
      "text/plain": [
       "50.24"
      ]
     },
     "execution_count": 25,
     "metadata": {},
     "output_type": "execute_result"
    }
   ],
   "source": [
    "new_circle.perimeter()"
   ]
  },
  {
   "cell_type": "code",
   "execution_count": 67,
   "id": "8f7f56cd",
   "metadata": {},
   "outputs": [],
   "source": [
    "class circle_3():\n",
    "    logging.info(\"This is the circle part to find the area and perimeter\")\n",
    "    try:\n",
    "        def __init__(self,r):\n",
    "            self.r=r\n",
    "    \n",
    "        def area(self):\n",
    "            logging.info(\"This is to find the area of circle\")\n",
    "            logging.debug(f\"The area of CIRCLE is {self.r**2*3.14}\")\n",
    "            \n",
    "        def perimeter(self):\n",
    "            logging.info(\"This is to find the perimeter of circle\")\n",
    "            logging.debug(f\"The PERIMETER of circle is ,{self.r*2*3.14} \")\n",
    "            \n",
    "    except Exception as e:\n",
    "        logging.info(\"This is to info that ur code is incorect\")\n",
    "        logging.debug(\"The error is\",e)\n",
    "        \n",
    "new_circle_3=circle_3(8)"
   ]
  },
  {
   "cell_type": "code",
   "execution_count": 68,
   "id": "02e4f7bd",
   "metadata": {},
   "outputs": [],
   "source": [
    "new_circle_3.area()"
   ]
  },
  {
   "cell_type": "code",
   "execution_count": 69,
   "id": "b5e27a0e",
   "metadata": {},
   "outputs": [],
   "source": [
    "new_circle_3.perimeter()"
   ]
  },
  {
   "cell_type": "code",
   "execution_count": 73,
   "id": "eb70db1b",
   "metadata": {},
   "outputs": [],
   "source": [
    "new_circle_4=circle_3(25)\n",
    "logging.info(\"The radius is 25\")"
   ]
  },
  {
   "cell_type": "code",
   "execution_count": 74,
   "id": "8a0a9b4c",
   "metadata": {},
   "outputs": [],
   "source": [
    "new_circle_4.area()"
   ]
  },
  {
   "cell_type": "code",
   "execution_count": 75,
   "id": "b06d0472",
   "metadata": {},
   "outputs": [],
   "source": [
    "new_circle_4.perimeter()"
   ]
  },
  {
   "cell_type": "code",
   "execution_count": null,
   "id": "0598669e",
   "metadata": {},
   "outputs": [],
   "source": []
  }
 ],
 "metadata": {
  "kernelspec": {
   "display_name": "Python 3 (ipykernel)",
   "language": "python",
   "name": "python3"
  },
  "language_info": {
   "codemirror_mode": {
    "name": "ipython",
    "version": 3
   },
   "file_extension": ".py",
   "mimetype": "text/x-python",
   "name": "python",
   "nbconvert_exporter": "python",
   "pygments_lexer": "ipython3",
   "version": "3.10.2"
  }
 },
 "nbformat": 4,
 "nbformat_minor": 5
}
