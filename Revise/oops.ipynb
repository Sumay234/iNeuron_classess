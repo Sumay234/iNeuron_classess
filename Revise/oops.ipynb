{
 "cells": [
  {
   "cell_type": "code",
   "execution_count": 22,
   "id": "258c7445",
   "metadata": {},
   "outputs": [],
   "source": [
    "f=open(\"ooops.py\",\"r+\")"
   ]
  },
  {
   "cell_type": "code",
   "execution_count": 47,
   "id": "fba8a614",
   "metadata": {},
   "outputs": [
    {
     "data": {
      "text/plain": [
       "'class dect_parser:\\n'"
      ]
     },
     "execution_count": 47,
     "metadata": {},
     "output_type": "execute_result"
    }
   ],
   "source": [
    "f.readline()"
   ]
  },
  {
   "cell_type": "code",
   "execution_count": 48,
   "id": "b916fb0c",
   "metadata": {},
   "outputs": [
    {
     "data": {
      "text/plain": [
       "0"
      ]
     },
     "execution_count": 48,
     "metadata": {},
     "output_type": "execute_result"
    }
   ],
   "source": [
    "f.seek(0)"
   ]
  },
  {
   "cell_type": "code",
   "execution_count": 51,
   "id": "0a21c699",
   "metadata": {},
   "outputs": [
    {
     "data": {
      "text/plain": [
       "['class dect_parser:\\n',\n",
       " '    \\n',\n",
       " '    def __init__(self,dic):\\n',\n",
       " '        if type(dic) != dict:\\n',\n",
       " '            raise Exception (\"You have to give dictonary \")\\n',\n",
       " '        else:\\n',\n",
       " '            self.dic = dic\\n',\n",
       " '    \\n',\n",
       " '    def get_key(self):\\n',\n",
       " '        return self.dic.keys()\\n',\n",
       " '    \\n',\n",
       " '    def get_values(self):\\n',\n",
       " '        return self.dic.values()\\n',\n",
       " '    \\n',\n",
       " '    def take_input(self):\\n',\n",
       " '        a=input(\"Enter key \")\\n',\n",
       " '        b=input(\"Enter value \")\\n',\n",
       " '        self.dic[a] = b\\n',\n",
       " '        return \"input accepted\"\\n',\n",
       " '        \\n',\n",
       " '    def insert_key_value_pair(self,key,value):\\n',\n",
       " '        show = self.dic[key] = value\\n',\n",
       " '        print(show)\\n',\n",
       " '        return (\"value_inserted\")\\n',\n",
       " '    \\n',\n",
       " '    def add(self,a,b):\\n',\n",
       " '        print (a+b)\\n',\n",
       " '        \\n',\n",
       " '    def sub(self,a,b):\\n',\n",
       " '        return (a-b)']"
      ]
     },
     "execution_count": 51,
     "metadata": {},
     "output_type": "execute_result"
    }
   ],
   "source": [
    "f.readlines()"
   ]
  },
  {
   "cell_type": "code",
   "execution_count": 49,
   "id": "c9542d23",
   "metadata": {},
   "outputs": [],
   "source": [
    "import ooops"
   ]
  },
  {
   "cell_type": "code",
   "execution_count": 50,
   "id": "6e6e13d2",
   "metadata": {},
   "outputs": [],
   "source": [
    "a=ooops.dect_parser({\"a\":1,\"b\":2,\"c\":3,\"d\":4,\"e\":5})"
   ]
  },
  {
   "cell_type": "code",
   "execution_count": null,
   "id": "dded149a",
   "metadata": {},
   "outputs": [],
   "source": []
  },
  {
   "cell_type": "code",
   "execution_count": 27,
   "id": "c32c2a2f",
   "metadata": {},
   "outputs": [
    {
     "data": {
      "text/plain": [
       "dict_keys(['a', 'b', 'c', 'd', 'e'])"
      ]
     },
     "execution_count": 27,
     "metadata": {},
     "output_type": "execute_result"
    }
   ],
   "source": [
    "a.get_key()"
   ]
  },
  {
   "cell_type": "code",
   "execution_count": 28,
   "id": "7ef2dbeb",
   "metadata": {},
   "outputs": [
    {
     "name": "stdout",
     "output_type": "stream",
     "text": [
      "40\n"
     ]
    },
    {
     "data": {
      "text/plain": [
       "'value_inserted'"
      ]
     },
     "execution_count": 28,
     "metadata": {},
     "output_type": "execute_result"
    }
   ],
   "source": [
    "a.insert_key_value_pair(\"m\",40)"
   ]
  },
  {
   "cell_type": "code",
   "execution_count": 29,
   "id": "7ebddc7b",
   "metadata": {},
   "outputs": [
    {
     "data": {
      "text/plain": [
       "dict_keys(['a', 'b', 'c', 'd', 'e', 'm'])"
      ]
     },
     "execution_count": 29,
     "metadata": {},
     "output_type": "execute_result"
    }
   ],
   "source": [
    "a.get_key()"
   ]
  },
  {
   "cell_type": "code",
   "execution_count": 30,
   "id": "add3c138",
   "metadata": {},
   "outputs": [
    {
     "data": {
      "text/plain": [
       "dict_values([1, 2, 3, 4, 5, 40])"
      ]
     },
     "execution_count": 30,
     "metadata": {},
     "output_type": "execute_result"
    }
   ],
   "source": [
    "a.get_values()"
   ]
  },
  {
   "cell_type": "code",
   "execution_count": 31,
   "id": "6c550f12",
   "metadata": {},
   "outputs": [
    {
     "name": "stdout",
     "output_type": "stream",
     "text": [
      "Enter key \n",
      "Enter value \n"
     ]
    },
    {
     "data": {
      "text/plain": [
       "'input accepted'"
      ]
     },
     "execution_count": 31,
     "metadata": {},
     "output_type": "execute_result"
    }
   ],
   "source": [
    "a.take_input()"
   ]
  },
  {
   "cell_type": "code",
   "execution_count": 32,
   "id": "a211f08f",
   "metadata": {},
   "outputs": [
    {
     "data": {
      "text/plain": [
       "dict_keys(['a', 'b', 'c', 'd', 'e', 'm', ''])"
      ]
     },
     "execution_count": 32,
     "metadata": {},
     "output_type": "execute_result"
    }
   ],
   "source": [
    "a.get_key()"
   ]
  },
  {
   "cell_type": "code",
   "execution_count": 33,
   "id": "6672abe8",
   "metadata": {},
   "outputs": [
    {
     "data": {
      "text/plain": [
       "dict_values([1, 2, 3, 4, 5, 40, ''])"
      ]
     },
     "execution_count": 33,
     "metadata": {},
     "output_type": "execute_result"
    }
   ],
   "source": [
    "a.get_values()"
   ]
  },
  {
   "cell_type": "code",
   "execution_count": 34,
   "id": "077b2f0a",
   "metadata": {},
   "outputs": [
    {
     "data": {
      "text/plain": [
       "{'a': 1, 'b': 2, 'c': 3, 'd': 4, 'e': 5, 'm': 40, '': ''}"
      ]
     },
     "execution_count": 34,
     "metadata": {},
     "output_type": "execute_result"
    }
   ],
   "source": [
    "a.dic"
   ]
  },
  {
   "cell_type": "code",
   "execution_count": 35,
   "id": "b71e9727",
   "metadata": {},
   "outputs": [],
   "source": [
    "b=ooops.dect_parser({\"qwe\":789,\"asd\":456,\"zxc\":123,\"rty\":741})"
   ]
  },
  {
   "cell_type": "code",
   "execution_count": 36,
   "id": "af3ec70b",
   "metadata": {},
   "outputs": [
    {
     "data": {
      "text/plain": [
       "{'qwe': 789, 'asd': 456, 'zxc': 123, 'rty': 741}"
      ]
     },
     "execution_count": 36,
     "metadata": {},
     "output_type": "execute_result"
    }
   ],
   "source": [
    "b.dic"
   ]
  },
  {
   "cell_type": "code",
   "execution_count": 37,
   "id": "69172f1d",
   "metadata": {},
   "outputs": [
    {
     "data": {
      "text/plain": [
       "dict_keys(['qwe', 'asd', 'zxc', 'rty'])"
      ]
     },
     "execution_count": 37,
     "metadata": {},
     "output_type": "execute_result"
    }
   ],
   "source": [
    "b.get_key()"
   ]
  },
  {
   "cell_type": "code",
   "execution_count": 38,
   "id": "a754040b",
   "metadata": {},
   "outputs": [
    {
     "data": {
      "text/plain": [
       "dict_values([789, 456, 123, 741])"
      ]
     },
     "execution_count": 38,
     "metadata": {},
     "output_type": "execute_result"
    }
   ],
   "source": [
    "b.get_values()"
   ]
  },
  {
   "cell_type": "code",
   "execution_count": 39,
   "id": "9097adc3",
   "metadata": {},
   "outputs": [
    {
     "data": {
      "text/plain": [
       "dict_keys(['qwe', 'asd', 'zxc', 'rty'])"
      ]
     },
     "execution_count": 39,
     "metadata": {},
     "output_type": "execute_result"
    }
   ],
   "source": [
    "b.get_key()"
   ]
  },
  {
   "cell_type": "code",
   "execution_count": 40,
   "id": "b78c24cb",
   "metadata": {},
   "outputs": [
    {
     "name": "stdout",
     "output_type": "stream",
     "text": [
      "9\n"
     ]
    }
   ],
   "source": [
    "b.add(4,5)"
   ]
  },
  {
   "cell_type": "code",
   "execution_count": 41,
   "id": "4b917019",
   "metadata": {},
   "outputs": [
    {
     "data": {
      "text/plain": [
       "5"
      ]
     },
     "execution_count": 41,
     "metadata": {},
     "output_type": "execute_result"
    }
   ],
   "source": [
    "b.sub(10,5)"
   ]
  },
  {
   "cell_type": "code",
   "execution_count": 42,
   "id": "ac99a0ed",
   "metadata": {},
   "outputs": [
    {
     "data": {
      "text/plain": [
       "-90"
      ]
     },
     "execution_count": 42,
     "metadata": {},
     "output_type": "execute_result"
    }
   ],
   "source": [
    "a.sub(15,105)"
   ]
  },
  {
   "cell_type": "code",
   "execution_count": null,
   "id": "79745fb7",
   "metadata": {},
   "outputs": [],
   "source": []
  },
  {
   "cell_type": "code",
   "execution_count": 43,
   "id": "189058b2",
   "metadata": {},
   "outputs": [
    {
     "name": "stdout",
     "output_type": "stream",
     "text": [
      " Volume in drive C is Windows-SSD\n",
      " Volume Serial Number is FC3B-5102\n",
      "\n",
      " Directory of C:\\Users\\win11\\iNeuron_Practise\\revisee\n",
      "\n",
      "18-12-2022  11:31 AM    <DIR>          .\n",
      "18-12-2022  11:20 AM    <DIR>          ..\n",
      "18-12-2022  11:05 AM    <DIR>          .ipynb_checkpoints\n",
      "18-12-2022  11:31 AM    <DIR>          __pycache__\n",
      "18-12-2022  11:31 AM               702 ooops.py\n",
      "18-12-2022  11:31 AM            12,336 Untitled.ipynb\n",
      "               2 File(s)         13,038 bytes\n",
      "               4 Dir(s)  73,339,334,656 bytes free\n"
     ]
    }
   ],
   "source": [
    "ls"
   ]
  },
  {
   "cell_type": "code",
   "execution_count": 44,
   "id": "6ed99ee5",
   "metadata": {},
   "outputs": [
    {
     "name": "stdout",
     "output_type": "stream",
     "text": [
      " Volume in drive C is Windows-SSD\n",
      " Volume Serial Number is FC3B-5102\n",
      "\n",
      " Directory of C:\\Users\\win11\\iNeuron_Practise\\revisee\n",
      "\n",
      "18-12-2022  11:31 AM    <DIR>          .\n",
      "18-12-2022  11:20 AM    <DIR>          ..\n",
      "18-12-2022  11:05 AM    <DIR>          .ipynb_checkpoints\n",
      "18-12-2022  11:31 AM    <DIR>          __pycache__\n",
      "18-12-2022  11:31 AM               702 ooops.py\n",
      "18-12-2022  11:31 AM            12,336 Untitled.ipynb\n",
      "               2 File(s)         13,038 bytes\n",
      "               4 Dir(s)  73,339,334,656 bytes free\n"
     ]
    }
   ],
   "source": [
    "%ls"
   ]
  },
  {
   "cell_type": "code",
   "execution_count": 45,
   "id": "e4e31b3f",
   "metadata": {},
   "outputs": [
    {
     "data": {
      "text/plain": [
       "'C:\\\\Users\\\\win11\\\\iNeuron_Practise\\\\revisee'"
      ]
     },
     "execution_count": 45,
     "metadata": {},
     "output_type": "execute_result"
    }
   ],
   "source": [
    "pwd()"
   ]
  },
  {
   "cell_type": "code",
   "execution_count": 1,
   "id": "b0fcef42",
   "metadata": {},
   "outputs": [],
   "source": [
    "#dir()"
   ]
  },
  {
   "cell_type": "code",
   "execution_count": null,
   "id": "a15af8cf",
   "metadata": {},
   "outputs": [],
   "source": [
    "class car:\n",
    "    def __init__(self , body_type , engine , fuel_type):\n",
    "        self.body_type = body_type\n",
    "        self.engine = engine\n",
    "        self.fuel_type = fuel_type\n",
    "        \n",
    "    def test(self):\n",
    "        print(\"This is my first method class\")\n",
    "        \n",
    "        \n",
    "# __init__ : it is a constructor.\n",
    "#   self   : it is a pointer."
   ]
  },
  {
   "cell_type": "code",
   "execution_count": null,
   "id": "a0247a30",
   "metadata": {},
   "outputs": [],
   "source": [
    "class list_parser:\n",
    "    def __init__(self,l):\n",
    "        self.l=l\n",
    "        \n",
    "    def parcer(self):\n",
    "        if type(self.l) == list:\n",
    "            for i in self.l:\n",
    "                print(i)\n",
    "    \n",
    "    def reverse_list(self): \n",
    "        if type(self.l) == list:\n",
    "            return self.l[::-1]"
   ]
  },
  {
   "cell_type": "code",
   "execution_count": null,
   "id": "21f8d7b9",
   "metadata": {},
   "outputs": [],
   "source": [
    "class dictparser:\n",
    "    \n",
    "    def __init__(self,d):\n",
    "        self.d = d\n",
    "    \n",
    "    def my_keys(self):\n",
    "        if type(self.d) == dict:\n",
    "            return self.d.keys()\n",
    "        \n",
    "    def my_values(self):\n",
    "        if type(self.d) == dict:\n",
    "            return self.d.values()\n",
    "        \n",
    "    def input_key(self):\n",
    "        a=input(\"enter key \")\n",
    "        b=input(\"enter values \")\n",
    "        self.d[a] = b"
   ]
  },
  {
   "cell_type": "code",
   "execution_count": null,
   "id": "ec521b94",
   "metadata": {},
   "outputs": [],
   "source": [
    "class dect_parser:\n",
    "    \n",
    "    def __init__(self,dic):\n",
    "        if type(dic) != dict:\n",
    "            raise Exception (\"You have to give dictonary \")\n",
    "        else:\n",
    "            self.dic = dic\n",
    "    \n",
    "    def get_key(self):\n",
    "        return self.dic.keys()\n",
    "    \n",
    "    def get_values(self):\n",
    "        return self.dic.values()\n",
    "    \n",
    "    def take_input(self):\n",
    "        a=input(\"Enter key \")\n",
    "        b=input(\"Enter value \")\n",
    "        self.dic[a] = b\n",
    "        \n",
    "    def insert_key_value_pair(self,key,value):\n",
    "        self.dic[key] = value\n",
    "        return (\"value_inserted\")"
   ]
  },
  {
   "cell_type": "code",
   "execution_count": null,
   "id": "ae698e09",
   "metadata": {},
   "outputs": [],
   "source": []
  },
  {
   "cell_type": "code",
   "execution_count": null,
   "id": "007e013d",
   "metadata": {},
   "outputs": [],
   "source": []
  },
  {
   "cell_type": "code",
   "execution_count": null,
   "id": "de6e4102",
   "metadata": {},
   "outputs": [],
   "source": []
  }
 ],
 "metadata": {
  "kernelspec": {
   "display_name": "Python 3 (ipykernel)",
   "language": "python",
   "name": "python3"
  },
  "language_info": {
   "codemirror_mode": {
    "name": "ipython",
    "version": 3
   },
   "file_extension": ".py",
   "mimetype": "text/x-python",
   "name": "python",
   "nbconvert_exporter": "python",
   "pygments_lexer": "ipython3",
   "version": "3.9.12"
  }
 },
 "nbformat": 4,
 "nbformat_minor": 5
}
