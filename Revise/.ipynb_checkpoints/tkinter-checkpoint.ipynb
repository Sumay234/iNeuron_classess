{
 "cells": [
  {
   "cell_type": "code",
   "execution_count": 2,
   "id": "ac582e04",
   "metadata": {},
   "outputs": [],
   "source": [
    "import tkinter\n",
    "tw=tkinter.Tk()\n",
    "tw.mainloop()"
   ]
  },
  {
   "cell_type": "code",
   "execution_count": 6,
   "id": "e7f63aaf",
   "metadata": {},
   "outputs": [],
   "source": [
    "import tkinter\n",
    "tt=tkinter.Tk()\n",
    "tt.title(\"hi my name is sumay\")\n",
    "tt.geometry(\"550x550+450+450\")\n",
    "tt.mainloop()"
   ]
  },
  {
   "cell_type": "code",
   "execution_count": 10,
   "id": "e888ff32",
   "metadata": {},
   "outputs": [],
   "source": [
    "abcd=tkinter.Tk()\n",
    "abcd.geometry(\"200x200\")\n",
    "abcd.title(\"sumay here\")\n",
    "aa=tkinter.Label(abcd,text=\"welcome to here\")\n",
    "aa.pack()\n",
    "abcd.mainloop()"
   ]
  },
  {
   "cell_type": "code",
   "execution_count": 13,
   "id": "a1aaa57f",
   "metadata": {},
   "outputs": [],
   "source": [
    "\n",
    "root=tkinter.Tk()\n",
    "root.geometry(\"400x400+400+400\")\n",
    "root.title(\"Am i sumay\")\n",
    "wrt=tkinter.Label(root,text=\"these is for practise_1\")\n",
    "wrt1=tkinter.Label(root,text=\"second phases\")\n",
    "wrt2=tkinter.Label(root,text=\"every thing fine\")\n",
    "wrt.pack()\n",
    "wrt1.pack()\n",
    "wrt2.pack()\n",
    "root.mainloop()"
   ]
  },
  {
   "cell_type": "code",
   "execution_count": 18,
   "id": "28d08a11",
   "metadata": {},
   "outputs": [],
   "source": [
    "import tkinter\n",
    "import tkinter.font as tkFont\n",
    "\n",
    "\n",
    "root=tkinter.Tk()\n",
    "root.geometry(\"400x400+400+400\")\n",
    "root.title(\"Am i sumay\")\n",
    "\n",
    "my_font=tkFont.Font(size=\"16\")\n",
    "\n",
    "wrt=tkinter.Label(root,text=\"these is for practise_1\",font=my_font)\n",
    "wrt1=tkinter.Label(root,text=\"second phases\",font=my_font)\n",
    "wrt2=tkinter.Label(root,text=\"every thing fine\",font=my_font,relief=\"raised\")\n",
    "wrt.pack()\n",
    "wrt1.pack()\n",
    "wrt2.pack()\n",
    "root.mainloop()"
   ]
  },
  {
   "cell_type": "code",
   "execution_count": 23,
   "id": "61b2ea43",
   "metadata": {},
   "outputs": [],
   "source": [
    "import tkinter\n",
    "import tkinter.font as tkFont\n",
    "\n",
    "\n",
    "root=tkinter.Tk()\n",
    "root.geometry(\"400x400+400+400\")\n",
    "root.title(\"Am i sumay\")\n",
    "\n",
    "my_font=tkFont.Font(size=\"16\")\n",
    "\n",
    "wrt=tkinter.Label(root,text=\"these is for practise_1\",font=my_font)\n",
    "wrt1=tkinter.Label(root,text=\"second phases\",font=my_font)\n",
    "wrt2=tkinter.Label(root,text=\"every thing fine\",font=my_font,relief=\"raised\",width=\"15\",borderwidth=\"8\")\n",
    "wrt.pack()\n",
    "wrt1.pack()\n",
    "wrt2.pack()\n",
    "root.mainloop()"
   ]
  },
  {
   "cell_type": "code",
   "execution_count": 35,
   "id": "0c0f54d7",
   "metadata": {},
   "outputs": [],
   "source": [
    "import tkinter\n",
    "import tkinter.font as tkFont\n",
    "\n",
    "root_1 = tkinter.Tk()\n",
    "root_1.geometry(\"450x450+450+450\")\n",
    "root_1.title(\"Re-again\")\n",
    "\n",
    "font_is=tkFont.Font(size=\"20\")\n",
    "\n",
    "lbl=tkinter.Label(root_1,text=\" Hi welcome to my page\")\n",
    "lbl1=tkinter.Label(root_1,text=\"This is my first work\",font=font_is)\n",
    "lbl2=tkinter.Label(root_1,text=\"Have to practise a loot\",relief=\"raised\",font=\"20\")\n",
    "lbl3=tkinter.Label(root_1,text=\"This is a lbl3 label\",relief=\"raised\",width=15,borderwidth=9,font=font_is)\n",
    "lbl.pack()\n",
    "lbl1.pack()\n",
    "lbl2.pack()\n",
    "lbl3.pack()\n",
    "\n",
    "root_1.mainloop()"
   ]
  },
  {
   "cell_type": "code",
   "execution_count": 43,
   "id": "d5748661",
   "metadata": {},
   "outputs": [],
   "source": [
    "from tkinter import *\n",
    "tkk=tkinter.Tk()\n",
    "\n",
    "tkk.geometry(\"250x250\")\n",
    "b1=Button(tkk,text=\"Click it\",font=\"20\")\n",
    "b2=Button(tkk,text=\"Use it\",font=20,relief=\"raised\",width=15)\n",
    "b1.pack()\n",
    "b2.pack()\n",
    "\n",
    "tkk.mainloop()"
   ]
  },
  {
   "cell_type": "code",
   "execution_count": null,
   "id": "b0aedd1a",
   "metadata": {},
   "outputs": [],
   "source": []
  },
  {
   "cell_type": "code",
   "execution_count": null,
   "id": "adcaa96e",
   "metadata": {},
   "outputs": [],
   "source": []
  },
  {
   "cell_type": "code",
   "execution_count": null,
   "id": "1aad6ed7",
   "metadata": {},
   "outputs": [],
   "source": []
  },
  {
   "cell_type": "code",
   "execution_count": null,
   "id": "2b3a0507",
   "metadata": {},
   "outputs": [],
   "source": []
  },
  {
   "cell_type": "code",
   "execution_count": null,
   "id": "879060b9",
   "metadata": {},
   "outputs": [],
   "source": []
  },
  {
   "cell_type": "code",
   "execution_count": null,
   "id": "e0f1ebb5",
   "metadata": {},
   "outputs": [],
   "source": []
  },
  {
   "cell_type": "code",
   "execution_count": null,
   "id": "4df73d72",
   "metadata": {},
   "outputs": [],
   "source": []
  },
  {
   "cell_type": "code",
   "execution_count": null,
   "id": "cb919713",
   "metadata": {},
   "outputs": [],
   "source": []
  },
  {
   "cell_type": "code",
   "execution_count": null,
   "id": "dd16783b",
   "metadata": {},
   "outputs": [],
   "source": []
  },
  {
   "cell_type": "code",
   "execution_count": null,
   "id": "ddf1bfa4",
   "metadata": {},
   "outputs": [],
   "source": []
  },
  {
   "cell_type": "code",
   "execution_count": null,
   "id": "dd3a53a2",
   "metadata": {},
   "outputs": [],
   "source": []
  }
 ],
 "metadata": {
  "kernelspec": {
   "display_name": "Python 3 (ipykernel)",
   "language": "python",
   "name": "python3"
  },
  "language_info": {
   "codemirror_mode": {
    "name": "ipython",
    "version": 3
   },
   "file_extension": ".py",
   "mimetype": "text/x-python",
   "name": "python",
   "nbconvert_exporter": "python",
   "pygments_lexer": "ipython3",
   "version": "3.9.12"
  }
 },
 "nbformat": 4,
 "nbformat_minor": 5
}
