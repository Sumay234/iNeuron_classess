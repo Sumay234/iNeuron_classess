{
 "cells": [
  {
   "cell_type": "code",
   "execution_count": 1,
   "id": "6a2fd4cf",
   "metadata": {},
   "outputs": [],
   "source": [
    "# 1) Write a Python programe to find a area of rectange using class\n",
    "\n",
    "class rectange():\n",
    "    \n",
    "    def __init__(self,length,breadth):\n",
    "        self.length = length\n",
    "        self.breadth = breadth\n",
    "        \n",
    "    def area(self):\n",
    "        return self.length * self.breadth\n",
    "    "
   ]
  },
  {
   "cell_type": "code",
   "execution_count": 4,
   "id": "dc8771d6",
   "metadata": {},
   "outputs": [
    {
     "name": "stdout",
     "output_type": "stream",
     "text": [
      "Enter the Length of rectange: 4\n",
      "Enter the Breadth of rectange: 5\n",
      "Area of rectange is  20\n"
     ]
    }
   ],
   "source": [
    "a= int(input(\"Enter the Length of rectange: \"))\n",
    "b= int(input(\"Enter the Breadth of rectange: \"))\n",
    "obj=rectange(a,b)\n",
    "\n",
    "print(\"Area of rectange is \",obj.area())"
   ]
  },
  {
   "cell_type": "code",
   "execution_count": 12,
   "id": "4ed983fd",
   "metadata": {},
   "outputs": [
    {
     "data": {
      "text/plain": [
       "24"
      ]
     },
     "execution_count": 12,
     "metadata": {},
     "output_type": "execute_result"
    }
   ],
   "source": [
    "area_2=rectange(4,6).area()  # another way to call class and object simontinusly\n",
    "area_2"
   ]
  },
  {
   "cell_type": "code",
   "execution_count": 14,
   "id": "4132b4f2",
   "metadata": {},
   "outputs": [
    {
     "name": "stdout",
     "output_type": "stream",
     "text": [
      "Enter the radius of circle: 5\n",
      "area of rcircle 78.5\n",
      "perimeter of circle 31.400000000000002\n"
     ]
    }
   ],
   "source": [
    "# 2) Python programe to create a class and compute the area and perimeter of circle\n",
    "\n",
    "class circle():\n",
    "    \n",
    "    def __init__(self,radius):\n",
    "        self.radius=radius\n",
    "        \n",
    "    def area(self):\n",
    "        return self.radius**2*3.14\n",
    "    \n",
    "    def perimeter(self):\n",
    "        return 2*3.14*self.radius\n",
    "    \n",
    "r=float(input(\"Enter the radius of circle: \"))\n",
    "obj=circle(r)\n",
    "\n",
    "print(\"area of rcircle\",obj.area())\n",
    "print(\"perimeter of circle\", obj.perimeter())"
   ]
  },
  {
   "cell_type": "code",
   "execution_count": null,
   "id": "50fb4fe3",
   "metadata": {},
   "outputs": [],
   "source": []
  }
 ],
 "metadata": {
  "kernelspec": {
   "display_name": "Python 3 (ipykernel)",
   "language": "python",
   "name": "python3"
  },
  "language_info": {
   "codemirror_mode": {
    "name": "ipython",
    "version": 3
   },
   "file_extension": ".py",
   "mimetype": "text/x-python",
   "name": "python",
   "nbconvert_exporter": "python",
   "pygments_lexer": "ipython3",
   "version": "3.9.12"
  }
 },
 "nbformat": 4,
 "nbformat_minor": 5
}
