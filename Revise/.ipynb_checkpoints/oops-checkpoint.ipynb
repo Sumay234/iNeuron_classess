{
 "cells": [
  {
   "cell_type": "code",
   "execution_count": 3,
   "id": "258c7445",
   "metadata": {},
   "outputs": [],
   "source": [
    "f=open(\"ooops.py\",\"r+\")"
   ]
  },
  {
   "cell_type": "code",
   "execution_count": 15,
   "id": "fba8a614",
   "metadata": {},
   "outputs": [
    {
     "data": {
      "text/plain": [
       "'class dect_parser:\\n'"
      ]
     },
     "execution_count": 15,
     "metadata": {},
     "output_type": "execute_result"
    }
   ],
   "source": [
    "f.readline()"
   ]
  },
  {
   "cell_type": "code",
   "execution_count": 14,
   "id": "b916fb0c",
   "metadata": {},
   "outputs": [
    {
     "data": {
      "text/plain": [
       "0"
      ]
     },
     "execution_count": 14,
     "metadata": {},
     "output_type": "execute_result"
    }
   ],
   "source": [
    "f.seek(0)"
   ]
  },
  {
   "cell_type": "code",
   "execution_count": 1,
   "id": "c9542d23",
   "metadata": {},
   "outputs": [],
   "source": [
    "import ooops"
   ]
  },
  {
   "cell_type": "code",
   "execution_count": 2,
   "id": "6e6e13d2",
   "metadata": {},
   "outputs": [],
   "source": [
    "a=ooops.dect_parser({\"a\":1,\"b\":2,\"c\":3,\"d\":4,\"e\":5})"
   ]
  },
  {
   "cell_type": "code",
   "execution_count": null,
   "id": "dded149a",
   "metadata": {},
   "outputs": [],
   "source": []
  },
  {
   "cell_type": "code",
   "execution_count": 3,
   "id": "c32c2a2f",
   "metadata": {},
   "outputs": [
    {
     "data": {
      "text/plain": [
       "dict_keys(['a', 'b', 'c', 'd', 'e'])"
      ]
     },
     "execution_count": 3,
     "metadata": {},
     "output_type": "execute_result"
    }
   ],
   "source": [
    "a.get_key()"
   ]
  },
  {
   "cell_type": "code",
   "execution_count": 4,
   "id": "7ef2dbeb",
   "metadata": {},
   "outputs": [
    {
     "name": "stdout",
     "output_type": "stream",
     "text": [
      "40\n"
     ]
    },
    {
     "data": {
      "text/plain": [
       "'value_inserted'"
      ]
     },
     "execution_count": 4,
     "metadata": {},
     "output_type": "execute_result"
    }
   ],
   "source": [
    "a.insert_key_value_pair(\"m\",40)"
   ]
  },
  {
   "cell_type": "code",
   "execution_count": 5,
   "id": "7ebddc7b",
   "metadata": {},
   "outputs": [
    {
     "data": {
      "text/plain": [
       "dict_keys(['a', 'b', 'c', 'd', 'e', 'm'])"
      ]
     },
     "execution_count": 5,
     "metadata": {},
     "output_type": "execute_result"
    }
   ],
   "source": [
    "a.get_key()"
   ]
  },
  {
   "cell_type": "code",
   "execution_count": 6,
   "id": "add3c138",
   "metadata": {},
   "outputs": [
    {
     "data": {
      "text/plain": [
       "dict_values([1, 2, 3, 4, 5, 40])"
      ]
     },
     "execution_count": 6,
     "metadata": {},
     "output_type": "execute_result"
    }
   ],
   "source": [
    "a.get_values()"
   ]
  },
  {
   "cell_type": "code",
   "execution_count": 7,
   "id": "6c550f12",
   "metadata": {},
   "outputs": [
    {
     "name": "stdout",
     "output_type": "stream",
     "text": [
      "Enter key \n",
      "Enter value \n"
     ]
    },
    {
     "data": {
      "text/plain": [
       "'input accepted'"
      ]
     },
     "execution_count": 7,
     "metadata": {},
     "output_type": "execute_result"
    }
   ],
   "source": [
    "a.take_input()"
   ]
  },
  {
   "cell_type": "code",
   "execution_count": 8,
   "id": "a211f08f",
   "metadata": {},
   "outputs": [
    {
     "data": {
      "text/plain": [
       "dict_keys(['a', 'b', 'c', 'd', 'e', 'm', ''])"
      ]
     },
     "execution_count": 8,
     "metadata": {},
     "output_type": "execute_result"
    }
   ],
   "source": [
    "a.get_key()"
   ]
  },
  {
   "cell_type": "code",
   "execution_count": 9,
   "id": "6672abe8",
   "metadata": {},
   "outputs": [
    {
     "data": {
      "text/plain": [
       "dict_values([1, 2, 3, 4, 5, 40, ''])"
      ]
     },
     "execution_count": 9,
     "metadata": {},
     "output_type": "execute_result"
    }
   ],
   "source": [
    "a.get_values()"
   ]
  },
  {
   "cell_type": "code",
   "execution_count": 10,
   "id": "077b2f0a",
   "metadata": {},
   "outputs": [
    {
     "data": {
      "text/plain": [
       "{'a': 1, 'b': 2, 'c': 3, 'd': 4, 'e': 5, 'm': 40, '': ''}"
      ]
     },
     "execution_count": 10,
     "metadata": {},
     "output_type": "execute_result"
    }
   ],
   "source": [
    "a.dic"
   ]
  },
  {
   "cell_type": "code",
   "execution_count": 11,
   "id": "b71e9727",
   "metadata": {},
   "outputs": [],
   "source": [
    "b=ooops.dect_parser({\"qwe\":789,\"asd\":456,\"zxc\":123,\"rty\":741})"
   ]
  },
  {
   "cell_type": "code",
   "execution_count": 12,
   "id": "af3ec70b",
   "metadata": {},
   "outputs": [
    {
     "data": {
      "text/plain": [
       "{'qwe': 789, 'asd': 456, 'zxc': 123, 'rty': 741}"
      ]
     },
     "execution_count": 12,
     "metadata": {},
     "output_type": "execute_result"
    }
   ],
   "source": [
    "b.dic"
   ]
  },
  {
   "cell_type": "code",
   "execution_count": 13,
   "id": "69172f1d",
   "metadata": {},
   "outputs": [
    {
     "data": {
      "text/plain": [
       "dict_keys(['qwe', 'asd', 'zxc', 'rty'])"
      ]
     },
     "execution_count": 13,
     "metadata": {},
     "output_type": "execute_result"
    }
   ],
   "source": [
    "b.get_key()"
   ]
  },
  {
   "cell_type": "code",
   "execution_count": 14,
   "id": "a754040b",
   "metadata": {},
   "outputs": [
    {
     "data": {
      "text/plain": [
       "dict_values([789, 456, 123, 741])"
      ]
     },
     "execution_count": 14,
     "metadata": {},
     "output_type": "execute_result"
    }
   ],
   "source": [
    "b.get_values()"
   ]
  },
  {
   "cell_type": "code",
   "execution_count": 15,
   "id": "9097adc3",
   "metadata": {},
   "outputs": [
    {
     "data": {
      "text/plain": [
       "dict_keys(['qwe', 'asd', 'zxc', 'rty'])"
      ]
     },
     "execution_count": 15,
     "metadata": {},
     "output_type": "execute_result"
    }
   ],
   "source": [
    "b.get_key()"
   ]
  },
  {
   "cell_type": "code",
   "execution_count": 16,
   "id": "b78c24cb",
   "metadata": {},
   "outputs": [
    {
     "name": "stdout",
     "output_type": "stream",
     "text": [
      "9\n"
     ]
    }
   ],
   "source": [
    "b.add(4,5)"
   ]
  },
  {
   "cell_type": "code",
   "execution_count": 17,
   "id": "4b917019",
   "metadata": {},
   "outputs": [
    {
     "data": {
      "text/plain": [
       "5"
      ]
     },
     "execution_count": 17,
     "metadata": {},
     "output_type": "execute_result"
    }
   ],
   "source": [
    "b.sub(10,5)"
   ]
  },
  {
   "cell_type": "code",
   "execution_count": 18,
   "id": "ac99a0ed",
   "metadata": {},
   "outputs": [
    {
     "data": {
      "text/plain": [
       "-90"
      ]
     },
     "execution_count": 18,
     "metadata": {},
     "output_type": "execute_result"
    }
   ],
   "source": [
    "a.sub(15,105)"
   ]
  },
  {
   "cell_type": "code",
   "execution_count": null,
   "id": "79745fb7",
   "metadata": {},
   "outputs": [],
   "source": []
  },
  {
   "cell_type": "code",
   "execution_count": 48,
   "id": "189058b2",
   "metadata": {},
   "outputs": [
    {
     "name": "stdout",
     "output_type": "stream",
     "text": [
      " Volume in drive C is Windows-SSD\n",
      " Volume Serial Number is FC3B-5102\n",
      "\n",
      " Directory of C:\\Users\\win11\\iNeuron_Practise\\Untitled Folder\n",
      "\n",
      "18-12-2022  11:17 AM    <DIR>          .\n",
      "18-12-2022  11:05 AM    <DIR>          ..\n",
      "18-12-2022  11:05 AM    <DIR>          .ipynb_checkpoints\n",
      "18-12-2022  11:11 AM    <DIR>          __pycache__\n",
      "18-12-2022  11:10 AM               601 ooops.py\n",
      "18-12-2022  11:17 AM             5,371 Untitled.ipynb\n",
      "               2 File(s)          5,972 bytes\n",
      "               4 Dir(s)  74,968,805,376 bytes free\n"
     ]
    }
   ],
   "source": [
    "ls"
   ]
  },
  {
   "cell_type": "code",
   "execution_count": 52,
   "id": "6ed99ee5",
   "metadata": {},
   "outputs": [
    {
     "name": "stdout",
     "output_type": "stream",
     "text": [
      " Volume in drive C is Windows-SSD\n",
      " Volume Serial Number is FC3B-5102\n",
      "\n",
      " Directory of C:\\Users\\win11\\iNeuron_Practise\\Untitled Folder\n",
      "\n",
      "18-12-2022  11:17 AM    <DIR>          .\n",
      "18-12-2022  11:05 AM    <DIR>          ..\n",
      "18-12-2022  11:05 AM    <DIR>          .ipynb_checkpoints\n",
      "18-12-2022  11:11 AM    <DIR>          __pycache__\n",
      "18-12-2022  11:10 AM               601 ooops.py\n",
      "18-12-2022  11:17 AM             5,371 Untitled.ipynb\n",
      "               2 File(s)          5,972 bytes\n",
      "               4 Dir(s)  74,968,584,192 bytes free\n"
     ]
    }
   ],
   "source": [
    "%ls"
   ]
  },
  {
   "cell_type": "code",
   "execution_count": 49,
   "id": "e4e31b3f",
   "metadata": {},
   "outputs": [
    {
     "data": {
      "text/plain": [
       "'C:\\\\Users\\\\win11\\\\iNeuron_Practise\\\\Untitled Folder'"
      ]
     },
     "execution_count": 49,
     "metadata": {},
     "output_type": "execute_result"
    }
   ],
   "source": [
    "pwd()"
   ]
  },
  {
   "cell_type": "code",
   "execution_count": 51,
   "id": "b0fcef42",
   "metadata": {},
   "outputs": [
    {
     "data": {
      "text/plain": [
       "['In',\n",
       " 'Out',\n",
       " '_',\n",
       " '_1',\n",
       " '_11',\n",
       " '_12',\n",
       " '_14',\n",
       " '_15',\n",
       " '_17',\n",
       " '_19',\n",
       " '_20',\n",
       " '_22',\n",
       " '_27',\n",
       " '_28',\n",
       " '_31',\n",
       " '_32',\n",
       " '_33',\n",
       " '_34',\n",
       " '_35',\n",
       " '_36',\n",
       " '_37',\n",
       " '_41',\n",
       " '_42',\n",
       " '_44',\n",
       " '_45',\n",
       " '_46',\n",
       " '_47',\n",
       " '_49',\n",
       " '_50',\n",
       " '__',\n",
       " '___',\n",
       " '__builtin__',\n",
       " '__builtins__',\n",
       " '__doc__',\n",
       " '__loader__',\n",
       " '__name__',\n",
       " '__package__',\n",
       " '__spec__',\n",
       " '_dh',\n",
       " '_exit_code',\n",
       " '_i',\n",
       " '_i1',\n",
       " '_i10',\n",
       " '_i11',\n",
       " '_i12',\n",
       " '_i13',\n",
       " '_i14',\n",
       " '_i15',\n",
       " '_i16',\n",
       " '_i17',\n",
       " '_i18',\n",
       " '_i19',\n",
       " '_i2',\n",
       " '_i20',\n",
       " '_i21',\n",
       " '_i22',\n",
       " '_i23',\n",
       " '_i24',\n",
       " '_i25',\n",
       " '_i26',\n",
       " '_i27',\n",
       " '_i28',\n",
       " '_i29',\n",
       " '_i3',\n",
       " '_i30',\n",
       " '_i31',\n",
       " '_i32',\n",
       " '_i33',\n",
       " '_i34',\n",
       " '_i35',\n",
       " '_i36',\n",
       " '_i37',\n",
       " '_i38',\n",
       " '_i39',\n",
       " '_i4',\n",
       " '_i40',\n",
       " '_i41',\n",
       " '_i42',\n",
       " '_i43',\n",
       " '_i44',\n",
       " '_i45',\n",
       " '_i46',\n",
       " '_i47',\n",
       " '_i48',\n",
       " '_i49',\n",
       " '_i5',\n",
       " '_i50',\n",
       " '_i51',\n",
       " '_i6',\n",
       " '_i7',\n",
       " '_i8',\n",
       " '_i9',\n",
       " '_ih',\n",
       " '_ii',\n",
       " '_iii',\n",
       " '_oh',\n",
       " 'a',\n",
       " 'b',\n",
       " 'exit',\n",
       " 'f',\n",
       " 'get_ipython',\n",
       " 'ooops',\n",
       " 'quit']"
      ]
     },
     "execution_count": 51,
     "metadata": {},
     "output_type": "execute_result"
    }
   ],
   "source": [
    "dir()"
   ]
  },
  {
   "cell_type": "code",
   "execution_count": null,
   "id": "a15af8cf",
   "metadata": {},
   "outputs": [],
   "source": []
  }
 ],
 "metadata": {
  "kernelspec": {
   "display_name": "Python 3 (ipykernel)",
   "language": "python",
   "name": "python3"
  },
  "language_info": {
   "codemirror_mode": {
    "name": "ipython",
    "version": 3
   },
   "file_extension": ".py",
   "mimetype": "text/x-python",
   "name": "python",
   "nbconvert_exporter": "python",
   "pygments_lexer": "ipython3",
   "version": "3.9.12"
  }
 },
 "nbformat": 4,
 "nbformat_minor": 5
}
