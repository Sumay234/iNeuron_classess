{
 "cells": [
  {
   "cell_type": "code",
   "execution_count": 1,
   "id": "2d544df9",
   "metadata": {},
   "outputs": [],
   "source": [
    "import pandas as pd\n",
    "import numpy as np\n",
    "import seaborn as sns\n",
    "import matplotlib.pyplot as plt"
   ]
  },
  {
   "cell_type": "code",
   "execution_count": 2,
   "id": "e10ee9bc",
   "metadata": {},
   "outputs": [],
   "source": [
    "from sklearn.linear_model import LogisticRegression\n",
    "from sklearn.linear_model import Ridge,Lasso,RidgeCV,LassoCV,ElasticNet,ElasticNetCV"
   ]
  },
  {
   "cell_type": "code",
   "execution_count": 3,
   "id": "0093362c",
   "metadata": {},
   "outputs": [],
   "source": [
    "from sklearn.preprocessing import StandardScaler\n",
    "from sklearn.model_selection import train_test_split"
   ]
  },
  {
   "cell_type": "code",
   "execution_count": 4,
   "id": "9ff301d7",
   "metadata": {},
   "outputs": [],
   "source": [
    "from statsmodels.stats.outliers_influence import variance_inflation_factor\n",
    "from sklearn.metrics import accuracy_score, confusion_matrix, roc_curve, roc_auc_score"
   ]
  },
  {
   "cell_type": "code",
   "execution_count": 5,
   "id": "b27e0b35",
   "metadata": {},
   "outputs": [
    {
     "ename": "ModuleNotFoundError",
     "evalue": "No module named 'pandas_profiling'",
     "output_type": "error",
     "traceback": [
      "\u001b[1;31m---------------------------------------------------------------------------\u001b[0m",
      "\u001b[1;31mModuleNotFoundError\u001b[0m                       Traceback (most recent call last)",
      "Input \u001b[1;32mIn [5]\u001b[0m, in \u001b[0;36m<cell line: 1>\u001b[1;34m()\u001b[0m\n\u001b[1;32m----> 1\u001b[0m \u001b[38;5;28;01mfrom\u001b[39;00m \u001b[38;5;21;01mpandas_profiling\u001b[39;00m \u001b[38;5;28;01mimport\u001b[39;00m ProfileReport\n\u001b[0;32m      2\u001b[0m \u001b[38;5;28;01mimport\u001b[39;00m \u001b[38;5;21;01mpickle\u001b[39;00m\n",
      "\u001b[1;31mModuleNotFoundError\u001b[0m: No module named 'pandas_profiling'"
     ]
    }
   ],
   "source": [
    "from pandas_profiling import ProfileReport\n",
    "import pickle"
   ]
  },
  {
   "cell_type": "code",
   "execution_count": 7,
   "id": "029d75ae",
   "metadata": {},
   "outputs": [],
   "source": [
    "df= pd.read_csv(\"H:\\dataset_csv\\diabetes.csv\")"
   ]
  },
  {
   "cell_type": "code",
   "execution_count": 8,
   "id": "68f0e8c7",
   "metadata": {},
   "outputs": [
    {
     "data": {
      "text/html": [
       "<div>\n",
       "<style scoped>\n",
       "    .dataframe tbody tr th:only-of-type {\n",
       "        vertical-align: middle;\n",
       "    }\n",
       "\n",
       "    .dataframe tbody tr th {\n",
       "        vertical-align: top;\n",
       "    }\n",
       "\n",
       "    .dataframe thead th {\n",
       "        text-align: right;\n",
       "    }\n",
       "</style>\n",
       "<table border=\"1\" class=\"dataframe\">\n",
       "  <thead>\n",
       "    <tr style=\"text-align: right;\">\n",
       "      <th></th>\n",
       "      <th>Pregnancies</th>\n",
       "      <th>Glucose</th>\n",
       "      <th>BloodPressure</th>\n",
       "      <th>SkinThickness</th>\n",
       "      <th>Insulin</th>\n",
       "      <th>BMI</th>\n",
       "      <th>DiabetesPedigreeFunction</th>\n",
       "      <th>Age</th>\n",
       "      <th>Outcome</th>\n",
       "    </tr>\n",
       "  </thead>\n",
       "  <tbody>\n",
       "    <tr>\n",
       "      <th>0</th>\n",
       "      <td>6</td>\n",
       "      <td>148</td>\n",
       "      <td>72</td>\n",
       "      <td>35</td>\n",
       "      <td>0</td>\n",
       "      <td>33.6</td>\n",
       "      <td>0.627</td>\n",
       "      <td>50</td>\n",
       "      <td>1</td>\n",
       "    </tr>\n",
       "    <tr>\n",
       "      <th>1</th>\n",
       "      <td>1</td>\n",
       "      <td>85</td>\n",
       "      <td>66</td>\n",
       "      <td>29</td>\n",
       "      <td>0</td>\n",
       "      <td>26.6</td>\n",
       "      <td>0.351</td>\n",
       "      <td>31</td>\n",
       "      <td>0</td>\n",
       "    </tr>\n",
       "    <tr>\n",
       "      <th>2</th>\n",
       "      <td>8</td>\n",
       "      <td>183</td>\n",
       "      <td>64</td>\n",
       "      <td>0</td>\n",
       "      <td>0</td>\n",
       "      <td>23.3</td>\n",
       "      <td>0.672</td>\n",
       "      <td>32</td>\n",
       "      <td>1</td>\n",
       "    </tr>\n",
       "    <tr>\n",
       "      <th>3</th>\n",
       "      <td>1</td>\n",
       "      <td>89</td>\n",
       "      <td>66</td>\n",
       "      <td>23</td>\n",
       "      <td>94</td>\n",
       "      <td>28.1</td>\n",
       "      <td>0.167</td>\n",
       "      <td>21</td>\n",
       "      <td>0</td>\n",
       "    </tr>\n",
       "    <tr>\n",
       "      <th>4</th>\n",
       "      <td>0</td>\n",
       "      <td>137</td>\n",
       "      <td>40</td>\n",
       "      <td>35</td>\n",
       "      <td>168</td>\n",
       "      <td>43.1</td>\n",
       "      <td>2.288</td>\n",
       "      <td>33</td>\n",
       "      <td>1</td>\n",
       "    </tr>\n",
       "  </tbody>\n",
       "</table>\n",
       "</div>"
      ],
      "text/plain": [
       "   Pregnancies  Glucose  BloodPressure  SkinThickness  Insulin   BMI  \\\n",
       "0            6      148             72             35        0  33.6   \n",
       "1            1       85             66             29        0  26.6   \n",
       "2            8      183             64              0        0  23.3   \n",
       "3            1       89             66             23       94  28.1   \n",
       "4            0      137             40             35      168  43.1   \n",
       "\n",
       "   DiabetesPedigreeFunction  Age  Outcome  \n",
       "0                     0.627   50        1  \n",
       "1                     0.351   31        0  \n",
       "2                     0.672   32        1  \n",
       "3                     0.167   21        0  \n",
       "4                     2.288   33        1  "
      ]
     },
     "execution_count": 8,
     "metadata": {},
     "output_type": "execute_result"
    }
   ],
   "source": [
    "df.head(5)"
   ]
  },
  {
   "cell_type": "code",
   "execution_count": 9,
   "id": "9d9f164c",
   "metadata": {},
   "outputs": [
    {
     "data": {
      "text/plain": [
       "(768, 9)"
      ]
     },
     "execution_count": 9,
     "metadata": {},
     "output_type": "execute_result"
    }
   ],
   "source": [
    "df.shape"
   ]
  },
  {
   "cell_type": "code",
   "execution_count": 10,
   "id": "44be324c",
   "metadata": {},
   "outputs": [
    {
     "ename": "NameError",
     "evalue": "name 'ProfileReport' is not defined",
     "output_type": "error",
     "traceback": [
      "\u001b[1;31m---------------------------------------------------------------------------\u001b[0m",
      "\u001b[1;31mNameError\u001b[0m                                 Traceback (most recent call last)",
      "Input \u001b[1;32mIn [10]\u001b[0m, in \u001b[0;36m<cell line: 1>\u001b[1;34m()\u001b[0m\n\u001b[1;32m----> 1\u001b[0m \u001b[43mProfileReport\u001b[49m(df)\n",
      "\u001b[1;31mNameError\u001b[0m: name 'ProfileReport' is not defined"
     ]
    }
   ],
   "source": [
    "ProfileReport(df)"
   ]
  },
  {
   "cell_type": "markdown",
   "id": "4dd34d72",
   "metadata": {},
   "source": [
    "Observation:\n",
    "\n",
    "     1) No Of Zeroes in the dataset:\n",
    "         1) There is 14.5% zeroes in the Pregrancies Columns.\n",
    "         2) There is 0.7 % zeroes in the Glucose Columns.\n",
    "         3) There is 1.4% zeroes in the BMI Columns.\n",
    "         4) There is 4.6% zeroes in the BloodPressure Columns.\n",
    "         5) There is 29.6% zeroes in the SkinThickness Columns.\n",
    "         \n",
    "     2) There is no Nan Value Present in the Dataset.\n",
    "     3) There is no Multi-Colinerity Feature are there.\n",
    "     4) There is Skewness in the dataset it means there is outlier."
   ]
  },
  {
   "cell_type": "code",
   "execution_count": 11,
   "id": "45a4943c",
   "metadata": {},
   "outputs": [
    {
     "data": {
      "text/plain": [
       "Index(['Pregnancies', 'Glucose', 'BloodPressure', 'SkinThickness', 'Insulin',\n",
       "       'BMI', 'DiabetesPedigreeFunction', 'Age', 'Outcome'],\n",
       "      dtype='object')"
      ]
     },
     "execution_count": 11,
     "metadata": {},
     "output_type": "execute_result"
    }
   ],
   "source": [
    "df.columns"
   ]
  },
  {
   "cell_type": "code",
   "execution_count": 12,
   "id": "a6e09c9e",
   "metadata": {},
   "outputs": [],
   "source": [
    "df[\"BMI\"]=df['BMI'].replace(0,df[\"BMI\"].mean())"
   ]
  },
  {
   "cell_type": "code",
   "execution_count": 13,
   "id": "c62ed409",
   "metadata": {},
   "outputs": [],
   "source": [
    "df[\"BloodPressure\"]=df[\"BloodPressure\"].replace(0,df[\"BloodPressure\"].mean())"
   ]
  },
  {
   "cell_type": "code",
   "execution_count": 14,
   "id": "5cef6270",
   "metadata": {},
   "outputs": [],
   "source": [
    "df[\"Insulin\"]=df[\"Insulin\"].replace(0,df[\"Insulin\"].mean())"
   ]
  },
  {
   "cell_type": "code",
   "execution_count": 15,
   "id": "84c6eabd",
   "metadata": {},
   "outputs": [],
   "source": [
    "df[\"Glucose\"]=df[\"Glucose\"].replace(0,df[\"Glucose\"].mean())"
   ]
  },
  {
   "cell_type": "code",
   "execution_count": 16,
   "id": "af5e0cc6",
   "metadata": {},
   "outputs": [],
   "source": [
    "df[\"SkinThickness\"]=df[\"SkinThickness\"].replace(0,df[\"SkinThickness\"].mean())"
   ]
  },
  {
   "cell_type": "code",
   "execution_count": 17,
   "id": "c18afa8e",
   "metadata": {},
   "outputs": [],
   "source": [
    "df[\"Pregnancies\"]=df[\"Pregnancies\"].replace(0,df[\"Pregnancies\"].mean())"
   ]
  },
  {
   "cell_type": "code",
   "execution_count": 18,
   "id": "00c18e77",
   "metadata": {},
   "outputs": [
    {
     "ename": "NameError",
     "evalue": "name 'ProfileReport' is not defined",
     "output_type": "error",
     "traceback": [
      "\u001b[1;31m---------------------------------------------------------------------------\u001b[0m",
      "\u001b[1;31mNameError\u001b[0m                                 Traceback (most recent call last)",
      "Input \u001b[1;32mIn [18]\u001b[0m, in \u001b[0;36m<cell line: 1>\u001b[1;34m()\u001b[0m\n\u001b[1;32m----> 1\u001b[0m \u001b[43mProfileReport\u001b[49m(df)\n",
      "\u001b[1;31mNameError\u001b[0m: name 'ProfileReport' is not defined"
     ]
    }
   ],
   "source": [
    "ProfileReport(df)"
   ]
  },
  {
   "cell_type": "code",
   "execution_count": 19,
   "id": "f51b605a",
   "metadata": {},
   "outputs": [
    {
     "data": {
      "text/plain": [
       "<AxesSubplot:>"
      ]
     },
     "execution_count": 19,
     "metadata": {},
     "output_type": "execute_result"
    },
    {
     "data": {
      "image/png": "[encoded data removed]",
      "text/plain": [
       "<Figure size 1440x720 with 1 Axes>"
      ]
     },
     "metadata": {
      "needs_background": "light"
     },
     "output_type": "display_data"
    }
   ],
   "source": [
    "fig=plt.subplots(figsize=(20,10))\n",
    "sns.boxplot(data=df)"
   ]
  },
  {
   "cell_type": "code",
   "execution_count": 20,
   "id": "4f37616d",
   "metadata": {},
   "outputs": [],
   "source": [
    "q=df[\"Insulin\"].quantile(.85)\n",
    "df_new=df[df[\"Insulin\"]<q]"
   ]
  },
  {
   "cell_type": "code",
   "execution_count": 21,
   "id": "5279b494",
   "metadata": {},
   "outputs": [
    {
     "data": {
      "text/html": [
       "<div>\n",
       "<style scoped>\n",
       "    .dataframe tbody tr th:only-of-type {\n",
       "        vertical-align: middle;\n",
       "    }\n",
       "\n",
       "    .dataframe tbody tr th {\n",
       "        vertical-align: top;\n",
       "    }\n",
       "\n",
       "    .dataframe thead th {\n",
       "        text-align: right;\n",
       "    }\n",
       "</style>\n",
       "<table border=\"1\" class=\"dataframe\">\n",
       "  <thead>\n",
       "    <tr style=\"text-align: right;\">\n",
       "      <th></th>\n",
       "      <th>Pregnancies</th>\n",
       "      <th>Glucose</th>\n",
       "      <th>BloodPressure</th>\n",
       "      <th>SkinThickness</th>\n",
       "      <th>Insulin</th>\n",
       "      <th>BMI</th>\n",
       "      <th>DiabetesPedigreeFunction</th>\n",
       "      <th>Age</th>\n",
       "      <th>Outcome</th>\n",
       "    </tr>\n",
       "  </thead>\n",
       "  <tbody>\n",
       "    <tr>\n",
       "      <th>0</th>\n",
       "      <td>6.0</td>\n",
       "      <td>148.0</td>\n",
       "      <td>72.0</td>\n",
       "      <td>35.000000</td>\n",
       "      <td>79.799479</td>\n",
       "      <td>33.6</td>\n",
       "      <td>0.627</td>\n",
       "      <td>50</td>\n",
       "      <td>1</td>\n",
       "    </tr>\n",
       "    <tr>\n",
       "      <th>1</th>\n",
       "      <td>1.0</td>\n",
       "      <td>85.0</td>\n",
       "      <td>66.0</td>\n",
       "      <td>29.000000</td>\n",
       "      <td>79.799479</td>\n",
       "      <td>26.6</td>\n",
       "      <td>0.351</td>\n",
       "      <td>31</td>\n",
       "      <td>0</td>\n",
       "    </tr>\n",
       "    <tr>\n",
       "      <th>2</th>\n",
       "      <td>8.0</td>\n",
       "      <td>183.0</td>\n",
       "      <td>64.0</td>\n",
       "      <td>20.536458</td>\n",
       "      <td>79.799479</td>\n",
       "      <td>23.3</td>\n",
       "      <td>0.672</td>\n",
       "      <td>32</td>\n",
       "      <td>1</td>\n",
       "    </tr>\n",
       "    <tr>\n",
       "      <th>3</th>\n",
       "      <td>1.0</td>\n",
       "      <td>89.0</td>\n",
       "      <td>66.0</td>\n",
       "      <td>23.000000</td>\n",
       "      <td>94.000000</td>\n",
       "      <td>28.1</td>\n",
       "      <td>0.167</td>\n",
       "      <td>21</td>\n",
       "      <td>0</td>\n",
       "    </tr>\n",
       "  </tbody>\n",
       "</table>\n",
       "</div>"
      ],
      "text/plain": [
       "   Pregnancies  Glucose  BloodPressure  SkinThickness    Insulin   BMI  \\\n",
       "0          6.0    148.0           72.0      35.000000  79.799479  33.6   \n",
       "1          1.0     85.0           66.0      29.000000  79.799479  26.6   \n",
       "2          8.0    183.0           64.0      20.536458  79.799479  23.3   \n",
       "3          1.0     89.0           66.0      23.000000  94.000000  28.1   \n",
       "\n",
       "   DiabetesPedigreeFunction  Age  Outcome  \n",
       "0                     0.627   50        1  \n",
       "1                     0.351   31        0  \n",
       "2                     0.672   32        1  \n",
       "3                     0.167   21        0  "
      ]
     },
     "execution_count": 21,
     "metadata": {},
     "output_type": "execute_result"
    }
   ],
   "source": [
    "df_new.head(4)"
   ]
  },
  {
   "cell_type": "code",
   "execution_count": 22,
   "id": "3267cf1a",
   "metadata": {},
   "outputs": [
    {
     "data": {
      "text/plain": [
       "<AxesSubplot:>"
      ]
     },
     "execution_count": 22,
     "metadata": {},
     "output_type": "execute_result"
    },
    {
     "data": {
      "image/png": "[encoded data removed]",
      "text/plain": [
       "<Figure size 1440x720 with 1 Axes>"
      ]
     },
     "metadata": {
      "needs_background": "light"
     },
     "output_type": "display_data"
    }
   ],
   "source": [
    "fig=plt.subplots(figsize=(20,10))\n",
    "sns.boxplot(data=df_new)"
   ]
  },
  {
   "cell_type": "code",
   "execution_count": 23,
   "id": "1521bc68",
   "metadata": {},
   "outputs": [],
   "source": [
    "q=df_new[\"Pregnancies\"].quantile(.98)\n",
    "df_new=df_new[df_new[\"Pregnancies\"] < q]\n",
    "\n",
    "q=df_new[\"BMI\"].quantile(.99)\n",
    "df_new=df_new[df_new[\"BMI\"]<q]\n",
    "\n",
    "q=df_new[\"SkinThickness\"].quantile(.98)\n",
    "df_new=df_new[df_new[\"SkinThickness\"] < q]\n",
    "\n",
    "q=df_new[\"Insulin\"].quantile(.85)\n",
    "df_new=df_new[df_new[\"Insulin\"]<q]\n",
    "\n",
    "q=df_new[\"DiabetesPedigreeFunction\"].quantile(.99)\n",
    "df_new=df_new[df_new[\"DiabetesPedigreeFunction\"]<q]\n",
    "\n",
    "q=df_new[\"Age\"].quantile(.99)\n",
    "df_new=df_new[df_new[\"Age\"]<q]"
   ]
  },
  {
   "cell_type": "code",
   "execution_count": 24,
   "id": "2481cdc9",
   "metadata": {},
   "outputs": [
    {
     "data": {
      "text/plain": [
       "<AxesSubplot:>"
      ]
     },
     "execution_count": 24,
     "metadata": {},
     "output_type": "execute_result"
    },
    {
     "data": {
      "image/png": "[encoded data removed]",
      "text/plain": [
       "<Figure size 1440x720 with 1 Axes>"
      ]
     },
     "metadata": {
      "needs_background": "light"
     },
     "output_type": "display_data"
    }
   ],
   "source": [
    "fig=plt.subplots(figsize=(20,10))\n",
    "sns.boxplot(data=df_new)"
   ]
  },
  {
   "cell_type": "code",
   "execution_count": 25,
   "id": "1d0ebee2",
   "metadata": {},
   "outputs": [
    {
     "data": {
      "text/plain": [
       "(768, 9)"
      ]
     },
     "execution_count": 25,
     "metadata": {},
     "output_type": "execute_result"
    }
   ],
   "source": [
    "df.shape"
   ]
  },
  {
   "cell_type": "code",
   "execution_count": 26,
   "id": "a965f7c2",
   "metadata": {},
   "outputs": [
    {
     "data": {
      "text/plain": [
       "(503, 9)"
      ]
     },
     "execution_count": 26,
     "metadata": {},
     "output_type": "execute_result"
    }
   ],
   "source": [
    "df_new.shape"
   ]
  },
  {
   "cell_type": "code",
   "execution_count": 27,
   "id": "1740a0e1",
   "metadata": {},
   "outputs": [
    {
     "data": {
      "text/plain": [
       "Pregnancies                 0\n",
       "Glucose                     0\n",
       "BloodPressure               0\n",
       "SkinThickness               0\n",
       "Insulin                     0\n",
       "BMI                         0\n",
       "DiabetesPedigreeFunction    0\n",
       "Age                         0\n",
       "Outcome                     0\n",
       "dtype: int64"
      ]
     },
     "execution_count": 27,
     "metadata": {},
     "output_type": "execute_result"
    }
   ],
   "source": [
    "df_new.isnull().sum()"
   ]
  },
  {
   "cell_type": "code",
   "execution_count": 28,
   "id": "39ea67a3",
   "metadata": {},
   "outputs": [
    {
     "ename": "NameError",
     "evalue": "name 'ProfileReport' is not defined",
     "output_type": "error",
     "traceback": [
      "\u001b[1;31m---------------------------------------------------------------------------\u001b[0m",
      "\u001b[1;31mNameError\u001b[0m                                 Traceback (most recent call last)",
      "Input \u001b[1;32mIn [28]\u001b[0m, in \u001b[0;36m<cell line: 1>\u001b[1;34m()\u001b[0m\n\u001b[1;32m----> 1\u001b[0m \u001b[43mProfileReport\u001b[49m(df_new)\n",
      "\u001b[1;31mNameError\u001b[0m: name 'ProfileReport' is not defined"
     ]
    }
   ],
   "source": [
    "ProfileReport(df_new)"
   ]
  },
  {
   "cell_type": "code",
   "execution_count": 29,
   "id": "c0d098d5",
   "metadata": {},
   "outputs": [
    {
     "data": {
      "text/html": [
       "<div>\n",
       "<style scoped>\n",
       "    .dataframe tbody tr th:only-of-type {\n",
       "        vertical-align: middle;\n",
       "    }\n",
       "\n",
       "    .dataframe tbody tr th {\n",
       "        vertical-align: top;\n",
       "    }\n",
       "\n",
       "    .dataframe thead th {\n",
       "        text-align: right;\n",
       "    }\n",
       "</style>\n",
       "<table border=\"1\" class=\"dataframe\">\n",
       "  <thead>\n",
       "    <tr style=\"text-align: right;\">\n",
       "      <th></th>\n",
       "      <th>Pregnancies</th>\n",
       "      <th>Glucose</th>\n",
       "      <th>BloodPressure</th>\n",
       "      <th>SkinThickness</th>\n",
       "      <th>Insulin</th>\n",
       "      <th>BMI</th>\n",
       "      <th>DiabetesPedigreeFunction</th>\n",
       "      <th>Age</th>\n",
       "      <th>Outcome</th>\n",
       "    </tr>\n",
       "  </thead>\n",
       "  <tbody>\n",
       "    <tr>\n",
       "      <th>0</th>\n",
       "      <td>6.0</td>\n",
       "      <td>148.0</td>\n",
       "      <td>72.0</td>\n",
       "      <td>35.000000</td>\n",
       "      <td>79.799479</td>\n",
       "      <td>33.6</td>\n",
       "      <td>0.627</td>\n",
       "      <td>50</td>\n",
       "      <td>1</td>\n",
       "    </tr>\n",
       "    <tr>\n",
       "      <th>1</th>\n",
       "      <td>1.0</td>\n",
       "      <td>85.0</td>\n",
       "      <td>66.0</td>\n",
       "      <td>29.000000</td>\n",
       "      <td>79.799479</td>\n",
       "      <td>26.6</td>\n",
       "      <td>0.351</td>\n",
       "      <td>31</td>\n",
       "      <td>0</td>\n",
       "    </tr>\n",
       "    <tr>\n",
       "      <th>2</th>\n",
       "      <td>8.0</td>\n",
       "      <td>183.0</td>\n",
       "      <td>64.0</td>\n",
       "      <td>20.536458</td>\n",
       "      <td>79.799479</td>\n",
       "      <td>23.3</td>\n",
       "      <td>0.672</td>\n",
       "      <td>32</td>\n",
       "      <td>1</td>\n",
       "    </tr>\n",
       "    <tr>\n",
       "      <th>3</th>\n",
       "      <td>1.0</td>\n",
       "      <td>89.0</td>\n",
       "      <td>66.0</td>\n",
       "      <td>23.000000</td>\n",
       "      <td>94.000000</td>\n",
       "      <td>28.1</td>\n",
       "      <td>0.167</td>\n",
       "      <td>21</td>\n",
       "      <td>0</td>\n",
       "    </tr>\n",
       "    <tr>\n",
       "      <th>5</th>\n",
       "      <td>5.0</td>\n",
       "      <td>116.0</td>\n",
       "      <td>74.0</td>\n",
       "      <td>20.536458</td>\n",
       "      <td>79.799479</td>\n",
       "      <td>25.6</td>\n",
       "      <td>0.201</td>\n",
       "      <td>30</td>\n",
       "      <td>0</td>\n",
       "    </tr>\n",
       "    <tr>\n",
       "      <th>...</th>\n",
       "      <td>...</td>\n",
       "      <td>...</td>\n",
       "      <td>...</td>\n",
       "      <td>...</td>\n",
       "      <td>...</td>\n",
       "      <td>...</td>\n",
       "      <td>...</td>\n",
       "      <td>...</td>\n",
       "      <td>...</td>\n",
       "    </tr>\n",
       "    <tr>\n",
       "      <th>762</th>\n",
       "      <td>9.0</td>\n",
       "      <td>89.0</td>\n",
       "      <td>62.0</td>\n",
       "      <td>20.536458</td>\n",
       "      <td>79.799479</td>\n",
       "      <td>22.5</td>\n",
       "      <td>0.142</td>\n",
       "      <td>33</td>\n",
       "      <td>0</td>\n",
       "    </tr>\n",
       "    <tr>\n",
       "      <th>764</th>\n",
       "      <td>2.0</td>\n",
       "      <td>122.0</td>\n",
       "      <td>70.0</td>\n",
       "      <td>27.000000</td>\n",
       "      <td>79.799479</td>\n",
       "      <td>36.8</td>\n",
       "      <td>0.340</td>\n",
       "      <td>27</td>\n",
       "      <td>0</td>\n",
       "    </tr>\n",
       "    <tr>\n",
       "      <th>765</th>\n",
       "      <td>5.0</td>\n",
       "      <td>121.0</td>\n",
       "      <td>72.0</td>\n",
       "      <td>23.000000</td>\n",
       "      <td>112.000000</td>\n",
       "      <td>26.2</td>\n",
       "      <td>0.245</td>\n",
       "      <td>30</td>\n",
       "      <td>0</td>\n",
       "    </tr>\n",
       "    <tr>\n",
       "      <th>766</th>\n",
       "      <td>1.0</td>\n",
       "      <td>126.0</td>\n",
       "      <td>60.0</td>\n",
       "      <td>20.536458</td>\n",
       "      <td>79.799479</td>\n",
       "      <td>30.1</td>\n",
       "      <td>0.349</td>\n",
       "      <td>47</td>\n",
       "      <td>1</td>\n",
       "    </tr>\n",
       "    <tr>\n",
       "      <th>767</th>\n",
       "      <td>1.0</td>\n",
       "      <td>93.0</td>\n",
       "      <td>70.0</td>\n",
       "      <td>31.000000</td>\n",
       "      <td>79.799479</td>\n",
       "      <td>30.4</td>\n",
       "      <td>0.315</td>\n",
       "      <td>23</td>\n",
       "      <td>0</td>\n",
       "    </tr>\n",
       "  </tbody>\n",
       "</table>\n",
       "<p>503 rows × 9 columns</p>\n",
       "</div>"
      ],
      "text/plain": [
       "     Pregnancies  Glucose  BloodPressure  SkinThickness     Insulin   BMI  \\\n",
       "0            6.0    148.0           72.0      35.000000   79.799479  33.6   \n",
       "1            1.0     85.0           66.0      29.000000   79.799479  26.6   \n",
       "2            8.0    183.0           64.0      20.536458   79.799479  23.3   \n",
       "3            1.0     89.0           66.0      23.000000   94.000000  28.1   \n",
       "5            5.0    116.0           74.0      20.536458   79.799479  25.6   \n",
       "..           ...      ...            ...            ...         ...   ...   \n",
       "762          9.0     89.0           62.0      20.536458   79.799479  22.5   \n",
       "764          2.0    122.0           70.0      27.000000   79.799479  36.8   \n",
       "765          5.0    121.0           72.0      23.000000  112.000000  26.2   \n",
       "766          1.0    126.0           60.0      20.536458   79.799479  30.1   \n",
       "767          1.0     93.0           70.0      31.000000   79.799479  30.4   \n",
       "\n",
       "     DiabetesPedigreeFunction  Age  Outcome  \n",
       "0                       0.627   50        1  \n",
       "1                       0.351   31        0  \n",
       "2                       0.672   32        1  \n",
       "3                       0.167   21        0  \n",
       "5                       0.201   30        0  \n",
       "..                        ...  ...      ...  \n",
       "762                     0.142   33        0  \n",
       "764                     0.340   27        0  \n",
       "765                     0.245   30        0  \n",
       "766                     0.349   47        1  \n",
       "767                     0.315   23        0  \n",
       "\n",
       "[503 rows x 9 columns]"
      ]
     },
     "execution_count": 29,
     "metadata": {},
     "output_type": "execute_result"
    }
   ],
   "source": [
    "df_new"
   ]
  },
  {
   "cell_type": "code",
   "execution_count": 30,
   "id": "4cb9af66",
   "metadata": {},
   "outputs": [],
   "source": [
    "y=df_new.iloc[:,-1]\n",
    "x=df_new.iloc[:,:-1]"
   ]
  },
  {
   "cell_type": "code",
   "execution_count": 31,
   "id": "065def42",
   "metadata": {},
   "outputs": [],
   "source": [
    "# This dataset is skweness and varing a lot so we will use StandarScaler"
   ]
  },
  {
   "cell_type": "code",
   "execution_count": 32,
   "id": "dffcc4fd",
   "metadata": {},
   "outputs": [],
   "source": [
    "scaler=StandardScaler()\n",
    "scaler.fit_transform(x)\n",
    "x_scaled=scaler.fit_transform(x)\n"
   ]
  },
  {
   "cell_type": "code",
   "execution_count": 33,
   "id": "5e983436",
   "metadata": {},
   "outputs": [
    {
     "data": {
      "text/plain": [
       "array([[ 0.70025902,  1.17490758, -0.00459712, ...,  0.39066983,\n",
       "         0.78757553,  1.53493025],\n",
       "       [-1.22692647, -1.0249557 , -0.51141404, ..., -0.71439537,\n",
       "        -0.24654474, -0.1360264 ],\n",
       "       [ 1.47113322,  2.39705385, -0.68035302, ..., -1.23535468,\n",
       "         0.9561821 , -0.04808131],\n",
       "       ...,\n",
       "       [ 0.31482192,  0.23210903, -0.00459712, ..., -0.77754196,\n",
       "        -0.64370687, -0.22397148],\n",
       "       [-1.22692647,  0.40670135, -1.01823097, ..., -0.16186277,\n",
       "        -0.25403836,  1.27109499],\n",
       "       [-1.22692647, -0.74560799, -0.1735361 , ..., -0.11450283,\n",
       "        -0.38142999, -0.83958709]])"
      ]
     },
     "execution_count": 33,
     "metadata": {},
     "output_type": "execute_result"
    }
   ],
   "source": [
    "x_scaled"
   ]
  },
  {
   "cell_type": "code",
   "execution_count": 34,
   "id": "c5b095f2",
   "metadata": {},
   "outputs": [
    {
     "ename": "NameError",
     "evalue": "name 'ProfileReport' is not defined",
     "output_type": "error",
     "traceback": [
      "\u001b[1;31m---------------------------------------------------------------------------\u001b[0m",
      "\u001b[1;31mNameError\u001b[0m                                 Traceback (most recent call last)",
      "Input \u001b[1;32mIn [34]\u001b[0m, in \u001b[0;36m<cell line: 1>\u001b[1;34m()\u001b[0m\n\u001b[1;32m----> 1\u001b[0m \u001b[43mProfileReport\u001b[49m(pd\u001b[38;5;241m.\u001b[39mDataFrame(scaler\u001b[38;5;241m.\u001b[39mfit_transform(df_new)))\n",
      "\u001b[1;31mNameError\u001b[0m: name 'ProfileReport' is not defined"
     ]
    }
   ],
   "source": [
    "ProfileReport(pd.DataFrame(scaler.fit_transform(df_new)))"
   ]
  },
  {
   "cell_type": "code",
   "execution_count": 35,
   "id": "8c57044c",
   "metadata": {},
   "outputs": [
    {
     "data": {
      "text/plain": [
       "Index(['Pregnancies', 'Glucose', 'BloodPressure', 'SkinThickness', 'Insulin',\n",
       "       'BMI', 'DiabetesPedigreeFunction', 'Age', 'Outcome'],\n",
       "      dtype='object')"
      ]
     },
     "execution_count": 35,
     "metadata": {},
     "output_type": "execute_result"
    }
   ],
   "source": [
    "df.columns"
   ]
  },
  {
   "cell_type": "code",
   "execution_count": 36,
   "id": "f33906f6",
   "metadata": {},
   "outputs": [
    {
     "data": {
      "text/plain": [
       "Index(['Pregnancies', 'Glucose', 'BloodPressure', 'SkinThickness', 'Insulin',\n",
       "       'BMI', 'DiabetesPedigreeFunction', 'Age', 'Outcome'],\n",
       "      dtype='object')"
      ]
     },
     "execution_count": 36,
     "metadata": {},
     "output_type": "execute_result"
    }
   ],
   "source": [
    "df_new.columns"
   ]
  },
  {
   "cell_type": "code",
   "execution_count": 37,
   "id": "671c9dd6",
   "metadata": {},
   "outputs": [
    {
     "ename": "TypeError",
     "evalue": "'DataFrame' object is not callable",
     "output_type": "error",
     "traceback": [
      "\u001b[1;31m---------------------------------------------------------------------------\u001b[0m",
      "\u001b[1;31mTypeError\u001b[0m                                 Traceback (most recent call last)",
      "Input \u001b[1;32mIn [37]\u001b[0m, in \u001b[0;36m<cell line: 1>\u001b[1;34m()\u001b[0m\n\u001b[1;32m----> 1\u001b[0m df_new\u001b[38;5;241m=\u001b[39m\u001b[43mdf_new\u001b[49m\u001b[43m(\u001b[49m\u001b[43mcolumns\u001b[49m\u001b[38;5;241;43m=\u001b[39;49m\u001b[43m[\u001b[49m\u001b[38;5;124;43m'\u001b[39;49m\u001b[38;5;124;43mPregnancies\u001b[39;49m\u001b[38;5;124;43m'\u001b[39;49m\u001b[43m,\u001b[49m\u001b[43m \u001b[49m\u001b[38;5;124;43m'\u001b[39;49m\u001b[38;5;124;43mGlucose\u001b[39;49m\u001b[38;5;124;43m'\u001b[39;49m\u001b[43m,\u001b[49m\u001b[43m \u001b[49m\u001b[38;5;124;43m'\u001b[39;49m\u001b[38;5;124;43mBloodPressure\u001b[39;49m\u001b[38;5;124;43m'\u001b[39;49m\u001b[43m,\u001b[49m\u001b[43m \u001b[49m\u001b[38;5;124;43m'\u001b[39;49m\u001b[38;5;124;43mSkinThickness\u001b[39;49m\u001b[38;5;124;43m'\u001b[39;49m\u001b[43m,\u001b[49m\u001b[43m \u001b[49m\u001b[38;5;124;43m'\u001b[39;49m\u001b[38;5;124;43mInsulin\u001b[39;49m\u001b[38;5;124;43m'\u001b[39;49m\u001b[43m,\u001b[49m\n\u001b[0;32m      2\u001b[0m \u001b[43m       \u001b[49m\u001b[38;5;124;43m'\u001b[39;49m\u001b[38;5;124;43mBMI\u001b[39;49m\u001b[38;5;124;43m'\u001b[39;49m\u001b[43m,\u001b[49m\u001b[43m \u001b[49m\u001b[38;5;124;43m'\u001b[39;49m\u001b[38;5;124;43mDiabetesPedigreeFunction\u001b[39;49m\u001b[38;5;124;43m'\u001b[39;49m\u001b[43m,\u001b[49m\u001b[43m \u001b[49m\u001b[38;5;124;43m'\u001b[39;49m\u001b[38;5;124;43mAge\u001b[39;49m\u001b[38;5;124;43m'\u001b[39;49m\u001b[43m,\u001b[49m\u001b[43m \u001b[49m\u001b[38;5;124;43m'\u001b[39;49m\u001b[38;5;124;43mOutcome\u001b[39;49m\u001b[38;5;124;43m'\u001b[39;49m\u001b[43m]\u001b[49m\u001b[43m)\u001b[49m\n",
      "\u001b[1;31mTypeError\u001b[0m: 'DataFrame' object is not callable"
     ]
    }
   ],
   "source": [
    "df_new=df_new(columns=['Pregnancies', 'Glucose', 'BloodPressure', 'SkinThickness', 'Insulin',\n",
    "       'BMI', 'DiabetesPedigreeFunction', 'Age', 'Outcome'])"
   ]
  },
  {
   "cell_type": "code",
   "execution_count": 38,
   "id": "3ecc1504",
   "metadata": {},
   "outputs": [
    {
     "ename": "SyntaxError",
     "evalue": "positional argument follows keyword argument (3838904687.py, line 2)",
     "output_type": "error",
     "traceback": [
      "\u001b[1;36m  Input \u001b[1;32mIn [38]\u001b[1;36m\u001b[0m\n\u001b[1;33m    'BMI', 'DiabetesPedigreeFunction', 'Age', 'Outcome')\u001b[0m\n\u001b[1;37m                                                       ^\u001b[0m\n\u001b[1;31mSyntaxError\u001b[0m\u001b[1;31m:\u001b[0m positional argument follows keyword argument\n"
     ]
    }
   ],
   "source": [
    "df1=df1(columns='Pregnancies', 'Glucose', 'BloodPressure', 'SkinThickness', 'Insulin',\n",
    "       'BMI', 'DiabetesPedigreeFunction', 'Age', 'Outcome')"
   ]
  },
  {
   "cell_type": "code",
   "execution_count": 39,
   "id": "1d19074e",
   "metadata": {},
   "outputs": [
    {
     "data": {
      "text/html": [
       "<div>\n",
       "<style scoped>\n",
       "    .dataframe tbody tr th:only-of-type {\n",
       "        vertical-align: middle;\n",
       "    }\n",
       "\n",
       "    .dataframe tbody tr th {\n",
       "        vertical-align: top;\n",
       "    }\n",
       "\n",
       "    .dataframe thead th {\n",
       "        text-align: right;\n",
       "    }\n",
       "</style>\n",
       "<table border=\"1\" class=\"dataframe\">\n",
       "  <thead>\n",
       "    <tr style=\"text-align: right;\">\n",
       "      <th></th>\n",
       "      <th>Pregnancies</th>\n",
       "      <th>Glucose</th>\n",
       "      <th>BloodPressure</th>\n",
       "      <th>SkinThickness</th>\n",
       "      <th>Insulin</th>\n",
       "      <th>BMI</th>\n",
       "      <th>DiabetesPedigreeFunction</th>\n",
       "      <th>Age</th>\n",
       "      <th>Outcome</th>\n",
       "    </tr>\n",
       "  </thead>\n",
       "  <tbody>\n",
       "    <tr>\n",
       "      <th>Pregnancies</th>\n",
       "      <td>1.000000</td>\n",
       "      <td>0.186214</td>\n",
       "      <td>0.264118</td>\n",
       "      <td>0.077036</td>\n",
       "      <td>0.149852</td>\n",
       "      <td>0.138138</td>\n",
       "      <td>0.007035</td>\n",
       "      <td>0.502427</td>\n",
       "      <td>0.245552</td>\n",
       "    </tr>\n",
       "    <tr>\n",
       "      <th>Glucose</th>\n",
       "      <td>0.186214</td>\n",
       "      <td>1.000000</td>\n",
       "      <td>0.263978</td>\n",
       "      <td>-0.004843</td>\n",
       "      <td>0.239774</td>\n",
       "      <td>0.193122</td>\n",
       "      <td>0.025800</td>\n",
       "      <td>0.310832</td>\n",
       "      <td>0.483448</td>\n",
       "    </tr>\n",
       "    <tr>\n",
       "      <th>BloodPressure</th>\n",
       "      <td>0.264118</td>\n",
       "      <td>0.263978</td>\n",
       "      <td>1.000000</td>\n",
       "      <td>0.120527</td>\n",
       "      <td>0.084933</td>\n",
       "      <td>0.251110</td>\n",
       "      <td>0.045213</td>\n",
       "      <td>0.378035</td>\n",
       "      <td>0.167416</td>\n",
       "    </tr>\n",
       "    <tr>\n",
       "      <th>SkinThickness</th>\n",
       "      <td>0.077036</td>\n",
       "      <td>-0.004843</td>\n",
       "      <td>0.120527</td>\n",
       "      <td>1.000000</td>\n",
       "      <td>0.080797</td>\n",
       "      <td>0.472475</td>\n",
       "      <td>0.062918</td>\n",
       "      <td>0.027502</td>\n",
       "      <td>0.074349</td>\n",
       "    </tr>\n",
       "    <tr>\n",
       "      <th>Insulin</th>\n",
       "      <td>0.149852</td>\n",
       "      <td>0.239774</td>\n",
       "      <td>0.084933</td>\n",
       "      <td>0.080797</td>\n",
       "      <td>1.000000</td>\n",
       "      <td>0.102541</td>\n",
       "      <td>-0.004350</td>\n",
       "      <td>0.134481</td>\n",
       "      <td>0.137249</td>\n",
       "    </tr>\n",
       "    <tr>\n",
       "      <th>BMI</th>\n",
       "      <td>0.138138</td>\n",
       "      <td>0.193122</td>\n",
       "      <td>0.251110</td>\n",
       "      <td>0.472475</td>\n",
       "      <td>0.102541</td>\n",
       "      <td>1.000000</td>\n",
       "      <td>0.121895</td>\n",
       "      <td>0.104603</td>\n",
       "      <td>0.310988</td>\n",
       "    </tr>\n",
       "    <tr>\n",
       "      <th>DiabetesPedigreeFunction</th>\n",
       "      <td>0.007035</td>\n",
       "      <td>0.025800</td>\n",
       "      <td>0.045213</td>\n",
       "      <td>0.062918</td>\n",
       "      <td>-0.004350</td>\n",
       "      <td>0.121895</td>\n",
       "      <td>1.000000</td>\n",
       "      <td>0.032329</td>\n",
       "      <td>0.191070</td>\n",
       "    </tr>\n",
       "    <tr>\n",
       "      <th>Age</th>\n",
       "      <td>0.502427</td>\n",
       "      <td>0.310832</td>\n",
       "      <td>0.378035</td>\n",
       "      <td>0.027502</td>\n",
       "      <td>0.134481</td>\n",
       "      <td>0.104603</td>\n",
       "      <td>0.032329</td>\n",
       "      <td>1.000000</td>\n",
       "      <td>0.232107</td>\n",
       "    </tr>\n",
       "    <tr>\n",
       "      <th>Outcome</th>\n",
       "      <td>0.245552</td>\n",
       "      <td>0.483448</td>\n",
       "      <td>0.167416</td>\n",
       "      <td>0.074349</td>\n",
       "      <td>0.137249</td>\n",
       "      <td>0.310988</td>\n",
       "      <td>0.191070</td>\n",
       "      <td>0.232107</td>\n",
       "      <td>1.000000</td>\n",
       "    </tr>\n",
       "  </tbody>\n",
       "</table>\n",
       "</div>"
      ],
      "text/plain": [
       "                          Pregnancies   Glucose  BloodPressure  SkinThickness  \\\n",
       "Pregnancies                  1.000000  0.186214       0.264118       0.077036   \n",
       "Glucose                      0.186214  1.000000       0.263978      -0.004843   \n",
       "BloodPressure                0.264118  0.263978       1.000000       0.120527   \n",
       "SkinThickness                0.077036 -0.004843       0.120527       1.000000   \n",
       "Insulin                      0.149852  0.239774       0.084933       0.080797   \n",
       "BMI                          0.138138  0.193122       0.251110       0.472475   \n",
       "DiabetesPedigreeFunction     0.007035  0.025800       0.045213       0.062918   \n",
       "Age                          0.502427  0.310832       0.378035       0.027502   \n",
       "Outcome                      0.245552  0.483448       0.167416       0.074349   \n",
       "\n",
       "                           Insulin       BMI  DiabetesPedigreeFunction  \\\n",
       "Pregnancies               0.149852  0.138138                  0.007035   \n",
       "Glucose                   0.239774  0.193122                  0.025800   \n",
       "BloodPressure             0.084933  0.251110                  0.045213   \n",
       "SkinThickness             0.080797  0.472475                  0.062918   \n",
       "Insulin                   1.000000  0.102541                 -0.004350   \n",
       "BMI                       0.102541  1.000000                  0.121895   \n",
       "DiabetesPedigreeFunction -0.004350  0.121895                  1.000000   \n",
       "Age                       0.134481  0.104603                  0.032329   \n",
       "Outcome                   0.137249  0.310988                  0.191070   \n",
       "\n",
       "                               Age   Outcome  \n",
       "Pregnancies               0.502427  0.245552  \n",
       "Glucose                   0.310832  0.483448  \n",
       "BloodPressure             0.378035  0.167416  \n",
       "SkinThickness             0.027502  0.074349  \n",
       "Insulin                   0.134481  0.137249  \n",
       "BMI                       0.104603  0.310988  \n",
       "DiabetesPedigreeFunction  0.032329  0.191070  \n",
       "Age                       1.000000  0.232107  \n",
       "Outcome                   0.232107  1.000000  "
      ]
     },
     "execution_count": 39,
     "metadata": {},
     "output_type": "execute_result"
    }
   ],
   "source": [
    "df_new.corr()"
   ]
  },
  {
   "cell_type": "code",
   "execution_count": 40,
   "id": "d45d2589",
   "metadata": {},
   "outputs": [],
   "source": [
    "import klib"
   ]
  },
  {
   "cell_type": "code",
   "execution_count": 41,
   "id": "0901f94c",
   "metadata": {},
   "outputs": [
    {
     "data": {
      "text/plain": [
       "<AxesSubplot:xlabel='Age', ylabel='Density'>"
      ]
     },
     "execution_count": 41,
     "metadata": {},
     "output_type": "execute_result"
    },
    {
     "data": {
      "image/png": "[encoded data removed]",
      "text/plain": [
       "<Figure size 1080x216 with 1 Axes>"
      ]
     },
     "metadata": {
      "needs_background": "light"
     },
     "output_type": "display_data"
    },
    {
     "data": {
      "image/png": "[encoded data removed]",
      "text/plain": [
       "<Figure size 1080x216 with 1 Axes>"
      ]
     },
     "metadata": {
      "needs_background": "light"
     },
     "output_type": "display_data"
    },
    {
     "data": {
      "image/png": "[encoded data removed]",
      "text/plain": [
       "<Figure size 1080x216 with 1 Axes>"
      ]
     },
     "metadata": {
      "needs_background": "light"
     },
     "output_type": "display_data"
    },
    {
     "data": {
      "image/png": "[encoded data removed]",
      "text/plain": [
       "<Figure size 1080x216 with 1 Axes>"
      ]
     },
     "metadata": {
      "needs_background": "light"
     },
     "output_type": "display_data"
    },
    {
     "data": {
      "image/png": "[encoded data removed]",
      "text/plain": [
       "<Figure size 1080x216 with 1 Axes>"
      ]
     },
     "metadata": {
      "needs_background": "light"
     },
     "output_type": "display_data"
    },
    {
     "data": {
      "image/png": "[encoded data removed]",
      "text/plain": [
       "<Figure size 1080x216 with 1 Axes>"
      ]
     },
     "metadata": {
      "needs_background": "light"
     },
     "output_type": "display_data"
    },
    {
     "data": {
      "image/png": "[encoded data removed]",
      "text/plain": [
       "<Figure size 1080x216 with 1 Axes>"
      ]
     },
     "metadata": {
      "needs_background": "light"
     },
     "output_type": "display_data"
    },
    {
     "data": {
      "image/png": "[encoded data removed]",
      "text/plain": [
       "<Figure size 1080x216 with 1 Axes>"
      ]
     },
     "metadata": {
      "needs_background": "light"
     },
     "output_type": "display_data"
    }
   ],
   "source": [
    "klib.dist_plot(df)"
   ]
  },
  {
   "cell_type": "code",
   "execution_count": 42,
   "id": "93b4d80d",
   "metadata": {},
   "outputs": [
    {
     "data": {
      "text/html": [
       "<div>\n",
       "<style scoped>\n",
       "    .dataframe tbody tr th:only-of-type {\n",
       "        vertical-align: middle;\n",
       "    }\n",
       "\n",
       "    .dataframe tbody tr th {\n",
       "        vertical-align: top;\n",
       "    }\n",
       "\n",
       "    .dataframe thead th {\n",
       "        text-align: right;\n",
       "    }\n",
       "</style>\n",
       "<table border=\"1\" class=\"dataframe\">\n",
       "  <thead>\n",
       "    <tr style=\"text-align: right;\">\n",
       "      <th></th>\n",
       "      <th>0</th>\n",
       "      <th>1</th>\n",
       "      <th>2</th>\n",
       "      <th>3</th>\n",
       "      <th>4</th>\n",
       "      <th>5</th>\n",
       "      <th>6</th>\n",
       "      <th>7</th>\n",
       "      <th>8</th>\n",
       "    </tr>\n",
       "  </thead>\n",
       "  <tbody>\n",
       "    <tr>\n",
       "      <th>0</th>\n",
       "      <td>0.700259</td>\n",
       "      <td>1.174908</td>\n",
       "      <td>-0.004597</td>\n",
       "      <td>1.486966</td>\n",
       "      <td>0.188179</td>\n",
       "      <td>0.390670</td>\n",
       "      <td>0.787576</td>\n",
       "      <td>1.534930</td>\n",
       "      <td>1.586658</td>\n",
       "    </tr>\n",
       "    <tr>\n",
       "      <th>1</th>\n",
       "      <td>-1.226926</td>\n",
       "      <td>-1.024956</td>\n",
       "      <td>-0.511414</td>\n",
       "      <td>0.673797</td>\n",
       "      <td>0.188179</td>\n",
       "      <td>-0.714395</td>\n",
       "      <td>-0.246545</td>\n",
       "      <td>-0.136026</td>\n",
       "      <td>-0.630256</td>\n",
       "    </tr>\n",
       "    <tr>\n",
       "      <th>2</th>\n",
       "      <td>1.471133</td>\n",
       "      <td>2.397054</td>\n",
       "      <td>-0.680353</td>\n",
       "      <td>-0.473251</td>\n",
       "      <td>0.188179</td>\n",
       "      <td>-1.235355</td>\n",
       "      <td>0.956182</td>\n",
       "      <td>-0.048081</td>\n",
       "      <td>1.586658</td>\n",
       "    </tr>\n",
       "    <tr>\n",
       "      <th>3</th>\n",
       "      <td>-1.226926</td>\n",
       "      <td>-0.885282</td>\n",
       "      <td>-0.511414</td>\n",
       "      <td>-0.139372</td>\n",
       "      <td>1.196139</td>\n",
       "      <td>-0.477596</td>\n",
       "      <td>-0.935958</td>\n",
       "      <td>-1.015477</td>\n",
       "      <td>-0.630256</td>\n",
       "    </tr>\n",
       "    <tr>\n",
       "      <th>4</th>\n",
       "      <td>0.314822</td>\n",
       "      <td>0.057517</td>\n",
       "      <td>0.164342</td>\n",
       "      <td>-0.473251</td>\n",
       "      <td>0.188179</td>\n",
       "      <td>-0.872262</td>\n",
       "      <td>-0.808567</td>\n",
       "      <td>-0.223971</td>\n",
       "      <td>-0.630256</td>\n",
       "    </tr>\n",
       "    <tr>\n",
       "      <th>...</th>\n",
       "      <td>...</td>\n",
       "      <td>...</td>\n",
       "      <td>...</td>\n",
       "      <td>...</td>\n",
       "      <td>...</td>\n",
       "      <td>...</td>\n",
       "      <td>...</td>\n",
       "      <td>...</td>\n",
       "      <td>...</td>\n",
       "    </tr>\n",
       "    <tr>\n",
       "      <th>498</th>\n",
       "      <td>1.856570</td>\n",
       "      <td>-0.885282</td>\n",
       "      <td>-0.849292</td>\n",
       "      <td>-0.473251</td>\n",
       "      <td>0.188179</td>\n",
       "      <td>-1.361648</td>\n",
       "      <td>-1.029629</td>\n",
       "      <td>0.039864</td>\n",
       "      <td>-0.630256</td>\n",
       "    </tr>\n",
       "    <tr>\n",
       "      <th>499</th>\n",
       "      <td>-0.841489</td>\n",
       "      <td>0.267027</td>\n",
       "      <td>-0.173536</td>\n",
       "      <td>0.402741</td>\n",
       "      <td>0.188179</td>\n",
       "      <td>0.895842</td>\n",
       "      <td>-0.287760</td>\n",
       "      <td>-0.487807</td>\n",
       "      <td>-0.630256</td>\n",
       "    </tr>\n",
       "    <tr>\n",
       "      <th>500</th>\n",
       "      <td>0.314822</td>\n",
       "      <td>0.232109</td>\n",
       "      <td>-0.004597</td>\n",
       "      <td>-0.139372</td>\n",
       "      <td>2.473788</td>\n",
       "      <td>-0.777542</td>\n",
       "      <td>-0.643707</td>\n",
       "      <td>-0.223971</td>\n",
       "      <td>-0.630256</td>\n",
       "    </tr>\n",
       "    <tr>\n",
       "      <th>501</th>\n",
       "      <td>-1.226926</td>\n",
       "      <td>0.406701</td>\n",
       "      <td>-1.018231</td>\n",
       "      <td>-0.473251</td>\n",
       "      <td>0.188179</td>\n",
       "      <td>-0.161863</td>\n",
       "      <td>-0.254038</td>\n",
       "      <td>1.271095</td>\n",
       "      <td>1.586658</td>\n",
       "    </tr>\n",
       "    <tr>\n",
       "      <th>502</th>\n",
       "      <td>-1.226926</td>\n",
       "      <td>-0.745608</td>\n",
       "      <td>-0.173536</td>\n",
       "      <td>0.944853</td>\n",
       "      <td>0.188179</td>\n",
       "      <td>-0.114503</td>\n",
       "      <td>-0.381430</td>\n",
       "      <td>-0.839587</td>\n",
       "      <td>-0.630256</td>\n",
       "    </tr>\n",
       "  </tbody>\n",
       "</table>\n",
       "<p>503 rows × 9 columns</p>\n",
       "</div>"
      ],
      "text/plain": [
       "            0         1         2         3         4         5         6  \\\n",
       "0    0.700259  1.174908 -0.004597  1.486966  0.188179  0.390670  0.787576   \n",
       "1   -1.226926 -1.024956 -0.511414  0.673797  0.188179 -0.714395 -0.246545   \n",
       "2    1.471133  2.397054 -0.680353 -0.473251  0.188179 -1.235355  0.956182   \n",
       "3   -1.226926 -0.885282 -0.511414 -0.139372  1.196139 -0.477596 -0.935958   \n",
       "4    0.314822  0.057517  0.164342 -0.473251  0.188179 -0.872262 -0.808567   \n",
       "..        ...       ...       ...       ...       ...       ...       ...   \n",
       "498  1.856570 -0.885282 -0.849292 -0.473251  0.188179 -1.361648 -1.029629   \n",
       "499 -0.841489  0.267027 -0.173536  0.402741  0.188179  0.895842 -0.287760   \n",
       "500  0.314822  0.232109 -0.004597 -0.139372  2.473788 -0.777542 -0.643707   \n",
       "501 -1.226926  0.406701 -1.018231 -0.473251  0.188179 -0.161863 -0.254038   \n",
       "502 -1.226926 -0.745608 -0.173536  0.944853  0.188179 -0.114503 -0.381430   \n",
       "\n",
       "            7         8  \n",
       "0    1.534930  1.586658  \n",
       "1   -0.136026 -0.630256  \n",
       "2   -0.048081  1.586658  \n",
       "3   -1.015477 -0.630256  \n",
       "4   -0.223971 -0.630256  \n",
       "..        ...       ...  \n",
       "498  0.039864 -0.630256  \n",
       "499 -0.487807 -0.630256  \n",
       "500 -0.223971 -0.630256  \n",
       "501  1.271095  1.586658  \n",
       "502 -0.839587 -0.630256  \n",
       "\n",
       "[503 rows x 9 columns]"
      ]
     },
     "execution_count": 42,
     "metadata": {},
     "output_type": "execute_result"
    }
   ],
   "source": [
    "df1=pd.DataFrame(scaler.fit_transform(df_new))\n",
    "df1"
   ]
  },
  {
   "cell_type": "code",
   "execution_count": 43,
   "id": "442a8ec0",
   "metadata": {},
   "outputs": [],
   "source": [
    "df_new_scalar=pd.DataFrame(scaler.fit_transform(df_new))"
   ]
  },
  {
   "cell_type": "code",
   "execution_count": 44,
   "id": "27f0f0ee",
   "metadata": {},
   "outputs": [
    {
     "data": {
      "text/html": [
       "<div>\n",
       "<style scoped>\n",
       "    .dataframe tbody tr th:only-of-type {\n",
       "        vertical-align: middle;\n",
       "    }\n",
       "\n",
       "    .dataframe tbody tr th {\n",
       "        vertical-align: top;\n",
       "    }\n",
       "\n",
       "    .dataframe thead th {\n",
       "        text-align: right;\n",
       "    }\n",
       "</style>\n",
       "<table border=\"1\" class=\"dataframe\">\n",
       "  <thead>\n",
       "    <tr style=\"text-align: right;\">\n",
       "      <th></th>\n",
       "      <th>0</th>\n",
       "      <th>1</th>\n",
       "      <th>2</th>\n",
       "      <th>3</th>\n",
       "      <th>4</th>\n",
       "      <th>5</th>\n",
       "      <th>6</th>\n",
       "      <th>7</th>\n",
       "      <th>8</th>\n",
       "    </tr>\n",
       "  </thead>\n",
       "  <tbody>\n",
       "    <tr>\n",
       "      <th>0</th>\n",
       "      <td>0.700259</td>\n",
       "      <td>1.174908</td>\n",
       "      <td>-0.004597</td>\n",
       "      <td>1.486966</td>\n",
       "      <td>0.188179</td>\n",
       "      <td>0.390670</td>\n",
       "      <td>0.787576</td>\n",
       "      <td>1.534930</td>\n",
       "      <td>1.586658</td>\n",
       "    </tr>\n",
       "    <tr>\n",
       "      <th>1</th>\n",
       "      <td>-1.226926</td>\n",
       "      <td>-1.024956</td>\n",
       "      <td>-0.511414</td>\n",
       "      <td>0.673797</td>\n",
       "      <td>0.188179</td>\n",
       "      <td>-0.714395</td>\n",
       "      <td>-0.246545</td>\n",
       "      <td>-0.136026</td>\n",
       "      <td>-0.630256</td>\n",
       "    </tr>\n",
       "    <tr>\n",
       "      <th>2</th>\n",
       "      <td>1.471133</td>\n",
       "      <td>2.397054</td>\n",
       "      <td>-0.680353</td>\n",
       "      <td>-0.473251</td>\n",
       "      <td>0.188179</td>\n",
       "      <td>-1.235355</td>\n",
       "      <td>0.956182</td>\n",
       "      <td>-0.048081</td>\n",
       "      <td>1.586658</td>\n",
       "    </tr>\n",
       "    <tr>\n",
       "      <th>3</th>\n",
       "      <td>-1.226926</td>\n",
       "      <td>-0.885282</td>\n",
       "      <td>-0.511414</td>\n",
       "      <td>-0.139372</td>\n",
       "      <td>1.196139</td>\n",
       "      <td>-0.477596</td>\n",
       "      <td>-0.935958</td>\n",
       "      <td>-1.015477</td>\n",
       "      <td>-0.630256</td>\n",
       "    </tr>\n",
       "    <tr>\n",
       "      <th>4</th>\n",
       "      <td>0.314822</td>\n",
       "      <td>0.057517</td>\n",
       "      <td>0.164342</td>\n",
       "      <td>-0.473251</td>\n",
       "      <td>0.188179</td>\n",
       "      <td>-0.872262</td>\n",
       "      <td>-0.808567</td>\n",
       "      <td>-0.223971</td>\n",
       "      <td>-0.630256</td>\n",
       "    </tr>\n",
       "    <tr>\n",
       "      <th>...</th>\n",
       "      <td>...</td>\n",
       "      <td>...</td>\n",
       "      <td>...</td>\n",
       "      <td>...</td>\n",
       "      <td>...</td>\n",
       "      <td>...</td>\n",
       "      <td>...</td>\n",
       "      <td>...</td>\n",
       "      <td>...</td>\n",
       "    </tr>\n",
       "    <tr>\n",
       "      <th>498</th>\n",
       "      <td>1.856570</td>\n",
       "      <td>-0.885282</td>\n",
       "      <td>-0.849292</td>\n",
       "      <td>-0.473251</td>\n",
       "      <td>0.188179</td>\n",
       "      <td>-1.361648</td>\n",
       "      <td>-1.029629</td>\n",
       "      <td>0.039864</td>\n",
       "      <td>-0.630256</td>\n",
       "    </tr>\n",
       "    <tr>\n",
       "      <th>499</th>\n",
       "      <td>-0.841489</td>\n",
       "      <td>0.267027</td>\n",
       "      <td>-0.173536</td>\n",
       "      <td>0.402741</td>\n",
       "      <td>0.188179</td>\n",
       "      <td>0.895842</td>\n",
       "      <td>-0.287760</td>\n",
       "      <td>-0.487807</td>\n",
       "      <td>-0.630256</td>\n",
       "    </tr>\n",
       "    <tr>\n",
       "      <th>500</th>\n",
       "      <td>0.314822</td>\n",
       "      <td>0.232109</td>\n",
       "      <td>-0.004597</td>\n",
       "      <td>-0.139372</td>\n",
       "      <td>2.473788</td>\n",
       "      <td>-0.777542</td>\n",
       "      <td>-0.643707</td>\n",
       "      <td>-0.223971</td>\n",
       "      <td>-0.630256</td>\n",
       "    </tr>\n",
       "    <tr>\n",
       "      <th>501</th>\n",
       "      <td>-1.226926</td>\n",
       "      <td>0.406701</td>\n",
       "      <td>-1.018231</td>\n",
       "      <td>-0.473251</td>\n",
       "      <td>0.188179</td>\n",
       "      <td>-0.161863</td>\n",
       "      <td>-0.254038</td>\n",
       "      <td>1.271095</td>\n",
       "      <td>1.586658</td>\n",
       "    </tr>\n",
       "    <tr>\n",
       "      <th>502</th>\n",
       "      <td>-1.226926</td>\n",
       "      <td>-0.745608</td>\n",
       "      <td>-0.173536</td>\n",
       "      <td>0.944853</td>\n",
       "      <td>0.188179</td>\n",
       "      <td>-0.114503</td>\n",
       "      <td>-0.381430</td>\n",
       "      <td>-0.839587</td>\n",
       "      <td>-0.630256</td>\n",
       "    </tr>\n",
       "  </tbody>\n",
       "</table>\n",
       "<p>503 rows × 9 columns</p>\n",
       "</div>"
      ],
      "text/plain": [
       "            0         1         2         3         4         5         6  \\\n",
       "0    0.700259  1.174908 -0.004597  1.486966  0.188179  0.390670  0.787576   \n",
       "1   -1.226926 -1.024956 -0.511414  0.673797  0.188179 -0.714395 -0.246545   \n",
       "2    1.471133  2.397054 -0.680353 -0.473251  0.188179 -1.235355  0.956182   \n",
       "3   -1.226926 -0.885282 -0.511414 -0.139372  1.196139 -0.477596 -0.935958   \n",
       "4    0.314822  0.057517  0.164342 -0.473251  0.188179 -0.872262 -0.808567   \n",
       "..        ...       ...       ...       ...       ...       ...       ...   \n",
       "498  1.856570 -0.885282 -0.849292 -0.473251  0.188179 -1.361648 -1.029629   \n",
       "499 -0.841489  0.267027 -0.173536  0.402741  0.188179  0.895842 -0.287760   \n",
       "500  0.314822  0.232109 -0.004597 -0.139372  2.473788 -0.777542 -0.643707   \n",
       "501 -1.226926  0.406701 -1.018231 -0.473251  0.188179 -0.161863 -0.254038   \n",
       "502 -1.226926 -0.745608 -0.173536  0.944853  0.188179 -0.114503 -0.381430   \n",
       "\n",
       "            7         8  \n",
       "0    1.534930  1.586658  \n",
       "1   -0.136026 -0.630256  \n",
       "2   -0.048081  1.586658  \n",
       "3   -1.015477 -0.630256  \n",
       "4   -0.223971 -0.630256  \n",
       "..        ...       ...  \n",
       "498  0.039864 -0.630256  \n",
       "499 -0.487807 -0.630256  \n",
       "500 -0.223971 -0.630256  \n",
       "501  1.271095  1.586658  \n",
       "502 -0.839587 -0.630256  \n",
       "\n",
       "[503 rows x 9 columns]"
      ]
     },
     "execution_count": 44,
     "metadata": {},
     "output_type": "execute_result"
    }
   ],
   "source": [
    "df_new_scalar"
   ]
  },
  {
   "cell_type": "code",
   "execution_count": 45,
   "id": "d5ba36d8",
   "metadata": {},
   "outputs": [
    {
     "data": {
      "text/plain": [
       "<AxesSubplot:>"
      ]
     },
     "execution_count": 45,
     "metadata": {},
     "output_type": "execute_result"
    },
    {
     "data": {
      "image/png": "[encoded data removed]",
      "text/plain": [
       "<Figure size 1080x720 with 1 Axes>"
      ]
     },
     "metadata": {
      "needs_background": "light"
     },
     "output_type": "display_data"
    }
   ],
   "source": [
    "fig=plt.subplots(figsize=(15,10))\n",
    "sns.boxplot(data=df_new_scalar)"
   ]
  },
  {
   "cell_type": "code",
   "execution_count": 46,
   "id": "3e7278d0",
   "metadata": {},
   "outputs": [
    {
     "data": {
      "text/plain": [
       "array([[ 0.70025902,  1.17490758, -0.00459712, ...,  0.39066983,\n",
       "         0.78757553,  1.53493025],\n",
       "       [-1.22692647, -1.0249557 , -0.51141404, ..., -0.71439537,\n",
       "        -0.24654474, -0.1360264 ],\n",
       "       [ 1.47113322,  2.39705385, -0.68035302, ..., -1.23535468,\n",
       "         0.9561821 , -0.04808131],\n",
       "       ...,\n",
       "       [ 0.31482192,  0.23210903, -0.00459712, ..., -0.77754196,\n",
       "        -0.64370687, -0.22397148],\n",
       "       [-1.22692647,  0.40670135, -1.01823097, ..., -0.16186277,\n",
       "        -0.25403836,  1.27109499],\n",
       "       [-1.22692647, -0.74560799, -0.1735361 , ..., -0.11450283,\n",
       "        -0.38142999, -0.83958709]])"
      ]
     },
     "execution_count": 46,
     "metadata": {},
     "output_type": "execute_result"
    }
   ],
   "source": [
    "x_scaled"
   ]
  },
  {
   "cell_type": "code",
   "execution_count": 47,
   "id": "ba774a59",
   "metadata": {},
   "outputs": [
    {
     "data": {
      "text/plain": [
       "0      1\n",
       "1      0\n",
       "2      1\n",
       "3      0\n",
       "5      0\n",
       "      ..\n",
       "762    0\n",
       "764    0\n",
       "765    0\n",
       "766    1\n",
       "767    0\n",
       "Name: Outcome, Length: 503, dtype: int64"
      ]
     },
     "execution_count": 47,
     "metadata": {},
     "output_type": "execute_result"
    }
   ],
   "source": [
    "y"
   ]
  },
  {
   "cell_type": "code",
   "execution_count": 48,
   "id": "96d472d5",
   "metadata": {},
   "outputs": [],
   "source": [
    "def vif_score(x):\n",
    "    scaler=StandardScaler()\n",
    "    arr=scaler.fit_transform(x)\n",
    "    return pd.DataFrame([[x.columns[i], variance_inflation_factor(arr,i)] for i in range(arr.shape[1])],columns=[\"Feature\",\"VIF_score\"])"
   ]
  },
  {
   "cell_type": "code",
   "execution_count": 49,
   "id": "686fc0ce",
   "metadata": {},
   "outputs": [
    {
     "data": {
      "text/html": [
       "<div>\n",
       "<style scoped>\n",
       "    .dataframe tbody tr th:only-of-type {\n",
       "        vertical-align: middle;\n",
       "    }\n",
       "\n",
       "    .dataframe tbody tr th {\n",
       "        vertical-align: top;\n",
       "    }\n",
       "\n",
       "    .dataframe thead th {\n",
       "        text-align: right;\n",
       "    }\n",
       "</style>\n",
       "<table border=\"1\" class=\"dataframe\">\n",
       "  <thead>\n",
       "    <tr style=\"text-align: right;\">\n",
       "      <th></th>\n",
       "      <th>Feature</th>\n",
       "      <th>VIF_score</th>\n",
       "    </tr>\n",
       "  </thead>\n",
       "  <tbody>\n",
       "    <tr>\n",
       "      <th>0</th>\n",
       "      <td>Pregnancies</td>\n",
       "      <td>1.370030</td>\n",
       "    </tr>\n",
       "    <tr>\n",
       "      <th>1</th>\n",
       "      <td>Glucose</td>\n",
       "      <td>1.225930</td>\n",
       "    </tr>\n",
       "    <tr>\n",
       "      <th>2</th>\n",
       "      <td>BloodPressure</td>\n",
       "      <td>1.261380</td>\n",
       "    </tr>\n",
       "    <tr>\n",
       "      <th>3</th>\n",
       "      <td>SkinThickness</td>\n",
       "      <td>1.310765</td>\n",
       "    </tr>\n",
       "    <tr>\n",
       "      <th>4</th>\n",
       "      <td>Insulin</td>\n",
       "      <td>1.081452</td>\n",
       "    </tr>\n",
       "    <tr>\n",
       "      <th>5</th>\n",
       "      <td>BMI</td>\n",
       "      <td>1.414910</td>\n",
       "    </tr>\n",
       "    <tr>\n",
       "      <th>6</th>\n",
       "      <td>DiabetesPedigreeFunction</td>\n",
       "      <td>1.016504</td>\n",
       "    </tr>\n",
       "    <tr>\n",
       "      <th>7</th>\n",
       "      <td>Age</td>\n",
       "      <td>1.533772</td>\n",
       "    </tr>\n",
       "  </tbody>\n",
       "</table>\n",
       "</div>"
      ],
      "text/plain": [
       "                    Feature  VIF_score\n",
       "0               Pregnancies   1.370030\n",
       "1                   Glucose   1.225930\n",
       "2             BloodPressure   1.261380\n",
       "3             SkinThickness   1.310765\n",
       "4                   Insulin   1.081452\n",
       "5                       BMI   1.414910\n",
       "6  DiabetesPedigreeFunction   1.016504\n",
       "7                       Age   1.533772"
      ]
     },
     "execution_count": 49,
     "metadata": {},
     "output_type": "execute_result"
    }
   ],
   "source": [
    "vif_score(x)"
   ]
  },
  {
   "cell_type": "code",
   "execution_count": 50,
   "id": "7c333de0",
   "metadata": {},
   "outputs": [
    {
     "data": {
      "text/plain": [
       "[array([[-1.22692647, -0.46626027, -1.86292584, ..., -1.09327487,\n",
       "          0.40914746, -0.57575183],\n",
       "        [ 0.70025902, -1.0249557 ,  0.5022198 , ...,  0.01179033,\n",
       "         -0.13039355,  0.83136956],\n",
       "        [-1.22692647, -0.39642334,  0.67115877, ..., -1.85103387,\n",
       "          0.27800902, -0.92753218],\n",
       "        ...,\n",
       "        [-0.13033785, -0.46626027, -0.84929199, ..., -1.45636772,\n",
       "         -0.30274693, -0.66369692],\n",
       "        [-0.84148937, -0.5360972 , -1.69398686, ..., -1.03012829,\n",
       "          0.82504366, -1.01547726],\n",
       "        [-0.84148937, -0.5360972 , -0.24909669, ..., -1.40900779,\n",
       "         -1.15702019, -0.83958709]]),\n",
       " array([[-1.30337852e-01, -2.56749478e-01,  3.33280827e-01,\n",
       "         -4.73251055e-01,  1.88178567e-01,  2.23770738e+00,\n",
       "          1.00863748e+00, -7.51642004e-01],\n",
       "        [ 3.14821922e-01, -1.02495570e+00,  1.64341852e-01,\n",
       "         -2.74899987e-01,  1.88178567e-01, -3.35515874e-01,\n",
       "          3.02442264e+00, -4.80813099e-02],\n",
       "        [ 3.14821922e-01,  7.90804467e-01,  3.03630441e+00,\n",
       "         -4.73251055e-01,  1.88178567e-01,  2.79023998e+00,\n",
       "         -7.11149497e-01,  3.91644124e-01],\n",
       "        [ 3.14821922e-01, -1.17075619e-01, -4.59712169e-03,\n",
       "          5.38268801e-01,  1.88178567e-01, -1.14063481e+00,\n",
       "         -3.67232326e-02, -4.87806744e-01],\n",
       "        [-8.41489374e-01, -9.55118775e-01, -1.18716994e+00,\n",
       "         -1.08806878e+00, -1.78504296e+00,  2.48590019e-01,\n",
       "         -9.39705064e-01, -6.63696918e-01],\n",
       "        [ 3.14821922e-01, -2.91667943e-01,  8.40097749e-01,\n",
       "          8.09325063e-01,  1.88178567e-01,  1.32208193e+00,\n",
       "         -4.90087555e-01,  4.79589211e-01],\n",
       "        [-1.22692647e+00, -1.17075619e-01,  1.17797570e+00,\n",
       "         -6.81484381e-01,  1.88178567e-01, -1.61862771e-01,\n",
       "         -1.02588175e+00, -8.39587091e-01],\n",
       "        [-1.22692647e+00, -9.55118775e-01, -3.42475070e-01,\n",
       "          1.35143759e+00, -1.05299239e-02,  1.02213566e+00,\n",
       "         -5.92041081e-02, -7.51642004e-01],\n",
       "        [-1.22692647e+00, -3.96423337e-01, -3.55231558e+00,\n",
       "          1.89355011e+00,  4.15353205e-01,  1.92197447e+00,\n",
       "         -8.76009250e-01,  3.98637769e-02],\n",
       "        [ 3.14821922e-01,  4.06701354e-01,  5.02219801e-01,\n",
       "          4.02740669e-01, -3.91445861e+00, -2.40796000e-01,\n",
       "          8.31747699e-02,  6.55479385e-01],\n",
       "        [-4.56052275e-01, -8.50363380e-01,  5.02219801e-01,\n",
       "         -4.73251055e-01,  1.88178567e-01,  1.82725459e+00,\n",
       "          5.32792279e-01, -1.01547726e+00],\n",
       "        [-7.06151767e-02,  1.10507065e+00,  5.02219801e-01,\n",
       "         -4.73251055e-01,  1.88178567e-01,  1.16421547e+00,\n",
       "          3.86666589e-01,  3.02999673e+00],\n",
       "        [-4.56052275e-01, -4.72386889e-02, -1.86292584e+00,\n",
       "         -1.90123756e+00,  5.57314248e-01, -2.56582646e-01,\n",
       "          7.83828722e-01, -6.63696918e-01],\n",
       "        [-8.41489374e-01, -1.05987417e+00, -2.49096692e-01,\n",
       "         -4.73251055e-01,  1.88178567e-01,  1.36911833e-01,\n",
       "         -4.22644928e-01, -1.01547726e+00],\n",
       "        [-4.56052275e-01,  8.60641397e-01, -1.52504789e+00,\n",
       "         -4.73251055e-01,  1.88178567e-01, -8.72261830e-01,\n",
       "         -5.54572955e-02, -9.27532178e-01],\n",
       "        [-7.06151767e-02, -1.23202241e-02, -5.95883531e-01,\n",
       "         -4.73251055e-01,  1.88178567e-01, -1.45636772e+00,\n",
       "          5.69470818e-02,  3.91644124e-01],\n",
       "        [ 3.14821922e-01,  5.75167056e-02,  1.64341852e-01,\n",
       "          6.73796932e-01,  1.88178567e-01,  1.85443436e-01,\n",
       "          9.11220350e-01,  2.15753951e-01],\n",
       "        [ 7.00259020e-01, -7.80526451e-01,  1.68479262e+00,\n",
       "         -4.73251055e-01,  1.88178567e-01, -1.77210064e+00,\n",
       "         -8.57275187e-01, -3.99861657e-01],\n",
       "        [-1.30337852e-01, -3.26586408e-01,  1.00903672e+00,\n",
       "         -4.73251055e-01,  1.88178567e-01, -5.09168978e-01,\n",
       "          1.21471217e+00,  2.59027129e+00],\n",
       "        [-1.22692647e+00,  2.28426223e-01, -2.03186481e+00,\n",
       "         -5.45956250e-01,  1.88178567e-01, -1.01434164e+00,\n",
       "         -1.03712219e+00, -9.27532178e-01],\n",
       "        [-7.06151767e-02,  1.27966298e+00,  1.51585365e+00,\n",
       "          1.89355011e+00,  1.88178567e-01, -2.25009354e-01,\n",
       "         -4.60113054e-01,  3.03699037e-01],\n",
       "        [ 3.14821922e-01, -3.96423337e-01,  3.03630441e+00,\n",
       "          1.75802198e+00,  1.88178567e-01,  1.27472199e+00,\n",
       "         -4.18898116e-01,  2.85410655e+00],\n",
       "        [-8.41489374e-01, -6.75771056e-01, -1.52504789e+00,\n",
       "         -1.35912504e+00,  7.70255813e-01, -7.93328601e-01,\n",
       "          1.24093986e+00, -9.27532178e-01],\n",
       "        [-8.41489374e-01,  1.97190565e-01,  3.33280827e-01,\n",
       "          1.75802198e+00,  1.97692468e+00,  1.35365522e+00,\n",
       "         -7.56111248e-01, -3.11916570e-01],\n",
       "        [-7.06151767e-02,  1.03523372e+00,  8.40097749e-01,\n",
       "          1.08038133e+00,  1.88178567e-01,  1.16421547e+00,\n",
       "          5.14058216e-01,  3.91644124e-01],\n",
       "        [-8.41489374e-01, -1.16462956e+00, -1.01823097e+00,\n",
       "         -2.74899987e-01,  1.88178567e-01, -5.40742269e-01,\n",
       "         -4.75100304e-01, -6.63696918e-01],\n",
       "        [-1.22692647e+00,  2.28426223e-01, -3.42475070e-01,\n",
       "          1.48696572e+00,  1.88178567e-01,  1.38083498e-01,\n",
       "         -1.04165859e-01, -9.27532178e-01],\n",
       "        [-8.41489374e-01, -5.01178732e-01, -6.80353018e-01,\n",
       "         -1.39371856e-01,  1.88178567e-01, -2.25009354e-01,\n",
       "         -1.82848923e-01, -1.01547726e+00],\n",
       "        [-7.06151767e-02, -7.80526451e-01,  6.71158775e-01,\n",
       "         -4.73251055e-01,  1.88178567e-01,  1.74832137e+00,\n",
       "         -6.73681371e-01, -3.11916570e-01],\n",
       "        [-7.06151767e-02,  6.16212143e-01, -2.49096692e-01,\n",
       "         -4.73251055e-01,  1.88178567e-01,  2.80163310e-01,\n",
       "         -4.30138553e-01, -8.39587091e-01],\n",
       "        [-1.22692647e+00, -1.16462956e+00,  1.64341852e-01,\n",
       "          2.30013451e+00, -1.43014035e+00,  2.39557384e+00,\n",
       "          2.54483063e+00, -4.80813099e-02],\n",
       "        [-1.30337852e-01, -5.01178732e-01, -1.73536096e-01,\n",
       "          2.67212538e-01, -1.92700400e+00, -5.13562507e-02,\n",
       "          6.75171157e-01, -1.01547726e+00],\n",
       "        [-1.30337852e-01, -3.61504873e-01,  3.33280827e-01,\n",
       "         -4.73251055e-01,  1.88178567e-01, -2.00890032e+00,\n",
       "          6.18968969e-01, -4.87806744e-01],\n",
       "        [-4.56052275e-01, -5.01178732e-01, -3.42475070e-01,\n",
       "         -1.39371856e-01,  2.73392162e-01,  7.49369153e-02,\n",
       "          1.99404918e+00, -3.99861657e-01],\n",
       "        [-4.56052275e-01, -2.91667943e-01, -4.59712169e-03,\n",
       "         -4.73251055e-01,  1.88178567e-01, -8.40688538e-01,\n",
       "         -7.86085748e-01, -4.87806744e-01],\n",
       "        [-1.30337852e-01,  3.01945960e-01,  1.34691467e+00,\n",
       "          1.75802198e+00,  1.88178567e-01,  6.43256162e-01,\n",
       "         -8.23553874e-01, -3.11916570e-01],\n",
       "        [-1.22692647e+00, -9.55118775e-01, -1.01823097e+00,\n",
       "          1.75802198e+00, -1.52490967e-01,  9.58989077e-01,\n",
       "          3.45451650e-01, -9.27532178e-01],\n",
       "        [-4.56052275e-01, -1.17075619e-01, -1.35610891e+00,\n",
       "          2.02907825e+00,  1.88178567e-01, -1.61862771e-01,\n",
       "          5.25298654e-01, -2.23971483e-01],\n",
       "        [-1.22692647e+00,  1.10507065e+00, -1.35610891e+00,\n",
       "         -4.73251055e-01,  1.88178567e-01, -2.25009354e-01,\n",
       "          5.51526342e-01, -3.11916570e-01],\n",
       "        [ 7.00259020e-01,  2.81607543e+00, -1.73536096e-01,\n",
       "         -4.73251055e-01,  1.88178567e-01, -3.55696050e-02,\n",
       "         -3.32721426e-01, -1.36026397e-01],\n",
       "        [-8.41489374e-01,  2.11770613e+00,  1.34691467e+00,\n",
       "         -4.73251055e-01,  1.88178567e-01, -1.29850127e+00,\n",
       "         -3.40215051e-01, -9.27532178e-01],\n",
       "        [ 2.24200741e+00,  2.25737999e+00, -1.73536096e-01,\n",
       "         -4.73251055e-01,  1.88178567e-01,  6.27469517e-01,\n",
       "         -8.12313436e-01,  3.91644124e-01],\n",
       "        [-1.30337852e-01, -4.31341802e-01,  1.17797570e+00,\n",
       "         -9.52540644e-01,  1.97692468e+00, -2.88155937e-01,\n",
       "          1.04235879e+00, -4.87806744e-01],\n",
       "        [ 1.85657032e+00, -8.15444916e-01, -3.42475070e-01,\n",
       "         -4.73251055e-01,  1.88178567e-01, -1.09327487e+00,\n",
       "         -8.12313436e-01,  2.23849095e+00],\n",
       "        [-1.30337852e-01, -4.66260267e-01, -5.95883531e-01,\n",
       "          5.38268801e-01,  1.88178567e-01, -1.03012829e+00,\n",
       "         -6.73681371e-01, -9.27532178e-01],\n",
       "        [-7.06151767e-02, -1.09479263e+00,  1.17797570e+00,\n",
       "         -6.81484381e-01,  1.88178567e-01, -2.88155937e-01,\n",
       "         -3.73936365e-01,  1.27808864e-01],\n",
       "        [-7.06151767e-02,  1.45425530e+00,  2.48811340e-01,\n",
       "         -4.73251055e-01,  1.88178567e-01,  2.71130676e+00,\n",
       "         -6.69934558e-01, -4.80813099e-02],\n",
       "        [-4.56052275e-01, -1.17075619e-01, -1.18716994e+00,\n",
       "          9.44853195e-01, -2.35288713e+00, -2.56582646e-01,\n",
       "          4.94534567e-02, -9.27532178e-01],\n",
       "        [-8.41489374e-01, -1.51381421e+00, -1.73536096e-01,\n",
       "          4.02740669e-01,  1.88178567e-01, -4.93382332e-01,\n",
       "          6.33956219e-01, -9.27532178e-01],\n",
       "        [ 7.00259020e-01,  3.71782889e-01,  5.02219801e-01,\n",
       "          9.44853195e-01,  1.88178567e-01, -5.56528915e-01,\n",
       "          5.55273155e-01,  1.44698517e+00],\n",
       "        [ 3.14821922e-01,  1.80343995e+00,  3.33280827e-01,\n",
       "         -4.73251055e-01,  1.88178567e-01,  2.30085397e+00,\n",
       "         -2.87759675e-01, -4.87806744e-01],\n",
       "        [ 7.00259020e-01, -3.96423337e-01, -5.11414044e-01,\n",
       "         -4.73251055e-01,  1.88178567e-01, -1.07748822e+00,\n",
       "         -6.28719620e-01, -3.11916570e-01],\n",
       "        [ 2.24200741e+00,  1.66376609e+00,  1.00903672e+00,\n",
       "         -4.73251055e-01,  1.88178567e-01, -5.40742269e-01,\n",
       "         -8.79756063e-01,  1.88671060e+00],\n",
       "        [-1.22692647e+00, -8.15444916e-01, -6.80353018e-01,\n",
       "         -3.84372465e-03,  1.88178567e-01, -3.03942583e-01,\n",
       "         -8.42287937e-01, -1.01547726e+00],\n",
       "        [-4.56052275e-01, -1.86299886e+00,  8.40097749e-01,\n",
       "          5.38268801e-01,  1.88178567e-01,  5.16962996e-01,\n",
       "         -6.51200495e-01,  1.18314991e+00],\n",
       "        [ 2.24200741e+00, -8.50363380e-01,  1.09350621e+00,\n",
       "          1.08038133e+00,  1.88178567e-01,  5.95896225e-01,\n",
       "          1.52944443e+00,  2.06260077e+00],\n",
       "        [-1.22692647e+00,  4.06701354e-01, -1.01823097e+00,\n",
       "         -4.73251055e-01,  1.88178567e-01, -1.61862771e-01,\n",
       "         -2.54038362e-01,  1.27109499e+00],\n",
       "        [ 1.08569612e+00,  2.85099389e+00,  1.51585365e+00,\n",
       "         -4.73251055e-01,  1.88178567e-01,  1.36944187e+00,\n",
       "          1.28136521e-01,  7.43424471e-01],\n",
       "        [-8.41489374e-01, -7.10689521e-01,  3.33280827e-01,\n",
       "         -8.17012513e-01, -7.91315661e-01,  7.49369153e-02,\n",
       "          8.70005411e-01, -8.39587091e-01],\n",
       "        [-1.30337852e-01, -1.05987417e+00, -6.80353018e-01,\n",
       "         -2.74899987e-01, -7.91315661e-01,  7.37976037e-01,\n",
       "          4.80336903e-01, -1.01547726e+00],\n",
       "        [-1.22692647e+00, -8.15444916e-01, -1.52504789e+00,\n",
       "          1.31684407e-01,  1.62202207e+00, -9.35408413e-01,\n",
       "         -6.84921809e-01, -8.39587091e-01],\n",
       "        [ 7.00259020e-01, -1.86912548e-01, -1.01823097e+00,\n",
       "          4.02740669e-01,  1.88178567e-01, -9.66981704e-01,\n",
       "         -7.89832561e-01, -4.87806744e-01],\n",
       "        [-1.22692647e+00, -7.80526451e-01, -8.49291992e-01,\n",
       "          1.31684407e-01, -2.56582870e+00, -1.83524722e+00,\n",
       "          2.44287711e-01, -6.63696918e-01],\n",
       "        [ 2.24200741e+00, -7.80526451e-01, -8.49291992e-01,\n",
       "         -4.73251055e-01,  1.88178567e-01, -8.24901893e-01,\n",
       "         -9.35958251e-01, -1.36026397e-01],\n",
       "        [ 2.24200741e+00, -1.17075619e-01, -1.73536096e-01,\n",
       "          4.02740669e-01,  1.88178567e-01, -5.72315561e-01,\n",
       "         -1.03337538e+00,  6.55479385e-01],\n",
       "        [ 2.24200741e+00,  6.51130608e-01, -3.42475070e-01,\n",
       "         -4.73251055e-01,  1.88178567e-01, -6.51248789e-01,\n",
       "         -6.43706870e-01,  3.03699037e-01],\n",
       "        [ 7.00259020e-01, -1.23202241e-02,  1.34691467e+00,\n",
       "         -4.73251055e-01,  1.88178567e-01, -5.24955623e-01,\n",
       "         -6.36213245e-01,  2.94205164e+00],\n",
       "        [-1.22692647e+00, -5.36097197e-01, -4.59712169e-03,\n",
       "          8.09325063e-01, -4.19838069e+00,  1.18000212e+00,\n",
       "         -1.79891697e-02, -1.01547726e+00],\n",
       "        [-1.22692647e+00, -1.51381421e+00, -8.49291992e-01,\n",
       "         -4.73251055e-01,  1.88178567e-01, -1.47215437e+00,\n",
       "         -3.00191942e-03, -5.75751831e-01],\n",
       "        [-7.06151767e-02,  9.65396792e-01,  1.17797570e+00,\n",
       "         -4.73251055e-01,  1.88178567e-01,  2.03248099e+00,\n",
       "          8.55018161e-01, -9.27532178e-01],\n",
       "        [-1.22692647e+00,  7.20967538e-01, -1.52504789e+00,\n",
       "         -4.73251055e-01,  1.88178567e-01, -6.98608727e-01,\n",
       "          1.01238429e+00,  2.59027129e+00],\n",
       "        [-1.30337852e-01, -3.26586408e-01,  1.51585365e+00,\n",
       "         -4.73251055e-01,  1.88178567e-01, -2.40796000e-01,\n",
       "         -8.23553874e-01,  1.18314991e+00],\n",
       "        [ 1.08569612e+00,  2.22246153e+00,  1.00903672e+00,\n",
       "         -4.73251055e-01,  1.88178567e-01,  1.38522851e+00,\n",
       "         -3.21480989e-01,  7.43424471e-01],\n",
       "        [-4.56052275e-01,  1.24474451e+00,  3.33280827e-01,\n",
       "         -4.73251055e-01,  1.88178567e-01, -1.59844753e+00,\n",
       "         -7.86085748e-01,  3.91644124e-01],\n",
       "        [-8.41489374e-01, -1.40905882e+00, -2.49096692e-01,\n",
       "         -4.73251055e-01,  1.88178567e-01,  1.36911833e-01,\n",
       "         -1.17950107e+00, -9.27532178e-01],\n",
       "        [-1.22692647e+00, -1.23446649e+00,  2.48811340e-01,\n",
       "          8.09325063e-01,  1.88178567e-01,  1.38083498e-01,\n",
       "         -7.79381710e-02, -9.27532178e-01],\n",
       "        [-7.06151767e-02,  9.24351705e-02, -8.49291992e-01,\n",
       "         -1.63018130e+00,  1.88178567e-01, -2.25009354e-01,\n",
       "         -1.37887172e-01, -2.23971483e-01],\n",
       "        [-1.22692647e+00, -2.56749478e-01, -1.86292584e+00,\n",
       "         -6.81484381e-01,  1.88178567e-01, -4.46022395e-01,\n",
       "         -8.83502875e-01, -3.11916570e-01],\n",
       "        [-1.22692647e+00, -1.16462956e+00, -4.59712169e-03,\n",
       "         -8.17012513e-01, -2.63680922e+00, -7.14395372e-01,\n",
       "         -5.01327992e-01, -7.51642004e-01],\n",
       "        [-1.30337852e-01, -1.17075619e-01, -5.95883531e-01,\n",
       "         -4.73251055e-01,  1.88178567e-01, -1.03012829e+00,\n",
       "          9.11220350e-01, -1.36026397e-01],\n",
       "        [-1.22692647e+00, -5.01178732e-01,  1.64341852e-01,\n",
       "         -1.63018130e+00, -2.21092609e+00, -1.83524722e+00,\n",
       "         -1.00340088e+00, -3.99861657e-01],\n",
       "        [ 1.85657032e+00,  1.45425530e+00,  1.17797570e+00,\n",
       "         -4.73251055e-01,  1.88178567e-01, -9.98554996e-01,\n",
       "         -6.99909059e-01,  1.79876551e+00],\n",
       "        [-1.22692647e+00, -2.21831013e-01,  1.34691467e+00,\n",
       "         -6.81484381e-01,  1.88178567e-01, -6.35462144e-01,\n",
       "         -6.29509207e-02, -7.51642004e-01],\n",
       "        [ 1.08569612e+00,  7.90804467e-01,  1.51585365e+00,\n",
       "          2.30013451e+00,  1.88178567e-01,  1.38083498e-01,\n",
       "         -9.66722339e-02,  5.67534298e-01],\n",
       "        [ 2.24200741e+00, -1.61856961e+00,  2.86736544e+00,\n",
       "         -1.39371856e-01, -1.99798453e+00,  6.90616100e-01,\n",
       "         -4.93834367e-01,  1.27109499e+00],\n",
       "        [-1.22692647e+00,  1.87327688e+00,  1.34691467e+00,\n",
       "          6.73796932e-01,  1.88178567e-01,  6.11682871e-01,\n",
       "          1.82918943e+00,  1.71082043e+00],\n",
       "        [-4.56052275e-01,  1.66376609e+00, -1.69398686e+00,\n",
       "          1.89355011e+00,  1.88178567e-01,  9.58989077e-01,\n",
       "          8.81245849e-01, -7.51642004e-01],\n",
       "        [ 1.08569612e+00,  7.55886003e-01,  1.51585365e+00,\n",
       "         -4.73251055e-01,  1.88178567e-01, -1.93436063e-01,\n",
       "         -7.74845311e-01,  1.53493025e+00],\n",
       "        [-7.06151767e-02,  2.60656464e+00,  3.20524339e+00,\n",
       "          9.44853195e-01,  1.88178567e-01, -4.14449103e-01,\n",
       "          9.86156601e-01,  3.91644124e-01],\n",
       "        [ 1.08569612e+00, -5.01178732e-01, -2.49096692e-01,\n",
       "         -4.73251055e-01,  1.88178567e-01, -1.77649417e-01,\n",
       "          2.51781336e-01, -4.80813099e-02],\n",
       "        [-1.22692647e+00, -8.85281845e-01, -4.05913250e+00,\n",
       "         -6.81484381e-01, -3.70151704e+00, -5.24955623e-01,\n",
       "          5.32792279e-01, -1.01547726e+00],\n",
       "        [ 3.14821922e-01, -1.44397728e+00, -1.01823097e+00,\n",
       "         -4.73251055e-01,  1.88178567e-01, -6.82822081e-01,\n",
       "         -5.57530181e-01, -4.87806744e-01],\n",
       "        [ 1.85657032e+00,  5.46375214e-01, -1.73536096e-01,\n",
       "         -4.73251055e-01,  1.88178567e-01,  4.85389705e-01,\n",
       "          8.81245849e-01,  1.09520482e+00],\n",
       "        [-1.30337852e-01, -6.75771056e-01, -6.80353018e-01,\n",
       "          2.02907825e+00,  1.97692468e+00,  2.12720086e+00,\n",
       "         -1.90342548e-01, -9.27532178e-01],\n",
       "        [ 1.47113322e+00, -1.51994083e-01,  3.33280827e-01,\n",
       "         -4.73251055e-01,  1.88178567e-01, -5.24955623e-01,\n",
       "         -6.73681371e-01,  2.23849095e+00],\n",
       "        [ 1.08569612e+00, -1.23202241e-02,  3.33280827e-01,\n",
       "         -9.52540644e-01,  2.33182729e+00, -1.15642145e+00,\n",
       "          1.84338709e-01, -1.36026397e-01],\n",
       "        [-1.22692647e+00, -5.01178732e-01, -4.59712169e-03,\n",
       "         -1.63018130e+00, -5.07393574e-01, -9.19621767e-01,\n",
       "          9.03726725e-01, -3.99861657e-01],\n",
       "        [ 1.08569612e+00,  6.51130608e-01,  1.00903672e+00,\n",
       "         -4.73251055e-01,  1.88178567e-01,  1.43258845e+00,\n",
       "          1.04610560e+00,  3.91644124e-01],\n",
       "        [ 3.14821922e-01, -6.40852591e-01,  1.64341852e-01,\n",
       "         -8.17012513e-01, -7.20335139e-01,  3.90669830e-01,\n",
       "          2.17389619e+00,  9.19314645e-01],\n",
       "        [-8.41489374e-01, -1.05987417e+00, -1.86292584e+00,\n",
       "         -1.39371856e-01, -8.15104454e-02, -1.14502834e-01,\n",
       "          2.06523862e+00, -1.01547726e+00],\n",
       "        [-1.30337852e-01, -8.15444916e-01,  6.71158775e-01,\n",
       "         -4.73251055e-01,  1.88178567e-01,  2.01230081e-01,\n",
       "          6.90158408e-01, -4.87806744e-01]]),\n",
       " 51     0\n",
       " 176    0\n",
       " 50     0\n",
       " 475    0\n",
       " 69     0\n",
       "       ..\n",
       " 449    0\n",
       " 484    1\n",
       " 407    0\n",
       " 156    0\n",
       " 430    0\n",
       " Name: Outcome, Length: 402, dtype: int64,\n",
       " 531    0\n",
       " 218    1\n",
       " 84     1\n",
       " 205    0\n",
       " 331    0\n",
       "       ..\n",
       " 446    0\n",
       " 41     0\n",
       " 265    0\n",
       " 508    0\n",
       " 564    0\n",
       " Name: Outcome, Length: 101, dtype: int64]"
      ]
     },
     "execution_count": 50,
     "metadata": {},
     "output_type": "execute_result"
    }
   ],
   "source": [
    "train_test_split(x_scaled,y,test_size=0.2,random_state=200)"
   ]
  },
  {
   "cell_type": "code",
   "execution_count": 51,
   "id": "e8d8657c",
   "metadata": {},
   "outputs": [],
   "source": [
    "x_train,x_test,y_train,y_test=train_test_split(x_scaled,y,test_size=0.2,random_state=200)"
   ]
  },
  {
   "cell_type": "code",
   "execution_count": 52,
   "id": "364a61bc",
   "metadata": {},
   "outputs": [
    {
     "data": {
      "text/plain": [
       "array([[-1.22692647, -0.46626027, -1.86292584, ..., -1.09327487,\n",
       "         0.40914746, -0.57575183],\n",
       "       [ 0.70025902, -1.0249557 ,  0.5022198 , ...,  0.01179033,\n",
       "        -0.13039355,  0.83136956],\n",
       "       [-1.22692647, -0.39642334,  0.67115877, ..., -1.85103387,\n",
       "         0.27800902, -0.92753218],\n",
       "       ...,\n",
       "       [-0.13033785, -0.46626027, -0.84929199, ..., -1.45636772,\n",
       "        -0.30274693, -0.66369692],\n",
       "       [-0.84148937, -0.5360972 , -1.69398686, ..., -1.03012829,\n",
       "         0.82504366, -1.01547726],\n",
       "       [-0.84148937, -0.5360972 , -0.24909669, ..., -1.40900779,\n",
       "        -1.15702019, -0.83958709]])"
      ]
     },
     "execution_count": 52,
     "metadata": {},
     "output_type": "execute_result"
    }
   ],
   "source": [
    "x_train"
   ]
  },
  {
   "cell_type": "code",
   "execution_count": 53,
   "id": "8f778f35",
   "metadata": {},
   "outputs": [
    {
     "data": {
      "text/plain": [
       "array([[-1.30337852e-01, -2.56749478e-01,  3.33280827e-01,\n",
       "        -4.73251055e-01,  1.88178567e-01,  2.23770738e+00,\n",
       "         1.00863748e+00, -7.51642004e-01],\n",
       "       [ 3.14821922e-01, -1.02495570e+00,  1.64341852e-01,\n",
       "        -2.74899987e-01,  1.88178567e-01, -3.35515874e-01,\n",
       "         3.02442264e+00, -4.80813099e-02],\n",
       "       [ 3.14821922e-01,  7.90804467e-01,  3.03630441e+00,\n",
       "        -4.73251055e-01,  1.88178567e-01,  2.79023998e+00,\n",
       "        -7.11149497e-01,  3.91644124e-01],\n",
       "       [ 3.14821922e-01, -1.17075619e-01, -4.59712169e-03,\n",
       "         5.38268801e-01,  1.88178567e-01, -1.14063481e+00,\n",
       "        -3.67232326e-02, -4.87806744e-01],\n",
       "       [-8.41489374e-01, -9.55118775e-01, -1.18716994e+00,\n",
       "        -1.08806878e+00, -1.78504296e+00,  2.48590019e-01,\n",
       "        -9.39705064e-01, -6.63696918e-01],\n",
       "       [ 3.14821922e-01, -2.91667943e-01,  8.40097749e-01,\n",
       "         8.09325063e-01,  1.88178567e-01,  1.32208193e+00,\n",
       "        -4.90087555e-01,  4.79589211e-01],\n",
       "       [-1.22692647e+00, -1.17075619e-01,  1.17797570e+00,\n",
       "        -6.81484381e-01,  1.88178567e-01, -1.61862771e-01,\n",
       "        -1.02588175e+00, -8.39587091e-01],\n",
       "       [-1.22692647e+00, -9.55118775e-01, -3.42475070e-01,\n",
       "         1.35143759e+00, -1.05299239e-02,  1.02213566e+00,\n",
       "        -5.92041081e-02, -7.51642004e-01],\n",
       "       [-1.22692647e+00, -3.96423337e-01, -3.55231558e+00,\n",
       "         1.89355011e+00,  4.15353205e-01,  1.92197447e+00,\n",
       "        -8.76009250e-01,  3.98637769e-02],\n",
       "       [ 3.14821922e-01,  4.06701354e-01,  5.02219801e-01,\n",
       "         4.02740669e-01, -3.91445861e+00, -2.40796000e-01,\n",
       "         8.31747699e-02,  6.55479385e-01],\n",
       "       [-4.56052275e-01, -8.50363380e-01,  5.02219801e-01,\n",
       "        -4.73251055e-01,  1.88178567e-01,  1.82725459e+00,\n",
       "         5.32792279e-01, -1.01547726e+00],\n",
       "       [-7.06151767e-02,  1.10507065e+00,  5.02219801e-01,\n",
       "        -4.73251055e-01,  1.88178567e-01,  1.16421547e+00,\n",
       "         3.86666589e-01,  3.02999673e+00],\n",
       "       [-4.56052275e-01, -4.72386889e-02, -1.86292584e+00,\n",
       "        -1.90123756e+00,  5.57314248e-01, -2.56582646e-01,\n",
       "         7.83828722e-01, -6.63696918e-01],\n",
       "       [-8.41489374e-01, -1.05987417e+00, -2.49096692e-01,\n",
       "        -4.73251055e-01,  1.88178567e-01,  1.36911833e-01,\n",
       "        -4.22644928e-01, -1.01547726e+00],\n",
       "       [-4.56052275e-01,  8.60641397e-01, -1.52504789e+00,\n",
       "        -4.73251055e-01,  1.88178567e-01, -8.72261830e-01,\n",
       "        -5.54572955e-02, -9.27532178e-01],\n",
       "       [-7.06151767e-02, -1.23202241e-02, -5.95883531e-01,\n",
       "        -4.73251055e-01,  1.88178567e-01, -1.45636772e+00,\n",
       "         5.69470818e-02,  3.91644124e-01],\n",
       "       [ 3.14821922e-01,  5.75167056e-02,  1.64341852e-01,\n",
       "         6.73796932e-01,  1.88178567e-01,  1.85443436e-01,\n",
       "         9.11220350e-01,  2.15753951e-01],\n",
       "       [ 7.00259020e-01, -7.80526451e-01,  1.68479262e+00,\n",
       "        -4.73251055e-01,  1.88178567e-01, -1.77210064e+00,\n",
       "        -8.57275187e-01, -3.99861657e-01],\n",
       "       [-1.30337852e-01, -3.26586408e-01,  1.00903672e+00,\n",
       "        -4.73251055e-01,  1.88178567e-01, -5.09168978e-01,\n",
       "         1.21471217e+00,  2.59027129e+00],\n",
       "       [-1.22692647e+00,  2.28426223e-01, -2.03186481e+00,\n",
       "        -5.45956250e-01,  1.88178567e-01, -1.01434164e+00,\n",
       "        -1.03712219e+00, -9.27532178e-01],\n",
       "       [-7.06151767e-02,  1.27966298e+00,  1.51585365e+00,\n",
       "         1.89355011e+00,  1.88178567e-01, -2.25009354e-01,\n",
       "        -4.60113054e-01,  3.03699037e-01],\n",
       "       [ 3.14821922e-01, -3.96423337e-01,  3.03630441e+00,\n",
       "         1.75802198e+00,  1.88178567e-01,  1.27472199e+00,\n",
       "        -4.18898116e-01,  2.85410655e+00],\n",
       "       [-8.41489374e-01, -6.75771056e-01, -1.52504789e+00,\n",
       "        -1.35912504e+00,  7.70255813e-01, -7.93328601e-01,\n",
       "         1.24093986e+00, -9.27532178e-01],\n",
       "       [-8.41489374e-01,  1.97190565e-01,  3.33280827e-01,\n",
       "         1.75802198e+00,  1.97692468e+00,  1.35365522e+00,\n",
       "        -7.56111248e-01, -3.11916570e-01],\n",
       "       [-7.06151767e-02,  1.03523372e+00,  8.40097749e-01,\n",
       "         1.08038133e+00,  1.88178567e-01,  1.16421547e+00,\n",
       "         5.14058216e-01,  3.91644124e-01],\n",
       "       [-8.41489374e-01, -1.16462956e+00, -1.01823097e+00,\n",
       "        -2.74899987e-01,  1.88178567e-01, -5.40742269e-01,\n",
       "        -4.75100304e-01, -6.63696918e-01],\n",
       "       [-1.22692647e+00,  2.28426223e-01, -3.42475070e-01,\n",
       "         1.48696572e+00,  1.88178567e-01,  1.38083498e-01,\n",
       "        -1.04165859e-01, -9.27532178e-01],\n",
       "       [-8.41489374e-01, -5.01178732e-01, -6.80353018e-01,\n",
       "        -1.39371856e-01,  1.88178567e-01, -2.25009354e-01,\n",
       "        -1.82848923e-01, -1.01547726e+00],\n",
       "       [-7.06151767e-02, -7.80526451e-01,  6.71158775e-01,\n",
       "        -4.73251055e-01,  1.88178567e-01,  1.74832137e+00,\n",
       "        -6.73681371e-01, -3.11916570e-01],\n",
       "       [-7.06151767e-02,  6.16212143e-01, -2.49096692e-01,\n",
       "        -4.73251055e-01,  1.88178567e-01,  2.80163310e-01,\n",
       "        -4.30138553e-01, -8.39587091e-01],\n",
       "       [-1.22692647e+00, -1.16462956e+00,  1.64341852e-01,\n",
       "         2.30013451e+00, -1.43014035e+00,  2.39557384e+00,\n",
       "         2.54483063e+00, -4.80813099e-02],\n",
       "       [-1.30337852e-01, -5.01178732e-01, -1.73536096e-01,\n",
       "         2.67212538e-01, -1.92700400e+00, -5.13562507e-02,\n",
       "         6.75171157e-01, -1.01547726e+00],\n",
       "       [-1.30337852e-01, -3.61504873e-01,  3.33280827e-01,\n",
       "        -4.73251055e-01,  1.88178567e-01, -2.00890032e+00,\n",
       "         6.18968969e-01, -4.87806744e-01],\n",
       "       [-4.56052275e-01, -5.01178732e-01, -3.42475070e-01,\n",
       "        -1.39371856e-01,  2.73392162e-01,  7.49369153e-02,\n",
       "         1.99404918e+00, -3.99861657e-01],\n",
       "       [-4.56052275e-01, -2.91667943e-01, -4.59712169e-03,\n",
       "        -4.73251055e-01,  1.88178567e-01, -8.40688538e-01,\n",
       "        -7.86085748e-01, -4.87806744e-01],\n",
       "       [-1.30337852e-01,  3.01945960e-01,  1.34691467e+00,\n",
       "         1.75802198e+00,  1.88178567e-01,  6.43256162e-01,\n",
       "        -8.23553874e-01, -3.11916570e-01],\n",
       "       [-1.22692647e+00, -9.55118775e-01, -1.01823097e+00,\n",
       "         1.75802198e+00, -1.52490967e-01,  9.58989077e-01,\n",
       "         3.45451650e-01, -9.27532178e-01],\n",
       "       [-4.56052275e-01, -1.17075619e-01, -1.35610891e+00,\n",
       "         2.02907825e+00,  1.88178567e-01, -1.61862771e-01,\n",
       "         5.25298654e-01, -2.23971483e-01],\n",
       "       [-1.22692647e+00,  1.10507065e+00, -1.35610891e+00,\n",
       "        -4.73251055e-01,  1.88178567e-01, -2.25009354e-01,\n",
       "         5.51526342e-01, -3.11916570e-01],\n",
       "       [ 7.00259020e-01,  2.81607543e+00, -1.73536096e-01,\n",
       "        -4.73251055e-01,  1.88178567e-01, -3.55696050e-02,\n",
       "        -3.32721426e-01, -1.36026397e-01],\n",
       "       [-8.41489374e-01,  2.11770613e+00,  1.34691467e+00,\n",
       "        -4.73251055e-01,  1.88178567e-01, -1.29850127e+00,\n",
       "        -3.40215051e-01, -9.27532178e-01],\n",
       "       [ 2.24200741e+00,  2.25737999e+00, -1.73536096e-01,\n",
       "        -4.73251055e-01,  1.88178567e-01,  6.27469517e-01,\n",
       "        -8.12313436e-01,  3.91644124e-01],\n",
       "       [-1.30337852e-01, -4.31341802e-01,  1.17797570e+00,\n",
       "        -9.52540644e-01,  1.97692468e+00, -2.88155937e-01,\n",
       "         1.04235879e+00, -4.87806744e-01],\n",
       "       [ 1.85657032e+00, -8.15444916e-01, -3.42475070e-01,\n",
       "        -4.73251055e-01,  1.88178567e-01, -1.09327487e+00,\n",
       "        -8.12313436e-01,  2.23849095e+00],\n",
       "       [-1.30337852e-01, -4.66260267e-01, -5.95883531e-01,\n",
       "         5.38268801e-01,  1.88178567e-01, -1.03012829e+00,\n",
       "        -6.73681371e-01, -9.27532178e-01],\n",
       "       [-7.06151767e-02, -1.09479263e+00,  1.17797570e+00,\n",
       "        -6.81484381e-01,  1.88178567e-01, -2.88155937e-01,\n",
       "        -3.73936365e-01,  1.27808864e-01],\n",
       "       [-7.06151767e-02,  1.45425530e+00,  2.48811340e-01,\n",
       "        -4.73251055e-01,  1.88178567e-01,  2.71130676e+00,\n",
       "        -6.69934558e-01, -4.80813099e-02],\n",
       "       [-4.56052275e-01, -1.17075619e-01, -1.18716994e+00,\n",
       "         9.44853195e-01, -2.35288713e+00, -2.56582646e-01,\n",
       "         4.94534567e-02, -9.27532178e-01],\n",
       "       [-8.41489374e-01, -1.51381421e+00, -1.73536096e-01,\n",
       "         4.02740669e-01,  1.88178567e-01, -4.93382332e-01,\n",
       "         6.33956219e-01, -9.27532178e-01],\n",
       "       [ 7.00259020e-01,  3.71782889e-01,  5.02219801e-01,\n",
       "         9.44853195e-01,  1.88178567e-01, -5.56528915e-01,\n",
       "         5.55273155e-01,  1.44698517e+00],\n",
       "       [ 3.14821922e-01,  1.80343995e+00,  3.33280827e-01,\n",
       "        -4.73251055e-01,  1.88178567e-01,  2.30085397e+00,\n",
       "        -2.87759675e-01, -4.87806744e-01],\n",
       "       [ 7.00259020e-01, -3.96423337e-01, -5.11414044e-01,\n",
       "        -4.73251055e-01,  1.88178567e-01, -1.07748822e+00,\n",
       "        -6.28719620e-01, -3.11916570e-01],\n",
       "       [ 2.24200741e+00,  1.66376609e+00,  1.00903672e+00,\n",
       "        -4.73251055e-01,  1.88178567e-01, -5.40742269e-01,\n",
       "        -8.79756063e-01,  1.88671060e+00],\n",
       "       [-1.22692647e+00, -8.15444916e-01, -6.80353018e-01,\n",
       "        -3.84372465e-03,  1.88178567e-01, -3.03942583e-01,\n",
       "        -8.42287937e-01, -1.01547726e+00],\n",
       "       [-4.56052275e-01, -1.86299886e+00,  8.40097749e-01,\n",
       "         5.38268801e-01,  1.88178567e-01,  5.16962996e-01,\n",
       "        -6.51200495e-01,  1.18314991e+00],\n",
       "       [ 2.24200741e+00, -8.50363380e-01,  1.09350621e+00,\n",
       "         1.08038133e+00,  1.88178567e-01,  5.95896225e-01,\n",
       "         1.52944443e+00,  2.06260077e+00],\n",
       "       [-1.22692647e+00,  4.06701354e-01, -1.01823097e+00,\n",
       "        -4.73251055e-01,  1.88178567e-01, -1.61862771e-01,\n",
       "        -2.54038362e-01,  1.27109499e+00],\n",
       "       [ 1.08569612e+00,  2.85099389e+00,  1.51585365e+00,\n",
       "        -4.73251055e-01,  1.88178567e-01,  1.36944187e+00,\n",
       "         1.28136521e-01,  7.43424471e-01],\n",
       "       [-8.41489374e-01, -7.10689521e-01,  3.33280827e-01,\n",
       "        -8.17012513e-01, -7.91315661e-01,  7.49369153e-02,\n",
       "         8.70005411e-01, -8.39587091e-01],\n",
       "       [-1.30337852e-01, -1.05987417e+00, -6.80353018e-01,\n",
       "        -2.74899987e-01, -7.91315661e-01,  7.37976037e-01,\n",
       "         4.80336903e-01, -1.01547726e+00],\n",
       "       [-1.22692647e+00, -8.15444916e-01, -1.52504789e+00,\n",
       "         1.31684407e-01,  1.62202207e+00, -9.35408413e-01,\n",
       "        -6.84921809e-01, -8.39587091e-01],\n",
       "       [ 7.00259020e-01, -1.86912548e-01, -1.01823097e+00,\n",
       "         4.02740669e-01,  1.88178567e-01, -9.66981704e-01,\n",
       "        -7.89832561e-01, -4.87806744e-01],\n",
       "       [-1.22692647e+00, -7.80526451e-01, -8.49291992e-01,\n",
       "         1.31684407e-01, -2.56582870e+00, -1.83524722e+00,\n",
       "         2.44287711e-01, -6.63696918e-01],\n",
       "       [ 2.24200741e+00, -7.80526451e-01, -8.49291992e-01,\n",
       "        -4.73251055e-01,  1.88178567e-01, -8.24901893e-01,\n",
       "        -9.35958251e-01, -1.36026397e-01],\n",
       "       [ 2.24200741e+00, -1.17075619e-01, -1.73536096e-01,\n",
       "         4.02740669e-01,  1.88178567e-01, -5.72315561e-01,\n",
       "        -1.03337538e+00,  6.55479385e-01],\n",
       "       [ 2.24200741e+00,  6.51130608e-01, -3.42475070e-01,\n",
       "        -4.73251055e-01,  1.88178567e-01, -6.51248789e-01,\n",
       "        -6.43706870e-01,  3.03699037e-01],\n",
       "       [ 7.00259020e-01, -1.23202241e-02,  1.34691467e+00,\n",
       "        -4.73251055e-01,  1.88178567e-01, -5.24955623e-01,\n",
       "        -6.36213245e-01,  2.94205164e+00],\n",
       "       [-1.22692647e+00, -5.36097197e-01, -4.59712169e-03,\n",
       "         8.09325063e-01, -4.19838069e+00,  1.18000212e+00,\n",
       "        -1.79891697e-02, -1.01547726e+00],\n",
       "       [-1.22692647e+00, -1.51381421e+00, -8.49291992e-01,\n",
       "        -4.73251055e-01,  1.88178567e-01, -1.47215437e+00,\n",
       "        -3.00191942e-03, -5.75751831e-01],\n",
       "       [-7.06151767e-02,  9.65396792e-01,  1.17797570e+00,\n",
       "        -4.73251055e-01,  1.88178567e-01,  2.03248099e+00,\n",
       "         8.55018161e-01, -9.27532178e-01],\n",
       "       [-1.22692647e+00,  7.20967538e-01, -1.52504789e+00,\n",
       "        -4.73251055e-01,  1.88178567e-01, -6.98608727e-01,\n",
       "         1.01238429e+00,  2.59027129e+00],\n",
       "       [-1.30337852e-01, -3.26586408e-01,  1.51585365e+00,\n",
       "        -4.73251055e-01,  1.88178567e-01, -2.40796000e-01,\n",
       "        -8.23553874e-01,  1.18314991e+00],\n",
       "       [ 1.08569612e+00,  2.22246153e+00,  1.00903672e+00,\n",
       "        -4.73251055e-01,  1.88178567e-01,  1.38522851e+00,\n",
       "        -3.21480989e-01,  7.43424471e-01],\n",
       "       [-4.56052275e-01,  1.24474451e+00,  3.33280827e-01,\n",
       "        -4.73251055e-01,  1.88178567e-01, -1.59844753e+00,\n",
       "        -7.86085748e-01,  3.91644124e-01],\n",
       "       [-8.41489374e-01, -1.40905882e+00, -2.49096692e-01,\n",
       "        -4.73251055e-01,  1.88178567e-01,  1.36911833e-01,\n",
       "        -1.17950107e+00, -9.27532178e-01],\n",
       "       [-1.22692647e+00, -1.23446649e+00,  2.48811340e-01,\n",
       "         8.09325063e-01,  1.88178567e-01,  1.38083498e-01,\n",
       "        -7.79381710e-02, -9.27532178e-01],\n",
       "       [-7.06151767e-02,  9.24351705e-02, -8.49291992e-01,\n",
       "        -1.63018130e+00,  1.88178567e-01, -2.25009354e-01,\n",
       "        -1.37887172e-01, -2.23971483e-01],\n",
       "       [-1.22692647e+00, -2.56749478e-01, -1.86292584e+00,\n",
       "        -6.81484381e-01,  1.88178567e-01, -4.46022395e-01,\n",
       "        -8.83502875e-01, -3.11916570e-01],\n",
       "       [-1.22692647e+00, -1.16462956e+00, -4.59712169e-03,\n",
       "        -8.17012513e-01, -2.63680922e+00, -7.14395372e-01,\n",
       "        -5.01327992e-01, -7.51642004e-01],\n",
       "       [-1.30337852e-01, -1.17075619e-01, -5.95883531e-01,\n",
       "        -4.73251055e-01,  1.88178567e-01, -1.03012829e+00,\n",
       "         9.11220350e-01, -1.36026397e-01],\n",
       "       [-1.22692647e+00, -5.01178732e-01,  1.64341852e-01,\n",
       "        -1.63018130e+00, -2.21092609e+00, -1.83524722e+00,\n",
       "        -1.00340088e+00, -3.99861657e-01],\n",
       "       [ 1.85657032e+00,  1.45425530e+00,  1.17797570e+00,\n",
       "        -4.73251055e-01,  1.88178567e-01, -9.98554996e-01,\n",
       "        -6.99909059e-01,  1.79876551e+00],\n",
       "       [-1.22692647e+00, -2.21831013e-01,  1.34691467e+00,\n",
       "        -6.81484381e-01,  1.88178567e-01, -6.35462144e-01,\n",
       "        -6.29509207e-02, -7.51642004e-01],\n",
       "       [ 1.08569612e+00,  7.90804467e-01,  1.51585365e+00,\n",
       "         2.30013451e+00,  1.88178567e-01,  1.38083498e-01,\n",
       "        -9.66722339e-02,  5.67534298e-01],\n",
       "       [ 2.24200741e+00, -1.61856961e+00,  2.86736544e+00,\n",
       "        -1.39371856e-01, -1.99798453e+00,  6.90616100e-01,\n",
       "        -4.93834367e-01,  1.27109499e+00],\n",
       "       [-1.22692647e+00,  1.87327688e+00,  1.34691467e+00,\n",
       "         6.73796932e-01,  1.88178567e-01,  6.11682871e-01,\n",
       "         1.82918943e+00,  1.71082043e+00],\n",
       "       [-4.56052275e-01,  1.66376609e+00, -1.69398686e+00,\n",
       "         1.89355011e+00,  1.88178567e-01,  9.58989077e-01,\n",
       "         8.81245849e-01, -7.51642004e-01],\n",
       "       [ 1.08569612e+00,  7.55886003e-01,  1.51585365e+00,\n",
       "        -4.73251055e-01,  1.88178567e-01, -1.93436063e-01,\n",
       "        -7.74845311e-01,  1.53493025e+00],\n",
       "       [-7.06151767e-02,  2.60656464e+00,  3.20524339e+00,\n",
       "         9.44853195e-01,  1.88178567e-01, -4.14449103e-01,\n",
       "         9.86156601e-01,  3.91644124e-01],\n",
       "       [ 1.08569612e+00, -5.01178732e-01, -2.49096692e-01,\n",
       "        -4.73251055e-01,  1.88178567e-01, -1.77649417e-01,\n",
       "         2.51781336e-01, -4.80813099e-02],\n",
       "       [-1.22692647e+00, -8.85281845e-01, -4.05913250e+00,\n",
       "        -6.81484381e-01, -3.70151704e+00, -5.24955623e-01,\n",
       "         5.32792279e-01, -1.01547726e+00],\n",
       "       [ 3.14821922e-01, -1.44397728e+00, -1.01823097e+00,\n",
       "        -4.73251055e-01,  1.88178567e-01, -6.82822081e-01,\n",
       "        -5.57530181e-01, -4.87806744e-01],\n",
       "       [ 1.85657032e+00,  5.46375214e-01, -1.73536096e-01,\n",
       "        -4.73251055e-01,  1.88178567e-01,  4.85389705e-01,\n",
       "         8.81245849e-01,  1.09520482e+00],\n",
       "       [-1.30337852e-01, -6.75771056e-01, -6.80353018e-01,\n",
       "         2.02907825e+00,  1.97692468e+00,  2.12720086e+00,\n",
       "        -1.90342548e-01, -9.27532178e-01],\n",
       "       [ 1.47113322e+00, -1.51994083e-01,  3.33280827e-01,\n",
       "        -4.73251055e-01,  1.88178567e-01, -5.24955623e-01,\n",
       "        -6.73681371e-01,  2.23849095e+00],\n",
       "       [ 1.08569612e+00, -1.23202241e-02,  3.33280827e-01,\n",
       "        -9.52540644e-01,  2.33182729e+00, -1.15642145e+00,\n",
       "         1.84338709e-01, -1.36026397e-01],\n",
       "       [-1.22692647e+00, -5.01178732e-01, -4.59712169e-03,\n",
       "        -1.63018130e+00, -5.07393574e-01, -9.19621767e-01,\n",
       "         9.03726725e-01, -3.99861657e-01],\n",
       "       [ 1.08569612e+00,  6.51130608e-01,  1.00903672e+00,\n",
       "        -4.73251055e-01,  1.88178567e-01,  1.43258845e+00,\n",
       "         1.04610560e+00,  3.91644124e-01],\n",
       "       [ 3.14821922e-01, -6.40852591e-01,  1.64341852e-01,\n",
       "        -8.17012513e-01, -7.20335139e-01,  3.90669830e-01,\n",
       "         2.17389619e+00,  9.19314645e-01],\n",
       "       [-8.41489374e-01, -1.05987417e+00, -1.86292584e+00,\n",
       "        -1.39371856e-01, -8.15104454e-02, -1.14502834e-01,\n",
       "         2.06523862e+00, -1.01547726e+00],\n",
       "       [-1.30337852e-01, -8.15444916e-01,  6.71158775e-01,\n",
       "        -4.73251055e-01,  1.88178567e-01,  2.01230081e-01,\n",
       "         6.90158408e-01, -4.87806744e-01]])"
      ]
     },
     "execution_count": 53,
     "metadata": {},
     "output_type": "execute_result"
    }
   ],
   "source": [
    "x_test"
   ]
  },
  {
   "cell_type": "code",
   "execution_count": 54,
   "id": "a4103175",
   "metadata": {},
   "outputs": [],
   "source": [
    "logr=LogisticRegression(verbose=1)"
   ]
  },
  {
   "cell_type": "code",
   "execution_count": 55,
   "id": "e2f2b66c",
   "metadata": {},
   "outputs": [
    {
     "name": "stderr",
     "output_type": "stream",
     "text": [
      "[Parallel(n_jobs=1)]: Using backend SequentialBackend with 1 concurrent workers.\n",
      "[Parallel(n_jobs=1)]: Done   1 out of   1 | elapsed:    0.0s finished\n"
     ]
    },
    {
     "data": {
      "text/plain": [
       "LogisticRegression(verbose=1)"
      ]
     },
     "execution_count": 55,
     "metadata": {},
     "output_type": "execute_result"
    }
   ],
   "source": [
    "logr.fit(x_train,y_train)"
   ]
  },
  {
   "cell_type": "code",
   "execution_count": 56,
   "id": "73396688",
   "metadata": {},
   "outputs": [
    {
     "data": {
      "text/plain": [
       "array([1, 0, 1, 0, 0, 0, 0, 0, 0, 0, 0, 1, 0, 0, 0, 0, 0, 0, 0, 0, 0, 0,\n",
       "       0, 0, 1, 0, 0, 0, 0, 0, 0, 0, 0, 0, 0, 0, 0, 0, 0, 1, 0, 1, 0, 0,\n",
       "       0, 0, 1, 0, 0, 0, 1, 0, 1, 0, 0, 0, 0, 1, 0, 0, 0, 0, 0, 0, 0, 0,\n",
       "       0, 0, 0, 1, 0, 0, 1, 0, 0, 0, 0, 0, 0, 0, 0, 1, 0, 1, 0, 1, 1, 0,\n",
       "       1, 0, 0, 0, 1, 0, 0, 0, 0, 1, 0, 0, 0], dtype=int64)"
      ]
     },
     "execution_count": 56,
     "metadata": {},
     "output_type": "execute_result"
    }
   ],
   "source": [
    "logr.predict(x_test)"
   ]
  },
  {
   "cell_type": "code",
   "execution_count": 57,
   "id": "312a6bdf",
   "metadata": {},
   "outputs": [
    {
     "data": {
      "text/plain": [
       "array([-0.13033785, -0.25674948,  0.33328083, -0.47325105,  0.18817857,\n",
       "        2.23770738,  1.00863748, -0.751642  ])"
      ]
     },
     "execution_count": 57,
     "metadata": {},
     "output_type": "execute_result"
    }
   ],
   "source": [
    "x_test[0]"
   ]
  },
  {
   "cell_type": "code",
   "execution_count": 58,
   "id": "a3ff7310",
   "metadata": {},
   "outputs": [
    {
     "data": {
      "text/plain": [
       "array([1], dtype=int64)"
      ]
     },
     "execution_count": 58,
     "metadata": {},
     "output_type": "execute_result"
    }
   ],
   "source": [
    "logr.predict([x_test[0]])"
   ]
  },
  {
   "cell_type": "code",
   "execution_count": 59,
   "id": "7b5709ed",
   "metadata": {},
   "outputs": [
    {
     "data": {
      "text/plain": [
       "array([[0.40136812, 0.59863188]])"
      ]
     },
     "execution_count": 59,
     "metadata": {},
     "output_type": "execute_result"
    }
   ],
   "source": [
    "logr.predict_proba([x_test[0]])"
   ]
  },
  {
   "cell_type": "code",
   "execution_count": 60,
   "id": "67896951",
   "metadata": {},
   "outputs": [
    {
     "data": {
      "text/plain": [
       "531    0\n",
       "218    1\n",
       "84     1\n",
       "205    0\n",
       "331    0\n",
       "      ..\n",
       "446    0\n",
       "41     0\n",
       "265    0\n",
       "508    0\n",
       "564    0\n",
       "Name: Outcome, Length: 101, dtype: int64"
      ]
     },
     "execution_count": 60,
     "metadata": {},
     "output_type": "execute_result"
    }
   ],
   "source": [
    "y_test"
   ]
  },
  {
   "cell_type": "code",
   "execution_count": 61,
   "id": "99c53a24",
   "metadata": {},
   "outputs": [
    {
     "data": {
      "text/plain": [
       "0"
      ]
     },
     "execution_count": 61,
     "metadata": {},
     "output_type": "execute_result"
    }
   ],
   "source": [
    "y_test.iloc[0]"
   ]
  },
  {
   "cell_type": "code",
   "execution_count": 62,
   "id": "afe26f2c",
   "metadata": {},
   "outputs": [
    {
     "data": {
      "text/plain": [
       "array([0], dtype=int64)"
      ]
     },
     "execution_count": 62,
     "metadata": {},
     "output_type": "execute_result"
    }
   ],
   "source": [
    "logr.predict([x_test[1]])"
   ]
  },
  {
   "cell_type": "code",
   "execution_count": 63,
   "id": "f17f62bf",
   "metadata": {},
   "outputs": [
    {
     "data": {
      "text/plain": [
       "array([[0.78655987, 0.21344013]])"
      ]
     },
     "execution_count": 63,
     "metadata": {},
     "output_type": "execute_result"
    }
   ],
   "source": [
    "logr.predict_proba([x_test[1]])"
   ]
  },
  {
   "cell_type": "code",
   "execution_count": 64,
   "id": "0e59c36a",
   "metadata": {},
   "outputs": [
    {
     "data": {
      "text/plain": [
       "1"
      ]
     },
     "execution_count": 64,
     "metadata": {},
     "output_type": "execute_result"
    }
   ],
   "source": [
    "y_test.iloc[1]"
   ]
  },
  {
   "cell_type": "code",
   "execution_count": 65,
   "id": "25a43a6d",
   "metadata": {},
   "outputs": [
    {
     "data": {
      "text/plain": [
       "0.8316831683168316"
      ]
     },
     "execution_count": 65,
     "metadata": {},
     "output_type": "execute_result"
    }
   ],
   "source": [
    "logr.score(x_test,y_test)"
   ]
  },
  {
   "cell_type": "markdown",
   "id": "fecc419b",
   "metadata": {},
   "source": [
    "### using Solver = liblinear (L1+L2 Regularization)"
   ]
  },
  {
   "cell_type": "code",
   "execution_count": 66,
   "id": "3781217a",
   "metadata": {},
   "outputs": [],
   "source": [
    "logr_liblinear=LogisticRegression(verbose=1,solver=\"liblinear\")"
   ]
  },
  {
   "cell_type": "code",
   "execution_count": 67,
   "id": "207cada9",
   "metadata": {},
   "outputs": [
    {
     "name": "stdout",
     "output_type": "stream",
     "text": [
      "[LibLinear]"
     ]
    },
    {
     "data": {
      "text/plain": [
       "LogisticRegression(solver='liblinear', verbose=1)"
      ]
     },
     "execution_count": 67,
     "metadata": {},
     "output_type": "execute_result"
    }
   ],
   "source": [
    "logr_liblinear.fit(x_train,y_train)"
   ]
  },
  {
   "cell_type": "code",
   "execution_count": 68,
   "id": "09c58536",
   "metadata": {},
   "outputs": [
    {
     "data": {
      "text/plain": [
       "array([0], dtype=int64)"
      ]
     },
     "execution_count": 68,
     "metadata": {},
     "output_type": "execute_result"
    }
   ],
   "source": [
    "logr_liblinear.predict([x_train[0]])"
   ]
  },
  {
   "cell_type": "code",
   "execution_count": 69,
   "id": "2b9367b1",
   "metadata": {},
   "outputs": [
    {
     "data": {
      "text/plain": [
       "array([[0.939434, 0.060566]])"
      ]
     },
     "execution_count": 69,
     "metadata": {},
     "output_type": "execute_result"
    }
   ],
   "source": [
    "logr_liblinear.predict_proba([x_train[0]])"
   ]
  },
  {
   "cell_type": "code",
   "execution_count": 70,
   "id": "7fc1a18d",
   "metadata": {},
   "outputs": [
    {
     "data": {
      "text/plain": [
       "0"
      ]
     },
     "execution_count": 70,
     "metadata": {},
     "output_type": "execute_result"
    }
   ],
   "source": [
    "y_test.iloc[0]"
   ]
  },
  {
   "cell_type": "code",
   "execution_count": 71,
   "id": "78e81de7",
   "metadata": {},
   "outputs": [
    {
     "data": {
      "text/plain": [
       "0.8316831683168316"
      ]
     },
     "execution_count": 71,
     "metadata": {},
     "output_type": "execute_result"
    }
   ],
   "source": [
    "logr_liblinear.score(x_test,y_test)"
   ]
  },
  {
   "cell_type": "code",
   "execution_count": null,
   "id": "f575bb35",
   "metadata": {},
   "outputs": [],
   "source": []
  },
  {
   "cell_type": "code",
   "execution_count": 72,
   "id": "92e25520",
   "metadata": {},
   "outputs": [
    {
     "data": {
      "text/plain": [
       "0.8316831683168316"
      ]
     },
     "execution_count": 72,
     "metadata": {},
     "output_type": "execute_result"
    }
   ],
   "source": [
    "logr.score(x_test,y_test)"
   ]
  },
  {
   "cell_type": "code",
   "execution_count": 73,
   "id": "080e6f6d",
   "metadata": {},
   "outputs": [
    {
     "data": {
      "text/plain": [
       "array([1, 0, 1, 0, 0, 0, 0, 0, 0, 0, 0, 1, 0, 0, 0, 0, 0, 0, 0, 0, 0, 0,\n",
       "       0, 0, 1, 0, 0, 0, 0, 0, 0, 0, 0, 0, 0, 0, 0, 0, 0, 1, 0, 1, 0, 0,\n",
       "       0, 0, 1, 0, 0, 0, 1, 0, 1, 0, 0, 0, 0, 1, 0, 0, 0, 0, 0, 0, 0, 0,\n",
       "       0, 0, 0, 1, 0, 0, 1, 0, 0, 0, 0, 0, 0, 0, 0, 1, 0, 1, 0, 1, 1, 0,\n",
       "       1, 0, 0, 0, 1, 0, 0, 0, 0, 1, 0, 0, 0], dtype=int64)"
      ]
     },
     "execution_count": 73,
     "metadata": {},
     "output_type": "execute_result"
    }
   ],
   "source": [
    "y_pred_liblinear=logr_liblinear.predict(x_test)\n",
    "y_pred_liblinear"
   ]
  },
  {
   "cell_type": "code",
   "execution_count": 74,
   "id": "92461d1f",
   "metadata": {},
   "outputs": [
    {
     "data": {
      "text/plain": [
       "array([1, 0, 1, 0, 0, 0, 0, 0, 0, 0, 0, 1, 0, 0, 0, 0, 0, 0, 0, 0, 0, 0,\n",
       "       0, 0, 1, 0, 0, 0, 0, 0, 0, 0, 0, 0, 0, 0, 0, 0, 0, 1, 0, 1, 0, 0,\n",
       "       0, 0, 1, 0, 0, 0, 1, 0, 1, 0, 0, 0, 0, 1, 0, 0, 0, 0, 0, 0, 0, 0,\n",
       "       0, 0, 0, 1, 0, 0, 1, 0, 0, 0, 0, 0, 0, 0, 0, 1, 0, 1, 0, 1, 1, 0,\n",
       "       1, 0, 0, 0, 1, 0, 0, 0, 0, 1, 0, 0, 0], dtype=int64)"
      ]
     },
     "execution_count": 74,
     "metadata": {},
     "output_type": "execute_result"
    }
   ],
   "source": [
    "y_pred=logr.predict(x_test)\n",
    "y_pred"
   ]
  },
  {
   "cell_type": "code",
   "execution_count": 82,
   "id": "1a3047c6",
   "metadata": {},
   "outputs": [],
   "source": [
    "from sklearn.metrics import confusion_matrix,plot_confusion_matrix"
   ]
  },
  {
   "cell_type": "code",
   "execution_count": 75,
   "id": "738215f1",
   "metadata": {
    "scrolled": false
   },
   "outputs": [
    {
     "data": {
      "text/plain": [
       "array([[71,  6],\n",
       "       [11, 13]], dtype=int64)"
      ]
     },
     "execution_count": 75,
     "metadata": {},
     "output_type": "execute_result"
    }
   ],
   "source": [
    "# to draw confusion matrix\n",
    "confusion_matrix(y_test,y_pred_liblinear)"
   ]
  },
  {
   "cell_type": "code",
   "execution_count": 76,
   "id": "55b7ab50",
   "metadata": {},
   "outputs": [
    {
     "data": {
      "text/plain": [
       "array([[71,  6],\n",
       "       [11, 13]], dtype=int64)"
      ]
     },
     "execution_count": 76,
     "metadata": {},
     "output_type": "execute_result"
    }
   ],
   "source": [
    "confusion_matrix(y_test,y_pred)"
   ]
  },
  {
   "cell_type": "code",
   "execution_count": 83,
   "id": "cfc64387",
   "metadata": {},
   "outputs": [],
   "source": [
    "def model_eval(y_test,y_pred):\n",
    "    tn,fp,fn,tp=confusion_matrix(y_test,y_pred).ravel()\n",
    "    accuracy=(tp+tn)/(tp+tn+fp+fn)\n",
    "    precision=tp/(tp+fp)\n",
    "    recall=tp/(tp+fn)\n",
    "    specific=tn/(fp+tn)\n",
    "    result={\"Accuracy\":accuracy,\"Precision\":precision,\"recall\":recall,\"specific\":specific}\n",
    "    return result"
   ]
  },
  {
   "cell_type": "code",
   "execution_count": 84,
   "id": "01710d7f",
   "metadata": {},
   "outputs": [
    {
     "data": {
      "text/plain": [
       "{'Accuracy': 0.8316831683168316,\n",
       " 'Precision': 0.6842105263157895,\n",
       " 'recall': 0.5416666666666666,\n",
       " 'specific': 0.922077922077922}"
      ]
     },
     "execution_count": 84,
     "metadata": {},
     "output_type": "execute_result"
    }
   ],
   "source": [
    "model_eval(y_test,y_pred)"
   ]
  },
  {
   "cell_type": "code",
   "execution_count": 85,
   "id": "a1388ca5",
   "metadata": {},
   "outputs": [
    {
     "data": {
      "text/plain": [
       "{'Accuracy': 0.8316831683168316,\n",
       " 'Precision': 0.6842105263157895,\n",
       " 'recall': 0.5416666666666666,\n",
       " 'specific': 0.922077922077922}"
      ]
     },
     "execution_count": 85,
     "metadata": {},
     "output_type": "execute_result"
    }
   ],
   "source": [
    "model_eval(y_test,y_pred_liblinear)"
   ]
  },
  {
   "cell_type": "code",
   "execution_count": 80,
   "id": "5b4a5b13",
   "metadata": {},
   "outputs": [
    {
     "data": {
      "text/plain": [
       "531    0\n",
       "218    1\n",
       "84     1\n",
       "205    0\n",
       "331    0\n",
       "      ..\n",
       "446    0\n",
       "41     0\n",
       "265    0\n",
       "508    0\n",
       "564    0\n",
       "Name: Outcome, Length: 101, dtype: int64"
      ]
     },
     "execution_count": 80,
     "metadata": {},
     "output_type": "execute_result"
    }
   ],
   "source": [
    "y_test"
   ]
  },
  {
   "cell_type": "code",
   "execution_count": 81,
   "id": "647d9879",
   "metadata": {},
   "outputs": [
    {
     "data": {
      "text/plain": [
       "51     0\n",
       "176    0\n",
       "50     0\n",
       "475    0\n",
       "69     0\n",
       "      ..\n",
       "449    0\n",
       "484    1\n",
       "407    0\n",
       "156    0\n",
       "430    0\n",
       "Name: Outcome, Length: 402, dtype: int64"
      ]
     },
     "execution_count": 81,
     "metadata": {},
     "output_type": "execute_result"
    }
   ],
   "source": [
    "y_train"
   ]
  },
  {
   "cell_type": "code",
   "execution_count": 88,
   "id": "e2a77293",
   "metadata": {},
   "outputs": [
    {
     "data": {
      "image/png": "[encoded data removed]",
      "text/plain": [
       "<Figure size 432x288 with 2 Axes>"
      ]
     },
     "metadata": {
      "needs_background": "light"
     },
     "output_type": "display_data"
    }
   ],
   "source": [
    "from sklearn.metrics import confusion_matrix\n",
    "from sklearn.metrics import ConfusionMatrixDisplay\n",
    "\n",
    "y_pred = logr.predict(x_test)\n",
    "cm = confusion_matrix(y_test, y_pred)\n",
    "\n",
    "cm_display = ConfusionMatrixDisplay(cm).plot()"
   ]
  },
  {
   "cell_type": "code",
   "execution_count": 89,
   "id": "024ace07",
   "metadata": {},
   "outputs": [],
   "source": [
    "from sklearn.metrics import roc_curve, roc_auc_score"
   ]
  },
  {
   "cell_type": "code",
   "execution_count": 90,
   "id": "940dd10e",
   "metadata": {},
   "outputs": [
    {
     "data": {
      "text/plain": [
       "0.7318722943722943"
      ]
     },
     "execution_count": 90,
     "metadata": {},
     "output_type": "execute_result"
    }
   ],
   "source": [
    "roc_auc_score(y_test,y_pred)"
   ]
  },
  {
   "cell_type": "code",
   "execution_count": 91,
   "id": "34db4d4b",
   "metadata": {},
   "outputs": [
    {
     "data": {
      "text/plain": [
       "0.7318722943722943"
      ]
     },
     "execution_count": 91,
     "metadata": {},
     "output_type": "execute_result"
    }
   ],
   "source": [
    "roc_auc_score(y_test,y_pred_liblinear)"
   ]
  },
  {
   "cell_type": "code",
   "execution_count": 92,
   "id": "3e61d0ae",
   "metadata": {},
   "outputs": [
    {
     "data": {
      "text/plain": [
       "(array([0.        , 0.07792208, 1.        ]),\n",
       " array([0.        , 0.54166667, 1.        ]),\n",
       " array([2, 1, 0], dtype=int64))"
      ]
     },
     "execution_count": 92,
     "metadata": {},
     "output_type": "execute_result"
    }
   ],
   "source": [
    "roc_curve(y_test,y_pred)"
   ]
  },
  {
   "cell_type": "code",
   "execution_count": 93,
   "id": "7d9f8cba",
   "metadata": {},
   "outputs": [],
   "source": [
    "fpr,tpr,thresholds =roc_curve(y_test,y_pred_liblinear)"
   ]
  },
  {
   "cell_type": "code",
   "execution_count": 94,
   "id": "a33a747b",
   "metadata": {},
   "outputs": [
    {
     "data": {
      "text/plain": [
       "array([0.        , 0.07792208, 1.        ])"
      ]
     },
     "execution_count": 94,
     "metadata": {},
     "output_type": "execute_result"
    }
   ],
   "source": [
    "fpr"
   ]
  },
  {
   "cell_type": "code",
   "execution_count": 95,
   "id": "bcde711b",
   "metadata": {},
   "outputs": [
    {
     "data": {
      "text/plain": [
       "array([0.        , 0.54166667, 1.        ])"
      ]
     },
     "execution_count": 95,
     "metadata": {},
     "output_type": "execute_result"
    }
   ],
   "source": [
    "tpr"
   ]
  },
  {
   "cell_type": "code",
   "execution_count": 96,
   "id": "3e587a03",
   "metadata": {},
   "outputs": [
    {
     "data": {
      "text/plain": [
       "array([2, 1, 0], dtype=int64)"
      ]
     },
     "execution_count": 96,
     "metadata": {},
     "output_type": "execute_result"
    }
   ],
   "source": [
    "thresholds"
   ]
  },
  {
   "cell_type": "code",
   "execution_count": null,
   "id": "e55eacaf",
   "metadata": {},
   "outputs": [],
   "source": []
  }
 ],
 "metadata": {
  "kernelspec": {
   "display_name": "Python 3 (ipykernel)",
   "language": "python",
   "name": "python3"
  },
  "language_info": {
   "codemirror_mode": {
    "name": "ipython",
    "version": 3
   },
   "file_extension": ".py",
   "mimetype": "text/x-python",
   "name": "python",
   "nbconvert_exporter": "python",
   "pygments_lexer": "ipython3",
   "version": "3.9.12"
  }
 },
 "nbformat": 4,
 "nbformat_minor": 5
}
