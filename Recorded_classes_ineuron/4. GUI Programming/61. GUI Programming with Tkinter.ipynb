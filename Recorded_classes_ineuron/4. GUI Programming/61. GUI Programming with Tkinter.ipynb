{
 "cells": [
  {
   "cell_type": "code",
   "execution_count": 31,
   "id": "d0ad7927",
   "metadata": {},
   "outputs": [],
   "source": [
    "import tkinter  # (desktop application)\n",
    "tw = tkinter.Tk()\n",
    "tw.mainloop()"
   ]
  },
  {
   "cell_type": "code",
   "execution_count": 20,
   "id": "e5a33863",
   "metadata": {},
   "outputs": [],
   "source": [
    "import tkinter\n",
    "tw=tkinter.Tk()\n",
    "tw.title(\"Sumay GUI App\")\n",
    "tw.geometry(\"600x200+600+200\")\n",
    "tw.mainloop()"
   ]
  },
  {
   "cell_type": "code",
   "execution_count": 21,
   "id": "6f41b7db",
   "metadata": {},
   "outputs": [],
   "source": [
    "root=tkinter.Tk()\n",
    "root.geometry(\"600x200+600+200\")\n",
    "root.title(\"abcdefgh\")\n",
    "lbl=tkinter.Label(root,text=\"Python is an interprent language\",compound=tkinter.LEFT)\n",
    "lbl.pack()\n",
    "root.mainloop()"
   ]
  },
  {
   "cell_type": "code",
   "execution_count": 40,
   "id": "a5c4f8be",
   "metadata": {},
   "outputs": [],
   "source": [
    "import tkinter\n",
    "import tkinter.font as tkFont\n",
    "root=tkinter.Tk()\n",
    "root.geometry(\"400x400\")\n",
    "myfont=tkFont.Font(size=\"22\")\n",
    "root.title(\"Sumay GUI App\")\n",
    "lbl1=tkinter.Label(root,text=\"solid\",font=myfont,borderwidth=6,relief=\"solid\",width=5)\n",
    "lbl2=tkinter.Label(root,text=\"flat\",font=myfont,borderwidth=4,relief=\"flat\",width=5)\n",
    "lbl3=tkinter.Label(root,text=\"raised\",font=myfont,borderwidth=3,relief=\"raised\",width=15)\n",
    "lbl1.pack()\n",
    "lbl2.pack()\n",
    "lbl3.pack()\n",
    "root.mainloop()"
   ]
  },
  {
   "cell_type": "code",
   "execution_count": 41,
   "id": "4ae725d8",
   "metadata": {},
   "outputs": [],
   "source": [
    "from tkinter import *\n",
    "root = Tk()\n",
    "myfont=tkFont.Font(size=\"18\")\n",
    "root.geometry(\"200x200\")\n",
    "b1=Button(root,text=\"Click Me\",font=myfont)\n",
    "b2=Button(root,text=\"Just try\",font=\"16\")\n",
    "b1.pack()\n",
    "b2.pack()\n",
    "root.mainloop()"
   ]
  },
  {
   "cell_type": "code",
   "execution_count": 42,
   "id": "34e450cd",
   "metadata": {},
   "outputs": [],
   "source": [
    "from tkinter import *\n",
    "def showmsg():\n",
    "    l1=tkinter.Label(root, text = \"sumay\")\n",
    "    l1.pack()\n",
    "root=Tk()\n",
    "root.geometry(\"200x200\")\n",
    "b1 = Button(root,text=\"Click\",command = showmsg)\n",
    "b1.pack()\n",
    "root.mainloop()"
   ]
  },
  {
   "cell_type": "code",
   "execution_count": null,
   "id": "5e2e6c45",
   "metadata": {},
   "outputs": [],
   "source": [
    "# these are layouting----\n",
    "pack()    # will place horizontally \n",
    "place()   # follow a geometric rule... (x=10,y=30)\n",
    "grid()    # divide the entire into rows and columns (row=1 ,column=2)"
   ]
  },
  {
   "cell_type": "code",
   "execution_count": 12,
   "id": "68a1b5ef",
   "metadata": {},
   "outputs": [],
   "source": [
    "import tkinter\n",
    "root=tkinter.Tk()\n",
    "root.geometry(\"300x300+200+200\")\n",
    "\n",
    "l1=tkinter.Label(root,text=\"Name\")\n",
    "l2=tkinter.Label(root,text=\"Password\")\n",
    "\n",
    "e1=tkinter.Entry(root)\n",
    "e2=tkinter.Entry(root)\n",
    "\n",
    "b1=tkinter.Button(root,text=\"Login\")\n",
    "b2=tkinter.Button(root,text=\"Quit\")\n",
    "\n",
    "\n",
    "l1.grid(row=0,column=0,sticky=tkinter.W)\n",
    "e1.grid(row=0,column=1)\n",
    "\n",
    "l2.grid(row=1,column=0)\n",
    "e2.grid(row=1,column=1)\n",
    "\n",
    "b1.grid(row=2,column=0)\n",
    "b1.grid(row=2,column=1)\n",
    "\n",
    "root.mainloop()"
   ]
  },
  {
   "cell_type": "code",
   "execution_count": null,
   "id": "7a7b04dd",
   "metadata": {},
   "outputs": [],
   "source": [
    "# two way event handling are--\n",
    "#   1)command\n",
    "#   2)bind function\n"
   ]
  },
  {
   "cell_type": "code",
   "execution_count": 15,
   "id": "c8cfe3d3",
   "metadata": {},
   "outputs": [],
   "source": [
    "import tkinter\n",
    "\n",
    "def action():\n",
    "    root.config(bg=\"red\")\n",
    "root=tkinter.Tk()\n",
    "root.geometry(\"400x400\")\n",
    "b1=tkinter.Button(root,text=\"click me\",command=action)\n",
    "b1.pack()\n",
    "root.mainloop()"
   ]
  },
  {
   "cell_type": "code",
   "execution_count": 18,
   "id": "437bef12",
   "metadata": {},
   "outputs": [
    {
     "name": "stdout",
     "output_type": "stream",
     "text": [
      "SystemButtonFace\n"
     ]
    }
   ],
   "source": [
    "from tkinter import *\n",
    "oldcolor=\"\"\n",
    "\n",
    "def enterkey(e):\n",
    "    root.config(bg=\"red\")\n",
    "    \n",
    "def escapekey(e):\n",
    "    root.config(bg=\"SystemButtonFace\")\n",
    "    \n",
    "root=Tk()\n",
    "root.geometry(\"200x200\")\n",
    "b1=Button(root,text=\"click me\")\n",
    "root.bind(\"<Return>\",enterkey)\n",
    "root.bind(\"<Escape>\",escapekey)\n",
    "oldcolor=root[\"bg\"]\n",
    "print(oldcolor)\n",
    "b1.pack()\n",
    "\n",
    "root.mainloop()"
   ]
  },
  {
   "cell_type": "code",
   "execution_count": 21,
   "id": "50e54bec",
   "metadata": {},
   "outputs": [],
   "source": [
    "from tkinter import *\n",
    "\n",
    "def changecolor(e):\n",
    "    ch=e.char\n",
    "    if ch == \"r\":\n",
    "        root.config(bg=\"red\")\n",
    "    elif ch==\"b\":\n",
    "        root.config(bg=\"blue\")\n",
    "    elif ch==\"y\":\n",
    "        root.config(bg=\"yellow\")\n",
    "    elif ch==\"o\":\n",
    "        root.config(bg=\"orange\")\n",
    "        \n",
    "root=Tk()\n",
    "root.geometry(\"200x200\")\n",
    "root.bind(\"<Key>\",changecolor)\n",
    "\n",
    "root.mainloop()"
   ]
  },
  {
   "cell_type": "code",
   "execution_count": 34,
   "id": "9e9273a5",
   "metadata": {},
   "outputs": [],
   "source": [
    "from tkinter import *\n",
    "root=Tk()\n",
    "root.geometry(\"550x550\")\n",
    "\n",
    "l1=Label(root,text=\"First Name\", relief=\"raised\",font=18,borderwidth=8,width=15)\n",
    "l2=Label(root,text=\"Last Name\",relief=\"raised\",font=18,borderwidth=8,width=15)\n",
    "\n",
    "e1=Entry(root,font=18)\n",
    "e2=Entry(root,font=18)\n",
    "\n",
    "l1.grid(row=0, column=0)\n",
    "l2.grid(row=1, column=0)\n",
    "\n",
    "e1.grid(row=0,column=2)\n",
    "e2.grid(row=1,column=2)\n",
    "\n",
    "root.mainloop()"
   ]
  },
  {
   "cell_type": "code",
   "execution_count": 41,
   "id": "98bde2b9",
   "metadata": {},
   "outputs": [],
   "source": [
    "from tkinter import *\n",
    "\n",
    "\n",
    "def divide():\n",
    "    try:\n",
    "        return int(el.get()) / int(e2.get())\n",
    "    except ZeroDivisionError as ze:\n",
    "        return ze\n",
    "    except Exception as e:\n",
    "        return e\n",
    "    \n",
    "def clear():\n",
    "    e1.delete(0,tk.END)\n",
    "    e1.delete(0,tk.END)\n",
    "    \n",
    "def finish():\n",
    "    root.destroy()\n",
    "    \n",
    "root=Tk()\n",
    "root.geometry(\"400x200+100+200\")\n",
    "\n",
    "l1=Label(root,text=\"Number Division Program\",font=8,relief=\"raised\")\n",
    "l2=Label(root,text=\"First Number: \")\n",
    "l3=Label(root,text=\"Second Number: \")\n",
    "l4=Label(root,text=\"Result\")\n",
    "\n",
    "e1=Entry(root)\n",
    "e2=Entry(root)\n",
    "e3=Entry(root)\n",
    "\n",
    "b1=Button(root,text=\"Divided\",command=divide)\n",
    "b2=Button(root,text=\"Clear\",command=clear)\n",
    "b3=Button(root,text=\"Finished\",command=finish)\n",
    "\n",
    "l1.grid(row=0,column=0)\n",
    "l2.grid(row=1,column=0)\n",
    "l3.grid(row=2,column=0)\n",
    "l4.grid(row=3,column=0)\n",
    "\n",
    "e1.grid(row=1,column=1)\n",
    "e2.grid(row=2,column=1)\n",
    "e3.grid(row=3,column=1)\n",
    "\n",
    "b1.grid(row=4,column=0)\n",
    "b2.grid(row=4,column=1)\n",
    "b3.grid(row=4,column=2)\n",
    "\n",
    "root.mainloop()"
   ]
  },
  {
   "cell_type": "code",
   "execution_count": 48,
   "id": "4963f50b",
   "metadata": {},
   "outputs": [
    {
     "name": "stderr",
     "output_type": "stream",
     "text": [
      "Exception in Tkinter callback\n",
      "Traceback (most recent call last):\n",
      "  File \"C:\\Users\\win11\\anaconda3\\lib\\tkinter\\__init__.py\", line 1892, in __call__\n",
      "    return self.func(*args)\n",
      "  File \"C:\\Users\\win11\\AppData\\Local\\Temp\\ipykernel_11992\\3406527537.py\", line 13, in clear\n",
      "    e1.delete(0,tk.END)\n",
      "NameError: name 'tk' is not defined\n",
      "Exception in Tkinter callback\n",
      "Traceback (most recent call last):\n",
      "  File \"C:\\Users\\win11\\anaconda3\\lib\\tkinter\\__init__.py\", line 1892, in __call__\n",
      "    return self.func(*args)\n",
      "  File \"C:\\Users\\win11\\AppData\\Local\\Temp\\ipykernel_11992\\3406527537.py\", line 13, in clear\n",
      "    e1.delete(0,tk.END)\n",
      "NameError: name 'tk' is not defined\n"
     ]
    }
   ],
   "source": [
    "from tkinter import *\n",
    "\n",
    "\n",
    "def divide():\n",
    "    try:\n",
    "        return int(e1.get()) / int(e2.get())\n",
    "    except ZeroDivisionError as ze:\n",
    "        return ze\n",
    "    except Exception as e:\n",
    "        return e\n",
    "    \n",
    "def clear():\n",
    "    e1.delete(0,tk.END)\n",
    "    e2.delete(0,tk.END)\n",
    "    \n",
    "def finish():\n",
    "    root.destroy()\n",
    "    \n",
    "root=Tk()\n",
    "root.geometry(\"400x200+100+200\")\n",
    "\n",
    "l1=Label(root,text=\"Number Division Program\",font=8,relief=\"raised\")\n",
    "l2=Label(root,text=\"First Number: \")\n",
    "l3=Label(root,text=\"Second Number: \")\n",
    "l4=Label(root,text=\"Result\")\n",
    "\n",
    "e1=Entry(root)\n",
    "e2=Entry(root)\n",
    "e3=Entry(root)\n",
    "\n",
    "b1=Button(root,text=\"Divided\",command=divide)\n",
    "b2=Button(root,text=\"Clear\",command=clear)\n",
    "b3=Button(root,text=\"Finished\",command=finish)\n",
    "\n",
    "l1.grid(row=0,column=0,columnspan=4)\n",
    "l2.grid(row=1,column=0,sticky=E)\n",
    "l3.grid(row=2,column=0,sticky=E)\n",
    "l4.grid(row=3,column=0,sticky=E)\n",
    "\n",
    "e1.grid(row=1,column=1)\n",
    "e2.grid(row=2,column=1)\n",
    "e3.grid(row=3,column=1)\n",
    "\n",
    "b1.grid(row=4,column=0)\n",
    "b2.grid(row=4,column=1)\n",
    "b3.grid(row=4,column=2)\n",
    "\n",
    "root.mainloop()"
   ]
  },
  {
   "cell_type": "code",
   "execution_count": 49,
   "id": "8aaf4227",
   "metadata": {},
   "outputs": [],
   "source": [
    "from tkinter import *\n",
    "from tkinter import messagebox\n",
    "\n",
    "\n",
    "def showgender():\n",
    "    pass\n",
    "\n",
    "root = Tk()\n",
    "root.geometry(\"200x200\")\n",
    "\n",
    "l1=Label(root,text=\"Select your gender\")\n",
    "rb1=Radiobutton(root,text=\"Male\",command=showgender)\n",
    "rb2=Radiobutton(root,text=\"Female\",command=showgender)\n",
    "\n",
    "l1.grid(row=0,column=0)\n",
    "rb1.grid(row=1,column=0,sticky=W)\n",
    "rb2.grid(row=2,column=0,sticky=W)\n",
    "\n",
    "root.mainloop()\n"
   ]
  },
  {
   "cell_type": "code",
   "execution_count": null,
   "id": "d26d3e28",
   "metadata": {},
   "outputs": [],
   "source": []
  },
  {
   "cell_type": "code",
   "execution_count": null,
   "id": "f448d791",
   "metadata": {},
   "outputs": [],
   "source": []
  },
  {
   "cell_type": "code",
   "execution_count": null,
   "id": "393a3570",
   "metadata": {},
   "outputs": [],
   "source": []
  },
  {
   "cell_type": "code",
   "execution_count": null,
   "id": "d8566ca8",
   "metadata": {},
   "outputs": [],
   "source": []
  },
  {
   "cell_type": "code",
   "execution_count": null,
   "id": "f0107218",
   "metadata": {},
   "outputs": [],
   "source": []
  },
  {
   "cell_type": "code",
   "execution_count": null,
   "id": "ee3e9227",
   "metadata": {},
   "outputs": [],
   "source": []
  },
  {
   "cell_type": "code",
   "execution_count": null,
   "id": "a9807f4d",
   "metadata": {},
   "outputs": [],
   "source": []
  },
  {
   "cell_type": "code",
   "execution_count": null,
   "id": "3d4700b5",
   "metadata": {},
   "outputs": [],
   "source": []
  },
  {
   "cell_type": "code",
   "execution_count": null,
   "id": "390dad8c",
   "metadata": {},
   "outputs": [],
   "source": []
  },
  {
   "cell_type": "code",
   "execution_count": null,
   "id": "edfba588",
   "metadata": {},
   "outputs": [],
   "source": []
  },
  {
   "cell_type": "code",
   "execution_count": null,
   "id": "15f3ad4c",
   "metadata": {},
   "outputs": [],
   "source": []
  },
  {
   "cell_type": "code",
   "execution_count": null,
   "id": "426cd72a",
   "metadata": {},
   "outputs": [],
   "source": []
  },
  {
   "cell_type": "code",
   "execution_count": null,
   "id": "a10d06e6",
   "metadata": {},
   "outputs": [],
   "source": []
  },
  {
   "cell_type": "code",
   "execution_count": null,
   "id": "287b6d6a",
   "metadata": {},
   "outputs": [],
   "source": []
  },
  {
   "cell_type": "code",
   "execution_count": null,
   "id": "9b8f9c46",
   "metadata": {},
   "outputs": [],
   "source": []
  },
  {
   "cell_type": "code",
   "execution_count": null,
   "id": "55fbcad5",
   "metadata": {},
   "outputs": [],
   "source": []
  },
  {
   "cell_type": "code",
   "execution_count": null,
   "id": "57ff82c8",
   "metadata": {},
   "outputs": [],
   "source": []
  },
  {
   "cell_type": "code",
   "execution_count": null,
   "id": "87247a9e",
   "metadata": {},
   "outputs": [],
   "source": []
  },
  {
   "cell_type": "code",
   "execution_count": null,
   "id": "648dd6a8",
   "metadata": {},
   "outputs": [],
   "source": []
  }
 ],
 "metadata": {
  "kernelspec": {
   "display_name": "Python 3 (ipykernel)",
   "language": "python",
   "name": "python3"
  },
  "language_info": {
   "codemirror_mode": {
    "name": "ipython",
    "version": 3
   },
   "file_extension": ".py",
   "mimetype": "text/x-python",
   "name": "python",
   "nbconvert_exporter": "python",
   "pygments_lexer": "ipython3",
   "version": "3.9.12"
  }
 },
 "nbformat": 4,
 "nbformat_minor": 5
}
