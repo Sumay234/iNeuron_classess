{
 "cells": [
  {
   "cell_type": "markdown",
   "id": "77083fc7",
   "metadata": {},
   "source": [
    "# Production / Logging"
   ]
  },
  {
   "cell_type": "code",
   "execution_count": 1,
   "id": "d10efa63",
   "metadata": {},
   "outputs": [
    {
     "name": "stdout",
     "output_type": "stream",
     "text": [
      "hdhw\n"
     ]
    }
   ],
   "source": [
    "print(\"hdhw\")"
   ]
  },
  {
   "cell_type": "code",
   "execution_count": 2,
   "id": "f644875f",
   "metadata": {},
   "outputs": [
    {
     "data": {
      "text/plain": [
       "' in a production its a strickly prohibated \\n     to use a print'"
      ]
     },
     "execution_count": 2,
     "metadata": {},
     "output_type": "execute_result"
    }
   ],
   "source": [
    "''' in a production its a strickly prohibated \n",
    "     to use a print'''"
   ]
  },
  {
   "cell_type": "code",
   "execution_count": 3,
   "id": "405e0a47",
   "metadata": {},
   "outputs": [
    {
     "data": {
      "text/plain": [
       "' logging is a way in which key track our error , our info, our warning and \\n    each and  everything'"
      ]
     },
     "execution_count": 3,
     "metadata": {},
     "output_type": "execute_result"
    }
   ],
   "source": [
    "\"\"\" logging is a way in which key track our error , our info, our warning and \n",
    "    each and  everything\"\"\""
   ]
  },
  {
   "cell_type": "code",
   "execution_count": 4,
   "id": "5b199134",
   "metadata": {},
   "outputs": [],
   "source": [
    "import logging"
   ]
  },
  {
   "cell_type": "code",
   "execution_count": 5,
   "id": "d3224e57",
   "metadata": {},
   "outputs": [],
   "source": [
    "logging.basicConfig(filename=\"test.log\",level=logging.INFO)"
   ]
  },
  {
   "cell_type": "code",
   "execution_count": 6,
   "id": "b5cde62c",
   "metadata": {},
   "outputs": [],
   "source": [
    "logging.info(\"this is my info log\")\n",
    "logging.warning(\"this is my warning log\")\n",
    "logging.error(\"this is my error log\")"
   ]
  },
  {
   "cell_type": "code",
   "execution_count": 7,
   "id": "97ed9d5d",
   "metadata": {},
   "outputs": [],
   "source": [
    "logging.shutdown()  # to close or shut the log file"
   ]
  },
  {
   "cell_type": "code",
   "execution_count": 8,
   "id": "dbcc2976",
   "metadata": {},
   "outputs": [
    {
     "data": {
      "text/plain": [
       "'C:\\\\Users\\\\win11\\\\iNeuron_Practise\\\\Recorded_classes_ineuron'"
      ]
     },
     "execution_count": 8,
     "metadata": {},
     "output_type": "execute_result"
    }
   ],
   "source": [
    "pwd()"
   ]
  },
  {
   "cell_type": "markdown",
   "id": "39cea09b",
   "metadata": {},
   "source": [
    "Type of Log--\n",
    "  \n",
    "    DEBUG\n",
    "    INFO\n",
    "    WARNING\n",
    "    CRITICAL\n"
   ]
  },
  {
   "cell_type": "code",
   "execution_count": 9,
   "id": "b3de291b",
   "metadata": {},
   "outputs": [],
   "source": [
    "logging.basicConfig(filename=\"test23.log\", level=logging.DEBUG,format=\"%(asctime)s %(levelname)   %(message)s\")"
   ]
  },
  {
   "cell_type": "code",
   "execution_count": 10,
   "id": "c739a2aa",
   "metadata": {},
   "outputs": [],
   "source": [
    "logging.info(\"this is my info log\")\n",
    "logging.warning(\"this is my warning log\")\n",
    "logging.debug(\"this is my debug log\")\n",
    "logging.error(\"this is my error log\")"
   ]
  },
  {
   "cell_type": "code",
   "execution_count": 11,
   "id": "62d093c2",
   "metadata": {},
   "outputs": [
    {
     "data": {
      "text/plain": [
       "'C:\\\\Users\\\\win11\\\\iNeuron_Practise\\\\Recorded_classes_ineuron'"
      ]
     },
     "execution_count": 11,
     "metadata": {},
     "output_type": "execute_result"
    }
   ],
   "source": [
    "pwd()"
   ]
  },
  {
   "cell_type": "markdown",
   "id": "97d3fd3f",
   "metadata": {},
   "source": [
    "Level wise priority in Log:--\n",
    "\n",
    "    ERROR\n",
    "    WARNING\n",
    "    INFO\n",
    "    DEBUG"
   ]
  },
  {
   "cell_type": "code",
   "execution_count": 12,
   "id": "e3646b9f",
   "metadata": {},
   "outputs": [],
   "source": [
    "import logging\n",
    "logging.basicConfig(filename=\"test3ab.log\", level=logging.DEBUG,format=\"%(asctime)s %(levelname)   %(message)s\")\n",
    "\n",
    "# using lowest log (\"DEBUG\")"
   ]
  },
  {
   "cell_type": "code",
   "execution_count": 13,
   "id": "67e9aa87",
   "metadata": {},
   "outputs": [],
   "source": [
    "def divbyzero(a,b):\n",
    "    logging.info(\"this is a start of my code %s and %s:-\", a,b)\n",
    "    try:\n",
    "        div=(a/b)\n",
    "        logging.info(f\"executed succesfully and ans is {div}\")\n",
    "    except Exception as e:\n",
    "        logging.error(\"Error happen check code\")\n",
    "        logging.exception(\"Exception occured\" + str (e))\n",
    "        "
   ]
  },
  {
   "cell_type": "code",
   "execution_count": 14,
   "id": "3be57892",
   "metadata": {},
   "outputs": [],
   "source": [
    "divbyzero(4,2)"
   ]
  },
  {
   "cell_type": "code",
   "execution_count": 15,
   "id": "535e1b64",
   "metadata": {},
   "outputs": [],
   "source": [
    "divbyzero(9,0)"
   ]
  },
  {
   "cell_type": "code",
   "execution_count": 16,
   "id": "e7062a21",
   "metadata": {},
   "outputs": [],
   "source": [
    "divbyzero(8,4)"
   ]
  },
  {
   "cell_type": "code",
   "execution_count": 17,
   "id": "a0a481ff",
   "metadata": {},
   "outputs": [],
   "source": [
    "divbyzero(58,3)"
   ]
  },
  {
   "cell_type": "code",
   "execution_count": 18,
   "id": "4af21f84",
   "metadata": {},
   "outputs": [],
   "source": [
    "divbyzero(9,2)"
   ]
  },
  {
   "cell_type": "code",
   "execution_count": 19,
   "id": "c31b1d64",
   "metadata": {},
   "outputs": [],
   "source": [
    "divbyzero(89,0)"
   ]
  },
  {
   "cell_type": "code",
   "execution_count": 20,
   "id": "208c4c4a",
   "metadata": {},
   "outputs": [],
   "source": [
    "divbyzero(2228,4)"
   ]
  },
  {
   "cell_type": "code",
   "execution_count": 21,
   "id": "589bc4a0",
   "metadata": {},
   "outputs": [],
   "source": [
    "divbyzero(545,0)"
   ]
  },
  {
   "cell_type": "code",
   "execution_count": 22,
   "id": "55a7a54b",
   "metadata": {},
   "outputs": [
    {
     "name": "stdout",
     "output_type": "stream",
     "text": [
      "jfhjf44b\n",
      "invalid literal for int() with base 10: '44b'\n"
     ]
    }
   ],
   "source": [
    "try:\n",
    "    a=int(input(\"jfhjf\"))\n",
    "    if a==4:\n",
    "        print(\"ok\")\n",
    "    else:\n",
    "        print(\"not ok\")\n",
    "except Exception as e:\n",
    "    print(e)\n",
    "    "
   ]
  },
  {
   "cell_type": "code",
   "execution_count": 23,
   "id": "9efec9ff",
   "metadata": {},
   "outputs": [
    {
     "name": "stdout",
     "output_type": "stream",
     "text": [
      "jfhjf4\n",
      "ok\n"
     ]
    }
   ],
   "source": [
    "try:\n",
    "    a=int(input(\"jfhjf\"))\n",
    "    if a==4:\n",
    "        print(\"ok\")\n",
    "        \n",
    "except Exception as e:\n",
    "    print(e)\n",
    "   "
   ]
  },
  {
   "cell_type": "code",
   "execution_count": 24,
   "id": "cf91efa8",
   "metadata": {},
   "outputs": [],
   "source": [
    "import logging"
   ]
  },
  {
   "cell_type": "code",
   "execution_count": 25,
   "id": "882685a5",
   "metadata": {},
   "outputs": [],
   "source": [
    "logging.basicConfig(filename=\"Test_2.log\",level=logging.INFO,format=\"%(levelname)s   %(asctime)s    %(message)s\")"
   ]
  },
  {
   "cell_type": "code",
   "execution_count": 26,
   "id": "b9c1bcf0",
   "metadata": {},
   "outputs": [
    {
     "name": "stdout",
     "output_type": "stream",
     "text": [
      "The output is 0.6666666666666666\n"
     ]
    }
   ],
   "source": [
    "def devide(a,b):\n",
    "    logging.info(f\"The number entered by user is {a}, {b} \")\n",
    "    return a/b\n",
    "\n",
    "devide(6,3)\n",
    "print(f\"The output is {devide(6,9)}\")"
   ]
  },
  {
   "cell_type": "code",
   "execution_count": 27,
   "id": "c58b7ef3",
   "metadata": {},
   "outputs": [
    {
     "data": {
      "text/plain": [
       "3.0"
      ]
     },
     "execution_count": 27,
     "metadata": {},
     "output_type": "execute_result"
    }
   ],
   "source": [
    "def devide(a,b):\n",
    "    logging.info(\"The number entered by user is %s and %s\", a,b)\n",
    "    try:\n",
    "        logging.info(\"We are into function\")\n",
    "        div=a/b\n",
    "        logging.info(\"We have completed our division operation\")\n",
    "        logging.info(f\"The output is {div}\")\n",
    "        return div\n",
    "    except Exception as e:\n",
    "        logging.exception(\"i think its error \", e)\n",
    "\n",
    "devide(6,2)"
   ]
  },
  {
   "cell_type": "code",
   "execution_count": 28,
   "id": "bc3bd357",
   "metadata": {},
   "outputs": [],
   "source": [
    "import logging\n",
    "logging.basicConfig(filename=\"test_333.0\",level=logging.DEBUG,format= \"%(levelname)s  %(asctime)s   %(message)s\")\n",
    "\n",
    "try:\n",
    "    logging.info(\"I am just trying to open a file\")\n",
    "    with open(\"sudh.txt\",\"r\"):\n",
    "        logging.info(\"File has succesfully open\")\n",
    "except Exception as e:\n",
    "    logging.critical(\"This is critical line\")\n",
    "    logging.error(e)"
   ]
  },
  {
   "cell_type": "code",
   "execution_count": 29,
   "id": "3566e655",
   "metadata": {},
   "outputs": [
    {
     "data": {
      "text/plain": [
       "'C:\\\\Users\\\\win11\\\\iNeuron_Practise\\\\Recorded_classes_ineuron'"
      ]
     },
     "execution_count": 29,
     "metadata": {},
     "output_type": "execute_result"
    }
   ],
   "source": [
    "pwd()"
   ]
  },
  {
   "cell_type": "code",
   "execution_count": null,
   "id": "e9ff2435",
   "metadata": {},
   "outputs": [],
   "source": []
  }
 ],
 "metadata": {
  "kernelspec": {
   "display_name": "Python 3 (ipykernel)",
   "language": "python",
   "name": "python3"
  },
  "language_info": {
   "codemirror_mode": {
    "name": "ipython",
    "version": 3
   },
   "file_extension": ".py",
   "mimetype": "text/x-python",
   "name": "python",
   "nbconvert_exporter": "python",
   "pygments_lexer": "ipython3",
   "version": "3.9.12"
  }
 },
 "nbformat": 4,
 "nbformat_minor": 5
}
