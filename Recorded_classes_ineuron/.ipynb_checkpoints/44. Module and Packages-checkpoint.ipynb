{
 "cells": [
  {
   "cell_type": "markdown",
   "id": "0dac249c",
   "metadata": {},
   "source": [
    "## Modules"
   ]
  },
  {
   "cell_type": "code",
   "execution_count": 30,
   "id": "5cd630a1",
   "metadata": {},
   "outputs": [],
   "source": [
    "f=open(\"test23.py\",\"w\")"
   ]
  },
  {
   "cell_type": "code",
   "execution_count": 11,
   "id": "f184e8ed",
   "metadata": {},
   "outputs": [
    {
     "data": {
      "text/plain": [
       "'C:\\\\Users\\\\win11\\\\iNeuron_Practise\\\\Recorded_classes_ineuron'"
      ]
     },
     "execution_count": 11,
     "metadata": {},
     "output_type": "execute_result"
    }
   ],
   "source": [
    "pwd()"
   ]
  },
  {
   "cell_type": "code",
   "execution_count": 1,
   "id": "e0521c62",
   "metadata": {},
   "outputs": [],
   "source": [
    "# file = module\n",
    "# folder = pacakage"
   ]
  },
  {
   "cell_type": "code",
   "execution_count": 40,
   "id": "2e6891d0",
   "metadata": {},
   "outputs": [
    {
     "name": "stdout",
     "output_type": "stream",
     "text": [
      " Volume in drive C is Windows-SSD\n",
      " Volume Serial Number is FC3B-5102\n",
      "\n",
      " Directory of C:\\Users\\win11\\iNeuron_Practise\\Recorded_classes_ineuron\n",
      "\n",
      "15-12-2022  10:21 AM    <DIR>          .\n",
      "07-12-2022  06:11 PM    <DIR>          ..\n",
      "15-12-2022  09:10 AM    <DIR>          .ipynb_checkpoints\n",
      "15-12-2022  10:15 AM    <DIR>          __pycache__\n",
      "03-12-2022  12:25 PM            23,414 10._9th_oct_Control_Flow_Statement.ipynb\n",
      "11-12-2022  11:01 AM            28,404 34. Function Part_1.ipynb\n",
      "12-12-2022  08:30 PM            31,483 36. Function Part-2.ipynb\n",
      "15-12-2022  09:01 AM            63,696 38. Iterator Generator File System.ipynb\n",
      "15-12-2022  10:21 AM             9,414 42. Module and Packages.ipynb\n",
      "15-12-2022  10:19 AM                64 abcd\n",
      "15-12-2022  10:20 AM                64 abcd.py\n",
      "08-12-2022  04:12 PM            28,714 Discussion in Loops .ipynb\n",
      "06-12-2022  09:24 AM            27,625 Exceptional_handling_class_2.ipynb\n",
      "07-12-2022  09:59 PM            19,337 For loop and while loop (another_classes).ipynb\n",
      "14-12-2022  09:45 PM             7,209 Function Question Practise.ipynb\n",
      "06-12-2022  08:28 PM            13,948 If, Else, For_loop and While_loop.ipynb\n",
      "09-12-2022  04:29 PM            10,364 Logging.ipynb\n",
      "14-12-2022  06:16 PM                36 test.txt\n",
      "09-12-2022  03:38 PM             1,224 Test_2.log\n",
      "15-12-2022  09:33 AM                 0 test1.py\n",
      "13-12-2022  08:58 PM               142 test2.txt\n",
      "15-12-2022  10:03 AM                 0 test22.py\n",
      "15-12-2022  10:12 AM                 0 test23.py\n",
      "              19 File(s)        265,138 bytes\n",
      "               4 Dir(s)  75,676,225,536 bytes free\n"
     ]
    }
   ],
   "source": [
    "ls"
   ]
  },
  {
   "cell_type": "code",
   "execution_count": 24,
   "id": "bead33f1",
   "metadata": {},
   "outputs": [],
   "source": [
    "import test23"
   ]
  },
  {
   "cell_type": "code",
   "execution_count": 25,
   "id": "801a2c43",
   "metadata": {},
   "outputs": [
    {
     "ename": "AttributeError",
     "evalue": "module 'test22' has no attribute 'test'",
     "output_type": "error",
     "traceback": [
      "\u001b[1;31m---------------------------------------------------------------------------\u001b[0m",
      "\u001b[1;31mAttributeError\u001b[0m                            Traceback (most recent call last)",
      "Input \u001b[1;32mIn [25]\u001b[0m, in \u001b[0;36m<cell line: 1>\u001b[1;34m()\u001b[0m\n\u001b[1;32m----> 1\u001b[0m \u001b[43mtest22\u001b[49m\u001b[38;5;241;43m.\u001b[39;49m\u001b[43mtest\u001b[49m (\u001b[38;5;241m2\u001b[39m,\u001b[38;5;241m3\u001b[39m)\n",
      "\u001b[1;31mAttributeError\u001b[0m: module 'test22' has no attribute 'test'"
     ]
    }
   ],
   "source": [
    "test22.test (2,3)"
   ]
  },
  {
   "cell_type": "code",
   "execution_count": 26,
   "id": "190997cc",
   "metadata": {},
   "outputs": [
    {
     "ename": "AttributeError",
     "evalue": "module 'test22' has no attribute 'test1'",
     "output_type": "error",
     "traceback": [
      "\u001b[1;31m---------------------------------------------------------------------------\u001b[0m",
      "\u001b[1;31mAttributeError\u001b[0m                            Traceback (most recent call last)",
      "Input \u001b[1;32mIn [26]\u001b[0m, in \u001b[0;36m<cell line: 1>\u001b[1;34m()\u001b[0m\n\u001b[1;32m----> 1\u001b[0m \u001b[43mtest22\u001b[49m\u001b[38;5;241;43m.\u001b[39;49m\u001b[43mtest1\u001b[49m(\u001b[38;5;241m3\u001b[39m,\u001b[38;5;241m4\u001b[39m)\n",
      "\u001b[1;31mAttributeError\u001b[0m: module 'test22' has no attribute 'test1'"
     ]
    }
   ],
   "source": [
    "test22.test1(3,4)"
   ]
  },
  {
   "cell_type": "code",
   "execution_count": 27,
   "id": "53b702e6",
   "metadata": {},
   "outputs": [
    {
     "ename": "AttributeError",
     "evalue": "module 'test22' has no attribute 'test3'",
     "output_type": "error",
     "traceback": [
      "\u001b[1;31m---------------------------------------------------------------------------\u001b[0m",
      "\u001b[1;31mAttributeError\u001b[0m                            Traceback (most recent call last)",
      "Input \u001b[1;32mIn [27]\u001b[0m, in \u001b[0;36m<cell line: 1>\u001b[1;34m()\u001b[0m\n\u001b[1;32m----> 1\u001b[0m \u001b[43mtest22\u001b[49m\u001b[38;5;241;43m.\u001b[39;49m\u001b[43mtest3\u001b[49m(\u001b[38;5;241m2\u001b[39m,\u001b[38;5;241m4\u001b[39m)\n",
      "\u001b[1;31mAttributeError\u001b[0m: module 'test22' has no attribute 'test3'"
     ]
    }
   ],
   "source": [
    "test22.test3(2,4)"
   ]
  },
  {
   "cell_type": "code",
   "execution_count": 31,
   "id": "ba96fbf2",
   "metadata": {},
   "outputs": [],
   "source": [
    "f.close()"
   ]
  },
  {
   "cell_type": "code",
   "execution_count": 32,
   "id": "673e37f9",
   "metadata": {},
   "outputs": [
    {
     "data": {
      "text/plain": [
       "<_io.TextIOWrapper name='abcd.py' mode='w' encoding='cp1252'>"
      ]
     },
     "execution_count": 32,
     "metadata": {},
     "output_type": "execute_result"
    }
   ],
   "source": [
    "open(\"abcd.py\",\"w\")"
   ]
  },
  {
   "cell_type": "code",
   "execution_count": 1,
   "id": "14a143f9",
   "metadata": {},
   "outputs": [],
   "source": [
    "import abcd"
   ]
  },
  {
   "cell_type": "code",
   "execution_count": 2,
   "id": "93473fdd",
   "metadata": {},
   "outputs": [
    {
     "data": {
      "text/plain": [
       "2"
      ]
     },
     "execution_count": 2,
     "metadata": {},
     "output_type": "execute_result"
    }
   ],
   "source": [
    "abcd.test(1,2)"
   ]
  },
  {
   "cell_type": "code",
   "execution_count": 3,
   "id": "38a2d3b8",
   "metadata": {},
   "outputs": [
    {
     "data": {
      "text/plain": [
       "30"
      ]
     },
     "execution_count": 3,
     "metadata": {},
     "output_type": "execute_result"
    }
   ],
   "source": [
    "abcd.test(5,6)"
   ]
  },
  {
   "cell_type": "code",
   "execution_count": 4,
   "id": "dbee71d7",
   "metadata": {},
   "outputs": [
    {
     "ename": "AttributeError",
     "evalue": "module 'abcd' has no attribute 'test1'",
     "output_type": "error",
     "traceback": [
      "\u001b[1;31m---------------------------------------------------------------------------\u001b[0m",
      "\u001b[1;31mAttributeError\u001b[0m                            Traceback (most recent call last)",
      "Input \u001b[1;32mIn [4]\u001b[0m, in \u001b[0;36m<cell line: 1>\u001b[1;34m()\u001b[0m\n\u001b[1;32m----> 1\u001b[0m \u001b[43mabcd\u001b[49m\u001b[38;5;241;43m.\u001b[39;49m\u001b[43mtest1\u001b[49m(\u001b[38;5;241m1\u001b[39m,\u001b[38;5;241m2\u001b[39m)\n",
      "\u001b[1;31mAttributeError\u001b[0m: module 'abcd' has no attribute 'test1'"
     ]
    }
   ],
   "source": [
    "abcd.test1(1,2)"
   ]
  },
  {
   "cell_type": "code",
   "execution_count": null,
   "id": "a3a645b6",
   "metadata": {},
   "outputs": [],
   "source": [
    "test1(1,2)"
   ]
  },
  {
   "cell_type": "code",
   "execution_count": 5,
   "id": "5a499daf",
   "metadata": {},
   "outputs": [
    {
     "ename": "AttributeError",
     "evalue": "module 'abcd' has no attribute 'test2'",
     "output_type": "error",
     "traceback": [
      "\u001b[1;31m---------------------------------------------------------------------------\u001b[0m",
      "\u001b[1;31mAttributeError\u001b[0m                            Traceback (most recent call last)",
      "Input \u001b[1;32mIn [5]\u001b[0m, in \u001b[0;36m<cell line: 1>\u001b[1;34m()\u001b[0m\n\u001b[1;32m----> 1\u001b[0m \u001b[43mabcd\u001b[49m\u001b[38;5;241;43m.\u001b[39;49m\u001b[43mtest2\u001b[49m(\u001b[38;5;241m2\u001b[39m,\u001b[38;5;241m3\u001b[39m)\n",
      "\u001b[1;31mAttributeError\u001b[0m: module 'abcd' has no attribute 'test2'"
     ]
    }
   ],
   "source": [
    "abcd.test2(2,3)"
   ]
  },
  {
   "cell_type": "code",
   "execution_count": 6,
   "id": "e49a4337",
   "metadata": {},
   "outputs": [],
   "source": [
    "from abcd import *"
   ]
  },
  {
   "cell_type": "code",
   "execution_count": 7,
   "id": "dfcbc96e",
   "metadata": {},
   "outputs": [
    {
     "data": {
      "text/plain": [
       "3"
      ]
     },
     "execution_count": 7,
     "metadata": {},
     "output_type": "execute_result"
    }
   ],
   "source": [
    "abcd.test10(1,2)"
   ]
  },
  {
   "cell_type": "code",
   "execution_count": 8,
   "id": "9484095d",
   "metadata": {},
   "outputs": [
    {
     "data": {
      "text/plain": [
       "2.0"
      ]
     },
     "execution_count": 8,
     "metadata": {},
     "output_type": "execute_result"
    }
   ],
   "source": [
    "abcd.test20(4,2)"
   ]
  },
  {
   "cell_type": "code",
   "execution_count": 9,
   "id": "9dec9296",
   "metadata": {},
   "outputs": [
    {
     "ename": "AttributeError",
     "evalue": "module 'abcd' has no attribute 'test2'",
     "output_type": "error",
     "traceback": [
      "\u001b[1;31m---------------------------------------------------------------------------\u001b[0m",
      "\u001b[1;31mAttributeError\u001b[0m                            Traceback (most recent call last)",
      "Input \u001b[1;32mIn [9]\u001b[0m, in \u001b[0;36m<cell line: 1>\u001b[1;34m()\u001b[0m\n\u001b[1;32m----> 1\u001b[0m \u001b[43mabcd\u001b[49m\u001b[38;5;241;43m.\u001b[39;49m\u001b[43mtest2\u001b[49m(\u001b[38;5;241m10\u001b[39m,\u001b[38;5;241m5\u001b[39m)\n",
      "\u001b[1;31mAttributeError\u001b[0m: module 'abcd' has no attribute 'test2'"
     ]
    }
   ],
   "source": [
    "abcd.test2(10,5)"
   ]
  },
  {
   "cell_type": "code",
   "execution_count": 10,
   "id": "f35be7f6",
   "metadata": {},
   "outputs": [
    {
     "data": {
      "text/plain": [
       "0.5"
      ]
     },
     "execution_count": 10,
     "metadata": {},
     "output_type": "execute_result"
    }
   ],
   "source": [
    "test20(1,2)"
   ]
  },
  {
   "cell_type": "code",
   "execution_count": 11,
   "id": "3a1bab5f",
   "metadata": {},
   "outputs": [
    {
     "data": {
      "text/plain": [
       "0.5"
      ]
     },
     "execution_count": 11,
     "metadata": {},
     "output_type": "execute_result"
    }
   ],
   "source": [
    "abcd.test20(1,2)"
   ]
  },
  {
   "cell_type": "code",
   "execution_count": 12,
   "id": "d741b1f5",
   "metadata": {},
   "outputs": [
    {
     "data": {
      "text/plain": [
       "50"
      ]
     },
     "execution_count": 12,
     "metadata": {},
     "output_type": "execute_result"
    }
   ],
   "source": [
    "abcd.test25(5,10)"
   ]
  },
  {
   "cell_type": "code",
   "execution_count": 13,
   "id": "be1c298f",
   "metadata": {},
   "outputs": [
    {
     "data": {
      "text/plain": [
       "0.8333333333333334"
      ]
     },
     "execution_count": 13,
     "metadata": {},
     "output_type": "execute_result"
    }
   ],
   "source": [
    "test20(5,6)"
   ]
  },
  {
   "cell_type": "code",
   "execution_count": 14,
   "id": "777c13f4",
   "metadata": {},
   "outputs": [
    {
     "data": {
      "text/plain": [
       "30"
      ]
     },
     "execution_count": 14,
     "metadata": {},
     "output_type": "execute_result"
    }
   ],
   "source": [
    "abcd.test25(5,6)"
   ]
  },
  {
   "cell_type": "code",
   "execution_count": 15,
   "id": "20c4f49b",
   "metadata": {},
   "outputs": [
    {
     "data": {
      "text/plain": [
       "30"
      ]
     },
     "execution_count": 15,
     "metadata": {},
     "output_type": "execute_result"
    }
   ],
   "source": [
    "test(5,6)"
   ]
  },
  {
   "cell_type": "code",
   "execution_count": 17,
   "id": "731627cc",
   "metadata": {},
   "outputs": [
    {
     "data": {
      "text/plain": [
       "(11, 30)"
      ]
     },
     "execution_count": 17,
     "metadata": {},
     "output_type": "execute_result"
    }
   ],
   "source": [
    "new(5,6)"
   ]
  },
  {
   "cell_type": "code",
   "execution_count": 18,
   "id": "f2a9ae29",
   "metadata": {},
   "outputs": [
    {
     "data": {
      "text/plain": [
       "(9, 20)"
      ]
     },
     "execution_count": 18,
     "metadata": {},
     "output_type": "execute_result"
    }
   ],
   "source": [
    "abcd.new (4,5)"
   ]
  },
  {
   "cell_type": "code",
   "execution_count": 1,
   "id": "a1a53924",
   "metadata": {},
   "outputs": [
    {
     "data": {
      "text/plain": [
       "<_io.TextIOWrapper name='dictnoray.py' mode='w' encoding='cp1252'>"
      ]
     },
     "execution_count": 1,
     "metadata": {},
     "output_type": "execute_result"
    }
   ],
   "source": [
    "open(\"dictnoray.py\",\"w\")"
   ]
  },
  {
   "cell_type": "code",
   "execution_count": 2,
   "id": "a3b2c377",
   "metadata": {},
   "outputs": [],
   "source": [
    "from dictnoray import *\n",
    "import dictnoray"
   ]
  },
  {
   "cell_type": "code",
   "execution_count": 4,
   "id": "0898e4f5",
   "metadata": {},
   "outputs": [
    {
     "ename": "AttributeError",
     "evalue": "module 'dictnoray' has no attribute 'student'",
     "output_type": "error",
     "traceback": [
      "\u001b[1;31m---------------------------------------------------------------------------\u001b[0m",
      "\u001b[1;31mAttributeError\u001b[0m                            Traceback (most recent call last)",
      "Input \u001b[1;32mIn [4]\u001b[0m, in \u001b[0;36m<cell line: 1>\u001b[1;34m()\u001b[0m\n\u001b[1;32m----> 1\u001b[0m \u001b[43mdictnoray\u001b[49m\u001b[38;5;241;43m.\u001b[39;49m\u001b[43mstudent\u001b[49m()\n",
      "\u001b[1;31mAttributeError\u001b[0m: module 'dictnoray' has no attribute 'student'"
     ]
    }
   ],
   "source": [
    "dictnoray.student()"
   ]
  },
  {
   "cell_type": "code",
   "execution_count": 7,
   "id": "678056f1",
   "metadata": {},
   "outputs": [
    {
     "ename": "AttributeError",
     "evalue": "module 'dictnoray' has no attribute 'data'",
     "output_type": "error",
     "traceback": [
      "\u001b[1;31m---------------------------------------------------------------------------\u001b[0m",
      "\u001b[1;31mAttributeError\u001b[0m                            Traceback (most recent call last)",
      "Input \u001b[1;32mIn [7]\u001b[0m, in \u001b[0;36m<cell line: 1>\u001b[1;34m()\u001b[0m\n\u001b[1;32m----> 1\u001b[0m \u001b[43mdictnoray\u001b[49m\u001b[38;5;241;43m.\u001b[39;49m\u001b[43mdata\u001b[49m\n",
      "\u001b[1;31mAttributeError\u001b[0m: module 'dictnoray' has no attribute 'data'"
     ]
    }
   ],
   "source": [
    "dictnoray.data"
   ]
  },
  {
   "cell_type": "code",
   "execution_count": 1,
   "id": "4e527238",
   "metadata": {},
   "outputs": [
    {
     "data": {
      "text/plain": [
       "<_io.TextIOWrapper name='again.py' mode='w' encoding='cp1252'>"
      ]
     },
     "execution_count": 1,
     "metadata": {},
     "output_type": "execute_result"
    }
   ],
   "source": [
    "open(\"again.py\",\"w\")"
   ]
  },
  {
   "cell_type": "code",
   "execution_count": 12,
   "id": "21fdd44e",
   "metadata": {},
   "outputs": [
    {
     "ename": "ModuleNotFoundError",
     "evalue": "No module named 'again'",
     "output_type": "error",
     "traceback": [
      "\u001b[1;31m---------------------------------------------------------------------------\u001b[0m",
      "\u001b[1;31mModuleNotFoundError\u001b[0m                       Traceback (most recent call last)",
      "Input \u001b[1;32mIn [12]\u001b[0m, in \u001b[0;36m<cell line: 1>\u001b[1;34m()\u001b[0m\n\u001b[1;32m----> 1\u001b[0m \u001b[38;5;28;01mimport\u001b[39;00m \u001b[38;5;21;01magain\u001b[39;00m\n",
      "\u001b[1;31mModuleNotFoundError\u001b[0m: No module named 'again'"
     ]
    }
   ],
   "source": [
    "import again"
   ]
  },
  {
   "cell_type": "code",
   "execution_count": 13,
   "id": "8180dd28",
   "metadata": {},
   "outputs": [
    {
     "ename": "ModuleNotFoundError",
     "evalue": "No module named 'again'",
     "output_type": "error",
     "traceback": [
      "\u001b[1;31m---------------------------------------------------------------------------\u001b[0m",
      "\u001b[1;31mModuleNotFoundError\u001b[0m                       Traceback (most recent call last)",
      "Input \u001b[1;32mIn [13]\u001b[0m, in \u001b[0;36m<cell line: 1>\u001b[1;34m()\u001b[0m\n\u001b[1;32m----> 1\u001b[0m \u001b[38;5;28;01mfrom\u001b[39;00m \u001b[38;5;21;01magain\u001b[39;00m \u001b[38;5;28;01mimport\u001b[39;00m \u001b[38;5;241m*\u001b[39m\n",
      "\u001b[1;31mModuleNotFoundError\u001b[0m: No module named 'again'"
     ]
    }
   ],
   "source": [
    "from again import *"
   ]
  },
  {
   "cell_type": "code",
   "execution_count": 14,
   "id": "46b94596",
   "metadata": {},
   "outputs": [
    {
     "ename": "NameError",
     "evalue": "name 'again' is not defined",
     "output_type": "error",
     "traceback": [
      "\u001b[1;31m---------------------------------------------------------------------------\u001b[0m",
      "\u001b[1;31mNameError\u001b[0m                                 Traceback (most recent call last)",
      "Input \u001b[1;32mIn [14]\u001b[0m, in \u001b[0;36m<cell line: 1>\u001b[1;34m()\u001b[0m\n\u001b[1;32m----> 1\u001b[0m \u001b[43magain\u001b[49m\u001b[38;5;241m.\u001b[39mdata\n",
      "\u001b[1;31mNameError\u001b[0m: name 'again' is not defined"
     ]
    }
   ],
   "source": [
    "again.data"
   ]
  },
  {
   "cell_type": "code",
   "execution_count": 15,
   "id": "7046ba30",
   "metadata": {},
   "outputs": [
    {
     "ename": "NameError",
     "evalue": "name 'again' is not defined",
     "output_type": "error",
     "traceback": [
      "\u001b[1;31m---------------------------------------------------------------------------\u001b[0m",
      "\u001b[1;31mNameError\u001b[0m                                 Traceback (most recent call last)",
      "Input \u001b[1;32mIn [15]\u001b[0m, in \u001b[0;36m<cell line: 1>\u001b[1;34m()\u001b[0m\n\u001b[1;32m----> 1\u001b[0m \u001b[43magain\u001b[49m\u001b[38;5;241m.\u001b[39msubject\n",
      "\u001b[1;31mNameError\u001b[0m: name 'again' is not defined"
     ]
    }
   ],
   "source": [
    "again.subject"
   ]
  },
  {
   "cell_type": "code",
   "execution_count": 16,
   "id": "1c098383",
   "metadata": {},
   "outputs": [
    {
     "data": {
      "text/plain": [
       "<_io.TextIOWrapper name='again2.py' mode='w' encoding='cp1252'>"
      ]
     },
     "execution_count": 16,
     "metadata": {},
     "output_type": "execute_result"
    }
   ],
   "source": [
    "open(\"again2.py\",\"w\")"
   ]
  },
  {
   "cell_type": "code",
   "execution_count": 17,
   "id": "656912b2",
   "metadata": {},
   "outputs": [],
   "source": [
    "import again2"
   ]
  },
  {
   "cell_type": "code",
   "execution_count": 18,
   "id": "773e465c",
   "metadata": {},
   "outputs": [
    {
     "data": {
      "text/plain": [
       "{'student_name': ['ram', 'shyam', 'rahul', 'rajesh'],\n",
       " 'subject_name': ['python', 'c++', 'java', 'javascript'],\n",
       " 'marks_obtain': [70, 88, 66, 91]}"
      ]
     },
     "execution_count": 18,
     "metadata": {},
     "output_type": "execute_result"
    }
   ],
   "source": [
    "again2.data"
   ]
  },
  {
   "cell_type": "code",
   "execution_count": 19,
   "id": "b151c394",
   "metadata": {},
   "outputs": [],
   "source": [
    "from again2 import *"
   ]
  },
  {
   "cell_type": "code",
   "execution_count": 20,
   "id": "7d987101",
   "metadata": {},
   "outputs": [
    {
     "data": {
      "text/plain": [
       "[70, 88, 66, 91]"
      ]
     },
     "execution_count": 20,
     "metadata": {},
     "output_type": "execute_result"
    }
   ],
   "source": [
    "mark()"
   ]
  },
  {
   "cell_type": "code",
   "execution_count": 21,
   "id": "226d4119",
   "metadata": {},
   "outputs": [
    {
     "data": {
      "text/plain": [
       "{'student_name': ['ram', 'shyam', 'rahul', 'rajesh'],\n",
       " 'subject_name': ['python', 'c++', 'java', 'javascript'],\n",
       " 'marks_obtain': [70, 88, 66, 91]}"
      ]
     },
     "execution_count": 21,
     "metadata": {},
     "output_type": "execute_result"
    }
   ],
   "source": [
    "data"
   ]
  },
  {
   "cell_type": "code",
   "execution_count": 22,
   "id": "05d48b75",
   "metadata": {},
   "outputs": [
    {
     "data": {
      "text/plain": [
       "['python', 'c++', 'java', 'javascript']"
      ]
     },
     "execution_count": 22,
     "metadata": {},
     "output_type": "execute_result"
    }
   ],
   "source": [
    "subject()"
   ]
  },
  {
   "cell_type": "code",
   "execution_count": 23,
   "id": "73e0e3a3",
   "metadata": {},
   "outputs": [
    {
     "data": {
      "text/plain": [
       "{'alpha': ['a', 'b', 'c', 'd'],\n",
       " 'capital': ['A', 'B', 'C', 'D'],\n",
       " 'num_defi': [1, 2, 3, 4],\n",
       " 'total': 26}"
      ]
     },
     "execution_count": 23,
     "metadata": {},
     "output_type": "execute_result"
    }
   ],
   "source": [
    "data1"
   ]
  },
  {
   "cell_type": "code",
   "execution_count": 24,
   "id": "d58a2601",
   "metadata": {},
   "outputs": [
    {
     "data": {
      "text/plain": [
       "[1, 2, 3, 4]"
      ]
     },
     "execution_count": 24,
     "metadata": {},
     "output_type": "execute_result"
    }
   ],
   "source": [
    "again2.num()"
   ]
  },
  {
   "cell_type": "code",
   "execution_count": 25,
   "id": "2f921c20",
   "metadata": {},
   "outputs": [
    {
     "data": {
      "text/plain": [
       "['a', 'b', 'c', 'd']"
      ]
     },
     "execution_count": 25,
     "metadata": {},
     "output_type": "execute_result"
    }
   ],
   "source": [
    "alpha()"
   ]
  },
  {
   "cell_type": "code",
   "execution_count": 26,
   "id": "77636d7e",
   "metadata": {},
   "outputs": [
    {
     "data": {
      "text/plain": [
       "[1, 2, 3, 4]"
      ]
     },
     "execution_count": 26,
     "metadata": {},
     "output_type": "execute_result"
    }
   ],
   "source": [
    "num()"
   ]
  },
  {
   "cell_type": "code",
   "execution_count": 27,
   "id": "fb33794c",
   "metadata": {},
   "outputs": [
    {
     "data": {
      "text/plain": [
       "[1, 2, 3, 4]"
      ]
     },
     "execution_count": 27,
     "metadata": {},
     "output_type": "execute_result"
    }
   ],
   "source": [
    "again2.num()"
   ]
  },
  {
   "cell_type": "code",
   "execution_count": 2,
   "id": "8cca8d31",
   "metadata": {},
   "outputs": [],
   "source": [
    "# file = module\n",
    "# folder = pacakage"
   ]
  },
  {
   "cell_type": "code",
   "execution_count": null,
   "id": "40425bb2",
   "metadata": {},
   "outputs": [],
   "source": []
  },
  {
   "cell_type": "code",
   "execution_count": null,
   "id": "af226a12",
   "metadata": {},
   "outputs": [],
   "source": []
  }
 ],
 "metadata": {
  "kernelspec": {
   "display_name": "Python 3 (ipykernel)",
   "language": "python",
   "name": "python3"
  },
  "language_info": {
   "codemirror_mode": {
    "name": "ipython",
    "version": 3
   },
   "file_extension": ".py",
   "mimetype": "text/x-python",
   "name": "python",
   "nbconvert_exporter": "python",
   "pygments_lexer": "ipython3",
   "version": "3.9.12"
  }
 },
 "nbformat": 4,
 "nbformat_minor": 5
}
