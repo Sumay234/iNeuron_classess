{
 "cells": [
  {
   "cell_type": "markdown",
   "id": "20b0b7b5",
   "metadata": {},
   "source": [
    "# Control Flow Statement"
   ]
  },
  {
   "cell_type": "code",
   "execution_count": 1,
   "id": "c7defe6a",
   "metadata": {},
   "outputs": [
    {
     "name": "stdout",
     "output_type": "stream",
     "text": [
      "Pay amount: 903.0\n"
     ]
    }
   ],
   "source": [
    "total_amount=90+100+100+1000\n",
    "\n",
    "if total_amount >999:      # Discount will be 30% if rs is more than 999\n",
    "    price_after_discount =total_amount*70/100\n",
    "    print(f\"Pay amount: {price_after_discount}\")\n",
    "elif total_amount <=999 and total_amount > 499:   #Discount will be 20%\n",
    "    price_after_discount=total_amount*80/100\n",
    "    print(f\"Pay amount: {price_after_discount}\")\n",
    "else:\n",
    "    print(f\"Pay amount: {price_after_discount}\")"
   ]
  },
  {
   "cell_type": "code",
   "execution_count": 2,
   "id": "b3ffde6d",
   "metadata": {},
   "outputs": [
    {
     "name": "stdout",
     "output_type": "stream",
     "text": [
      "Enter the number: 25\n",
      "Its a odd number\n"
     ]
    }
   ],
   "source": [
    "val=float(input(\"Enter the number: \"))\n",
    "if val>=0:\n",
    "    if val > 0:\n",
    "        if (val%2==0):\n",
    "            print(\"Its a even number\")\n",
    "        else:\n",
    "            print(\"Its a odd number\")\n",
    "    \n",
    "else:\n",
    "    if (val%2==0):\n",
    "        print(\"its a negative even no.\")\n",
    "    else:\n",
    "        print(\"its a negative odd no.\")"
   ]
  },
  {
   "cell_type": "markdown",
   "id": "eba23333",
   "metadata": {},
   "source": [
    "# Loop Function"
   ]
  },
  {
   "cell_type": "markdown",
   "id": "7ac25f22",
   "metadata": {},
   "source": [
    "Loops:\n",
    "    \n",
    "    While loop\n",
    "    For loop\n",
    "    Loop control\n",
    "    break\n",
    "    continue\n",
    "    pass\n",
    "    Nested loop"
   ]
  },
  {
   "cell_type": "code",
   "execution_count": 6,
   "id": "bdb7dd65",
   "metadata": {},
   "outputs": [
    {
     "name": "stdout",
     "output_type": "stream",
     "text": [
      "Your score is: 100, cutoff: 400\n",
      "I will attempt next year\n",
      "Your score is: 200, cutoff: 400\n",
      "I will attempt next year\n",
      "Your score is: 300, cutoff: 400\n",
      "I will attempt next year\n",
      "Your score is: 399, cutoff: 400\n",
      "I will attempt next year\n"
     ]
    }
   ],
   "source": [
    "total_marks = 1000\n",
    "cutoff = 400\n",
    "scores= [100,200,300,399,500]\n",
    "\n",
    "year=0  # I will attempting until  i succed\n",
    "\n",
    "while scores[year] < cutoff:\n",
    "    print(f\"Your score is: {scores[year]}, cutoff: {cutoff}\")\n",
    "    print(\"I will attempt next year\")\n",
    "    year=year+1\n",
    "    \n"
   ]
  },
  {
   "cell_type": "code",
   "execution_count": 1,
   "id": "ceab4091",
   "metadata": {},
   "outputs": [
    {
     "name": "stdout",
     "output_type": "stream",
     "text": [
      "current sum is: 10\n",
      "current sum is: 20\n",
      "current sum is: 30\n",
      "current sum is: 40\n",
      "current sum is: 50\n",
      "current sum is: 60\n",
      "current sum is: 70\n",
      "current sum is: 80\n",
      "current sum is: 90\n",
      "current sum is: 100\n"
     ]
    }
   ],
   "source": [
    "'''Child is try to learning a note'''\n",
    "\n",
    "note=10\n",
    "i=1\n",
    "\n",
    "while i <= note:\n",
    "        print(f\"current sum is: {i*10}\")\n",
    "        i=i+1\n",
    "        "
   ]
  },
  {
   "cell_type": "markdown",
   "id": "38ddfbc4",
   "metadata": {},
   "source": [
    "Infinite loop\n",
    "\n",
    "if the CONDITION is always TRUE then you loop will keep on running..."
   ]
  },
  {
   "cell_type": "code",
   "execution_count": 3,
   "id": "73209227",
   "metadata": {},
   "outputs": [
    {
     "name": "stdout",
     "output_type": "stream",
     "text": [
      "current station: station 01\n",
      " Continue i did't receached to destination\n",
      "my destination is: station 03\n",
      "----------------------\n",
      "current station: station 02\n",
      " Continue i did't receached to destination\n",
      "my destination is: station 03\n",
      "----------------------\n"
     ]
    }
   ],
   "source": [
    "station=[\"station 01\",\"station 02\",\"station 03\",\"station 04\"]\n",
    "\n",
    "current_station=0\n",
    "destination_station= \"station 03\"\n",
    "\n",
    "while station[current_station] != destination_station:\n",
    "    print(f\"current station: {station[current_station]}\")\n",
    "    print(\" Continue i did't receached to destination\")\n",
    "\n",
    "    print(f\"my destination is: {destination_station}\")\n",
    "    print(\"----------------------\")\n",
    "    current_station=current_station+1\n",
    "    "
   ]
  },
  {
   "cell_type": "code",
   "execution_count": 1,
   "id": "689f6a94",
   "metadata": {
    "scrolled": true
   },
   "outputs": [
    {
     "name": "stdout",
     "output_type": "stream",
     "text": [
      "current station is: Station 01\n",
      "my destination is: Station 03\n",
      "Continue the journey I haven't reached the destination\n",
      "Next station is: Station 02\n",
      "-----\n",
      "current station is: Station 02\n",
      "my destination is: Station 03\n",
      "Continue the journey I haven't reached the destination\n",
      "Next station is: Station 03\n",
      "-----\n"
     ]
    }
   ],
   "source": [
    "# Train journey \n",
    "stations = [\"Station 01\", \"Station 02\", \"Station 03\", \"Station 04\"]\n",
    "\n",
    "current_station = 0\n",
    "destination_station = \"Station 03\"\n",
    "\n",
    "while stations[current_station] != destination_station:\n",
    "    print(f\"current station is: {stations[current_station]}\")\n",
    "    print(f\"my destination is: {destination_station}\")\n",
    "    print(\"Continue the journey I haven't reached the destination\")\n",
    "    current_station = current_station + 1\n",
    "    print(f\"Next station is: {stations[current_station]}\")\n",
    "    print(\"-----\")\n"
   ]
  },
  {
   "cell_type": "markdown",
   "id": "537cba90",
   "metadata": {},
   "source": [
    "## for loop"
   ]
  },
  {
   "cell_type": "code",
   "execution_count": 3,
   "id": "e6a8cba9",
   "metadata": {},
   "outputs": [
    {
     "name": "stdout",
     "output_type": "stream",
     "text": [
      "10 X 1 = 10\n",
      "10 X 2 = 20\n",
      "10 X 3 = 30\n",
      "10 X 4 = 40\n",
      "10 X 5 = 50\n",
      "10 X 6 = 60\n",
      "10 X 7 = 70\n",
      "10 X 8 = 80\n",
      "10 X 9 = 90\n",
      "10 X 10 = 100\n"
     ]
    }
   ],
   "source": [
    "for i in range(1,11,1):\n",
    "    print(f\"10 X {i} = {10*i}\")"
   ]
  },
  {
   "cell_type": "code",
   "execution_count": 8,
   "id": "595130ff",
   "metadata": {},
   "outputs": [
    {
     "name": "stdout",
     "output_type": "stream",
     "text": [
      "raja\n",
      "rajaraja\n",
      "rajarajaraja\n",
      "rajarajarajaraja\n",
      "rajarajarajarajaraja\n",
      "rajarajarajarajarajaraja\n",
      "rajarajarajarajarajarajaraja\n",
      "rajarajarajarajarajarajarajaraja\n",
      "rajarajarajarajarajarajarajarajaraja\n",
      "rajarajarajarajarajarajarajarajarajaraja\n"
     ]
    }
   ],
   "source": [
    "for i in range(1,11,1):\n",
    "    print(f\"raja\"*i)\n",
    "    "
   ]
  },
  {
   "cell_type": "code",
   "execution_count": 9,
   "id": "ef5e5b50",
   "metadata": {},
   "outputs": [
    {
     "name": "stdout",
     "output_type": "stream",
     "text": [
      "raja\n",
      "rajaraja\n",
      "rajarajaraja\n",
      "rajarajarajaraja\n",
      "rajarajarajarajaraja\n",
      "rajarajarajarajarajaraja\n",
      "rajarajarajarajarajarajaraja\n",
      "rajarajarajarajarajarajarajaraja\n",
      "rajarajarajarajarajarajarajarajaraja\n",
      "rajarajarajarajarajarajarajarajarajaraja\n"
     ]
    }
   ],
   "source": [
    "for i in range(1,11,1):\n",
    "    print(f\"raja\"*i)\n",
    "    i=i+2"
   ]
  },
  {
   "cell_type": "code",
   "execution_count": 12,
   "id": "df4698a1",
   "metadata": {},
   "outputs": [
    {
     "name": "stdout",
     "output_type": "stream",
     "text": [
      "Total anount to be paid: 633\n"
     ]
    }
   ],
   "source": [
    "cost_of_item=[120,140,123,250]\n",
    "\n",
    "total_sum=0\n",
    "for i in range(0,4):\n",
    "    total_sum=total_sum+cost_of_item[i]\n",
    "\n",
    "print(f\"Total anount to be paid: {total_sum}\")"
   ]
  },
  {
   "cell_type": "code",
   "execution_count": 17,
   "id": "3ec6f9b7",
   "metadata": {},
   "outputs": [
    {
     "name": "stdout",
     "output_type": "stream",
     "text": [
      "0=0+120\n",
      "after adding total_sum=120\n",
      "--------------\n",
      "120=120+14\n",
      "after adding total_sum=134\n",
      "--------------\n",
      "134=134+456\n",
      "after adding total_sum=590\n",
      "--------------\n",
      "590=590+123\n",
      "after adding total_sum=713\n",
      "--------------\n",
      "713=713+241\n",
      "after adding total_sum=954\n",
      "--------------\n",
      "954=954+21\n",
      "after adding total_sum=975\n",
      "--------------\n",
      "975=975+1\n",
      "after adding total_sum=976\n",
      "--------------\n",
      "Total sum to be paid: 976\n"
     ]
    }
   ],
   "source": [
    "cost_of_item=[120,14,456,123,241,21,1]\n",
    "\n",
    "total_sum=0\n",
    "n=len(cost_of_item)\n",
    "\n",
    "for i in range(0,n):\n",
    "    print(f\"{total_sum}={total_sum}+{cost_of_item[i]}\")\n",
    "    total_sum=total_sum+cost_of_item[i]\n",
    "   \n",
    "    print(f\"after adding total_sum={total_sum}\")\n",
    "    print(\"--------------\")\n",
    "    \n",
    "print(f\"Total sum to be paid: {total_sum}\")"
   ]
  },
  {
   "cell_type": "code",
   "execution_count": 21,
   "id": "e3c982cf",
   "metadata": {},
   "outputs": [
    {
     "name": "stdout",
     "output_type": "stream",
     "text": [
      "0=0+120\n",
      "after adding total_sum=120\n",
      "--------------\n",
      "120=120+14\n",
      "after adding total_sum=134\n",
      "--------------\n",
      "134=134+456\n",
      "after adding total_sum=590\n",
      "--------------\n",
      "590=590+123\n",
      "after adding total_sum=713\n",
      "--------------\n",
      "713=713+241\n",
      "after adding total_sum=954\n",
      "--------------\n",
      "954=954+21\n",
      "after adding total_sum=975\n",
      "--------------\n",
      "975=975+1\n",
      "after adding total_sum=976\n",
      "--------------\n",
      "Total sum to be paid: 976\n"
     ]
    }
   ],
   "source": [
    "cost_of_item=[120,14,456,123,241,21,1]\n",
    "\n",
    "total_sum=0\n",
    "n=len(cost_of_item)\n",
    "\n",
    "for i in range(0,n):\n",
    "    print(f\"{total_sum}={total_sum}+{cost_of_item[i]}\")\n",
    "    total_sum=total_sum+cost_of_item[i]\n",
    "   \n",
    "    print(f\"after adding total_sum={total_sum}\")\n",
    "    print(\"--------------\")\n",
    "    \n",
    "print(f\"Total sum to be paid: {total_sum}\")"
   ]
  },
  {
   "cell_type": "code",
   "execution_count": 25,
   "id": "6f8fec65",
   "metadata": {},
   "outputs": [
    {
     "name": "stdout",
     "output_type": "stream",
     "text": [
      "0=0+120\n",
      "after adding total_sum=120\n",
      "--------------\n",
      "120=120+14\n",
      "after adding total_sum=134\n",
      "--------------\n",
      "134=134+456\n",
      "after adding total_sum=590\n",
      "--------------\n",
      "590=590+123\n",
      "after adding total_sum=713\n",
      "--------------\n",
      "713=713+241\n",
      "after adding total_sum=954\n",
      "--------------\n",
      "954=954+21\n",
      "after adding total_sum=975\n",
      "--------------\n",
      "975=975+1\n",
      "after adding total_sum=976\n",
      "--------------\n",
      "Total sum to be paid: 976\n"
     ]
    }
   ],
   "source": [
    "cost_of_item=[120,14,456,123,241,21,1]\n",
    "\n",
    "total_sum=0\n",
    "\n",
    "\n",
    "for cost in cost_of_item:\n",
    "    print(f\"{total_sum}={total_sum}+{cost}\")\n",
    "    total_sum=total_sum+cost\n",
    "   \n",
    "    print(f\"after adding total_sum={total_sum}\")\n",
    "    print(\"--------------\")\n",
    "    \n",
    "print(f\"Total sum to be paid: {total_sum}\")"
   ]
  },
  {
   "cell_type": "markdown",
   "id": "51a2230d",
   "metadata": {},
   "source": [
    "## Break and Continue and Pass"
   ]
  },
  {
   "cell_type": "code",
   "execution_count": 36,
   "id": "808628e9",
   "metadata": {},
   "outputs": [
    {
     "name": "stdout",
     "output_type": "stream",
     "text": [
      "current total: 100\n",
      "current total: 300\n",
      "current total: 429\n",
      "current total: 885\n",
      "current total: 1885\n",
      "current total: 2084\n",
      "Since the total sum is more than budget: 2000\n",
      "Please remeove the last item\n",
      "Now the total amount to be paid: 1885\n"
     ]
    }
   ],
   "source": [
    "cost_of_item=[100,200,129,456,1000,199,299]\n",
    "\n",
    "total_sum=0\n",
    "budget=2000\n",
    "\n",
    "for cost in cost_of_item:\n",
    "    total_sum=total_sum+cost\n",
    "    print(f'current total: {total_sum}')\n",
    "    if total_sum > budget:\n",
    "        print(f\"Since the total sum is more than budget: {budget}\")\n",
    "        print(\"Please remeove the last item\")\n",
    "        total_sum=total_sum-cost\n",
    "        break\n",
    "        \n",
    "print(f\"Now the total amount to be paid: {total_sum}\")"
   ]
  },
  {
   "cell_type": "code",
   "execution_count": 48,
   "id": "3cc0f8db",
   "metadata": {},
   "outputs": [
    {
     "name": "stdout",
     "output_type": "stream",
     "text": [
      "current total: 100\n",
      "current total: 300\n",
      "current total: 429\n",
      "current total: 885\n",
      "current total: 1885\n",
      "current total: 2084\n",
      "Since the total sum is more than budget: 2000\n",
      "Please remeove the last item\n",
      "Now the total amount to be paid: 1885\n"
     ]
    }
   ],
   "source": [
    "cost_of_item=[100,200,129,456,1000,199,299]\n",
    "\n",
    "total_sum=0\n",
    "budget=2000\n",
    "\n",
    "for cost in cost_of_item:\n",
    "    total_sum=total_sum+cost\n",
    "    print(f'current total: {total_sum}')\n",
    "    if total_sum > budget:\n",
    "        print(f\"Since the total sum is more than budget: {budget}\")\n",
    "        print(\"Please remeove the last item\")\n",
    "        total_sum=total_sum-cost\n",
    "        break\n",
    "print(f\"Now the total amount to be paid: {total_sum}\")"
   ]
  },
  {
   "cell_type": "code",
   "execution_count": 74,
   "id": "2e1082ad",
   "metadata": {},
   "outputs": [
    {
     "name": "stdout",
     "output_type": "stream",
     "text": [
      "Current total is: 200\n",
      "Current total is: 300\n",
      "Current total is: 450\n",
      "Current total is: 615\n",
      "Current total is: 1615\n",
      "Current total is: 1735\n",
      "Current total is: 1875\n",
      "Current total is: 1998\n",
      "Current total is: 2187\n",
      "uuuf the total sum is more than my budget is: 2000 and\n",
      "And my Purchasing is: 4538\n",
      "No problem just remove the last items\n",
      "After removing the item total amount to be paid: 1998\n"
     ]
    }
   ],
   "source": [
    "# 2 type problem\n",
    "\n",
    "cost_of_purchasing_items=[200,100,150,165,1000,120,140,123,189,741,500,550,560]\n",
    "total_sum=0\n",
    "budgets=2000\n",
    "\n",
    "for cost in cost_of_purchasing_items:\n",
    "    total_sum=total_sum+cost\n",
    "    print(f\"Current total is: {total_sum}\")\n",
    "    if total_sum > budgets:\n",
    "        print(f\"uuuf the total sum is more than my budget is: {budgets} and\")\n",
    "        print(f\"And my Purchasing is: {sum(cost_of_purchasing_items)}\")\n",
    "        print(\"No problem just remove the last items\")\n",
    "        total_sum=total_sum-cost\n",
    "        break\n",
    "print(f\"After removing the item total amount to be paid: {total_sum}\")\n",
    "\n"
   ]
  },
  {
   "cell_type": "code",
   "execution_count": 71,
   "id": "bb3b66b5",
   "metadata": {},
   "outputs": [
    {
     "name": "stdout",
     "output_type": "stream",
     "text": [
      "Current total is: 200\n",
      "Current total is: 300\n",
      "Current total is: 450\n",
      "Current total is: 615\n",
      "Current total is: 1615\n",
      "Current total is: 1735\n",
      "Current total is: 1875\n",
      "Current total is: 1998\n",
      "Current total is: 2187\n",
      "uuuf the total sum is more than my budget: 4538 \n",
      "No problem just remove the last items\n",
      "After removing the item total amount to be paid: 1998\n"
     ]
    }
   ],
   "source": [
    "# 2 type problem\n",
    "\n",
    "cost_of_purchasing_items=[200,100,150,165,1000,120,140,123,189,741,500,550,560]\n",
    "total_sum=0\n",
    "budgets=2000\n",
    "\n",
    "for cost in cost_of_purchasing_items:\n",
    "    total_sum=total_sum+cost\n",
    "    print(f\"Current total is: {total_sum}\")\n",
    "    if total_sum > budgets:\n",
    "        print(f\"uuuf the total sum is more than my budget: {sum(cost_of_purchasing_items)} \")\n",
    "        print(\"No problem just remove the last items\")\n",
    "        total_sum=total_sum-cost\n",
    "        break\n",
    "print(f\"After removing the item total amount to be paid: {total_sum}\")\n",
    "\n"
   ]
  },
  {
   "cell_type": "code",
   "execution_count": 79,
   "id": "8d12ef52",
   "metadata": {},
   "outputs": [
    {
     "name": "stdout",
     "output_type": "stream",
     "text": [
      "1\n",
      "3\n",
      "5\n",
      "7\n",
      "9\n",
      "11\n",
      "13\n",
      "15\n",
      "17\n",
      "19\n"
     ]
    }
   ],
   "source": [
    "for i in range(1,20):\n",
    "    if i%2 ==0:\n",
    "        continue\n",
    "    print(i)"
   ]
  },
  {
   "cell_type": "code",
   "execution_count": 76,
   "id": "55e13c85",
   "metadata": {},
   "outputs": [
    {
     "name": "stdout",
     "output_type": "stream",
     "text": [
      "1\n"
     ]
    }
   ],
   "source": [
    "for i in range(1,20):\n",
    "    if i%2 ==0:\n",
    "        break\n",
    "    print(i)"
   ]
  },
  {
   "cell_type": "code",
   "execution_count": 82,
   "id": "842ba6ab",
   "metadata": {},
   "outputs": [
    {
     "name": "stdout",
     "output_type": "stream",
     "text": [
      "Current stationis : station 01\n",
      "Current stationis : station 02\n",
      "Current stationis : station 03\n"
     ]
    }
   ],
   "source": [
    "stations=[\"station 01\",\"station 02\",\"station 03\",\"station 04\",\"station 05\",\"station 06\"]\n",
    "\n",
    "for current_station in stations:\n",
    "    print(f\"Current stationis : {current_station}\")\n",
    "    if current_station == \"station 03\":\n",
    "        break"
   ]
  },
  {
   "cell_type": "code",
   "execution_count": 92,
   "id": "1dc6253e",
   "metadata": {},
   "outputs": [
    {
     "name": "stdout",
     "output_type": "stream",
     "text": [
      "Current stationis : station 01\n",
      "Current stationis : station 02\n",
      "Current stationis : station 03\n",
      "Current stationis : station 04\n",
      "Current stationis : station 05\n",
      "Current stationis : station 06\n"
     ]
    }
   ],
   "source": [
    "stations=[\"station 01\",\"station 02\",\"station 03\",\"station 04\",\"station 05\",\"station 06\"]\n",
    "\n",
    "for current_station in stations:\n",
    "    print(f\"Current stationis : {current_station}\")\n",
    "    if current_station == \"station 03\":\n",
    "        continue\n",
    " # Wrong process..."
   ]
  },
  {
   "cell_type": "code",
   "execution_count": 87,
   "id": "fef56dc5",
   "metadata": {},
   "outputs": [
    {
     "name": "stdout",
     "output_type": "stream",
     "text": [
      "Current stationis : station 01\n",
      "Current stationis : station 02\n",
      "Current stationis : station 04\n",
      "Current stationis : station 05\n",
      "Current stationis : station 06\n"
     ]
    }
   ],
   "source": [
    "stations=[\"station 01\",\"station 02\",\"station 03\",\"station 04\",\"station 05\",\"station 06\"]\n",
    "\n",
    "for current_station in stations:\n",
    "    \n",
    "    if current_station == \"station 03\":\n",
    "        continue\n",
    "    print(f\"Current stationis : {current_station}\")"
   ]
  },
  {
   "cell_type": "code",
   "execution_count": 88,
   "id": "efab09c4",
   "metadata": {},
   "outputs": [
    {
     "name": "stdout",
     "output_type": "stream",
     "text": [
      "Current stationis : station 01\n",
      "Current stationis : station 02\n"
     ]
    }
   ],
   "source": [
    "stations=[\"station 01\",\"station 02\",\"station 03\",\"station 04\",\"station 05\",\"station 06\"]\n",
    "\n",
    "for current_station in stations:\n",
    "    \n",
    "    if current_station == \"station 03\":\n",
    "        break\n",
    "    print(f\"Current stationis : {current_station}\")"
   ]
  },
  {
   "cell_type": "code",
   "execution_count": 90,
   "id": "fdfd782c",
   "metadata": {},
   "outputs": [
    {
     "name": "stdout",
     "output_type": "stream",
     "text": [
      "Current stationis : station 03\n"
     ]
    }
   ],
   "source": [
    "stations=[\"station 01\",\"station 02\",\"station 03\",\"station 04\",\"station 05\",\"station 06\"]\n",
    "\n",
    "for current_station in stations:\n",
    "    \n",
    "    if current_station == \"station 03\":\n",
    "        \n",
    "        print(f\"Current stationis : {current_station}\")\n",
    "        break"
   ]
  },
  {
   "cell_type": "code",
   "execution_count": 91,
   "id": "eec7689c",
   "metadata": {},
   "outputs": [],
   "source": []
  },
  {
   "cell_type": "code",
   "execution_count": null,
   "id": "6b0916af",
   "metadata": {},
   "outputs": [],
   "source": []
  },
  {
   "cell_type": "code",
   "execution_count": null,
   "id": "255460d0",
   "metadata": {},
   "outputs": [],
   "source": []
  },
  {
   "cell_type": "code",
   "execution_count": null,
   "id": "e598a419",
   "metadata": {},
   "outputs": [],
   "source": []
  },
  {
   "cell_type": "code",
   "execution_count": null,
   "id": "b794db62",
   "metadata": {},
   "outputs": [],
   "source": []
  },
  {
   "cell_type": "code",
   "execution_count": null,
   "id": "6ecf5ece",
   "metadata": {},
   "outputs": [],
   "source": []
  },
  {
   "cell_type": "code",
   "execution_count": null,
   "id": "46299127",
   "metadata": {},
   "outputs": [],
   "source": []
  }
 ],
 "metadata": {
  "kernelspec": {
   "display_name": "Python 3 (ipykernel)",
   "language": "python",
   "name": "python3"
  },
  "language_info": {
   "codemirror_mode": {
    "name": "ipython",
    "version": 3
   },
   "file_extension": ".py",
   "mimetype": "text/x-python",
   "name": "python",
   "nbconvert_exporter": "python",
   "pygments_lexer": "ipython3",
   "version": "3.9.12"
  }
 },
 "nbformat": 4,
 "nbformat_minor": 5
}
