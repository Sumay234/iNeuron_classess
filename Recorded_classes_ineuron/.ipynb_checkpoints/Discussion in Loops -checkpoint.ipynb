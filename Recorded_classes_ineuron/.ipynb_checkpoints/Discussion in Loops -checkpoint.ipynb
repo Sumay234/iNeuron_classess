{
 "cells": [
  {
   "cell_type": "markdown",
   "id": "661cd8f2",
   "metadata": {},
   "source": [
    "# Discussion In Loops"
   ]
  },
  {
   "cell_type": "code",
   "execution_count": 1,
   "id": "3e551bc7",
   "metadata": {},
   "outputs": [
    {
     "data": {
      "text/plain": [
       "28"
      ]
     },
     "execution_count": 1,
     "metadata": {},
     "output_type": "execute_result"
    }
   ],
   "source": [
    "s=\"this is a basic python class\"\n",
    "len(s)"
   ]
  },
  {
   "cell_type": "code",
   "execution_count": 2,
   "id": "26344376",
   "metadata": {},
   "outputs": [
    {
     "name": "stdout",
     "output_type": "stream",
     "text": [
      "28\n"
     ]
    }
   ],
   "source": [
    "count=0\n",
    "for i in s:\n",
    "    count=count+1  # or count+=1\n",
    "print(count)"
   ]
  },
  {
   "cell_type": "code",
   "execution_count": 3,
   "id": "80ff17a2",
   "metadata": {},
   "outputs": [
    {
     "data": {
      "text/plain": [
       "'ssalc nohtyp cisab a si siht'"
      ]
     },
     "execution_count": 3,
     "metadata": {},
     "output_type": "execute_result"
    }
   ],
   "source": [
    "s[::-1]"
   ]
  },
  {
   "cell_type": "code",
   "execution_count": 4,
   "id": "5673ffd4",
   "metadata": {},
   "outputs": [
    {
     "name": "stdout",
     "output_type": "stream",
     "text": [
      "s\n",
      "s\n",
      "a\n",
      "l\n",
      "c\n",
      " \n",
      "n\n",
      "o\n",
      "h\n",
      "t\n",
      "y\n",
      "p\n",
      " \n",
      "c\n",
      "i\n",
      "s\n",
      "a\n",
      "b\n",
      " \n",
      "a\n",
      " \n",
      "s\n",
      "i\n",
      " \n",
      "s\n",
      "i\n",
      "h\n",
      "t\n"
     ]
    }
   ],
   "source": [
    "for i in range(len(s)-1,-1,-1):\n",
    "    print(s[i])"
   ]
  },
  {
   "cell_type": "code",
   "execution_count": 5,
   "id": "30da5b05",
   "metadata": {},
   "outputs": [
    {
     "data": {
      "text/plain": [
       "'this is a basic python class'"
      ]
     },
     "execution_count": 5,
     "metadata": {},
     "output_type": "execute_result"
    }
   ],
   "source": [
    "s"
   ]
  },
  {
   "cell_type": "code",
   "execution_count": 6,
   "id": "dd0f1151",
   "metadata": {},
   "outputs": [
    {
     "name": "stdout",
     "output_type": "stream",
     "text": [
      "ssalc nohtyp cisab a si siht"
     ]
    }
   ],
   "source": [
    "i=len(s)-1\n",
    "while(i>=0):\n",
    "    print(s[i], end=\"\")\n",
    "    i=i-1"
   ]
  },
  {
   "cell_type": "code",
   "execution_count": 7,
   "id": "d6683b7c",
   "metadata": {},
   "outputs": [
    {
     "data": {
      "text/plain": [
       "10"
      ]
     },
     "execution_count": 7,
     "metadata": {},
     "output_type": "execute_result"
    }
   ],
   "source": [
    "s.index(\"b\")"
   ]
  },
  {
   "cell_type": "code",
   "execution_count": 8,
   "id": "c4e18b3a",
   "metadata": {},
   "outputs": [
    {
     "ename": "TypeError",
     "evalue": "'in <string>' requires string as left operand, not int",
     "output_type": "error",
     "traceback": [
      "\u001b[1;31m---------------------------------------------------------------------------\u001b[0m",
      "\u001b[1;31mTypeError\u001b[0m                                 Traceback (most recent call last)",
      "Input \u001b[1;32mIn [8]\u001b[0m, in \u001b[0;36m<cell line: 4>\u001b[1;34m()\u001b[0m\n\u001b[0;32m      1\u001b[0m s\u001b[38;5;241m=\u001b[39m\u001b[38;5;124m\"\u001b[39m\u001b[38;5;124mineuron\u001b[39m\u001b[38;5;124m\"\u001b[39m\n\u001b[0;32m      2\u001b[0m v\u001b[38;5;241m=\u001b[39m\u001b[38;5;124m\"\u001b[39m\u001b[38;5;124mAaEeIiOoUu\u001b[39m\u001b[38;5;124m\"\u001b[39m\n\u001b[1;32m----> 4\u001b[0m \u001b[38;5;28;01mif\u001b[39;00m \u001b[43mi\u001b[49m\u001b[43m \u001b[49m\u001b[38;5;129;43;01min\u001b[39;49;00m\u001b[43m \u001b[49m\u001b[43mv\u001b[49m:\n\u001b[0;32m      5\u001b[0m     \u001b[38;5;28;01mif\u001b[39;00m s[i]\u001b[38;5;241m==\u001b[39mv:\n\u001b[0;32m      6\u001b[0m         \u001b[38;5;28mprint\u001b[39m(i)\n",
      "\u001b[1;31mTypeError\u001b[0m: 'in <string>' requires string as left operand, not int"
     ]
    }
   ],
   "source": [
    "s=\"ineuron\"\n",
    "v=\"AaEeIiOoUu\"\n",
    "\n",
    "if i in v:\n",
    "    if s[i]==v:\n",
    "        print(i)"
   ]
  },
  {
   "cell_type": "code",
   "execution_count": 9,
   "id": "01b1d372",
   "metadata": {},
   "outputs": [
    {
     "name": "stdout",
     "output_type": "stream",
     "text": [
      "Vowel i\n",
      "not vowel  n\n",
      "Vowel e\n",
      "Vowel u\n",
      "not vowel  r\n",
      "Vowel o\n",
      "not vowel  n\n"
     ]
    }
   ],
   "source": [
    "s=\"ineuron\"\n",
    "v=\"AaEeIiOoUu\"\n",
    "\n",
    "for i in s:\n",
    "    if i in v:\n",
    "        print(\"Vowel\", i)\n",
    "    else:\n",
    "        print(\"not vowel \",i)"
   ]
  },
  {
   "cell_type": "code",
   "execution_count": 10,
   "id": "4e3e9c72",
   "metadata": {},
   "outputs": [
    {
     "name": "stdout",
     "output_type": "stream",
     "text": [
      "no\n",
      "no\n",
      "yes\n"
     ]
    }
   ],
   "source": [
    "x=\"mom\"\n",
    "\n",
    "w=\"\"\n",
    "for i in x:\n",
    "    w=i+w\n",
    "    if(x==w):\n",
    "        print(\"yes\")\n",
    "    else:\n",
    "        print(\"no\")\n",
    "        \n",
    "        # Not a correct code--"
   ]
  },
  {
   "cell_type": "code",
   "execution_count": 11,
   "id": "f3223cfb",
   "metadata": {},
   "outputs": [
    {
     "name": "stdout",
     "output_type": "stream",
     "text": [
      "5\n",
      "palindrome\n"
     ]
    }
   ],
   "source": [
    "s=input()\n",
    "v=s[::-1]\n",
    "\n",
    "if s==v:\n",
    "    print(\"palindrome\")\n",
    "else:\n",
    "    print(\"Not palindrome\")"
   ]
  },
  {
   "cell_type": "code",
   "execution_count": 12,
   "id": "bbec3557",
   "metadata": {},
   "outputs": [
    {
     "name": "stdout",
     "output_type": "stream",
     "text": [
      "Enter the word5\n",
      "5 is palindrome\n"
     ]
    }
   ],
   "source": [
    "word=input(\"Enter the word\")\n",
    "for i in range(len(word)):\n",
    "    if word[i] == word[len(word)-1-i]:\n",
    "        print(word , \"is palindrome\")\n",
    "        break\n",
    "    else:\n",
    "        print(word ,\"is not palindrome\")\n",
    "        break"
   ]
  },
  {
   "cell_type": "code",
   "execution_count": 13,
   "id": "40c62c1a",
   "metadata": {},
   "outputs": [
    {
     "name": "stdout",
     "output_type": "stream",
     "text": [
      "Enter word :- 5\n",
      "5  palindrome\n"
     ]
    }
   ],
   "source": [
    "word=input(\"Enter word :- \")\n",
    "\n",
    "for i in range(len(word)):\n",
    "    if word[i] != word[len(word)-i-1]:\n",
    "        print(word ,\" is not palindrome\")\n",
    "        break\n",
    "else:\n",
    "    print(word , \" palindrome\")"
   ]
  },
  {
   "cell_type": "code",
   "execution_count": 14,
   "id": "3cebd6de",
   "metadata": {},
   "outputs": [
    {
     "name": "stdout",
     "output_type": "stream",
     "text": [
      "Enter word :- 5\n",
      "5  palindrome\n"
     ]
    }
   ],
   "source": [
    "word=input(\"Enter word :- \")\n",
    "\n",
    "for i in range(len(word)):\n",
    "    if word[i] != word[len(word)-i-1]:\n",
    "        print(word ,\" is not palindrome\")\n",
    "        break\n",
    "    else:\n",
    "        print(word , \" palindrome\")\n",
    "        break"
   ]
  },
  {
   "cell_type": "code",
   "execution_count": 15,
   "id": "a0c2bd1a",
   "metadata": {},
   "outputs": [
    {
     "name": "stdout",
     "output_type": "stream",
     "text": [
      "5\n",
      "Palindrome\n"
     ]
    }
   ],
   "source": [
    "s=input()\n",
    "f=\"\"\n",
    "i=len(s)-1\n",
    "\n",
    "while(i>=0):\n",
    "    f=f+s[i]\n",
    "    i=i-1\n",
    "if s==f:\n",
    "    print(\"Palindrome\")\n",
    "else:\n",
    "    print(\"Not a palindrome\")"
   ]
  },
  {
   "cell_type": "code",
   "execution_count": 16,
   "id": "2771b481",
   "metadata": {},
   "outputs": [],
   "source": [
    "d= {\"India\":\"IN\",\n",
    "    \"canada\":\"CN\",\n",
    "    \"china\": \"CH\",\n",
    "    \"united state\":\"US\"\n",
    "    \n",
    "   }"
   ]
  },
  {
   "cell_type": "code",
   "execution_count": 17,
   "id": "b6285386",
   "metadata": {},
   "outputs": [
    {
     "data": {
      "text/plain": [
       "True"
      ]
     },
     "execution_count": 17,
     "metadata": {},
     "output_type": "execute_result"
    }
   ],
   "source": [
    "\"India\" in d"
   ]
  },
  {
   "cell_type": "code",
   "execution_count": 18,
   "id": "3acfa259",
   "metadata": {},
   "outputs": [
    {
     "name": "stdout",
     "output_type": "stream",
     "text": [
      "<built-in method keys of dict object at 0x00000206F9E0B700>\n"
     ]
    }
   ],
   "source": [
    "print(d.keys)"
   ]
  },
  {
   "cell_type": "code",
   "execution_count": 19,
   "id": "806e45f4",
   "metadata": {},
   "outputs": [
    {
     "data": {
      "text/plain": [
       "<function dict.items>"
      ]
     },
     "execution_count": 19,
     "metadata": {},
     "output_type": "execute_result"
    }
   ],
   "source": [
    "d.items"
   ]
  },
  {
   "cell_type": "code",
   "execution_count": 20,
   "id": "60471379",
   "metadata": {},
   "outputs": [
    {
     "data": {
      "text/plain": [
       "dict_values(['IN', 'CN', 'CH', 'US'])"
      ]
     },
     "execution_count": 20,
     "metadata": {},
     "output_type": "execute_result"
    }
   ],
   "source": [
    "d.values()"
   ]
  },
  {
   "cell_type": "code",
   "execution_count": 21,
   "id": "0187d401",
   "metadata": {},
   "outputs": [
    {
     "data": {
      "text/plain": [
       "dict_keys(['India', 'canada', 'china', 'united state'])"
      ]
     },
     "execution_count": 21,
     "metadata": {},
     "output_type": "execute_result"
    }
   ],
   "source": [
    "d.keys()"
   ]
  },
  {
   "cell_type": "code",
   "execution_count": 22,
   "id": "8e5b8411",
   "metadata": {},
   "outputs": [],
   "source": [
    "l_geater=[]\n",
    "l_smaller=[]\n",
    "\n",
    "for i in d:\n",
    "    if len(i)<=5:\n",
    "        l_smaller.append(i)\n",
    "    else:\n",
    "        l_geater.append(i)"
   ]
  },
  {
   "cell_type": "code",
   "execution_count": 23,
   "id": "e77dca76",
   "metadata": {},
   "outputs": [
    {
     "data": {
      "text/plain": [
       "['canada', 'united state']"
      ]
     },
     "execution_count": 23,
     "metadata": {},
     "output_type": "execute_result"
    }
   ],
   "source": [
    "l_geater"
   ]
  },
  {
   "cell_type": "code",
   "execution_count": 24,
   "id": "8b3091d6",
   "metadata": {},
   "outputs": [
    {
     "data": {
      "text/plain": [
       "['India', 'china']"
      ]
     },
     "execution_count": 24,
     "metadata": {},
     "output_type": "execute_result"
    }
   ],
   "source": [
    "l_smaller"
   ]
  },
  {
   "cell_type": "code",
   "execution_count": 25,
   "id": "5a930455",
   "metadata": {},
   "outputs": [],
   "source": [
    "d_1= { \"ineruron\":{\n",
    "                        \"a\":10,\n",
    "                        \"b\":15,\n",
    "                        \"c\":20\n",
    "\n",
    "                    },\n",
    "      \"Course\": {\n",
    "                      \"d\":30,\n",
    "                      \"e\":35,\n",
    "                      \"f\":40\n",
    "                  }\n",
    "\n",
    "}"
   ]
  },
  {
   "cell_type": "code",
   "execution_count": 26,
   "id": "9109918f",
   "metadata": {},
   "outputs": [
    {
     "data": {
      "text/plain": [
       "{'ineruron': {'a': 10, 'b': 15, 'c': 20},\n",
       " 'Course': {'d': 30, 'e': 35, 'f': 40}}"
      ]
     },
     "execution_count": 26,
     "metadata": {},
     "output_type": "execute_result"
    }
   ],
   "source": [
    "d_1"
   ]
  },
  {
   "cell_type": "code",
   "execution_count": null,
   "id": "287cbd2a",
   "metadata": {},
   "outputs": [],
   "source": []
  },
  {
   "cell_type": "code",
   "execution_count": 27,
   "id": "dcf15199",
   "metadata": {},
   "outputs": [
    {
     "data": {
      "text/plain": [
       "'c'"
      ]
     },
     "execution_count": 27,
     "metadata": {},
     "output_type": "execute_result"
    }
   ],
   "source": [
    "max(d_1[\"ineruron\"])"
   ]
  },
  {
   "cell_type": "code",
   "execution_count": 28,
   "id": "5699af38",
   "metadata": {},
   "outputs": [
    {
     "data": {
      "text/plain": [
       "'Course'"
      ]
     },
     "execution_count": 28,
     "metadata": {},
     "output_type": "execute_result"
    }
   ],
   "source": [
    "min(d_1)"
   ]
  },
  {
   "cell_type": "code",
   "execution_count": 29,
   "id": "4962fab1",
   "metadata": {},
   "outputs": [
    {
     "name": "stdout",
     "output_type": "stream",
     "text": [
      "20\n",
      "40\n"
     ]
    }
   ],
   "source": [
    "lst=[]\n",
    "for i in d_1.values():\n",
    "    for j in i.values():\n",
    "        lst.append(j)\n",
    "    print(max(lst))"
   ]
  },
  {
   "cell_type": "code",
   "execution_count": 30,
   "id": "0c0250dd",
   "metadata": {},
   "outputs": [
    {
     "data": {
      "text/plain": [
       "40"
      ]
     },
     "execution_count": 30,
     "metadata": {},
     "output_type": "execute_result"
    }
   ],
   "source": [
    "max(lst)"
   ]
  },
  {
   "cell_type": "code",
   "execution_count": 31,
   "id": "0b18e62f",
   "metadata": {},
   "outputs": [
    {
     "data": {
      "text/plain": [
       "10"
      ]
     },
     "execution_count": 31,
     "metadata": {},
     "output_type": "execute_result"
    }
   ],
   "source": [
    "min(lst)"
   ]
  },
  {
   "cell_type": "code",
   "execution_count": 3,
   "id": "5864893a",
   "metadata": {},
   "outputs": [],
   "source": [
    "d_1= { \"ineruron\":{\n",
    "                        \"a\":10,\n",
    "                        \"b\":15,\n",
    "                        \"c\":20\n",
    "\n",
    "                    },\n",
    "      \"Course\": {\n",
    "                      \"d\":30,\n",
    "                      \"e\":35,\n",
    "                      \"f\":40\n",
    "                  },\n",
    "      \"g\":34,\"h\":[45,6,7,8,9],\"i\":(45,34,2),\"k\":\"sudh\"\n",
    "\n",
    "}"
   ]
  },
  {
   "cell_type": "code",
   "execution_count": 4,
   "id": "1a11e86d",
   "metadata": {},
   "outputs": [
    {
     "data": {
      "text/plain": [
       "{'ineruron': {'a': 10, 'b': 15, 'c': 20},\n",
       " 'Course': {'d': 30, 'e': 35, 'f': 40},\n",
       " 'g': 34,\n",
       " 'h': [45, 6, 7, 8, 9],\n",
       " 'i': (45, 34, 2),\n",
       " 'k': 'sudh'}"
      ]
     },
     "execution_count": 4,
     "metadata": {},
     "output_type": "execute_result"
    }
   ],
   "source": [
    "d_1"
   ]
  },
  {
   "cell_type": "code",
   "execution_count": 5,
   "id": "bfb34128",
   "metadata": {},
   "outputs": [
    {
     "ename": "TypeError",
     "evalue": "list indices must be integers or slices, not dict",
     "output_type": "error",
     "traceback": [
      "\u001b[1;31m---------------------------------------------------------------------------\u001b[0m",
      "\u001b[1;31mTypeError\u001b[0m                                 Traceback (most recent call last)",
      "Input \u001b[1;32mIn [5]\u001b[0m, in \u001b[0;36m<cell line: 3>\u001b[1;34m()\u001b[0m\n\u001b[0;32m      4\u001b[0m \u001b[38;5;28;01mfor\u001b[39;00m j \u001b[38;5;129;01min\u001b[39;00m i\u001b[38;5;241m.\u001b[39mvalues():\n\u001b[0;32m      5\u001b[0m     lst\u001b[38;5;241m.\u001b[39mappend(lst)\n\u001b[1;32m----> 6\u001b[0m \u001b[38;5;28mprint\u001b[39m(\u001b[38;5;28mmax\u001b[39m(\u001b[43mlst\u001b[49m\u001b[43m[\u001b[49m\u001b[43mi\u001b[49m\u001b[43m]\u001b[49m))\n",
      "\u001b[1;31mTypeError\u001b[0m: list indices must be integers or slices, not dict"
     ]
    }
   ],
   "source": [
    "lst=[]\n",
    "\n",
    "for i in d_1.values():\n",
    "    for j in i.values():\n",
    "        lst.append(lst)\n",
    "    print(max(lst[i]))"
   ]
  },
  {
   "cell_type": "code",
   "execution_count": null,
   "id": "066dd5c4",
   "metadata": {},
   "outputs": [],
   "source": []
  },
  {
   "cell_type": "code",
   "execution_count": 6,
   "id": "4df4ad3e",
   "metadata": {},
   "outputs": [],
   "source": [
    "d=d_1\n"
   ]
  },
  {
   "cell_type": "code",
   "execution_count": 7,
   "id": "cdabd405",
   "metadata": {},
   "outputs": [
    {
     "data": {
      "text/plain": [
       "{'ineruron': {'a': 10, 'b': 15, 'c': 20},\n",
       " 'Course': {'d': 30, 'e': 35, 'f': 40},\n",
       " 'g': 34,\n",
       " 'h': [45, 6, 7, 8, 9],\n",
       " 'i': (45, 34, 2),\n",
       " 'k': 'sudh'}"
      ]
     },
     "execution_count": 7,
     "metadata": {},
     "output_type": "execute_result"
    }
   ],
   "source": [
    "d"
   ]
  },
  {
   "cell_type": "code",
   "execution_count": 8,
   "id": "f2086dae",
   "metadata": {},
   "outputs": [
    {
     "name": "stdout",
     "output_type": "stream",
     "text": [
      "[[...], [...], [...]]\n",
      "[[...], [...], [...], [...], [...], [...]]\n"
     ]
    },
    {
     "ename": "AttributeError",
     "evalue": "'int' object has no attribute 'values'",
     "output_type": "error",
     "traceback": [
      "\u001b[1;31m---------------------------------------------------------------------------\u001b[0m",
      "\u001b[1;31mAttributeError\u001b[0m                            Traceback (most recent call last)",
      "Input \u001b[1;32mIn [8]\u001b[0m, in \u001b[0;36m<cell line: 3>\u001b[1;34m()\u001b[0m\n\u001b[0;32m      1\u001b[0m lst\u001b[38;5;241m=\u001b[39m[]\n\u001b[0;32m      3\u001b[0m \u001b[38;5;28;01mfor\u001b[39;00m i \u001b[38;5;129;01min\u001b[39;00m d_1\u001b[38;5;241m.\u001b[39mvalues():\n\u001b[1;32m----> 4\u001b[0m     \u001b[38;5;28;01mfor\u001b[39;00m j \u001b[38;5;129;01min\u001b[39;00m \u001b[43mi\u001b[49m\u001b[38;5;241;43m.\u001b[39;49m\u001b[43mvalues\u001b[49m():\n\u001b[0;32m      5\u001b[0m         lst\u001b[38;5;241m.\u001b[39mappend(lst)\n\u001b[0;32m      6\u001b[0m     \u001b[38;5;28mprint\u001b[39m(\u001b[38;5;28mmax\u001b[39m(lst))\n",
      "\u001b[1;31mAttributeError\u001b[0m: 'int' object has no attribute 'values'"
     ]
    }
   ],
   "source": [
    "lst=[]\n",
    "\n",
    "for i in d_1.values():\n",
    "    for j in i.values():\n",
    "        lst.append(lst)\n",
    "    print(max(lst))"
   ]
  },
  {
   "cell_type": "code",
   "execution_count": 9,
   "id": "bc77e805",
   "metadata": {},
   "outputs": [
    {
     "data": {
      "text/plain": [
       "dict_values([{'a': 10, 'b': 15, 'c': 20}, {'d': 30, 'e': 35, 'f': 40}, 34, [45, 6, 7, 8, 9], (45, 34, 2), 'sudh'])"
      ]
     },
     "execution_count": 9,
     "metadata": {},
     "output_type": "execute_result"
    }
   ],
   "source": [
    "d.values()"
   ]
  },
  {
   "cell_type": "code",
   "execution_count": null,
   "id": "7383173e",
   "metadata": {},
   "outputs": [],
   "source": []
  },
  {
   "cell_type": "code",
   "execution_count": 10,
   "id": "8d4679a0",
   "metadata": {},
   "outputs": [
    {
     "ename": "AttributeError",
     "evalue": "'int' object has no attribute 'values'",
     "output_type": "error",
     "traceback": [
      "\u001b[1;31m---------------------------------------------------------------------------\u001b[0m",
      "\u001b[1;31mAttributeError\u001b[0m                            Traceback (most recent call last)",
      "Input \u001b[1;32mIn [10]\u001b[0m, in \u001b[0;36m<cell line: 2>\u001b[1;34m()\u001b[0m\n\u001b[0;32m      2\u001b[0m \u001b[38;5;28;01mfor\u001b[39;00m i \u001b[38;5;129;01min\u001b[39;00m d\u001b[38;5;241m.\u001b[39mvalues():\n\u001b[0;32m      3\u001b[0m     \u001b[38;5;28;01mif\u001b[39;00m \u001b[38;5;28mtype\u001b[39m(i) \u001b[38;5;241m==\u001b[39m \u001b[38;5;28mint\u001b[39m:\n\u001b[1;32m----> 4\u001b[0m         r\u001b[38;5;241m.\u001b[39mappend(\u001b[38;5;28mmax\u001b[39m(\u001b[43mi\u001b[49m\u001b[38;5;241;43m.\u001b[39;49m\u001b[43mvalues\u001b[49m()))\n\u001b[0;32m      5\u001b[0m         \u001b[38;5;28mprint\u001b[39m(\u001b[38;5;28mmax\u001b[39m(r))\n",
      "\u001b[1;31mAttributeError\u001b[0m: 'int' object has no attribute 'values'"
     ]
    }
   ],
   "source": [
    "r=[]\n",
    "for i in d.values():\n",
    "    if type(i) == int:\n",
    "        r.append(max(i.values()))\n",
    "        print(max(r))"
   ]
  },
  {
   "cell_type": "code",
   "execution_count": 11,
   "id": "83f806e5",
   "metadata": {},
   "outputs": [
    {
     "data": {
      "text/plain": [
       "{'ineruron': {'a': 10, 'b': 15, 'c': 20},\n",
       " 'Course': {'d': 30, 'e': 35, 'f': 40},\n",
       " 'g': 34,\n",
       " 'h': [45, 6, 7, 8, 9],\n",
       " 'i': (45, 34, 2),\n",
       " 'k': 'sudh'}"
      ]
     },
     "execution_count": 11,
     "metadata": {},
     "output_type": "execute_result"
    }
   ],
   "source": [
    "d"
   ]
  },
  {
   "cell_type": "code",
   "execution_count": 12,
   "id": "4cb01af2",
   "metadata": {},
   "outputs": [
    {
     "name": "stdout",
     "output_type": "stream",
     "text": [
      "45\n"
     ]
    }
   ],
   "source": [
    "l1=[]\n",
    "\n",
    "for i in d.values():\n",
    "    if type(i)==dict:\n",
    "        l1.append(max(i.values()))\n",
    "    elif type(i)==list:\n",
    "        l1.append(max(i))\n",
    "    elif type(i)==tuple:\n",
    "        l1.append(max(i))\n",
    "    elif type(i)==str:\n",
    "        pass\n",
    "print(max(l1))"
   ]
  },
  {
   "cell_type": "code",
   "execution_count": 13,
   "id": "aa15202a",
   "metadata": {},
   "outputs": [
    {
     "name": "stdout",
     "output_type": "stream",
     "text": [
      "45\n"
     ]
    }
   ],
   "source": [
    "l1=[]\n",
    "\n",
    "for i in d.values():\n",
    "    if type(i)==dict:\n",
    "        l1.append(max(i.values()))\n",
    "    elif type(i)==list:\n",
    "        l1.append(max(i))\n",
    "    elif type(i)==tuple:\n",
    "        l1.append(max(i))\n",
    "    \n",
    "print(max(l1))"
   ]
  },
  {
   "cell_type": "code",
   "execution_count": 14,
   "id": "15771a91",
   "metadata": {},
   "outputs": [
    {
     "name": "stdout",
     "output_type": "stream",
     "text": [
      "45\n"
     ]
    }
   ],
   "source": [
    "l1=[]\n",
    "\n",
    "for i in d.values():\n",
    "    if type(i)==dict:\n",
    "        l1.append(max(i.values()))\n",
    "    elif type(i)==list:\n",
    "        l1.append(max(i))\n",
    "    elif type(i)==tuple:\n",
    "        l1.append(max(i))\n",
    "    elif type(i)==str:\n",
    "        pass\n",
    "print(max(l1))"
   ]
  },
  {
   "cell_type": "code",
   "execution_count": 15,
   "id": "10d35379",
   "metadata": {},
   "outputs": [
    {
     "name": "stdout",
     "output_type": "stream",
     "text": [
      "[20, 40, 45, 45, 20, 40, 45, 45]\n"
     ]
    }
   ],
   "source": [
    "for i in d.values():\n",
    "    if type(i)==dict:\n",
    "        l1.append(max(i.values()))\n",
    "    elif type(i)==list:\n",
    "        l1.append(max(i))\n",
    "    elif type(i)==tuple:\n",
    "        l1.append(max(i))\n",
    "        \n",
    "        \n",
    "print(l1)"
   ]
  },
  {
   "cell_type": "code",
   "execution_count": 16,
   "id": "8f6248c5",
   "metadata": {},
   "outputs": [
    {
     "name": "stdout",
     "output_type": "stream",
     "text": [
      "45\n"
     ]
    }
   ],
   "source": [
    "print(max(l1))"
   ]
  },
  {
   "cell_type": "code",
   "execution_count": 17,
   "id": "10225e8a",
   "metadata": {},
   "outputs": [
    {
     "name": "stdout",
     "output_type": "stream",
     "text": [
      "[20, 40, 45, 45]\n",
      "\n",
      "45\n"
     ]
    }
   ],
   "source": [
    "l1=[]\n",
    "for i in d.values():\n",
    "    if type(i)==dict:\n",
    "        l1.append(max(i.values()))\n",
    "    elif type(i)==list:\n",
    "        l1.append(max(i))\n",
    "    elif type(i)==tuple:\n",
    "        l1.append(max(i))\n",
    "        \n",
    "        \n",
    "print(l1)\n",
    "print()\n",
    "print(max(l1))"
   ]
  },
  {
   "cell_type": "code",
   "execution_count": 18,
   "id": "52d02636",
   "metadata": {},
   "outputs": [
    {
     "data": {
      "text/plain": [
       "{'ineruron': {'a': 10, 'b': 15, 'c': 20},\n",
       " 'Course': {'d': 30, 'e': 35, 'f': 40},\n",
       " 'g': 34,\n",
       " 'h': [45, 6, 7, 8, 9],\n",
       " 'i': (45, 34, 2),\n",
       " 'k': 'sudh'}"
      ]
     },
     "execution_count": 18,
     "metadata": {},
     "output_type": "execute_result"
    }
   ],
   "source": [
    "d"
   ]
  },
  {
   "cell_type": "code",
   "execution_count": 19,
   "id": "8fc5f5f9",
   "metadata": {},
   "outputs": [],
   "source": [
    "d= { \"ineruron\":{\n",
    "                        \"a\":10,\n",
    "                        \"b\":15,\n",
    "                        \"c\":20\n",
    "\n",
    "                    },\n",
    "      \"Course\": {\n",
    "                      \"d\":30,\n",
    "                      \"e\":35,\n",
    "                      \"f\":40\n",
    "                  },\n",
    "      \"g\":34,\"h\":[45,6,7,8,9,\"ram\"],\"i\":(45,34,2),\"k\":\"sudh\"\n",
    "\n",
    "}"
   ]
  },
  {
   "cell_type": "code",
   "execution_count": 20,
   "id": "af21999f",
   "metadata": {},
   "outputs": [
    {
     "data": {
      "text/plain": [
       "{'ineruron': {'a': 10, 'b': 15, 'c': 20},\n",
       " 'Course': {'d': 30, 'e': 35, 'f': 40},\n",
       " 'g': 34,\n",
       " 'h': [45, 6, 7, 8, 9, 'ram'],\n",
       " 'i': (45, 34, 2),\n",
       " 'k': 'sudh'}"
      ]
     },
     "execution_count": 20,
     "metadata": {},
     "output_type": "execute_result"
    }
   ],
   "source": [
    "d"
   ]
  },
  {
   "cell_type": "code",
   "execution_count": 21,
   "id": "fba286fb",
   "metadata": {},
   "outputs": [
    {
     "ename": "SyntaxError",
     "evalue": "invalid syntax (3183827142.py, line 7)",
     "output_type": "error",
     "traceback": [
      "\u001b[1;36m  Input \u001b[1;32mIn [21]\u001b[1;36m\u001b[0m\n\u001b[1;33m    elif type(i)==tuple:\u001b[0m\n\u001b[1;37m    ^\u001b[0m\n\u001b[1;31mSyntaxError\u001b[0m\u001b[1;31m:\u001b[0m invalid syntax\n"
     ]
    }
   ],
   "source": [
    "l1=[]\n",
    "for i in d.values():\n",
    "    if type(i)==dict:\n",
    "        l1.append(max(i.values()))\n",
    "    elif type(i)==list:\n",
    "        l1.append(max(i.values())\n",
    "    elif type(i)==tuple:\n",
    "        l1.append(max(i))\n",
    "        \n",
    "        \n",
    "print(l1)\n",
    "print()\n",
    "print(max(l1))"
   ]
  },
  {
   "cell_type": "code",
   "execution_count": 28,
   "id": "90fade77",
   "metadata": {},
   "outputs": [
    {
     "ename": "SyntaxError",
     "evalue": "invalid syntax (3674040996.py, line 1)",
     "output_type": "error",
     "traceback": [
      "\u001b[1;36m  Input \u001b[1;32mIn [28]\u001b[1;36m\u001b[0m\n\u001b[1;33m    d.insert{\"m\":1}\u001b[0m\n\u001b[1;37m            ^\u001b[0m\n\u001b[1;31mSyntaxError\u001b[0m\u001b[1;31m:\u001b[0m invalid syntax\n"
     ]
    }
   ],
   "source": [
    "d.insert{\"m\":1}"
   ]
  },
  {
   "cell_type": "code",
   "execution_count": null,
   "id": "c11ff581",
   "metadata": {},
   "outputs": [],
   "source": []
  },
  {
   "cell_type": "code",
   "execution_count": 24,
   "id": "8f9beebf",
   "metadata": {},
   "outputs": [
    {
     "data": {
      "text/plain": [
       "{'ineruron': {'a': 10, 'b': 15, 'c': 20},\n",
       " 'Course': {'d': 30, 'e': 35, 'f': 40},\n",
       " 'g': 34,\n",
       " 'h': [45, 6, 7, 8, 9, 'ram'],\n",
       " 'i': (45, 34, 2),\n",
       " 'k': 'sudh'}"
      ]
     },
     "execution_count": 24,
     "metadata": {},
     "output_type": "execute_result"
    }
   ],
   "source": [
    "d"
   ]
  },
  {
   "cell_type": "code",
   "execution_count": null,
   "id": "b68c8d7c",
   "metadata": {},
   "outputs": [],
   "source": []
  },
  {
   "cell_type": "code",
   "execution_count": null,
   "id": "86458017",
   "metadata": {},
   "outputs": [],
   "source": []
  }
 ],
 "metadata": {
  "kernelspec": {
   "display_name": "Python 3 (ipykernel)",
   "language": "python",
   "name": "python3"
  },
  "language_info": {
   "codemirror_mode": {
    "name": "ipython",
    "version": 3
   },
   "file_extension": ".py",
   "mimetype": "text/x-python",
   "name": "python",
   "nbconvert_exporter": "python",
   "pygments_lexer": "ipython3",
   "version": "3.9.12"
  }
 },
 "nbformat": 4,
 "nbformat_minor": 5
}
