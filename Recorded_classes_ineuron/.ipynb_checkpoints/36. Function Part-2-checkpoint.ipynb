{
 "cells": [
  {
   "cell_type": "code",
   "execution_count": 13,
   "id": "35bd30e8",
   "metadata": {},
   "outputs": [],
   "source": [
    "def test(a,b,c,d,e):\n",
    "    return a,b,c,d,e"
   ]
  },
  {
   "cell_type": "code",
   "execution_count": 14,
   "id": "0bbd9b9c",
   "metadata": {},
   "outputs": [
    {
     "data": {
      "text/plain": [
       "(1, 2, 33, 5, 44)"
      ]
     },
     "execution_count": 14,
     "metadata": {},
     "output_type": "execute_result"
    }
   ],
   "source": [
    "test(1,2,33,5,44)"
   ]
  },
  {
   "cell_type": "code",
   "execution_count": 19,
   "id": "a4ee8c6b",
   "metadata": {},
   "outputs": [],
   "source": [
    "def test1(* args):   # * is known as staric\n",
    "    return args"
   ]
  },
  {
   "cell_type": "code",
   "execution_count": 16,
   "id": "74176d7e",
   "metadata": {},
   "outputs": [
    {
     "data": {
      "text/plain": [
       "(1, 2, 3, 1, 2, 14, 15, 15, 17, 10, 12)"
      ]
     },
     "execution_count": 16,
     "metadata": {},
     "output_type": "execute_result"
    }
   ],
   "source": [
    "test1(1,2,3,1,2,14,15,15,17,10,12)"
   ]
  },
  {
   "cell_type": "code",
   "execution_count": 17,
   "id": "c31ae8ad",
   "metadata": {},
   "outputs": [
    {
     "data": {
      "text/plain": [
       "(1, 2, 3, 4, 5, 'abc', 'efc', 'hij')"
      ]
     },
     "execution_count": 17,
     "metadata": {},
     "output_type": "execute_result"
    }
   ],
   "source": [
    "test1(1,2,3,4,5,\"abc\",\"efc\",\"hij\")"
   ]
  },
  {
   "cell_type": "code",
   "execution_count": 18,
   "id": "11f812da",
   "metadata": {},
   "outputs": [
    {
     "data": {
      "text/plain": [
       "([12, 12, 12, 14, 15, 14, 16, 1, 71, 81, 8], 'gdhfg', 'fyg')"
      ]
     },
     "execution_count": 18,
     "metadata": {},
     "output_type": "execute_result"
    }
   ],
   "source": [
    "test1([12,12,12,14,15,14,16,1,71,81,8],\"gdhfg\",\"fyg\")"
   ]
  },
  {
   "cell_type": "code",
   "execution_count": 20,
   "id": "026f7aea",
   "metadata": {},
   "outputs": [],
   "source": [
    "def test3(*arg,a):\n",
    "    return arg,a"
   ]
  },
  {
   "cell_type": "code",
   "execution_count": 24,
   "id": "5403e506",
   "metadata": {},
   "outputs": [
    {
     "data": {
      "text/plain": [
       "((1, 2, 3, 4), 45)"
      ]
     },
     "execution_count": 24,
     "metadata": {},
     "output_type": "execute_result"
    }
   ],
   "source": [
    "test3(1,2,3,4, a=45)"
   ]
  },
  {
   "cell_type": "code",
   "execution_count": 41,
   "id": "89ad4ce2",
   "metadata": {},
   "outputs": [],
   "source": [
    "def test7(*sudh,a,b,c,d):\n",
    "    return sudh, a,b,c,d"
   ]
  },
  {
   "cell_type": "code",
   "execution_count": 42,
   "id": "d61969bc",
   "metadata": {},
   "outputs": [
    {
     "data": {
      "text/plain": [
       "((12, 21, 252), [1, 2, 3], [254, 45, 14, 45], 'abcd', 235.21)"
      ]
     },
     "execution_count": 42,
     "metadata": {},
     "output_type": "execute_result"
    }
   ],
   "source": [
    "test7(12,21,252, a=[1,2,3], b=[254,45,14,45], c=\"abcd\" , d=235.21)"
   ]
  },
  {
   "cell_type": "code",
   "execution_count": 2,
   "id": "5b12a46b",
   "metadata": {},
   "outputs": [],
   "source": [
    "def test8(a,*args):\n",
    "    return a , args"
   ]
  },
  {
   "cell_type": "code",
   "execution_count": 3,
   "id": "64ff171f",
   "metadata": {},
   "outputs": [
    {
     "data": {
      "text/plain": [
       "(54, (525, 52, 585, 'hjid'))"
      ]
     },
     "execution_count": 3,
     "metadata": {},
     "output_type": "execute_result"
    }
   ],
   "source": [
    "test8(54,525,52,585,\"hjid\")"
   ]
  },
  {
   "cell_type": "code",
   "execution_count": 8,
   "id": "1ff9fb98",
   "metadata": {},
   "outputs": [],
   "source": [
    "def test8(a):\n",
    "    return a"
   ]
  },
  {
   "cell_type": "code",
   "execution_count": 10,
   "id": "8e0b3427",
   "metadata": {},
   "outputs": [
    {
     "ename": "TypeError",
     "evalue": "test8() takes 1 positional argument but 3 were given",
     "output_type": "error",
     "traceback": [
      "\u001b[1;31m---------------------------------------------------------------------------\u001b[0m",
      "\u001b[1;31mTypeError\u001b[0m                                 Traceback (most recent call last)",
      "Input \u001b[1;32mIn [10]\u001b[0m, in \u001b[0;36m<cell line: 1>\u001b[1;34m()\u001b[0m\n\u001b[1;32m----> 1\u001b[0m \u001b[43mtest8\u001b[49m\u001b[43m(\u001b[49m\u001b[38;5;241;43m5\u001b[39;49m\u001b[43m,\u001b[49m\u001b[38;5;241;43m45\u001b[39;49m\u001b[43m,\u001b[49m\u001b[38;5;241;43m5\u001b[39;49m\u001b[43m)\u001b[49m\n",
      "\u001b[1;31mTypeError\u001b[0m: test8() takes 1 positional argument but 3 were given"
     ]
    }
   ],
   "source": [
    "test8(5,45,5)"
   ]
  },
  {
   "cell_type": "code",
   "execution_count": 11,
   "id": "5224e05c",
   "metadata": {},
   "outputs": [],
   "source": [
    "def test8(*a):\n",
    "    return a"
   ]
  },
  {
   "cell_type": "code",
   "execution_count": 12,
   "id": "453e47d8",
   "metadata": {},
   "outputs": [
    {
     "data": {
      "text/plain": [
       "(12, 25, 25, 28, 66, 45, 1)"
      ]
     },
     "execution_count": 12,
     "metadata": {},
     "output_type": "execute_result"
    }
   ],
   "source": [
    "test8(12,25,25,28,66,45,1)"
   ]
  },
  {
   "cell_type": "code",
   "execution_count": 13,
   "id": "1428b644",
   "metadata": {},
   "outputs": [],
   "source": [
    "def test5(a, *sudh, b,c):\n",
    "    return a, sudh, b,c"
   ]
  },
  {
   "cell_type": "code",
   "execution_count": 16,
   "id": "137c443d",
   "metadata": {},
   "outputs": [
    {
     "data": {
      "text/plain": [
       "('abcdef', ('hlo ', 5, 655, 252.2, 'what r u '), 45, 'completed')"
      ]
     },
     "execution_count": 16,
     "metadata": {},
     "output_type": "execute_result"
    }
   ],
   "source": [
    "test5(\"abcdef\",\"hlo \",5,655,252.2,\"what r u \",b=45,c=\"completed\")"
   ]
  },
  {
   "cell_type": "code",
   "execution_count": 45,
   "id": "24c557e8",
   "metadata": {},
   "outputs": [],
   "source": [
    "def test6(*args):\n",
    "    for i in args:\n",
    "        if type(i) == list:\n",
    "            for j in i:\n",
    "                if type(j) == int:\n",
    "                    return j"
   ]
  },
  {
   "cell_type": "code",
   "execution_count": 46,
   "id": "8ae5fef8",
   "metadata": {},
   "outputs": [
    {
     "data": {
      "text/plain": [
       "45"
      ]
     },
     "execution_count": 46,
     "metadata": {},
     "output_type": "execute_result"
    }
   ],
   "source": [
    "test6(\"hgdch\",\"456\",85,[\"hlo\",\"hi\",45,25],[[\"possible\",452]])"
   ]
  },
  {
   "cell_type": "code",
   "execution_count": 47,
   "id": "08b812db",
   "metadata": {},
   "outputs": [],
   "source": [
    "def test6(*args):\n",
    "    for i in args:\n",
    "        if type(i) == list:\n",
    "            return i"
   ]
  },
  {
   "cell_type": "code",
   "execution_count": 48,
   "id": "711c08f1",
   "metadata": {},
   "outputs": [
    {
     "data": {
      "text/plain": [
       "['hlo', 'hi', 45, 25]"
      ]
     },
     "execution_count": 48,
     "metadata": {},
     "output_type": "execute_result"
    }
   ],
   "source": [
    "test6(\"hgdch\",\"456\",85,[\"hlo\",\"hi\",45,25],[[\"possible\",452]])"
   ]
  },
  {
   "cell_type": "code",
   "execution_count": 78,
   "id": "b0c8696d",
   "metadata": {},
   "outputs": [],
   "source": [
    "def test6(*args):\n",
    "    l=[]\n",
    "    for i in args:\n",
    "        if type(i) == list:\n",
    "            l.append(i) \n",
    "    return l"
   ]
  },
  {
   "cell_type": "code",
   "execution_count": 79,
   "id": "64413977",
   "metadata": {},
   "outputs": [
    {
     "data": {
      "text/plain": [
       "[['hlo', 'hi', 45, 25], [['possible', 452]]]"
      ]
     },
     "execution_count": 79,
     "metadata": {},
     "output_type": "execute_result"
    }
   ],
   "source": [
    "test6(\"hgdch\",\"456\",85,[\"hlo\",\"hi\",45,25],[[\"possible\",452]])"
   ]
  },
  {
   "cell_type": "code",
   "execution_count": 80,
   "id": "1158a3bc",
   "metadata": {},
   "outputs": [
    {
     "data": {
      "text/plain": [
       "[['hlo', 'hi', 45, 25], ['possible', 452]]"
      ]
     },
     "execution_count": 80,
     "metadata": {},
     "output_type": "execute_result"
    }
   ],
   "source": [
    "test6(\"hgdch\",\"456\",85,[\"hlo\",\"hi\",45,25],[\"possible\",452])"
   ]
  },
  {
   "cell_type": "code",
   "execution_count": 83,
   "id": "f00955e6",
   "metadata": {},
   "outputs": [],
   "source": [
    "\n",
    "\n",
    "def test6(*args):\n",
    "    l=[]\n",
    "    for i in args:\n",
    "        if type(i) == list:\n",
    "            for j in i:\n",
    "                if type(j) == int:\n",
    "                    l.append(j)\n",
    "            return l"
   ]
  },
  {
   "cell_type": "code",
   "execution_count": 84,
   "id": "94f4ad94",
   "metadata": {},
   "outputs": [
    {
     "data": {
      "text/plain": [
       "[45, 25]"
      ]
     },
     "execution_count": 84,
     "metadata": {},
     "output_type": "execute_result"
    }
   ],
   "source": [
    "test6(\"hgdch\",\"456\",85,[\"hlo\",\"hi\",45,25],[[\"possible\",452]])"
   ]
  },
  {
   "cell_type": "code",
   "execution_count": 90,
   "id": "d97673e0",
   "metadata": {},
   "outputs": [],
   "source": [
    "def test6(*args):\n",
    "    l=[]\n",
    "    for i in args:\n",
    "        if type(i) == list:\n",
    "            l.append(i)\n",
    "    return l"
   ]
  },
  {
   "cell_type": "code",
   "execution_count": 91,
   "id": "32366774",
   "metadata": {},
   "outputs": [
    {
     "data": {
      "text/plain": [
       "[[45, 525, 6, 'Hlo sir'],\n",
       " [12, 52, 42],\n",
       " [120.2, 250, 1, 2],\n",
       " [[12, 123, 14, 15]]]"
      ]
     },
     "execution_count": 91,
     "metadata": {},
     "output_type": "execute_result"
    }
   ],
   "source": [
    "test6(\"Ram teri\",\"ganaga meri\",[45,525,6,\"Hlo sir\"],[12,52,42],[120.2,250,1,2],[[12,123,14,15]])"
   ]
  },
  {
   "cell_type": "code",
   "execution_count": 106,
   "id": "aa19553e",
   "metadata": {},
   "outputs": [],
   "source": [
    "def test7(**kwargs):\n",
    "    return kwargs"
   ]
  },
  {
   "cell_type": "code",
   "execution_count": null,
   "id": "1f7ae4ce",
   "metadata": {},
   "outputs": [],
   "source": []
  },
  {
   "cell_type": "code",
   "execution_count": 107,
   "id": "805ad073",
   "metadata": {},
   "outputs": [
    {
     "data": {
      "text/plain": [
       "{'a': 1, 'b': [1, 2, 3, 4, 5], 'c': 25, 'd': 'hlo hi'}"
      ]
     },
     "execution_count": 107,
     "metadata": {},
     "output_type": "execute_result"
    }
   ],
   "source": [
    "test7(a=1,b=[1,2,3,4,5],c=25,d=\"hlo hi\")"
   ]
  },
  {
   "cell_type": "code",
   "execution_count": 111,
   "id": "882b70dd",
   "metadata": {},
   "outputs": [],
   "source": [
    "def test10(a,**sudh):\n",
    "    return sudh,a"
   ]
  },
  {
   "cell_type": "code",
   "execution_count": 114,
   "id": "ecaae443",
   "metadata": {},
   "outputs": [
    {
     "data": {
      "text/plain": [
       "({'t': 451, 'b': 11, 'c': 23, 'd': 12}, 12)"
      ]
     },
     "execution_count": 114,
     "metadata": {},
     "output_type": "execute_result"
    }
   ],
   "source": [
    "test10(12,t=451,b=11,c=23,d=12)"
   ]
  },
  {
   "cell_type": "code",
   "execution_count": 115,
   "id": "4912c14e",
   "metadata": {},
   "outputs": [
    {
     "ename": "SyntaxError",
     "evalue": "invalid syntax (330455124.py, line 1)",
     "output_type": "error",
     "traceback": [
      "\u001b[1;36m  Input \u001b[1;32mIn [115]\u001b[1;36m\u001b[0m\n\u001b[1;33m    def test11(a, **kwargs, *args):\u001b[0m\n\u001b[1;37m                            ^\u001b[0m\n\u001b[1;31mSyntaxError\u001b[0m\u001b[1;31m:\u001b[0m invalid syntax\n"
     ]
    }
   ],
   "source": [
    "def test11(a, **kwargs, *args):\n",
    "    return a,kwargs,args"
   ]
  },
  {
   "cell_type": "code",
   "execution_count": 116,
   "id": "9e971179",
   "metadata": {},
   "outputs": [],
   "source": [
    "def test11(a,*args,**kwargs):\n",
    "    return a,args,kwargs"
   ]
  },
  {
   "cell_type": "code",
   "execution_count": 117,
   "id": "f9b72914",
   "metadata": {},
   "outputs": [
    {
     "data": {
      "text/plain": [
       "(12, (12, 'jsjdgf', 15, 'ghghsf', 45, 21, 3, 2), {'l': 12, 'm': 54})"
      ]
     },
     "execution_count": 117,
     "metadata": {},
     "output_type": "execute_result"
    }
   ],
   "source": [
    "test11(12,12,\"jsjdgf\",15,\"ghghsf\",45,21,3,2,l=12,m=54)"
   ]
  },
  {
   "cell_type": "markdown",
   "id": "deb3e6ba",
   "metadata": {},
   "source": [
    "# Lambda Function"
   ]
  },
  {
   "cell_type": "code",
   "execution_count": 119,
   "id": "0b45b7c3",
   "metadata": {},
   "outputs": [
    {
     "data": {
      "text/plain": [
       "2250"
      ]
     },
     "execution_count": 119,
     "metadata": {},
     "output_type": "execute_result"
    }
   ],
   "source": [
    "def test13(a,b):\n",
    "    return a*b\n",
    "\n",
    "test13(45,50)"
   ]
  },
  {
   "cell_type": "code",
   "execution_count": 120,
   "id": "e49747f0",
   "metadata": {},
   "outputs": [
    {
     "data": {
      "text/plain": [
       "<function __main__.<lambda>(a, b)>"
      ]
     },
     "execution_count": 120,
     "metadata": {},
     "output_type": "execute_result"
    }
   ],
   "source": [
    "lambda a,b: a*b"
   ]
  },
  {
   "cell_type": "code",
   "execution_count": 122,
   "id": "f5d1755d",
   "metadata": {},
   "outputs": [],
   "source": [
    "a=lambda a,b:a*b"
   ]
  },
  {
   "cell_type": "code",
   "execution_count": 123,
   "id": "557ad670",
   "metadata": {},
   "outputs": [
    {
     "data": {
      "text/plain": [
       "2250"
      ]
     },
     "execution_count": 123,
     "metadata": {},
     "output_type": "execute_result"
    }
   ],
   "source": [
    "a(45,50)"
   ]
  },
  {
   "cell_type": "code",
   "execution_count": 130,
   "id": "1dff7d27",
   "metadata": {},
   "outputs": [],
   "source": [
    "a=lambda a,b:(a*b, a+b, a-b)"
   ]
  },
  {
   "cell_type": "code",
   "execution_count": 131,
   "id": "98128a5c",
   "metadata": {},
   "outputs": [
    {
     "data": {
      "text/plain": [
       "(1575, 80, 10)"
      ]
     },
     "execution_count": 131,
     "metadata": {},
     "output_type": "execute_result"
    }
   ],
   "source": [
    "a(45,35)"
   ]
  },
  {
   "cell_type": "code",
   "execution_count": 132,
   "id": "8fca8460",
   "metadata": {},
   "outputs": [],
   "source": [
    "l=lambda*a:a"
   ]
  },
  {
   "cell_type": "code",
   "execution_count": 133,
   "id": "bbeb1dd0",
   "metadata": {},
   "outputs": [
    {
     "data": {
      "text/plain": [
       "(12, 36, 15)"
      ]
     },
     "execution_count": 133,
     "metadata": {},
     "output_type": "execute_result"
    }
   ],
   "source": [
    "l(12,36,15)"
   ]
  },
  {
   "cell_type": "code",
   "execution_count": 146,
   "id": "16aa12a7",
   "metadata": {},
   "outputs": [],
   "source": [
    "p=lambda**a : a"
   ]
  },
  {
   "cell_type": "code",
   "execution_count": 147,
   "id": "e4dffa36",
   "metadata": {},
   "outputs": [
    {
     "data": {
      "text/plain": [
       "{'q': 'asd', 'w': 123, 'e': [1, 4, 5]}"
      ]
     },
     "execution_count": 147,
     "metadata": {},
     "output_type": "execute_result"
    }
   ],
   "source": [
    "p(q=\"asd\",w=123,e=[1,4,5])"
   ]
  },
  {
   "cell_type": "code",
   "execution_count": 149,
   "id": "213d8408",
   "metadata": {},
   "outputs": [],
   "source": [
    "a=lambda a,b:(a*b,a+b,a-b)"
   ]
  },
  {
   "cell_type": "code",
   "execution_count": 150,
   "id": "7b0de203",
   "metadata": {},
   "outputs": [
    {
     "data": {
      "text/plain": [
       "(150, 25, 5)"
      ]
     },
     "execution_count": 150,
     "metadata": {},
     "output_type": "execute_result"
    }
   ],
   "source": [
    "a(15,10)"
   ]
  },
  {
   "cell_type": "code",
   "execution_count": 154,
   "id": "f8e474c4",
   "metadata": {},
   "outputs": [],
   "source": [
    "x= lambda x:[ i for i in x ]"
   ]
  },
  {
   "cell_type": "code",
   "execution_count": 155,
   "id": "b8dd6f7f",
   "metadata": {},
   "outputs": [
    {
     "data": {
      "text/plain": [
       "[1, 2, 3, 4, 5, 6]"
      ]
     },
     "execution_count": 155,
     "metadata": {},
     "output_type": "execute_result"
    }
   ],
   "source": [
    "x([1,2,3,4,5,6])"
   ]
  },
  {
   "cell_type": "code",
   "execution_count": 156,
   "id": "98f861aa",
   "metadata": {},
   "outputs": [],
   "source": [
    "x= lambda x:[ print(i) for i in x ]"
   ]
  },
  {
   "cell_type": "code",
   "execution_count": 157,
   "id": "ddccc5fb",
   "metadata": {},
   "outputs": [
    {
     "name": "stdout",
     "output_type": "stream",
     "text": [
      "1\n",
      "2\n",
      "3\n",
      "4\n",
      "5\n",
      "6\n"
     ]
    },
    {
     "data": {
      "text/plain": [
       "[None, None, None, None, None, None]"
      ]
     },
     "execution_count": 157,
     "metadata": {},
     "output_type": "execute_result"
    }
   ],
   "source": [
    "x([1,2,3,4,5,6])"
   ]
  },
  {
   "cell_type": "code",
   "execution_count": 164,
   "id": "8dacc159",
   "metadata": {},
   "outputs": [],
   "source": [
    "a=10\n",
    "def test16(c,d):\n",
    "    return c*d ,c+d ,c-d"
   ]
  },
  {
   "cell_type": "code",
   "execution_count": 171,
   "id": "414fba6b",
   "metadata": {},
   "outputs": [
    {
     "data": {
      "text/plain": [
       "(100, 20, 0)"
      ]
     },
     "execution_count": 171,
     "metadata": {},
     "output_type": "execute_result"
    }
   ],
   "source": [
    "test16(a,10)"
   ]
  },
  {
   "cell_type": "code",
   "execution_count": 172,
   "id": "2b9ab687",
   "metadata": {},
   "outputs": [],
   "source": [
    "a=10\n",
    "def test16(c,d):\n",
    "    a=5\n",
    "    return c*d ,c+d ,c-d"
   ]
  },
  {
   "cell_type": "code",
   "execution_count": 174,
   "id": "cdae3875",
   "metadata": {},
   "outputs": [
    {
     "data": {
      "text/plain": [
       "(100, 20, 0)"
      ]
     },
     "execution_count": 174,
     "metadata": {},
     "output_type": "execute_result"
    }
   ],
   "source": [
    "test16(a,10)"
   ]
  },
  {
   "cell_type": "code",
   "execution_count": null,
   "id": "241c202e",
   "metadata": {},
   "outputs": [],
   "source": []
  },
  {
   "cell_type": "code",
   "execution_count": null,
   "id": "551ce30f",
   "metadata": {},
   "outputs": [],
   "source": []
  },
  {
   "cell_type": "code",
   "execution_count": null,
   "id": "0204ff24",
   "metadata": {},
   "outputs": [],
   "source": []
  },
  {
   "cell_type": "code",
   "execution_count": null,
   "id": "28e38c83",
   "metadata": {},
   "outputs": [],
   "source": []
  },
  {
   "cell_type": "code",
   "execution_count": null,
   "id": "4a9151f5",
   "metadata": {},
   "outputs": [],
   "source": []
  }
 ],
 "metadata": {
  "kernelspec": {
   "display_name": "Python 3 (ipykernel)",
   "language": "python",
   "name": "python3"
  },
  "language_info": {
   "codemirror_mode": {
    "name": "ipython",
    "version": 3
   },
   "file_extension": ".py",
   "mimetype": "text/x-python",
   "name": "python",
   "nbconvert_exporter": "python",
   "pygments_lexer": "ipython3",
   "version": "3.9.12"
  }
 },
 "nbformat": 4,
 "nbformat_minor": 5
}
