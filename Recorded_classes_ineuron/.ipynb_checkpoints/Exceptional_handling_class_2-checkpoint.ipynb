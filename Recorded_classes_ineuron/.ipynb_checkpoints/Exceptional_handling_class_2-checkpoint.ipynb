{
 "cells": [
  {
   "cell_type": "markdown",
   "id": "d1cfebb3",
   "metadata": {},
   "source": [
    "# Exceptional Handaling"
   ]
  },
  {
   "cell_type": "code",
   "execution_count": 38,
   "id": "547b3cfe",
   "metadata": {},
   "outputs": [
    {
     "data": {
      "text/plain": [
       "'C:\\\\Users\\\\win11\\\\iNeuron_Practise\\\\Recorded_classes_ineuron'"
      ]
     },
     "execution_count": 38,
     "metadata": {},
     "output_type": "execute_result"
    }
   ],
   "source": [
    "pwd()"
   ]
  },
  {
   "cell_type": "code",
   "execution_count": 13,
   "id": "e3a15724",
   "metadata": {},
   "outputs": [
    {
     "name": "stdout",
     "output_type": "stream",
     "text": [
      "previous code is wrong pls try to correct it\n",
      "\n",
      "1\n",
      "2\n",
      "3\n",
      "4\n",
      "5\n",
      "6\n",
      "7\n"
     ]
    }
   ],
   "source": [
    "try:\n",
    "    f=open(\"pratc_1\",\"r\")\n",
    "    f.weite(\"this is my code with expectional handling\")\n",
    "    print(\"this is my code after write ops\")\n",
    "except:\n",
    "    print(\"previous code is wrong pls try to correct it\")\n",
    "    print()\n",
    "\n",
    "try:\n",
    "    l=[1,2,3,4,5,6,7]\n",
    "    for i in l:\n",
    "        print(i)\n",
    "except:\n",
    "    print(\"correct the code\")"
   ]
  },
  {
   "cell_type": "code",
   "execution_count": null,
   "id": "3057ebfd",
   "metadata": {},
   "outputs": [],
   "source": []
  },
  {
   "cell_type": "code",
   "execution_count": 6,
   "id": "4d30879b",
   "metadata": {},
   "outputs": [
    {
     "name": "stdout",
     "output_type": "stream",
     "text": [
      "0\n",
      "1\n",
      "2\n",
      "3\n",
      "4\n",
      "5\n",
      "6\n",
      "7\n",
      "8\n",
      "9\n"
     ]
    }
   ],
   "source": [
    "for i in range(0,10):\n",
    "    print(i)"
   ]
  },
  {
   "cell_type": "code",
   "execution_count": 29,
   "id": "a4ff4d8a",
   "metadata": {},
   "outputs": [
    {
     "name": "stdout",
     "output_type": "stream",
     "text": [
      "Enter somethinggdg\n",
      "invalid literal for int() with base 10: 'gdg'\n"
     ]
    }
   ],
   "source": [
    "try:\n",
    "    d={\"key1\":\"abc\",\n",
    "        \"key2\": [1,2,3,4,5],\n",
    "         \"Key3\": (6,7,8,9,10),\n",
    "       \"key4\": int(input(\"Enter something\"))\n",
    "      }\n",
    "except Exception as e:\n",
    "    print(e)\n",
    "    \n",
    "# Exception is \"superclass\" / \"Super-class\" and all classes come under this one\n"
   ]
  },
  {
   "cell_type": "code",
   "execution_count": 26,
   "id": "94c09f91",
   "metadata": {},
   "outputs": [],
   "source": [
    "   d={\"key1\":\"abc\",\n",
    "        \"key2\": [1,2,3,4,5],\n",
    "         \"Key3\": (6,7,8,9,10)\n",
    "      }"
   ]
  },
  {
   "cell_type": "code",
   "execution_count": 22,
   "id": "3b0961b6",
   "metadata": {},
   "outputs": [
    {
     "data": {
      "text/plain": [
       "{'key1': 'abc', 'key2': [1, 2, 3, 4, 5], 'Key3': (6, 7, 8, 9, 10)}"
      ]
     },
     "execution_count": 22,
     "metadata": {},
     "output_type": "execute_result"
    }
   ],
   "source": [
    "d"
   ]
  },
  {
   "cell_type": "code",
   "execution_count": 41,
   "id": "e10c3fe1",
   "metadata": {},
   "outputs": [
    {
     "name": "stdout",
     "output_type": "stream",
     "text": [
      "write bro: fdft\n",
      "invalid literal for int() with base 10: 'fdft'\n"
     ]
    }
   ],
   "source": [
    "try:\n",
    "    \n",
    "    d={\"key1\":\"abc\",\"key2\": [1,2,3,4,5],\"Key3\": (6,7,8,9,10)}\n",
    "    d[\"Key4\"]= int(input(\"write bro: \"))\n",
    "    print()\n",
    "    \n",
    "except ValueError as ve:\n",
    "    print(ve)"
   ]
  },
  {
   "cell_type": "code",
   "execution_count": 45,
   "id": "b8bd9636",
   "metadata": {},
   "outputs": [
    {
     "name": "stdout",
     "output_type": "stream",
     "text": [
      "write bro: hgg\n",
      "invalid literal for int() with base 10: 'hgg'\n"
     ]
    }
   ],
   "source": [
    "try:\n",
    "    \n",
    "    d={\"key1\":\"abc\",\"key2\": [1,2,3,4,5],\"Key3\": (6,7,8,9,10)}\n",
    "    d[\"Key4\"]= int(input(\"write bro: \"))\n",
    "    f=open(\"abcde_practice1\",\"r\")\n",
    "    print()\n",
    "    \n",
    "except ValueError as ve:\n",
    "    print(ve)"
   ]
  },
  {
   "cell_type": "code",
   "execution_count": 50,
   "id": "9aa00f51",
   "metadata": {},
   "outputs": [
    {
     "name": "stdout",
     "output_type": "stream",
     "text": [
      "write bro: df\n",
      "invalid literal for int() with base 10: 'df'\n"
     ]
    }
   ],
   "source": [
    "try:\n",
    "    \n",
    "    d={\"key1\":\"abc\",\"key2\": [1,2,3,4,5],\"Key3\": (6,7,8,9,10)}\n",
    "    d[\"Key4\"]= int(input(\"write bro: \"))\n",
    "    f=open(\"abcde_practice2\",\"r\")\n",
    "    print()\n",
    "    \n",
    "except Exception as e:\n",
    "    print(e)"
   ]
  },
  {
   "cell_type": "code",
   "execution_count": 53,
   "id": "65d5bc09",
   "metadata": {},
   "outputs": [
    {
     "ename": "KeyboardInterrupt",
     "evalue": "Interrupted by user",
     "output_type": "error",
     "traceback": [
      "\u001b[1;31m---------------------------------------------------------------------------\u001b[0m",
      "\u001b[1;31mKeyboardInterrupt\u001b[0m                         Traceback (most recent call last)",
      "Input \u001b[1;32mIn [53]\u001b[0m, in \u001b[0;36m<cell line: 1>\u001b[1;34m()\u001b[0m\n\u001b[0;32m      1\u001b[0m \u001b[38;5;28;01mtry\u001b[39;00m:\n\u001b[0;32m      3\u001b[0m     d\u001b[38;5;241m=\u001b[39m{\u001b[38;5;124m\"\u001b[39m\u001b[38;5;124mkey1\u001b[39m\u001b[38;5;124m\"\u001b[39m:\u001b[38;5;124m\"\u001b[39m\u001b[38;5;124mabc\u001b[39m\u001b[38;5;124m\"\u001b[39m,\u001b[38;5;124m\"\u001b[39m\u001b[38;5;124mkey2\u001b[39m\u001b[38;5;124m\"\u001b[39m: [\u001b[38;5;241m1\u001b[39m,\u001b[38;5;241m2\u001b[39m,\u001b[38;5;241m3\u001b[39m,\u001b[38;5;241m4\u001b[39m,\u001b[38;5;241m5\u001b[39m],\u001b[38;5;124m\"\u001b[39m\u001b[38;5;124mKey3\u001b[39m\u001b[38;5;124m\"\u001b[39m: (\u001b[38;5;241m6\u001b[39m,\u001b[38;5;241m7\u001b[39m,\u001b[38;5;241m8\u001b[39m,\u001b[38;5;241m9\u001b[39m,\u001b[38;5;241m10\u001b[39m)}\n\u001b[1;32m----> 4\u001b[0m     d[\u001b[38;5;124m\"\u001b[39m\u001b[38;5;124mKey4\u001b[39m\u001b[38;5;124m\"\u001b[39m]\u001b[38;5;241m=\u001b[39m \u001b[38;5;28mint\u001b[39m(\u001b[38;5;28;43minput\u001b[39;49m\u001b[43m(\u001b[49m\u001b[38;5;124;43m\"\u001b[39;49m\u001b[38;5;124;43mwrite bro: \u001b[39;49m\u001b[38;5;124;43m\"\u001b[39;49m\u001b[43m)\u001b[49m)\n\u001b[0;32m      5\u001b[0m     f\u001b[38;5;241m=\u001b[39m\u001b[38;5;28mopen\u001b[39m(\u001b[38;5;124m\"\u001b[39m\u001b[38;5;124mabcde_practice2\u001b[39m\u001b[38;5;124m\"\u001b[39m,\u001b[38;5;124m\"\u001b[39m\u001b[38;5;124mr\u001b[39m\u001b[38;5;124m\"\u001b[39m)\n\u001b[0;32m      6\u001b[0m     \u001b[38;5;28mprint\u001b[39m()\n",
      "File \u001b[1;32m~\\anaconda3\\lib\\site-packages\\ipykernel\\kernelbase.py:1075\u001b[0m, in \u001b[0;36mKernel.raw_input\u001b[1;34m(self, prompt)\u001b[0m\n\u001b[0;32m   1071\u001b[0m \u001b[38;5;28;01mif\u001b[39;00m \u001b[38;5;129;01mnot\u001b[39;00m \u001b[38;5;28mself\u001b[39m\u001b[38;5;241m.\u001b[39m_allow_stdin:\n\u001b[0;32m   1072\u001b[0m     \u001b[38;5;28;01mraise\u001b[39;00m StdinNotImplementedError(\n\u001b[0;32m   1073\u001b[0m         \u001b[38;5;124m\"\u001b[39m\u001b[38;5;124mraw_input was called, but this frontend does not support input requests.\u001b[39m\u001b[38;5;124m\"\u001b[39m\n\u001b[0;32m   1074\u001b[0m     )\n\u001b[1;32m-> 1075\u001b[0m \u001b[38;5;28;01mreturn\u001b[39;00m \u001b[38;5;28;43mself\u001b[39;49m\u001b[38;5;241;43m.\u001b[39;49m\u001b[43m_input_request\u001b[49m\u001b[43m(\u001b[49m\n\u001b[0;32m   1076\u001b[0m \u001b[43m    \u001b[49m\u001b[38;5;28;43mstr\u001b[39;49m\u001b[43m(\u001b[49m\u001b[43mprompt\u001b[49m\u001b[43m)\u001b[49m\u001b[43m,\u001b[49m\n\u001b[0;32m   1077\u001b[0m \u001b[43m    \u001b[49m\u001b[38;5;28;43mself\u001b[39;49m\u001b[38;5;241;43m.\u001b[39;49m\u001b[43m_parent_ident\u001b[49m\u001b[43m[\u001b[49m\u001b[38;5;124;43m\"\u001b[39;49m\u001b[38;5;124;43mshell\u001b[39;49m\u001b[38;5;124;43m\"\u001b[39;49m\u001b[43m]\u001b[49m\u001b[43m,\u001b[49m\n\u001b[0;32m   1078\u001b[0m \u001b[43m    \u001b[49m\u001b[38;5;28;43mself\u001b[39;49m\u001b[38;5;241;43m.\u001b[39;49m\u001b[43mget_parent\u001b[49m\u001b[43m(\u001b[49m\u001b[38;5;124;43m\"\u001b[39;49m\u001b[38;5;124;43mshell\u001b[39;49m\u001b[38;5;124;43m\"\u001b[39;49m\u001b[43m)\u001b[49m\u001b[43m,\u001b[49m\n\u001b[0;32m   1079\u001b[0m \u001b[43m    \u001b[49m\u001b[43mpassword\u001b[49m\u001b[38;5;241;43m=\u001b[39;49m\u001b[38;5;28;43;01mFalse\u001b[39;49;00m\u001b[43m,\u001b[49m\n\u001b[0;32m   1080\u001b[0m \u001b[43m\u001b[49m\u001b[43m)\u001b[49m\n",
      "File \u001b[1;32m~\\anaconda3\\lib\\site-packages\\ipykernel\\kernelbase.py:1120\u001b[0m, in \u001b[0;36mKernel._input_request\u001b[1;34m(self, prompt, ident, parent, password)\u001b[0m\n\u001b[0;32m   1117\u001b[0m             \u001b[38;5;28;01mbreak\u001b[39;00m\n\u001b[0;32m   1118\u001b[0m \u001b[38;5;28;01mexcept\u001b[39;00m \u001b[38;5;167;01mKeyboardInterrupt\u001b[39;00m:\n\u001b[0;32m   1119\u001b[0m     \u001b[38;5;66;03m# re-raise KeyboardInterrupt, to truncate traceback\u001b[39;00m\n\u001b[1;32m-> 1120\u001b[0m     \u001b[38;5;28;01mraise\u001b[39;00m \u001b[38;5;167;01mKeyboardInterrupt\u001b[39;00m(\u001b[38;5;124m\"\u001b[39m\u001b[38;5;124mInterrupted by user\u001b[39m\u001b[38;5;124m\"\u001b[39m) \u001b[38;5;28;01mfrom\u001b[39;00m \u001b[38;5;28mNone\u001b[39m\n\u001b[0;32m   1121\u001b[0m \u001b[38;5;28;01mexcept\u001b[39;00m \u001b[38;5;167;01mException\u001b[39;00m:\n\u001b[0;32m   1122\u001b[0m     \u001b[38;5;28mself\u001b[39m\u001b[38;5;241m.\u001b[39mlog\u001b[38;5;241m.\u001b[39mwarning(\u001b[38;5;124m\"\u001b[39m\u001b[38;5;124mInvalid Message:\u001b[39m\u001b[38;5;124m\"\u001b[39m, exc_info\u001b[38;5;241m=\u001b[39m\u001b[38;5;28;01mTrue\u001b[39;00m)\n",
      "\u001b[1;31mKeyboardInterrupt\u001b[0m: Interrupted by user"
     ]
    }
   ],
   "source": [
    "try:\n",
    "    \n",
    "    d={\"key1\":\"abc\",\"key2\": [1,2,3,4,5],\"Key3\": (6,7,8,9,10)}\n",
    "    d[\"Key4\"]= int(input(\"write bro: \"))\n",
    "    f=open(\"abcde_practice2\",\"r\")\n",
    "    print()\n",
    "    \n",
    "except ValueError as ve:\n",
    "    print(\"This is value error: \",ve)\n",
    "except FileNotFoundError as fe:\n",
    "    print(\"This is File_Not_found_error: \",fe)\n",
    "except Exception as e:\n",
    "    print(\"This is :\", e)"
   ]
  },
  {
   "cell_type": "code",
   "execution_count": 78,
   "id": "38a9bdc9",
   "metadata": {},
   "outputs": [
    {
     "name": "stdout",
     "output_type": "stream",
     "text": [
      "Error code:-  not writable\n"
     ]
    }
   ],
   "source": [
    "try:\n",
    "    f=open(\"abcd_practise.txt\",'r')\n",
    "    f.write(\"this is my code in try\")\n",
    "except Exception as e:\n",
    "    print(\"Error code:- \",e)\n",
    "else:\n",
    "    print(\"This is execute when my try block run succesfully\")\n",
    "    f.close()"
   ]
  },
  {
   "cell_type": "code",
   "execution_count": 77,
   "id": "f0cd7e86",
   "metadata": {},
   "outputs": [
    {
     "name": "stdout",
     "output_type": "stream",
     "text": [
      "This is a else block execute when my try block run succesfully\n"
     ]
    }
   ],
   "source": [
    "#This is right code in \"w\" formate\n",
    "\n",
    "try:\n",
    "    f=open(\"abcd_practise.txt\",'w')\n",
    "    f.write(\"this is my code in try\")\n",
    "except Exception as e:\n",
    "    print(\"Error code:-\",e)\n",
    "else:\n",
    "    print(\"This is a else block execute when my try block run succesfully\")\n",
    "    f.close()\n",
    "    \n",
    "#''' Note--\n",
    "   \n",
    "#        else block-- will execute or run when the try block will\n",
    "#                     run succesfully'''\n",
    "#                         whereas \n",
    "#         finally block-- will run all the time"
   ]
  },
  {
   "cell_type": "code",
   "execution_count": 76,
   "id": "cbd2e431",
   "metadata": {},
   "outputs": [
    {
     "name": "stdout",
     "output_type": "stream",
     "text": [
      "Error code:-  [Errno 2] No such file or directory: 'abcd_prgfd.txt'\n",
      "this is a finally block\n"
     ]
    }
   ],
   "source": [
    "try:\n",
    "    f=open(\"abcd_prgfd.txt\",'r')\n",
    "    f.write(\"this is my code in try\") \n",
    "    \n",
    "except Exception as e: \n",
    "    print(\"Error code:- \",e)\n",
    "    \n",
    "else:\n",
    "    print(\"This is execute when my try block run succesfully\")\n",
    "    f.close()\n",
    "finally:\n",
    "    print(\"this is a finally block\")"
   ]
  },
  {
   "cell_type": "code",
   "execution_count": 81,
   "id": "cce2531b",
   "metadata": {},
   "outputs": [
    {
     "name": "stdout",
     "output_type": "stream",
     "text": [
      "Error code:-  not writable\n",
      "i Don't know that code is right or wrong\n"
     ]
    }
   ],
   "source": [
    "try:\n",
    "    f=open(\"abcd_practise.txt\",'r')\n",
    "    f.write(\"how are you bro\")\n",
    "except Exception as e:\n",
    "    print(\"Error code:- \",e)\n",
    "else:\n",
    "    print(\"This is a else block execute when my try block run succesfully\")\n",
    "    f.close()\n",
    "    \n",
    "finally:\n",
    "    print(\"i Don't know that code is right or wrong\")"
   ]
  },
  {
   "cell_type": "code",
   "execution_count": 90,
   "id": "6a954def",
   "metadata": {},
   "outputs": [],
   "source": [
    "def askint():\n",
    "    b=int(input(\"Only Interges\"))\n",
    "    return b+1"
   ]
  },
  {
   "cell_type": "code",
   "execution_count": 95,
   "id": "2cf5c899",
   "metadata": {},
   "outputs": [
    {
     "name": "stdout",
     "output_type": "stream",
     "text": [
      "Only Interges5\n"
     ]
    },
    {
     "data": {
      "text/plain": [
       "6"
      ]
     },
     "execution_count": 95,
     "metadata": {},
     "output_type": "execute_result"
    }
   ],
   "source": [
    "askint()"
   ]
  },
  {
   "cell_type": "code",
   "execution_count": 119,
   "id": "db67bccb",
   "metadata": {},
   "outputs": [
    {
     "name": "stdout",
     "output_type": "stream",
     "text": [
      "Enter the a:56\n"
     ]
    },
    {
     "data": {
      "text/plain": [
       "57"
      ]
     },
     "execution_count": 119,
     "metadata": {},
     "output_type": "execute_result"
    }
   ],
   "source": [
    "def askint():\n",
    "    try:\n",
    "        a=int(input(\"Enter the a:\"))\n",
    "        return a+1\n",
    "    except Exception as e:\n",
    "        print(\"Error:-\", e)\n",
    "    \n",
    "        \n",
    "   \n",
    "        \n",
    "askint()"
   ]
  },
  {
   "cell_type": "code",
   "execution_count": 123,
   "id": "85b35d39",
   "metadata": {},
   "outputs": [
    {
     "name": "stdout",
     "output_type": "stream",
     "text": [
      "Enter the a:gf\n",
      "Error:- invalid literal for int() with base 10: 'gf'\n"
     ]
    }
   ],
   "source": [
    "def askint():\n",
    "    try:\n",
    "        a=int(input(\"Enter the a:\"))\n",
    "        return a+1\n",
    "    except Exception as e:\n",
    "        print(\"Error:-\", e)\n",
    "    else:\n",
    "        print(\"Every code is ok till now\")\n",
    "        \n",
    "    \n",
    "        \n",
    "askint()"
   ]
  },
  {
   "cell_type": "code",
   "execution_count": 122,
   "id": "afe64dcf",
   "metadata": {},
   "outputs": [
    {
     "name": "stdout",
     "output_type": "stream",
     "text": [
      "Enter the a:g\n",
      "Error:- invalid literal for int() with base 10: 'g'\n",
      "Fine everything or not\n"
     ]
    }
   ],
   "source": [
    "def askint():\n",
    "    try:\n",
    "        a=int(input(\"Enter the a:\"))\n",
    "        return a+1\n",
    "    except Exception as e:\n",
    "        print(\"Error:-\", e)\n",
    "    else:\n",
    "        print(\"Every code is ok till now\")\n",
    "        \n",
    "    finally:\n",
    "        print(\"Fine everything or not\")\n",
    "        \n",
    "askint()"
   ]
  },
  {
   "cell_type": "code",
   "execution_count": 130,
   "id": "5d9d2b81",
   "metadata": {},
   "outputs": [
    {
     "name": "stdout",
     "output_type": "stream",
     "text": [
      "Enter the interges: 45\n",
      "yes, you have entered integers, 45\n"
     ]
    }
   ],
   "source": [
    "# in this code we have to put interges value on --question\n",
    "\n",
    "def fun1():\n",
    "    flag=True\n",
    "    while flag:\n",
    "        try:\n",
    "            a=int(input(\"Enter the interges: \"))\n",
    "            if type(a)==int:\n",
    "                return print(f\"yes, you have entered integers, {a}\")\n",
    "            flag=False\n",
    "            \n",
    "        except Exception as e:\n",
    "            print(\"Not enter intergees\", e)\n",
    "            \n",
    "fun1()"
   ]
  },
  {
   "cell_type": "code",
   "execution_count": 143,
   "id": "da1649e7",
   "metadata": {},
   "outputs": [
    {
     "ename": "UnboundLocalError",
     "evalue": "local variable 'b' referenced before assignment",
     "output_type": "error",
     "traceback": [
      "\u001b[1;31m---------------------------------------------------------------------------\u001b[0m",
      "\u001b[1;31mUnboundLocalError\u001b[0m                         Traceback (most recent call last)",
      "Input \u001b[1;32mIn [143]\u001b[0m, in \u001b[0;36m<cell line: 12>\u001b[1;34m()\u001b[0m\n\u001b[0;32m      9\u001b[0m \u001b[38;5;28;01mexcept\u001b[39;00m \u001b[38;5;167;01mException\u001b[39;00m \u001b[38;5;28;01mas\u001b[39;00m e:\n\u001b[0;32m     10\u001b[0m     \u001b[38;5;28mprint\u001b[39m(\u001b[38;5;124m\"\u001b[39m\u001b[38;5;124mNot enter intergers\u001b[39m\u001b[38;5;124m\"\u001b[39m,e)\n\u001b[1;32m---> 12\u001b[0m \u001b[43mfun2\u001b[49m\u001b[43m(\u001b[49m\u001b[43m)\u001b[49m\n",
      "Input \u001b[1;32mIn [143]\u001b[0m, in \u001b[0;36mfun2\u001b[1;34m()\u001b[0m\n\u001b[0;32m      3\u001b[0m flag\u001b[38;5;241m=\u001b[39m\u001b[38;5;28;01mTrue\u001b[39;00m\n\u001b[0;32m      4\u001b[0m \u001b[38;5;28;01mwhile\u001b[39;00m flag:\n\u001b[1;32m----> 5\u001b[0m     b\u001b[38;5;241m=\u001b[39m\u001b[38;5;28mint\u001b[39m(\u001b[38;5;28minput\u001b[39m(\u001b[38;5;124mf\u001b[39m\u001b[38;5;124m\"\u001b[39m\u001b[38;5;124mEnter the interger: \u001b[39m\u001b[38;5;132;01m{\u001b[39;00mb\u001b[38;5;132;01m}\u001b[39;00m\u001b[38;5;124m\"\u001b[39m))\n\u001b[0;32m      6\u001b[0m     \u001b[38;5;28;01mif\u001b[39;00m \u001b[38;5;28mtype\u001b[39m(a)\u001b[38;5;241m==\u001b[39m\u001b[38;5;28mint\u001b[39m:\n\u001b[0;32m      7\u001b[0m         \u001b[38;5;28;01mreturn\u001b[39;00m (\u001b[38;5;124mf\u001b[39m\u001b[38;5;124m\"\u001b[39m\u001b[38;5;124myes, its a intergers,  \u001b[39m\u001b[38;5;132;01m{\u001b[39;00mb\u001b[38;5;132;01m}\u001b[39;00m\u001b[38;5;124m\"\u001b[39m)\n",
      "\u001b[1;31mUnboundLocalError\u001b[0m: local variable 'b' referenced before assignment"
     ]
    }
   ],
   "source": [
    "try:\n",
    "    def fun2():\n",
    "        flag=True\n",
    "        while flag:\n",
    "            b=int(input(f\"Enter the interger: {b}\"))\n",
    "            if type(a)==int:\n",
    "                return (f\"yes, its a intergers,  {b}\")\n",
    "            flag=False\n",
    "except Exception as e:\n",
    "    print(\"Not enter intergers\",e)\n",
    "    \n",
    "fun2()"
   ]
  },
  {
   "cell_type": "code",
   "execution_count": 147,
   "id": "c473c07c",
   "metadata": {},
   "outputs": [
    {
     "name": "stdout",
     "output_type": "stream",
     "text": [
      "Enter the intergers: df\n",
      "Pls Put intergers\n",
      "Error1:- enter the intergers invalid literal for int() with base 10: 'df'\n",
      "Enter the intergers: \n",
      "Pls Put intergers\n",
      "Error1:- enter the intergers invalid literal for int() with base 10: ''\n",
      "Enter the intergers: 6565\n",
      "Good you have Put the intergeers\n"
     ]
    }
   ],
   "source": [
    "# in this code we have to put interges value on --question\n",
    "\n",
    "def interger():\n",
    "    while True:\n",
    "        try:\n",
    "            x=int(input(\"Enter the intergers: \"))\n",
    "            print(\"Good you have Put the intergeers\")\n",
    "            break\n",
    "        except Exception as e:\n",
    "            print(\"Pls Put intergers\")\n",
    "            print(\"Error1:- enter the intergers\",e)\n",
    "            \n",
    "interger()"
   ]
  },
  {
   "cell_type": "code",
   "execution_count": 154,
   "id": "cdd80a52",
   "metadata": {},
   "outputs": [
    {
     "name": "stdout",
     "output_type": "stream",
     "text": [
      "Enter no.sd\n",
      "invalid literal for int() with base 10: 'sd'\n",
      "Enter no.45\n",
      "its a intergers\n"
     ]
    }
   ],
   "source": [
    "# in this code we have to put interges value on --question\n",
    "\n",
    "def askint():\n",
    "    while True:\n",
    "        try:\n",
    "            num=int(input(\"Enter no.\"))\n",
    "            print(\"its a intergers\")\n",
    "            break\n",
    "        except Exception as e:\n",
    "            print(e)\n",
    "            continue\n",
    "            \n",
    "            \n",
    "askint()"
   ]
  },
  {
   "cell_type": "code",
   "execution_count": 155,
   "id": "6df0c5b0",
   "metadata": {},
   "outputs": [
    {
     "ename": "ZeroDivisionError",
     "evalue": "division by zero",
     "output_type": "error",
     "traceback": [
      "\u001b[1;31m---------------------------------------------------------------------------\u001b[0m",
      "\u001b[1;31mZeroDivisionError\u001b[0m                         Traceback (most recent call last)",
      "Input \u001b[1;32mIn [155]\u001b[0m, in \u001b[0;36m<cell line: 1>\u001b[1;34m()\u001b[0m\n\u001b[1;32m----> 1\u001b[0m \u001b[38;5;241;43m6\u001b[39;49m\u001b[38;5;241;43m/\u001b[39;49m\u001b[38;5;241;43m0\u001b[39;49m\n",
      "\u001b[1;31mZeroDivisionError\u001b[0m: division by zero"
     ]
    }
   ],
   "source": [
    "6/0\n",
    "\n",
    "# here we are getting \"ZeroDivisionError\" put simply we can\n",
    "# name it as per our choise see in the next code."
   ]
  },
  {
   "cell_type": "code",
   "execution_count": 156,
   "id": "f1fb1492",
   "metadata": {},
   "outputs": [],
   "source": [
    "def test(a):\n",
    "    if a<0:\n",
    "        raise Exception(a)\n",
    "    return a\n",
    "\n"
   ]
  },
  {
   "cell_type": "code",
   "execution_count": 162,
   "id": "c4fc9edf",
   "metadata": {},
   "outputs": [
    {
     "data": {
      "text/plain": [
       "4"
      ]
     },
     "execution_count": 162,
     "metadata": {},
     "output_type": "execute_result"
    }
   ],
   "source": [
    "test(4)"
   ]
  },
  {
   "cell_type": "code",
   "execution_count": 163,
   "id": "532e7c6a",
   "metadata": {},
   "outputs": [
    {
     "ename": "Exception",
     "evalue": "-4",
     "output_type": "error",
     "traceback": [
      "\u001b[1;31m---------------------------------------------------------------------------\u001b[0m",
      "\u001b[1;31mException\u001b[0m                                 Traceback (most recent call last)",
      "Input \u001b[1;32mIn [163]\u001b[0m, in \u001b[0;36m<cell line: 1>\u001b[1;34m()\u001b[0m\n\u001b[1;32m----> 1\u001b[0m \u001b[43mtest\u001b[49m\u001b[43m(\u001b[49m\u001b[38;5;241;43m-\u001b[39;49m\u001b[38;5;241;43m4\u001b[39;49m\u001b[43m)\u001b[49m\n",
      "Input \u001b[1;32mIn [156]\u001b[0m, in \u001b[0;36mtest\u001b[1;34m(a)\u001b[0m\n\u001b[0;32m      1\u001b[0m \u001b[38;5;28;01mdef\u001b[39;00m \u001b[38;5;21mtest\u001b[39m(a):\n\u001b[0;32m      2\u001b[0m     \u001b[38;5;28;01mif\u001b[39;00m a\u001b[38;5;241m<\u001b[39m\u001b[38;5;241m0\u001b[39m:\n\u001b[1;32m----> 3\u001b[0m         \u001b[38;5;28;01mraise\u001b[39;00m \u001b[38;5;167;01mException\u001b[39;00m(a)\n\u001b[0;32m      4\u001b[0m     \u001b[38;5;28;01mreturn\u001b[39;00m a\n",
      "\u001b[1;31mException\u001b[0m: -4"
     ]
    }
   ],
   "source": [
    "test(-4)"
   ]
  },
  {
   "cell_type": "code",
   "execution_count": 165,
   "id": "57243edc",
   "metadata": {},
   "outputs": [
    {
     "ename": "Exception",
     "evalue": "written wrong input",
     "output_type": "error",
     "traceback": [
      "\u001b[1;31m---------------------------------------------------------------------------\u001b[0m",
      "\u001b[1;31mException\u001b[0m                                 Traceback (most recent call last)",
      "Input \u001b[1;32mIn [165]\u001b[0m, in \u001b[0;36m<cell line: 6>\u001b[1;34m()\u001b[0m\n\u001b[0;32m      3\u001b[0m         \u001b[38;5;28;01mraise\u001b[39;00m \u001b[38;5;167;01mException\u001b[39;00m(\u001b[38;5;124m\"\u001b[39m\u001b[38;5;124mwritten wrong input\u001b[39m\u001b[38;5;124m\"\u001b[39m)\n\u001b[0;32m      4\u001b[0m     \u001b[38;5;28;01mreturn\u001b[39;00m a\n\u001b[1;32m----> 6\u001b[0m \u001b[43mtest\u001b[49m\u001b[43m(\u001b[49m\u001b[38;5;241;43m-\u001b[39;49m\u001b[38;5;241;43m10\u001b[39;49m\u001b[43m)\u001b[49m\n",
      "Input \u001b[1;32mIn [165]\u001b[0m, in \u001b[0;36mtest\u001b[1;34m(a)\u001b[0m\n\u001b[0;32m      1\u001b[0m \u001b[38;5;28;01mdef\u001b[39;00m \u001b[38;5;21mtest\u001b[39m(a):\n\u001b[0;32m      2\u001b[0m     \u001b[38;5;28;01mif\u001b[39;00m a\u001b[38;5;241m<\u001b[39m\u001b[38;5;241m0\u001b[39m:\n\u001b[1;32m----> 3\u001b[0m         \u001b[38;5;28;01mraise\u001b[39;00m \u001b[38;5;167;01mException\u001b[39;00m(\u001b[38;5;124m\"\u001b[39m\u001b[38;5;124mwritten wrong input\u001b[39m\u001b[38;5;124m\"\u001b[39m)\n\u001b[0;32m      4\u001b[0m     \u001b[38;5;28;01mreturn\u001b[39;00m a\n",
      "\u001b[1;31mException\u001b[0m: written wrong input"
     ]
    }
   ],
   "source": [
    "def test(a):\n",
    "    if a<0:\n",
    "        raise Exception(\"written wrong input\")\n",
    "    return a\n",
    "\n",
    "test(-10)"
   ]
  },
  {
   "cell_type": "code",
   "execution_count": null,
   "id": "5c87e51a",
   "metadata": {},
   "outputs": [],
   "source": []
  },
  {
   "cell_type": "code",
   "execution_count": null,
   "id": "a8ad68e5",
   "metadata": {},
   "outputs": [],
   "source": []
  },
  {
   "cell_type": "code",
   "execution_count": null,
   "id": "a01ccd8f",
   "metadata": {},
   "outputs": [],
   "source": []
  },
  {
   "cell_type": "code",
   "execution_count": null,
   "id": "b4016b73",
   "metadata": {},
   "outputs": [],
   "source": []
  },
  {
   "cell_type": "code",
   "execution_count": null,
   "id": "3ccd8a2c",
   "metadata": {},
   "outputs": [],
   "source": []
  },
  {
   "cell_type": "code",
   "execution_count": null,
   "id": "2ed11864",
   "metadata": {},
   "outputs": [],
   "source": []
  }
 ],
 "metadata": {
  "kernelspec": {
   "display_name": "Python 3 (ipykernel)",
   "language": "python",
   "name": "python3"
  },
  "language_info": {
   "codemirror_mode": {
    "name": "ipython",
    "version": 3
   },
   "file_extension": ".py",
   "mimetype": "text/x-python",
   "name": "python",
   "nbconvert_exporter": "python",
   "pygments_lexer": "ipython3",
   "version": "3.9.12"
  }
 },
 "nbformat": 4,
 "nbformat_minor": 5
}
