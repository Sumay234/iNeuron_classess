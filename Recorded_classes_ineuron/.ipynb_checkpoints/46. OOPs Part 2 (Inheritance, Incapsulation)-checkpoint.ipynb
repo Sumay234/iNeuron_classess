{
 "cells": [
  {
   "cell_type": "markdown",
   "id": "5bdaeaf3",
   "metadata": {},
   "source": [
    "## OOPs :- Inheritance, Incapsulation"
   ]
  },
  {
   "cell_type": "markdown",
   "id": "7cf040ff",
   "metadata": {},
   "source": [
    "### Inheritance ----->"
   ]
  },
  {
   "cell_type": "code",
   "execution_count": 18,
   "id": "de177501",
   "metadata": {},
   "outputs": [],
   "source": [
    "class xyz:\n",
    "    \n",
    "    def __init__(self,a,b,c):\n",
    "        self.a=a\n",
    "        self.b=b\n",
    "        self.c=c\n",
    "        \n",
    "    def test(self):\n",
    "        print(\"This is a method of xyz class\")\n",
    "        \n",
    "        \n",
    "class xyz_1:\n",
    "    \n",
    "    def __init__(self,p,q,v):\n",
    "        self.p=p\n",
    "        self.q=q\n",
    "        self.v=v\n",
    "        \n",
    "    def test_1(self):\n",
    "        print(\"This is method from class xyz_1\")"
   ]
  },
  {
   "cell_type": "code",
   "execution_count": 23,
   "id": "e85cf01e",
   "metadata": {},
   "outputs": [],
   "source": [
    "a=xyz(1,2,3)"
   ]
  },
  {
   "cell_type": "code",
   "execution_count": 24,
   "id": "011a50ab",
   "metadata": {},
   "outputs": [
    {
     "name": "stdout",
     "output_type": "stream",
     "text": [
      "This is a method of xyz class\n"
     ]
    }
   ],
   "source": [
    "a.test()"
   ]
  },
  {
   "cell_type": "code",
   "execution_count": 25,
   "id": "585afa39",
   "metadata": {},
   "outputs": [
    {
     "data": {
      "text/plain": [
       "1"
      ]
     },
     "execution_count": 25,
     "metadata": {},
     "output_type": "execute_result"
    }
   ],
   "source": [
    "a.a"
   ]
  },
  {
   "cell_type": "code",
   "execution_count": 27,
   "id": "0503ea38",
   "metadata": {},
   "outputs": [],
   "source": [
    "class xyz:\n",
    "    \n",
    "    def __init__(self,a,b,c):\n",
    "        self.a=a\n",
    "        self.b=b\n",
    "        self.c=c\n",
    "        \n",
    "    def test(self):\n",
    "        print(\"This is a method of xyz class\")\n",
    "        \n",
    "        \n",
    "class xyz_1:\n",
    "    \n",
    "    def __init__(self,p,q,v):\n",
    "        self.p=p\n",
    "        self.q=q\n",
    "        self.v=v\n",
    "        \n",
    "    def test_1(self):\n",
    "        print(\"This is method from class xyz_1\")\n",
    "        \n",
    "class child(xyz,xyz_1):\n",
    "    pass"
   ]
  },
  {
   "cell_type": "code",
   "execution_count": 29,
   "id": "59bb2e6a",
   "metadata": {},
   "outputs": [],
   "source": [
    "n=child(1,2,3)"
   ]
  },
  {
   "cell_type": "code",
   "execution_count": 32,
   "id": "4b43d690",
   "metadata": {},
   "outputs": [
    {
     "data": {
      "text/plain": [
       "1"
      ]
     },
     "execution_count": 32,
     "metadata": {},
     "output_type": "execute_result"
    }
   ],
   "source": [
    "n.a"
   ]
  },
  {
   "cell_type": "code",
   "execution_count": 37,
   "id": "070d0569",
   "metadata": {},
   "outputs": [],
   "source": [
    "class xyz:\n",
    "    \n",
    "    def __init__(self,a,b,c):\n",
    "        self.a=a\n",
    "        self.b=b\n",
    "        self.c=c\n",
    "        \n",
    "    def test(self):\n",
    "        print(\"This is a method of xyz class\")\n",
    "        \n",
    "        \n",
    "class xyz_1:\n",
    "    \n",
    "    def __init__(self,p,q,v):\n",
    "        self.p=p\n",
    "        self.q=q\n",
    "        self.v=v\n",
    "        \n",
    "    def test_1(self):\n",
    "        print(\"This is method from class xyz_1\")\n",
    "        \n",
    "class child(xyz,xyz_1):\n",
    "    ''' this is a child class'''\n",
    "    \n",
    "    def __init__(self,*args,**kwargs):\n",
    "        xyz.__init__(self,*args)\n",
    "        xyz_1.__init__(self,**kwargs)"
   ]
  },
  {
   "cell_type": "code",
   "execution_count": 38,
   "id": "fc610a8a",
   "metadata": {},
   "outputs": [],
   "source": [
    "n=child(10,11,12,p=13,q=14,v=15)"
   ]
  },
  {
   "cell_type": "code",
   "execution_count": 39,
   "id": "58f76491",
   "metadata": {},
   "outputs": [
    {
     "data": {
      "text/plain": [
       "10"
      ]
     },
     "execution_count": 39,
     "metadata": {},
     "output_type": "execute_result"
    }
   ],
   "source": [
    "n.a"
   ]
  },
  {
   "cell_type": "code",
   "execution_count": 40,
   "id": "e0cd0047",
   "metadata": {},
   "outputs": [
    {
     "data": {
      "text/plain": [
       "14"
      ]
     },
     "execution_count": 40,
     "metadata": {},
     "output_type": "execute_result"
    }
   ],
   "source": [
    "n.q"
   ]
  },
  {
   "cell_type": "code",
   "execution_count": 41,
   "id": "40c4cbf8",
   "metadata": {},
   "outputs": [
    {
     "name": "stdout",
     "output_type": "stream",
     "text": [
      "This is method from class xyz_1\n"
     ]
    }
   ],
   "source": [
    "n.test_1()"
   ]
  },
  {
   "cell_type": "code",
   "execution_count": 42,
   "id": "82d1a984",
   "metadata": {},
   "outputs": [],
   "source": [
    "class xyz:\n",
    "    \n",
    "    def __init__(self,a,b,c):\n",
    "        self.a=a\n",
    "        self.b=b\n",
    "        self.c=c\n",
    "        \n",
    "    def test(self):\n",
    "        print(\"This is a method of xyz class\")\n",
    "        \n",
    "        \n",
    "class xyz_1(xyz):\n",
    "    \n",
    "\n",
    "    def test_1(self):\n",
    "        print(\"This is method from class xyz_1\")\n",
    "        \n",
    "class xyz_2(xyz_1):\n",
    "    def test_2(self):\n",
    "        print(\"This is a method from class xyz_2\")"
   ]
  },
  {
   "cell_type": "code",
   "execution_count": null,
   "id": "77085127",
   "metadata": {},
   "outputs": [],
   "source": []
  }
 ],
 "metadata": {
  "kernelspec": {
   "display_name": "Python 3 (ipykernel)",
   "language": "python",
   "name": "python3"
  },
  "language_info": {
   "codemirror_mode": {
    "name": "ipython",
    "version": 3
   },
   "file_extension": ".py",
   "mimetype": "text/x-python",
   "name": "python",
   "nbconvert_exporter": "python",
   "pygments_lexer": "ipython3",
   "version": "3.9.12"
  }
 },
 "nbformat": 4,
 "nbformat_minor": 5
}
