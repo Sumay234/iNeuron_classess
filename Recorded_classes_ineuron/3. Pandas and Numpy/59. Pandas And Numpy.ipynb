{
 "cells": [
  {
   "cell_type": "code",
   "execution_count": 1,
   "id": "6d5b4791",
   "metadata": {},
   "outputs": [],
   "source": [
    "import pandas as pd"
   ]
  },
  {
   "cell_type": "code",
   "execution_count": 2,
   "id": "1c4db64c",
   "metadata": {},
   "outputs": [
    {
     "data": {
      "text/html": [
       "<div>\n",
       "<style scoped>\n",
       "    .dataframe tbody tr th:only-of-type {\n",
       "        vertical-align: middle;\n",
       "    }\n",
       "\n",
       "    .dataframe tbody tr th {\n",
       "        vertical-align: top;\n",
       "    }\n",
       "\n",
       "    .dataframe thead th {\n",
       "        text-align: right;\n",
       "    }\n",
       "</style>\n",
       "<table border=\"1\" class=\"dataframe\">\n",
       "  <thead>\n",
       "    <tr style=\"text-align: right;\">\n",
       "      <th></th>\n",
       "      <th>col1</th>\n",
       "      <th>col2</th>\n",
       "      <th>col3</th>\n",
       "    </tr>\n",
       "  </thead>\n",
       "  <tbody>\n",
       "    <tr>\n",
       "      <th>0</th>\n",
       "      <td>1</td>\n",
       "      <td>45</td>\n",
       "      <td>sudhansu kumar Sumay Krish naik ineuron</td>\n",
       "    </tr>\n",
       "    <tr>\n",
       "      <th>1</th>\n",
       "      <td>2</td>\n",
       "      <td>56</td>\n",
       "      <td>sudhansu kumar Sumay Krish naik ineuron</td>\n",
       "    </tr>\n",
       "    <tr>\n",
       "      <th>2</th>\n",
       "      <td>3</td>\n",
       "      <td>67</td>\n",
       "      <td>sudhansu kumar Sumay Krish naik ineuron</td>\n",
       "    </tr>\n",
       "    <tr>\n",
       "      <th>3</th>\n",
       "      <td>4</td>\n",
       "      <td>34</td>\n",
       "      <td>sudhansu kumar Sumay Krish naik ineuron</td>\n",
       "    </tr>\n",
       "    <tr>\n",
       "      <th>4</th>\n",
       "      <td>5</td>\n",
       "      <td>34</td>\n",
       "      <td>sudhansu kumar Sumay Krish naik ineuron</td>\n",
       "    </tr>\n",
       "  </tbody>\n",
       "</table>\n",
       "</div>"
      ],
      "text/plain": [
       "   col1  col2                                     col3\n",
       "0     1    45  sudhansu kumar Sumay Krish naik ineuron\n",
       "1     2    56  sudhansu kumar Sumay Krish naik ineuron\n",
       "2     3    67  sudhansu kumar Sumay Krish naik ineuron\n",
       "3     4    34  sudhansu kumar Sumay Krish naik ineuron\n",
       "4     5    34  sudhansu kumar Sumay Krish naik ineuron"
      ]
     },
     "execution_count": 2,
     "metadata": {},
     "output_type": "execute_result"
    }
   ],
   "source": [
    "pd.DataFrame({\n",
    "    \"col1\" : [1,2,3,4,5],\n",
    "    \"col2\" : [45,56,67,34,34],\n",
    "    \"col3\" : \"sudhansu kumar Sumay Krish naik ineuron\"\n",
    "})"
   ]
  },
  {
   "cell_type": "code",
   "execution_count": 3,
   "id": "0b27c551",
   "metadata": {},
   "outputs": [],
   "source": [
    "df = pd.DataFrame({\n",
    "    \"col1\" : [1,2,3,4,5],\n",
    "    \"col2\" : [45,56,67,34,34],\n",
    "    \"col3\" : \"sudhansu kumar sumay Krish naik\".split()\n",
    "})"
   ]
  },
  {
   "cell_type": "code",
   "execution_count": 4,
   "id": "979fb683",
   "metadata": {},
   "outputs": [
    {
     "data": {
      "text/html": [
       "<div>\n",
       "<style scoped>\n",
       "    .dataframe tbody tr th:only-of-type {\n",
       "        vertical-align: middle;\n",
       "    }\n",
       "\n",
       "    .dataframe tbody tr th {\n",
       "        vertical-align: top;\n",
       "    }\n",
       "\n",
       "    .dataframe thead th {\n",
       "        text-align: right;\n",
       "    }\n",
       "</style>\n",
       "<table border=\"1\" class=\"dataframe\">\n",
       "  <thead>\n",
       "    <tr style=\"text-align: right;\">\n",
       "      <th></th>\n",
       "      <th>col1</th>\n",
       "      <th>col2</th>\n",
       "      <th>col3</th>\n",
       "    </tr>\n",
       "  </thead>\n",
       "  <tbody>\n",
       "    <tr>\n",
       "      <th>0</th>\n",
       "      <td>1</td>\n",
       "      <td>45</td>\n",
       "      <td>sudhansu</td>\n",
       "    </tr>\n",
       "    <tr>\n",
       "      <th>1</th>\n",
       "      <td>2</td>\n",
       "      <td>56</td>\n",
       "      <td>kumar</td>\n",
       "    </tr>\n",
       "    <tr>\n",
       "      <th>2</th>\n",
       "      <td>3</td>\n",
       "      <td>67</td>\n",
       "      <td>sumay</td>\n",
       "    </tr>\n",
       "    <tr>\n",
       "      <th>3</th>\n",
       "      <td>4</td>\n",
       "      <td>34</td>\n",
       "      <td>Krish</td>\n",
       "    </tr>\n",
       "    <tr>\n",
       "      <th>4</th>\n",
       "      <td>5</td>\n",
       "      <td>34</td>\n",
       "      <td>naik</td>\n",
       "    </tr>\n",
       "  </tbody>\n",
       "</table>\n",
       "</div>"
      ],
      "text/plain": [
       "   col1  col2      col3\n",
       "0     1    45  sudhansu\n",
       "1     2    56     kumar\n",
       "2     3    67     sumay\n",
       "3     4    34     Krish\n",
       "4     5    34      naik"
      ]
     },
     "execution_count": 4,
     "metadata": {},
     "output_type": "execute_result"
    }
   ],
   "source": [
    "df"
   ]
  },
  {
   "cell_type": "code",
   "execution_count": 5,
   "id": "62dd6797",
   "metadata": {},
   "outputs": [],
   "source": [
    "df[\"col4\"] = df[\"col1\"] ** 2"
   ]
  },
  {
   "cell_type": "code",
   "execution_count": 6,
   "id": "174499b9",
   "metadata": {},
   "outputs": [
    {
     "data": {
      "text/html": [
       "<div>\n",
       "<style scoped>\n",
       "    .dataframe tbody tr th:only-of-type {\n",
       "        vertical-align: middle;\n",
       "    }\n",
       "\n",
       "    .dataframe tbody tr th {\n",
       "        vertical-align: top;\n",
       "    }\n",
       "\n",
       "    .dataframe thead th {\n",
       "        text-align: right;\n",
       "    }\n",
       "</style>\n",
       "<table border=\"1\" class=\"dataframe\">\n",
       "  <thead>\n",
       "    <tr style=\"text-align: right;\">\n",
       "      <th></th>\n",
       "      <th>col1</th>\n",
       "      <th>col2</th>\n",
       "      <th>col3</th>\n",
       "      <th>col4</th>\n",
       "    </tr>\n",
       "  </thead>\n",
       "  <tbody>\n",
       "    <tr>\n",
       "      <th>0</th>\n",
       "      <td>1</td>\n",
       "      <td>45</td>\n",
       "      <td>sudhansu</td>\n",
       "      <td>1</td>\n",
       "    </tr>\n",
       "    <tr>\n",
       "      <th>1</th>\n",
       "      <td>2</td>\n",
       "      <td>56</td>\n",
       "      <td>kumar</td>\n",
       "      <td>4</td>\n",
       "    </tr>\n",
       "    <tr>\n",
       "      <th>2</th>\n",
       "      <td>3</td>\n",
       "      <td>67</td>\n",
       "      <td>sumay</td>\n",
       "      <td>9</td>\n",
       "    </tr>\n",
       "    <tr>\n",
       "      <th>3</th>\n",
       "      <td>4</td>\n",
       "      <td>34</td>\n",
       "      <td>Krish</td>\n",
       "      <td>16</td>\n",
       "    </tr>\n",
       "    <tr>\n",
       "      <th>4</th>\n",
       "      <td>5</td>\n",
       "      <td>34</td>\n",
       "      <td>naik</td>\n",
       "      <td>25</td>\n",
       "    </tr>\n",
       "  </tbody>\n",
       "</table>\n",
       "</div>"
      ],
      "text/plain": [
       "   col1  col2      col3  col4\n",
       "0     1    45  sudhansu     1\n",
       "1     2    56     kumar     4\n",
       "2     3    67     sumay     9\n",
       "3     4    34     Krish    16\n",
       "4     5    34      naik    25"
      ]
     },
     "execution_count": 6,
     "metadata": {},
     "output_type": "execute_result"
    }
   ],
   "source": [
    "df"
   ]
  },
  {
   "cell_type": "code",
   "execution_count": 7,
   "id": "f0a2bee6",
   "metadata": {},
   "outputs": [],
   "source": [
    "df[\"col5\"] = df[\"col3\"].str[0]"
   ]
  },
  {
   "cell_type": "code",
   "execution_count": 8,
   "id": "e6136c2d",
   "metadata": {},
   "outputs": [
    {
     "data": {
      "text/html": [
       "<div>\n",
       "<style scoped>\n",
       "    .dataframe tbody tr th:only-of-type {\n",
       "        vertical-align: middle;\n",
       "    }\n",
       "\n",
       "    .dataframe tbody tr th {\n",
       "        vertical-align: top;\n",
       "    }\n",
       "\n",
       "    .dataframe thead th {\n",
       "        text-align: right;\n",
       "    }\n",
       "</style>\n",
       "<table border=\"1\" class=\"dataframe\">\n",
       "  <thead>\n",
       "    <tr style=\"text-align: right;\">\n",
       "      <th></th>\n",
       "      <th>col1</th>\n",
       "      <th>col2</th>\n",
       "      <th>col3</th>\n",
       "      <th>col4</th>\n",
       "      <th>col5</th>\n",
       "    </tr>\n",
       "  </thead>\n",
       "  <tbody>\n",
       "    <tr>\n",
       "      <th>0</th>\n",
       "      <td>1</td>\n",
       "      <td>45</td>\n",
       "      <td>sudhansu</td>\n",
       "      <td>1</td>\n",
       "      <td>s</td>\n",
       "    </tr>\n",
       "    <tr>\n",
       "      <th>1</th>\n",
       "      <td>2</td>\n",
       "      <td>56</td>\n",
       "      <td>kumar</td>\n",
       "      <td>4</td>\n",
       "      <td>k</td>\n",
       "    </tr>\n",
       "    <tr>\n",
       "      <th>2</th>\n",
       "      <td>3</td>\n",
       "      <td>67</td>\n",
       "      <td>sumay</td>\n",
       "      <td>9</td>\n",
       "      <td>s</td>\n",
       "    </tr>\n",
       "    <tr>\n",
       "      <th>3</th>\n",
       "      <td>4</td>\n",
       "      <td>34</td>\n",
       "      <td>Krish</td>\n",
       "      <td>16</td>\n",
       "      <td>K</td>\n",
       "    </tr>\n",
       "    <tr>\n",
       "      <th>4</th>\n",
       "      <td>5</td>\n",
       "      <td>34</td>\n",
       "      <td>naik</td>\n",
       "      <td>25</td>\n",
       "      <td>n</td>\n",
       "    </tr>\n",
       "  </tbody>\n",
       "</table>\n",
       "</div>"
      ],
      "text/plain": [
       "   col1  col2      col3  col4 col5\n",
       "0     1    45  sudhansu     1    s\n",
       "1     2    56     kumar     4    k\n",
       "2     3    67     sumay     9    s\n",
       "3     4    34     Krish    16    K\n",
       "4     5    34      naik    25    n"
      ]
     },
     "execution_count": 8,
     "metadata": {},
     "output_type": "execute_result"
    }
   ],
   "source": [
    "df"
   ]
  },
  {
   "cell_type": "code",
   "execution_count": 9,
   "id": "8fcbe31c",
   "metadata": {},
   "outputs": [],
   "source": [
    "# this is the anothere way to gett square\n",
    "\n",
    "def test(a):\n",
    "    return a**2"
   ]
  },
  {
   "cell_type": "code",
   "execution_count": 10,
   "id": "0300f77c",
   "metadata": {},
   "outputs": [],
   "source": [
    "df[\"col4_4\"] = df[\"col1\"].apply(test)"
   ]
  },
  {
   "cell_type": "code",
   "execution_count": 11,
   "id": "6761a3a6",
   "metadata": {},
   "outputs": [
    {
     "data": {
      "text/html": [
       "<div>\n",
       "<style scoped>\n",
       "    .dataframe tbody tr th:only-of-type {\n",
       "        vertical-align: middle;\n",
       "    }\n",
       "\n",
       "    .dataframe tbody tr th {\n",
       "        vertical-align: top;\n",
       "    }\n",
       "\n",
       "    .dataframe thead th {\n",
       "        text-align: right;\n",
       "    }\n",
       "</style>\n",
       "<table border=\"1\" class=\"dataframe\">\n",
       "  <thead>\n",
       "    <tr style=\"text-align: right;\">\n",
       "      <th></th>\n",
       "      <th>col1</th>\n",
       "      <th>col2</th>\n",
       "      <th>col3</th>\n",
       "      <th>col4</th>\n",
       "      <th>col5</th>\n",
       "      <th>col4_4</th>\n",
       "    </tr>\n",
       "  </thead>\n",
       "  <tbody>\n",
       "    <tr>\n",
       "      <th>0</th>\n",
       "      <td>1</td>\n",
       "      <td>45</td>\n",
       "      <td>sudhansu</td>\n",
       "      <td>1</td>\n",
       "      <td>s</td>\n",
       "      <td>1</td>\n",
       "    </tr>\n",
       "    <tr>\n",
       "      <th>1</th>\n",
       "      <td>2</td>\n",
       "      <td>56</td>\n",
       "      <td>kumar</td>\n",
       "      <td>4</td>\n",
       "      <td>k</td>\n",
       "      <td>4</td>\n",
       "    </tr>\n",
       "    <tr>\n",
       "      <th>2</th>\n",
       "      <td>3</td>\n",
       "      <td>67</td>\n",
       "      <td>sumay</td>\n",
       "      <td>9</td>\n",
       "      <td>s</td>\n",
       "      <td>9</td>\n",
       "    </tr>\n",
       "    <tr>\n",
       "      <th>3</th>\n",
       "      <td>4</td>\n",
       "      <td>34</td>\n",
       "      <td>Krish</td>\n",
       "      <td>16</td>\n",
       "      <td>K</td>\n",
       "      <td>16</td>\n",
       "    </tr>\n",
       "    <tr>\n",
       "      <th>4</th>\n",
       "      <td>5</td>\n",
       "      <td>34</td>\n",
       "      <td>naik</td>\n",
       "      <td>25</td>\n",
       "      <td>n</td>\n",
       "      <td>25</td>\n",
       "    </tr>\n",
       "  </tbody>\n",
       "</table>\n",
       "</div>"
      ],
      "text/plain": [
       "   col1  col2      col3  col4 col5  col4_4\n",
       "0     1    45  sudhansu     1    s       1\n",
       "1     2    56     kumar     4    k       4\n",
       "2     3    67     sumay     9    s       9\n",
       "3     4    34     Krish    16    K      16\n",
       "4     5    34      naik    25    n      25"
      ]
     },
     "execution_count": 11,
     "metadata": {},
     "output_type": "execute_result"
    }
   ],
   "source": [
    "df"
   ]
  },
  {
   "cell_type": "code",
   "execution_count": 13,
   "id": "de235e13",
   "metadata": {},
   "outputs": [],
   "source": [
    "# now i have to create a column col_5 in which \n",
    "# the in first word should be \"s\" remain \"s\" else write \"z\"\n",
    "try:\n",
    "    \n",
    "    def test_1(a):\n",
    "        if a==\"s\":\n",
    "            return \"s\"\n",
    "        else:\n",
    "            return \"z\"\n",
    "except Exception as e:\n",
    "    print(e)"
   ]
  },
  {
   "cell_type": "code",
   "execution_count": 14,
   "id": "987ffc45",
   "metadata": {},
   "outputs": [],
   "source": [
    "df[\"col_6\"] = df[\"col5\"].apply(test_1)"
   ]
  },
  {
   "cell_type": "code",
   "execution_count": 15,
   "id": "5365662f",
   "metadata": {},
   "outputs": [
    {
     "data": {
      "text/html": [
       "<div>\n",
       "<style scoped>\n",
       "    .dataframe tbody tr th:only-of-type {\n",
       "        vertical-align: middle;\n",
       "    }\n",
       "\n",
       "    .dataframe tbody tr th {\n",
       "        vertical-align: top;\n",
       "    }\n",
       "\n",
       "    .dataframe thead th {\n",
       "        text-align: right;\n",
       "    }\n",
       "</style>\n",
       "<table border=\"1\" class=\"dataframe\">\n",
       "  <thead>\n",
       "    <tr style=\"text-align: right;\">\n",
       "      <th></th>\n",
       "      <th>col1</th>\n",
       "      <th>col2</th>\n",
       "      <th>col3</th>\n",
       "      <th>col4</th>\n",
       "      <th>col5</th>\n",
       "      <th>col4_4</th>\n",
       "      <th>col_6</th>\n",
       "    </tr>\n",
       "  </thead>\n",
       "  <tbody>\n",
       "    <tr>\n",
       "      <th>0</th>\n",
       "      <td>1</td>\n",
       "      <td>45</td>\n",
       "      <td>sudhansu</td>\n",
       "      <td>1</td>\n",
       "      <td>s</td>\n",
       "      <td>1</td>\n",
       "      <td>s</td>\n",
       "    </tr>\n",
       "    <tr>\n",
       "      <th>1</th>\n",
       "      <td>2</td>\n",
       "      <td>56</td>\n",
       "      <td>kumar</td>\n",
       "      <td>4</td>\n",
       "      <td>k</td>\n",
       "      <td>4</td>\n",
       "      <td>z</td>\n",
       "    </tr>\n",
       "    <tr>\n",
       "      <th>2</th>\n",
       "      <td>3</td>\n",
       "      <td>67</td>\n",
       "      <td>sumay</td>\n",
       "      <td>9</td>\n",
       "      <td>s</td>\n",
       "      <td>9</td>\n",
       "      <td>s</td>\n",
       "    </tr>\n",
       "    <tr>\n",
       "      <th>3</th>\n",
       "      <td>4</td>\n",
       "      <td>34</td>\n",
       "      <td>Krish</td>\n",
       "      <td>16</td>\n",
       "      <td>K</td>\n",
       "      <td>16</td>\n",
       "      <td>z</td>\n",
       "    </tr>\n",
       "    <tr>\n",
       "      <th>4</th>\n",
       "      <td>5</td>\n",
       "      <td>34</td>\n",
       "      <td>naik</td>\n",
       "      <td>25</td>\n",
       "      <td>n</td>\n",
       "      <td>25</td>\n",
       "      <td>z</td>\n",
       "    </tr>\n",
       "  </tbody>\n",
       "</table>\n",
       "</div>"
      ],
      "text/plain": [
       "   col1  col2      col3  col4 col5  col4_4 col_6\n",
       "0     1    45  sudhansu     1    s       1     s\n",
       "1     2    56     kumar     4    k       4     z\n",
       "2     3    67     sumay     9    s       9     s\n",
       "3     4    34     Krish    16    K      16     z\n",
       "4     5    34      naik    25    n      25     z"
      ]
     },
     "execution_count": 15,
     "metadata": {},
     "output_type": "execute_result"
    }
   ],
   "source": [
    "df"
   ]
  },
  {
   "cell_type": "code",
   "execution_count": 16,
   "id": "89702f8b",
   "metadata": {},
   "outputs": [],
   "source": [
    "df[\"col_6_of_6\"] = df[\"col5\"].apply(lambda a:\"s\" if a==\"s\" else \"z\")"
   ]
  },
  {
   "cell_type": "code",
   "execution_count": 17,
   "id": "e0d7fa0d",
   "metadata": {},
   "outputs": [
    {
     "data": {
      "text/html": [
       "<div>\n",
       "<style scoped>\n",
       "    .dataframe tbody tr th:only-of-type {\n",
       "        vertical-align: middle;\n",
       "    }\n",
       "\n",
       "    .dataframe tbody tr th {\n",
       "        vertical-align: top;\n",
       "    }\n",
       "\n",
       "    .dataframe thead th {\n",
       "        text-align: right;\n",
       "    }\n",
       "</style>\n",
       "<table border=\"1\" class=\"dataframe\">\n",
       "  <thead>\n",
       "    <tr style=\"text-align: right;\">\n",
       "      <th></th>\n",
       "      <th>col1</th>\n",
       "      <th>col2</th>\n",
       "      <th>col3</th>\n",
       "      <th>col4</th>\n",
       "      <th>col5</th>\n",
       "      <th>col4_4</th>\n",
       "      <th>col_6</th>\n",
       "      <th>col_6_of_6</th>\n",
       "    </tr>\n",
       "  </thead>\n",
       "  <tbody>\n",
       "    <tr>\n",
       "      <th>0</th>\n",
       "      <td>1</td>\n",
       "      <td>45</td>\n",
       "      <td>sudhansu</td>\n",
       "      <td>1</td>\n",
       "      <td>s</td>\n",
       "      <td>1</td>\n",
       "      <td>s</td>\n",
       "      <td>s</td>\n",
       "    </tr>\n",
       "    <tr>\n",
       "      <th>1</th>\n",
       "      <td>2</td>\n",
       "      <td>56</td>\n",
       "      <td>kumar</td>\n",
       "      <td>4</td>\n",
       "      <td>k</td>\n",
       "      <td>4</td>\n",
       "      <td>z</td>\n",
       "      <td>z</td>\n",
       "    </tr>\n",
       "    <tr>\n",
       "      <th>2</th>\n",
       "      <td>3</td>\n",
       "      <td>67</td>\n",
       "      <td>sumay</td>\n",
       "      <td>9</td>\n",
       "      <td>s</td>\n",
       "      <td>9</td>\n",
       "      <td>s</td>\n",
       "      <td>s</td>\n",
       "    </tr>\n",
       "    <tr>\n",
       "      <th>3</th>\n",
       "      <td>4</td>\n",
       "      <td>34</td>\n",
       "      <td>Krish</td>\n",
       "      <td>16</td>\n",
       "      <td>K</td>\n",
       "      <td>16</td>\n",
       "      <td>z</td>\n",
       "      <td>z</td>\n",
       "    </tr>\n",
       "    <tr>\n",
       "      <th>4</th>\n",
       "      <td>5</td>\n",
       "      <td>34</td>\n",
       "      <td>naik</td>\n",
       "      <td>25</td>\n",
       "      <td>n</td>\n",
       "      <td>25</td>\n",
       "      <td>z</td>\n",
       "      <td>z</td>\n",
       "    </tr>\n",
       "  </tbody>\n",
       "</table>\n",
       "</div>"
      ],
      "text/plain": [
       "   col1  col2      col3  col4 col5  col4_4 col_6 col_6_of_6\n",
       "0     1    45  sudhansu     1    s       1     s          s\n",
       "1     2    56     kumar     4    k       4     z          z\n",
       "2     3    67     sumay     9    s       9     s          s\n",
       "3     4    34     Krish    16    K      16     z          z\n",
       "4     5    34      naik    25    n      25     z          z"
      ]
     },
     "execution_count": 17,
     "metadata": {},
     "output_type": "execute_result"
    }
   ],
   "source": [
    "df"
   ]
  },
  {
   "cell_type": "code",
   "execution_count": 18,
   "id": "2a68c6f0",
   "metadata": {},
   "outputs": [],
   "source": [
    "def test_3(a):\n",
    "    return len(a)"
   ]
  },
  {
   "cell_type": "code",
   "execution_count": 20,
   "id": "37895ac2",
   "metadata": {},
   "outputs": [],
   "source": [
    "df[\"co_7\"] = df[\"col3\"].apply(test_3)"
   ]
  },
  {
   "cell_type": "code",
   "execution_count": 21,
   "id": "e7786230",
   "metadata": {},
   "outputs": [
    {
     "data": {
      "text/html": [
       "<div>\n",
       "<style scoped>\n",
       "    .dataframe tbody tr th:only-of-type {\n",
       "        vertical-align: middle;\n",
       "    }\n",
       "\n",
       "    .dataframe tbody tr th {\n",
       "        vertical-align: top;\n",
       "    }\n",
       "\n",
       "    .dataframe thead th {\n",
       "        text-align: right;\n",
       "    }\n",
       "</style>\n",
       "<table border=\"1\" class=\"dataframe\">\n",
       "  <thead>\n",
       "    <tr style=\"text-align: right;\">\n",
       "      <th></th>\n",
       "      <th>col1</th>\n",
       "      <th>col2</th>\n",
       "      <th>col3</th>\n",
       "      <th>col4</th>\n",
       "      <th>col5</th>\n",
       "      <th>col4_4</th>\n",
       "      <th>col_6</th>\n",
       "      <th>col_6_of_6</th>\n",
       "      <th>co_7</th>\n",
       "    </tr>\n",
       "  </thead>\n",
       "  <tbody>\n",
       "    <tr>\n",
       "      <th>0</th>\n",
       "      <td>1</td>\n",
       "      <td>45</td>\n",
       "      <td>sudhansu</td>\n",
       "      <td>1</td>\n",
       "      <td>s</td>\n",
       "      <td>1</td>\n",
       "      <td>s</td>\n",
       "      <td>s</td>\n",
       "      <td>8</td>\n",
       "    </tr>\n",
       "    <tr>\n",
       "      <th>1</th>\n",
       "      <td>2</td>\n",
       "      <td>56</td>\n",
       "      <td>kumar</td>\n",
       "      <td>4</td>\n",
       "      <td>k</td>\n",
       "      <td>4</td>\n",
       "      <td>z</td>\n",
       "      <td>z</td>\n",
       "      <td>5</td>\n",
       "    </tr>\n",
       "    <tr>\n",
       "      <th>2</th>\n",
       "      <td>3</td>\n",
       "      <td>67</td>\n",
       "      <td>sumay</td>\n",
       "      <td>9</td>\n",
       "      <td>s</td>\n",
       "      <td>9</td>\n",
       "      <td>s</td>\n",
       "      <td>s</td>\n",
       "      <td>5</td>\n",
       "    </tr>\n",
       "    <tr>\n",
       "      <th>3</th>\n",
       "      <td>4</td>\n",
       "      <td>34</td>\n",
       "      <td>Krish</td>\n",
       "      <td>16</td>\n",
       "      <td>K</td>\n",
       "      <td>16</td>\n",
       "      <td>z</td>\n",
       "      <td>z</td>\n",
       "      <td>5</td>\n",
       "    </tr>\n",
       "    <tr>\n",
       "      <th>4</th>\n",
       "      <td>5</td>\n",
       "      <td>34</td>\n",
       "      <td>naik</td>\n",
       "      <td>25</td>\n",
       "      <td>n</td>\n",
       "      <td>25</td>\n",
       "      <td>z</td>\n",
       "      <td>z</td>\n",
       "      <td>4</td>\n",
       "    </tr>\n",
       "  </tbody>\n",
       "</table>\n",
       "</div>"
      ],
      "text/plain": [
       "   col1  col2      col3  col4 col5  col4_4 col_6 col_6_of_6  co_7\n",
       "0     1    45  sudhansu     1    s       1     s          s     8\n",
       "1     2    56     kumar     4    k       4     z          z     5\n",
       "2     3    67     sumay     9    s       9     s          s     5\n",
       "3     4    34     Krish    16    K      16     z          z     5\n",
       "4     5    34      naik    25    n      25     z          z     4"
      ]
     },
     "execution_count": 21,
     "metadata": {},
     "output_type": "execute_result"
    }
   ],
   "source": [
    "df"
   ]
  },
  {
   "cell_type": "code",
   "execution_count": 26,
   "id": "696414a2",
   "metadata": {},
   "outputs": [],
   "source": [
    "import math"
   ]
  },
  {
   "cell_type": "code",
   "execution_count": 28,
   "id": "d8a1ba92",
   "metadata": {},
   "outputs": [],
   "source": [
    "df[\"col_8\"]=df[\"col2\"].apply(math.log)"
   ]
  },
  {
   "cell_type": "code",
   "execution_count": 29,
   "id": "3935f00a",
   "metadata": {},
   "outputs": [
    {
     "data": {
      "text/html": [
       "<div>\n",
       "<style scoped>\n",
       "    .dataframe tbody tr th:only-of-type {\n",
       "        vertical-align: middle;\n",
       "    }\n",
       "\n",
       "    .dataframe tbody tr th {\n",
       "        vertical-align: top;\n",
       "    }\n",
       "\n",
       "    .dataframe thead th {\n",
       "        text-align: right;\n",
       "    }\n",
       "</style>\n",
       "<table border=\"1\" class=\"dataframe\">\n",
       "  <thead>\n",
       "    <tr style=\"text-align: right;\">\n",
       "      <th></th>\n",
       "      <th>col1</th>\n",
       "      <th>col2</th>\n",
       "      <th>col3</th>\n",
       "      <th>col4</th>\n",
       "      <th>col5</th>\n",
       "      <th>col4_4</th>\n",
       "      <th>col_6</th>\n",
       "      <th>col_6_of_6</th>\n",
       "      <th>co_7</th>\n",
       "      <th>col_8</th>\n",
       "    </tr>\n",
       "  </thead>\n",
       "  <tbody>\n",
       "    <tr>\n",
       "      <th>0</th>\n",
       "      <td>1</td>\n",
       "      <td>45</td>\n",
       "      <td>sudhansu</td>\n",
       "      <td>1</td>\n",
       "      <td>s</td>\n",
       "      <td>1</td>\n",
       "      <td>s</td>\n",
       "      <td>s</td>\n",
       "      <td>8</td>\n",
       "      <td>3.806662</td>\n",
       "    </tr>\n",
       "    <tr>\n",
       "      <th>1</th>\n",
       "      <td>2</td>\n",
       "      <td>56</td>\n",
       "      <td>kumar</td>\n",
       "      <td>4</td>\n",
       "      <td>k</td>\n",
       "      <td>4</td>\n",
       "      <td>z</td>\n",
       "      <td>z</td>\n",
       "      <td>5</td>\n",
       "      <td>4.025352</td>\n",
       "    </tr>\n",
       "    <tr>\n",
       "      <th>2</th>\n",
       "      <td>3</td>\n",
       "      <td>67</td>\n",
       "      <td>sumay</td>\n",
       "      <td>9</td>\n",
       "      <td>s</td>\n",
       "      <td>9</td>\n",
       "      <td>s</td>\n",
       "      <td>s</td>\n",
       "      <td>5</td>\n",
       "      <td>4.204693</td>\n",
       "    </tr>\n",
       "    <tr>\n",
       "      <th>3</th>\n",
       "      <td>4</td>\n",
       "      <td>34</td>\n",
       "      <td>Krish</td>\n",
       "      <td>16</td>\n",
       "      <td>K</td>\n",
       "      <td>16</td>\n",
       "      <td>z</td>\n",
       "      <td>z</td>\n",
       "      <td>5</td>\n",
       "      <td>3.526361</td>\n",
       "    </tr>\n",
       "    <tr>\n",
       "      <th>4</th>\n",
       "      <td>5</td>\n",
       "      <td>34</td>\n",
       "      <td>naik</td>\n",
       "      <td>25</td>\n",
       "      <td>n</td>\n",
       "      <td>25</td>\n",
       "      <td>z</td>\n",
       "      <td>z</td>\n",
       "      <td>4</td>\n",
       "      <td>3.526361</td>\n",
       "    </tr>\n",
       "  </tbody>\n",
       "</table>\n",
       "</div>"
      ],
      "text/plain": [
       "   col1  col2      col3  col4 col5  col4_4 col_6 col_6_of_6  co_7     col_8\n",
       "0     1    45  sudhansu     1    s       1     s          s     8  3.806662\n",
       "1     2    56     kumar     4    k       4     z          z     5  4.025352\n",
       "2     3    67     sumay     9    s       9     s          s     5  4.204693\n",
       "3     4    34     Krish    16    K      16     z          z     5  3.526361\n",
       "4     5    34      naik    25    n      25     z          z     4  3.526361"
      ]
     },
     "execution_count": 29,
     "metadata": {},
     "output_type": "execute_result"
    }
   ],
   "source": [
    "df"
   ]
  },
  {
   "cell_type": "markdown",
   "id": "eeca9d08",
   "metadata": {},
   "source": [
    "# Numpy"
   ]
  },
  {
   "cell_type": "code",
   "execution_count": 2,
   "id": "c885c76e",
   "metadata": {},
   "outputs": [],
   "source": [
    "import numpy as np"
   ]
  },
  {
   "cell_type": "code",
   "execution_count": 3,
   "id": "ed281042",
   "metadata": {},
   "outputs": [
    {
     "ename": "SyntaxError",
     "evalue": "invalid syntax (1651103922.py, line 1)",
     "output_type": "error",
     "traceback": [
      "\u001b[1;36m  Input \u001b[1;32mIn [3]\u001b[1;36m\u001b[0m\n\u001b[1;33m    arrray are equivalient to list\u001b[0m\n\u001b[1;37m           ^\u001b[0m\n\u001b[1;31mSyntaxError\u001b[0m\u001b[1;31m:\u001b[0m invalid syntax\n"
     ]
    }
   ],
   "source": [
    "# arrray are equivalient to list"
   ]
  },
  {
   "cell_type": "code",
   "execution_count": 4,
   "id": "5af46561",
   "metadata": {},
   "outputs": [],
   "source": [
    "l=[\"sumay\",1,2,3,4]"
   ]
  },
  {
   "cell_type": "code",
   "execution_count": 5,
   "id": "f686d5a5",
   "metadata": {},
   "outputs": [
    {
     "data": {
      "text/plain": [
       "list"
      ]
     },
     "execution_count": 5,
     "metadata": {},
     "output_type": "execute_result"
    }
   ],
   "source": [
    "type(l)"
   ]
  },
  {
   "cell_type": "code",
   "execution_count": 6,
   "id": "5dbf2d24",
   "metadata": {},
   "outputs": [
    {
     "data": {
      "text/plain": [
       "array(['sumay', '1', '2', '3', '4'], dtype='<U11')"
      ]
     },
     "execution_count": 6,
     "metadata": {},
     "output_type": "execute_result"
    }
   ],
   "source": [
    "np.array(l)"
   ]
  },
  {
   "cell_type": "code",
   "execution_count": 7,
   "id": "b20152fe",
   "metadata": {},
   "outputs": [
    {
     "data": {
      "text/plain": [
       "numpy.ndarray"
      ]
     },
     "execution_count": 7,
     "metadata": {},
     "output_type": "execute_result"
    }
   ],
   "source": [
    "type(np.array(l))"
   ]
  },
  {
   "cell_type": "code",
   "execution_count": 8,
   "id": "7e234546",
   "metadata": {},
   "outputs": [
    {
     "data": {
      "text/plain": [
       "array([1., 2., 3., 4.])"
      ]
     },
     "execution_count": 8,
     "metadata": {},
     "output_type": "execute_result"
    }
   ],
   "source": [
    "np.array([1,2,3,4.0])"
   ]
  },
  {
   "cell_type": "code",
   "execution_count": 9,
   "id": "f54fa735",
   "metadata": {},
   "outputs": [
    {
     "data": {
      "text/plain": [
       "array([1. , 2. , 3. , 4.2])"
      ]
     },
     "execution_count": 9,
     "metadata": {},
     "output_type": "execute_result"
    }
   ],
   "source": [
    "np.array([1,2,3,4.2])"
   ]
  },
  {
   "cell_type": "code",
   "execution_count": 10,
   "id": "064f7d17",
   "metadata": {},
   "outputs": [
    {
     "data": {
      "text/plain": [
       "array([[1, 2],\n",
       "       [3, 4]])"
      ]
     },
     "execution_count": 10,
     "metadata": {},
     "output_type": "execute_result"
    }
   ],
   "source": [
    "np.array([[1,2],[3,4]])"
   ]
  },
  {
   "cell_type": "code",
   "execution_count": 11,
   "id": "76d22366",
   "metadata": {},
   "outputs": [],
   "source": [
    "a = np.array([[1,2],[3,4]])"
   ]
  },
  {
   "cell_type": "code",
   "execution_count": 12,
   "id": "9e5e7c02",
   "metadata": {},
   "outputs": [
    {
     "data": {
      "text/plain": [
       "array([[1, 2],\n",
       "       [3, 4]])"
      ]
     },
     "execution_count": 12,
     "metadata": {},
     "output_type": "execute_result"
    }
   ],
   "source": [
    "a"
   ]
  },
  {
   "cell_type": "code",
   "execution_count": 13,
   "id": "1d55cdb4",
   "metadata": {},
   "outputs": [
    {
     "data": {
      "text/plain": [
       "array([3, 4])"
      ]
     },
     "execution_count": 13,
     "metadata": {},
     "output_type": "execute_result"
    }
   ],
   "source": [
    "a[1]"
   ]
  },
  {
   "cell_type": "code",
   "execution_count": 14,
   "id": "81e09b49",
   "metadata": {},
   "outputs": [
    {
     "data": {
      "text/plain": [
       "4"
      ]
     },
     "execution_count": 14,
     "metadata": {},
     "output_type": "execute_result"
    }
   ],
   "source": [
    "a[1][1]"
   ]
  },
  {
   "cell_type": "code",
   "execution_count": 15,
   "id": "e32fda08",
   "metadata": {},
   "outputs": [
    {
     "data": {
      "text/plain": [
       "array([1, 2, 3, 4])"
      ]
     },
     "execution_count": 15,
     "metadata": {},
     "output_type": "execute_result"
    }
   ],
   "source": [
    "np.array([1,2,3,4],ndmin=0)"
   ]
  },
  {
   "cell_type": "code",
   "execution_count": 16,
   "id": "200bd833",
   "metadata": {},
   "outputs": [
    {
     "data": {
      "text/plain": [
       "array([[1, 2, 3, 4]])"
      ]
     },
     "execution_count": 16,
     "metadata": {},
     "output_type": "execute_result"
    }
   ],
   "source": [
    "np.array([1,2,3,4],ndmin=2)"
   ]
  },
  {
   "cell_type": "code",
   "execution_count": 17,
   "id": "30b1b1e1",
   "metadata": {},
   "outputs": [
    {
     "data": {
      "text/plain": [
       "array([[[1, 2, 3, 4]]])"
      ]
     },
     "execution_count": 17,
     "metadata": {},
     "output_type": "execute_result"
    }
   ],
   "source": [
    "np.array([1,2,3,4],ndmin=3)"
   ]
  },
  {
   "cell_type": "code",
   "execution_count": 18,
   "id": "c8ced9d8",
   "metadata": {},
   "outputs": [
    {
     "data": {
      "text/plain": [
       "array([[[[1, 2, 3, 4]]]])"
      ]
     },
     "execution_count": 18,
     "metadata": {},
     "output_type": "execute_result"
    }
   ],
   "source": [
    "np.array([1,2,3,4],ndmin=4)"
   ]
  },
  {
   "cell_type": "code",
   "execution_count": 19,
   "id": "d1d78284",
   "metadata": {},
   "outputs": [],
   "source": [
    "a2=np.array([1,2,3,4],ndmin=4)"
   ]
  },
  {
   "cell_type": "code",
   "execution_count": 20,
   "id": "a1fd5fba",
   "metadata": {},
   "outputs": [
    {
     "data": {
      "text/plain": [
       "array([[[[1, 2, 3, 4]]]])"
      ]
     },
     "execution_count": 20,
     "metadata": {},
     "output_type": "execute_result"
    }
   ],
   "source": [
    "a2"
   ]
  },
  {
   "cell_type": "code",
   "execution_count": 21,
   "id": "a6900b3f",
   "metadata": {},
   "outputs": [
    {
     "data": {
      "text/plain": [
       "array([[1, 2, 3, 4]])"
      ]
     },
     "execution_count": 21,
     "metadata": {},
     "output_type": "execute_result"
    }
   ],
   "source": [
    "a2[0][0]"
   ]
  },
  {
   "cell_type": "code",
   "execution_count": 22,
   "id": "2721280f",
   "metadata": {},
   "outputs": [
    {
     "data": {
      "text/plain": [
       "1"
      ]
     },
     "execution_count": 22,
     "metadata": {},
     "output_type": "execute_result"
    }
   ],
   "source": [
    "a2[0][0][0][0]"
   ]
  },
  {
   "cell_type": "code",
   "execution_count": 23,
   "id": "f2ab82ce",
   "metadata": {},
   "outputs": [
    {
     "data": {
      "text/plain": [
       "array([1, 2, 3, 4, 5])"
      ]
     },
     "execution_count": 23,
     "metadata": {},
     "output_type": "execute_result"
    }
   ],
   "source": [
    "np.asarray([1,2,3,4,5])"
   ]
  },
  {
   "cell_type": "code",
   "execution_count": 24,
   "id": "05d62e31",
   "metadata": {},
   "outputs": [
    {
     "data": {
      "text/plain": [
       "array([1, 2, 3, 4, 5])"
      ]
     },
     "execution_count": 24,
     "metadata": {},
     "output_type": "execute_result"
    }
   ],
   "source": [
    "np.asanyarray([1,2,3,4,5])"
   ]
  },
  {
   "cell_type": "code",
   "execution_count": 25,
   "id": "f5b3bd55",
   "metadata": {},
   "outputs": [
    {
     "data": {
      "text/plain": [
       "matrix([[1, 2, 3, 4, 5]])"
      ]
     },
     "execution_count": 25,
     "metadata": {},
     "output_type": "execute_result"
    }
   ],
   "source": [
    "np.mat([1,2,3,4,5])"
   ]
  },
  {
   "cell_type": "code",
   "execution_count": 26,
   "id": "4b659fc1",
   "metadata": {},
   "outputs": [],
   "source": [
    "# Array can have the nth given dimension whereas matrix have minimum 2D"
   ]
  },
  {
   "cell_type": "code",
   "execution_count": 27,
   "id": "18e5837e",
   "metadata": {},
   "outputs": [
    {
     "data": {
      "text/plain": [
       "array([1, 2, 3, 4, 5, 6])"
      ]
     },
     "execution_count": 27,
     "metadata": {},
     "output_type": "execute_result"
    }
   ],
   "source": [
    "a=[1,2,3,4,5,6]\n",
    "np.asarray(a)"
   ]
  },
  {
   "cell_type": "code",
   "execution_count": 28,
   "id": "c8a6d077",
   "metadata": {},
   "outputs": [
    {
     "data": {
      "text/plain": [
       "matrix([[1, 2, 3, 4, 5, 6]])"
      ]
     },
     "execution_count": 28,
     "metadata": {},
     "output_type": "execute_result"
    }
   ],
   "source": [
    "np.mat(a)"
   ]
  },
  {
   "cell_type": "code",
   "execution_count": 29,
   "id": "6a2a326a",
   "metadata": {},
   "outputs": [
    {
     "data": {
      "text/plain": [
       "array([1, 2, 3, 4, 5, 6])"
      ]
     },
     "execution_count": 29,
     "metadata": {},
     "output_type": "execute_result"
    }
   ],
   "source": [
    "np.asanyarray(a)"
   ]
  },
  {
   "cell_type": "code",
   "execution_count": 30,
   "id": "a6e77498",
   "metadata": {},
   "outputs": [
    {
     "data": {
      "text/plain": [
       "matrix([[1, 2, 3, 4, 5, 6]])"
      ]
     },
     "execution_count": 30,
     "metadata": {},
     "output_type": "execute_result"
    }
   ],
   "source": [
    "np.asanyarray(np.mat(a))"
   ]
  },
  {
   "cell_type": "code",
   "execution_count": 31,
   "id": "260a2e68",
   "metadata": {},
   "outputs": [
    {
     "data": {
      "text/plain": [
       "array([[ True, False, False],\n",
       "       [False,  True, False],\n",
       "       [False, False,  True]])"
      ]
     },
     "execution_count": 31,
     "metadata": {},
     "output_type": "execute_result"
    }
   ],
   "source": [
    "np.fromfunction(lambda i,j : i==j, (3,3))"
   ]
  },
  {
   "cell_type": "code",
   "execution_count": 32,
   "id": "696d41c0",
   "metadata": {},
   "outputs": [
    {
     "data": {
      "text/plain": [
       "array([[ True, False, False, False],\n",
       "       [False,  True, False, False],\n",
       "       [False, False,  True, False]])"
      ]
     },
     "execution_count": 32,
     "metadata": {},
     "output_type": "execute_result"
    }
   ],
   "source": [
    "np.fromfunction(lambda i,j : i==j, (3,4))"
   ]
  },
  {
   "cell_type": "code",
   "execution_count": 33,
   "id": "6a54c117",
   "metadata": {},
   "outputs": [
    {
     "data": {
      "text/plain": [
       "array([[ True, False, False],\n",
       "       [False,  True, False]])"
      ]
     },
     "execution_count": 33,
     "metadata": {},
     "output_type": "execute_result"
    }
   ],
   "source": [
    "np.fromfunction(lambda i,j : i==j, (2,3))"
   ]
  },
  {
   "cell_type": "code",
   "execution_count": 34,
   "id": "f2f83ec6",
   "metadata": {},
   "outputs": [
    {
     "data": {
      "text/plain": [
       "array([[0., 0., 0., 0.],\n",
       "       [0., 1., 2., 3.],\n",
       "       [0., 2., 4., 6.],\n",
       "       [0., 3., 6., 9.]])"
      ]
     },
     "execution_count": 34,
     "metadata": {},
     "output_type": "execute_result"
    }
   ],
   "source": [
    "np.fromfunction(lambda i,j : i*j, (4,4))"
   ]
  },
  {
   "cell_type": "code",
   "execution_count": 35,
   "id": "f5652fb8",
   "metadata": {},
   "outputs": [
    {
     "data": {
      "text/plain": [
       "array([[0, 0, 0, 0],\n",
       "       [0, 1, 2, 3],\n",
       "       [0, 2, 4, 6],\n",
       "       [0, 3, 6, 9]])"
      ]
     },
     "execution_count": 35,
     "metadata": {},
     "output_type": "execute_result"
    }
   ],
   "source": [
    "np.fromfunction(lambda i,j : i*j, (4,4), dtype = int)"
   ]
  },
  {
   "cell_type": "code",
   "execution_count": 36,
   "id": "45229dbd",
   "metadata": {},
   "outputs": [],
   "source": [
    "# Matrix is sub-class of array"
   ]
  },
  {
   "cell_type": "code",
   "execution_count": 46,
   "id": "0a97ce44",
   "metadata": {},
   "outputs": [
    {
     "name": "stderr",
     "output_type": "stream",
     "text": [
      "C:\\Users\\win11\\AppData\\Local\\Temp\\ipykernel_21968\\3237831660.py:2: VisibleDeprecationWarning: Creating an ndarray from ragged nested sequences (which is a list-or-tuple of lists-or-tuples-or ndarrays with different lengths or shapes) is deprecated. If you meant to do this, you must specify 'dtype=object' when creating the ndarray.\n",
      "  np.asanyarray(b)\n"
     ]
    },
    {
     "data": {
      "text/plain": [
       "array(['raja', 'hi', list([1, 2, 3])], dtype=object)"
      ]
     },
     "execution_count": 46,
     "metadata": {},
     "output_type": "execute_result"
    }
   ],
   "source": [
    "b=[\"raja\",\"hi\",[1,2,3]]\n",
    "np.asanyarray(b)"
   ]
  },
  {
   "cell_type": "code",
   "execution_count": 48,
   "id": "ddc85cb5",
   "metadata": {},
   "outputs": [
    {
     "data": {
      "text/plain": [
       "array([[[0, 0, 0],\n",
       "        [0, 0, 0],\n",
       "        [0, 0, 0]],\n",
       "\n",
       "       [[0, 0, 0],\n",
       "        [0, 1, 2],\n",
       "        [0, 2, 4]],\n",
       "\n",
       "       [[0, 0, 0],\n",
       "        [0, 2, 4],\n",
       "        [0, 4, 8]]])"
      ]
     },
     "execution_count": 48,
     "metadata": {},
     "output_type": "execute_result"
    }
   ],
   "source": [
    "np.fromfunction(lambda i,j,z : i*j*z, (3,3,3), dtype = int)"
   ]
  },
  {
   "cell_type": "code",
   "execution_count": 49,
   "id": "44c85a35",
   "metadata": {},
   "outputs": [
    {
     "data": {
      "text/plain": [
       "array([[[0, 0],\n",
       "        [0, 0],\n",
       "        [0, 0]],\n",
       "\n",
       "       [[0, 0],\n",
       "        [0, 1],\n",
       "        [0, 2]],\n",
       "\n",
       "       [[0, 0],\n",
       "        [0, 2],\n",
       "        [0, 4]]])"
      ]
     },
     "execution_count": 49,
     "metadata": {},
     "output_type": "execute_result"
    }
   ],
   "source": [
    "np.fromfunction(lambda i,j,z : i*j*z, (3,3,2), dtype =int)"
   ]
  },
  {
   "cell_type": "code",
   "execution_count": 57,
   "id": "d2134cbf",
   "metadata": {},
   "outputs": [],
   "source": [
    "a=np.fromfunction(lambda i,j,z,p : i*j*z*p, (2,3,4,3), dtype =int)"
   ]
  },
  {
   "cell_type": "code",
   "execution_count": 58,
   "id": "be9d3cf5",
   "metadata": {},
   "outputs": [
    {
     "data": {
      "text/plain": [
       "array([[[[ 0,  0,  0],\n",
       "         [ 0,  0,  0],\n",
       "         [ 0,  0,  0],\n",
       "         [ 0,  0,  0]],\n",
       "\n",
       "        [[ 0,  0,  0],\n",
       "         [ 0,  0,  0],\n",
       "         [ 0,  0,  0],\n",
       "         [ 0,  0,  0]],\n",
       "\n",
       "        [[ 0,  0,  0],\n",
       "         [ 0,  0,  0],\n",
       "         [ 0,  0,  0],\n",
       "         [ 0,  0,  0]]],\n",
       "\n",
       "\n",
       "       [[[ 0,  0,  0],\n",
       "         [ 0,  0,  0],\n",
       "         [ 0,  0,  0],\n",
       "         [ 0,  0,  0]],\n",
       "\n",
       "        [[ 0,  0,  0],\n",
       "         [ 0,  1,  2],\n",
       "         [ 0,  2,  4],\n",
       "         [ 0,  3,  6]],\n",
       "\n",
       "        [[ 0,  0,  0],\n",
       "         [ 0,  2,  4],\n",
       "         [ 0,  4,  8],\n",
       "         [ 0,  6, 12]]]])"
      ]
     },
     "execution_count": 58,
     "metadata": {},
     "output_type": "execute_result"
    }
   ],
   "source": [
    "a"
   ]
  },
  {
   "cell_type": "code",
   "execution_count": 60,
   "id": "9d4b9af8",
   "metadata": {},
   "outputs": [
    {
     "data": {
      "text/plain": [
       "72"
      ]
     },
     "execution_count": 60,
     "metadata": {},
     "output_type": "execute_result"
    }
   ],
   "source": [
    "a.size"
   ]
  },
  {
   "cell_type": "code",
   "execution_count": 59,
   "id": "2ca7d6f9",
   "metadata": {},
   "outputs": [
    {
     "data": {
      "text/plain": [
       "4"
      ]
     },
     "execution_count": 59,
     "metadata": {},
     "output_type": "execute_result"
    }
   ],
   "source": [
    "a.ndim"
   ]
  },
  {
   "cell_type": "code",
   "execution_count": 61,
   "id": "fc034688",
   "metadata": {},
   "outputs": [
    {
     "data": {
      "text/plain": [
       "(2, 3, 4, 3)"
      ]
     },
     "execution_count": 61,
     "metadata": {},
     "output_type": "execute_result"
    }
   ],
   "source": [
    "a.shape"
   ]
  },
  {
   "cell_type": "code",
   "execution_count": 62,
   "id": "6492838d",
   "metadata": {},
   "outputs": [
    {
     "data": {
      "text/plain": [
       "dtype('int32')"
      ]
     },
     "execution_count": 62,
     "metadata": {},
     "output_type": "execute_result"
    }
   ],
   "source": [
    "a.dtype"
   ]
  },
  {
   "cell_type": "code",
   "execution_count": 66,
   "id": "0221952c",
   "metadata": {},
   "outputs": [],
   "source": [
    "a=np.fromfunction(lambda i,j : i*j, (4,3), dtype =int)"
   ]
  },
  {
   "cell_type": "code",
   "execution_count": 67,
   "id": "79634b54",
   "metadata": {},
   "outputs": [
    {
     "data": {
      "text/plain": [
       "array([[0, 0, 0],\n",
       "       [0, 1, 2],\n",
       "       [0, 2, 4],\n",
       "       [0, 3, 6]])"
      ]
     },
     "execution_count": 67,
     "metadata": {},
     "output_type": "execute_result"
    }
   ],
   "source": [
    "a"
   ]
  },
  {
   "cell_type": "code",
   "execution_count": 68,
   "id": "ca4aeb16",
   "metadata": {},
   "outputs": [
    {
     "data": {
      "text/html": [
       "<div>\n",
       "<style scoped>\n",
       "    .dataframe tbody tr th:only-of-type {\n",
       "        vertical-align: middle;\n",
       "    }\n",
       "\n",
       "    .dataframe tbody tr th {\n",
       "        vertical-align: top;\n",
       "    }\n",
       "\n",
       "    .dataframe thead th {\n",
       "        text-align: right;\n",
       "    }\n",
       "</style>\n",
       "<table border=\"1\" class=\"dataframe\">\n",
       "  <thead>\n",
       "    <tr style=\"text-align: right;\">\n",
       "      <th></th>\n",
       "      <th>0</th>\n",
       "      <th>1</th>\n",
       "      <th>2</th>\n",
       "    </tr>\n",
       "  </thead>\n",
       "  <tbody>\n",
       "    <tr>\n",
       "      <th>0</th>\n",
       "      <td>0</td>\n",
       "      <td>0</td>\n",
       "      <td>0</td>\n",
       "    </tr>\n",
       "    <tr>\n",
       "      <th>1</th>\n",
       "      <td>0</td>\n",
       "      <td>1</td>\n",
       "      <td>2</td>\n",
       "    </tr>\n",
       "    <tr>\n",
       "      <th>2</th>\n",
       "      <td>0</td>\n",
       "      <td>2</td>\n",
       "      <td>4</td>\n",
       "    </tr>\n",
       "    <tr>\n",
       "      <th>3</th>\n",
       "      <td>0</td>\n",
       "      <td>3</td>\n",
       "      <td>6</td>\n",
       "    </tr>\n",
       "  </tbody>\n",
       "</table>\n",
       "</div>"
      ],
      "text/plain": [
       "   0  1  2\n",
       "0  0  0  0\n",
       "1  0  1  2\n",
       "2  0  2  4\n",
       "3  0  3  6"
      ]
     },
     "execution_count": 68,
     "metadata": {},
     "output_type": "execute_result"
    }
   ],
   "source": [
    "pd.DataFrame(a)"
   ]
  },
  {
   "cell_type": "code",
   "execution_count": 69,
   "id": "af32e057",
   "metadata": {},
   "outputs": [],
   "source": [
    "a=np.fromfunction(lambda i,j : i*j, (400,300), dtype =int)"
   ]
  },
  {
   "cell_type": "code",
   "execution_count": 71,
   "id": "35755c9f",
   "metadata": {},
   "outputs": [
    {
     "data": {
      "text/plain": [
       "array([[     0,      0,      0, ...,      0,      0,      0],\n",
       "       [     0,      1,      2, ...,    297,    298,    299],\n",
       "       [     0,      2,      4, ...,    594,    596,    598],\n",
       "       ...,\n",
       "       [     0,    397,    794, ..., 117909, 118306, 118703],\n",
       "       [     0,    398,    796, ..., 118206, 118604, 119002],\n",
       "       [     0,    399,    798, ..., 118503, 118902, 119301]])"
      ]
     },
     "execution_count": 71,
     "metadata": {},
     "output_type": "execute_result"
    }
   ],
   "source": [
    "a"
   ]
  },
  {
   "cell_type": "code",
   "execution_count": 70,
   "id": "2528ca2e",
   "metadata": {},
   "outputs": [
    {
     "data": {
      "text/html": [
       "<div>\n",
       "<style scoped>\n",
       "    .dataframe tbody tr th:only-of-type {\n",
       "        vertical-align: middle;\n",
       "    }\n",
       "\n",
       "    .dataframe tbody tr th {\n",
       "        vertical-align: top;\n",
       "    }\n",
       "\n",
       "    .dataframe thead th {\n",
       "        text-align: right;\n",
       "    }\n",
       "</style>\n",
       "<table border=\"1\" class=\"dataframe\">\n",
       "  <thead>\n",
       "    <tr style=\"text-align: right;\">\n",
       "      <th></th>\n",
       "      <th>0</th>\n",
       "      <th>1</th>\n",
       "      <th>2</th>\n",
       "      <th>3</th>\n",
       "      <th>4</th>\n",
       "      <th>5</th>\n",
       "      <th>6</th>\n",
       "      <th>7</th>\n",
       "      <th>8</th>\n",
       "      <th>9</th>\n",
       "      <th>...</th>\n",
       "      <th>290</th>\n",
       "      <th>291</th>\n",
       "      <th>292</th>\n",
       "      <th>293</th>\n",
       "      <th>294</th>\n",
       "      <th>295</th>\n",
       "      <th>296</th>\n",
       "      <th>297</th>\n",
       "      <th>298</th>\n",
       "      <th>299</th>\n",
       "    </tr>\n",
       "  </thead>\n",
       "  <tbody>\n",
       "    <tr>\n",
       "      <th>0</th>\n",
       "      <td>0</td>\n",
       "      <td>0</td>\n",
       "      <td>0</td>\n",
       "      <td>0</td>\n",
       "      <td>0</td>\n",
       "      <td>0</td>\n",
       "      <td>0</td>\n",
       "      <td>0</td>\n",
       "      <td>0</td>\n",
       "      <td>0</td>\n",
       "      <td>...</td>\n",
       "      <td>0</td>\n",
       "      <td>0</td>\n",
       "      <td>0</td>\n",
       "      <td>0</td>\n",
       "      <td>0</td>\n",
       "      <td>0</td>\n",
       "      <td>0</td>\n",
       "      <td>0</td>\n",
       "      <td>0</td>\n",
       "      <td>0</td>\n",
       "    </tr>\n",
       "    <tr>\n",
       "      <th>1</th>\n",
       "      <td>0</td>\n",
       "      <td>1</td>\n",
       "      <td>2</td>\n",
       "      <td>3</td>\n",
       "      <td>4</td>\n",
       "      <td>5</td>\n",
       "      <td>6</td>\n",
       "      <td>7</td>\n",
       "      <td>8</td>\n",
       "      <td>9</td>\n",
       "      <td>...</td>\n",
       "      <td>290</td>\n",
       "      <td>291</td>\n",
       "      <td>292</td>\n",
       "      <td>293</td>\n",
       "      <td>294</td>\n",
       "      <td>295</td>\n",
       "      <td>296</td>\n",
       "      <td>297</td>\n",
       "      <td>298</td>\n",
       "      <td>299</td>\n",
       "    </tr>\n",
       "    <tr>\n",
       "      <th>2</th>\n",
       "      <td>0</td>\n",
       "      <td>2</td>\n",
       "      <td>4</td>\n",
       "      <td>6</td>\n",
       "      <td>8</td>\n",
       "      <td>10</td>\n",
       "      <td>12</td>\n",
       "      <td>14</td>\n",
       "      <td>16</td>\n",
       "      <td>18</td>\n",
       "      <td>...</td>\n",
       "      <td>580</td>\n",
       "      <td>582</td>\n",
       "      <td>584</td>\n",
       "      <td>586</td>\n",
       "      <td>588</td>\n",
       "      <td>590</td>\n",
       "      <td>592</td>\n",
       "      <td>594</td>\n",
       "      <td>596</td>\n",
       "      <td>598</td>\n",
       "    </tr>\n",
       "    <tr>\n",
       "      <th>3</th>\n",
       "      <td>0</td>\n",
       "      <td>3</td>\n",
       "      <td>6</td>\n",
       "      <td>9</td>\n",
       "      <td>12</td>\n",
       "      <td>15</td>\n",
       "      <td>18</td>\n",
       "      <td>21</td>\n",
       "      <td>24</td>\n",
       "      <td>27</td>\n",
       "      <td>...</td>\n",
       "      <td>870</td>\n",
       "      <td>873</td>\n",
       "      <td>876</td>\n",
       "      <td>879</td>\n",
       "      <td>882</td>\n",
       "      <td>885</td>\n",
       "      <td>888</td>\n",
       "      <td>891</td>\n",
       "      <td>894</td>\n",
       "      <td>897</td>\n",
       "    </tr>\n",
       "    <tr>\n",
       "      <th>4</th>\n",
       "      <td>0</td>\n",
       "      <td>4</td>\n",
       "      <td>8</td>\n",
       "      <td>12</td>\n",
       "      <td>16</td>\n",
       "      <td>20</td>\n",
       "      <td>24</td>\n",
       "      <td>28</td>\n",
       "      <td>32</td>\n",
       "      <td>36</td>\n",
       "      <td>...</td>\n",
       "      <td>1160</td>\n",
       "      <td>1164</td>\n",
       "      <td>1168</td>\n",
       "      <td>1172</td>\n",
       "      <td>1176</td>\n",
       "      <td>1180</td>\n",
       "      <td>1184</td>\n",
       "      <td>1188</td>\n",
       "      <td>1192</td>\n",
       "      <td>1196</td>\n",
       "    </tr>\n",
       "    <tr>\n",
       "      <th>...</th>\n",
       "      <td>...</td>\n",
       "      <td>...</td>\n",
       "      <td>...</td>\n",
       "      <td>...</td>\n",
       "      <td>...</td>\n",
       "      <td>...</td>\n",
       "      <td>...</td>\n",
       "      <td>...</td>\n",
       "      <td>...</td>\n",
       "      <td>...</td>\n",
       "      <td>...</td>\n",
       "      <td>...</td>\n",
       "      <td>...</td>\n",
       "      <td>...</td>\n",
       "      <td>...</td>\n",
       "      <td>...</td>\n",
       "      <td>...</td>\n",
       "      <td>...</td>\n",
       "      <td>...</td>\n",
       "      <td>...</td>\n",
       "      <td>...</td>\n",
       "    </tr>\n",
       "    <tr>\n",
       "      <th>395</th>\n",
       "      <td>0</td>\n",
       "      <td>395</td>\n",
       "      <td>790</td>\n",
       "      <td>1185</td>\n",
       "      <td>1580</td>\n",
       "      <td>1975</td>\n",
       "      <td>2370</td>\n",
       "      <td>2765</td>\n",
       "      <td>3160</td>\n",
       "      <td>3555</td>\n",
       "      <td>...</td>\n",
       "      <td>114550</td>\n",
       "      <td>114945</td>\n",
       "      <td>115340</td>\n",
       "      <td>115735</td>\n",
       "      <td>116130</td>\n",
       "      <td>116525</td>\n",
       "      <td>116920</td>\n",
       "      <td>117315</td>\n",
       "      <td>117710</td>\n",
       "      <td>118105</td>\n",
       "    </tr>\n",
       "    <tr>\n",
       "      <th>396</th>\n",
       "      <td>0</td>\n",
       "      <td>396</td>\n",
       "      <td>792</td>\n",
       "      <td>1188</td>\n",
       "      <td>1584</td>\n",
       "      <td>1980</td>\n",
       "      <td>2376</td>\n",
       "      <td>2772</td>\n",
       "      <td>3168</td>\n",
       "      <td>3564</td>\n",
       "      <td>...</td>\n",
       "      <td>114840</td>\n",
       "      <td>115236</td>\n",
       "      <td>115632</td>\n",
       "      <td>116028</td>\n",
       "      <td>116424</td>\n",
       "      <td>116820</td>\n",
       "      <td>117216</td>\n",
       "      <td>117612</td>\n",
       "      <td>118008</td>\n",
       "      <td>118404</td>\n",
       "    </tr>\n",
       "    <tr>\n",
       "      <th>397</th>\n",
       "      <td>0</td>\n",
       "      <td>397</td>\n",
       "      <td>794</td>\n",
       "      <td>1191</td>\n",
       "      <td>1588</td>\n",
       "      <td>1985</td>\n",
       "      <td>2382</td>\n",
       "      <td>2779</td>\n",
       "      <td>3176</td>\n",
       "      <td>3573</td>\n",
       "      <td>...</td>\n",
       "      <td>115130</td>\n",
       "      <td>115527</td>\n",
       "      <td>115924</td>\n",
       "      <td>116321</td>\n",
       "      <td>116718</td>\n",
       "      <td>117115</td>\n",
       "      <td>117512</td>\n",
       "      <td>117909</td>\n",
       "      <td>118306</td>\n",
       "      <td>118703</td>\n",
       "    </tr>\n",
       "    <tr>\n",
       "      <th>398</th>\n",
       "      <td>0</td>\n",
       "      <td>398</td>\n",
       "      <td>796</td>\n",
       "      <td>1194</td>\n",
       "      <td>1592</td>\n",
       "      <td>1990</td>\n",
       "      <td>2388</td>\n",
       "      <td>2786</td>\n",
       "      <td>3184</td>\n",
       "      <td>3582</td>\n",
       "      <td>...</td>\n",
       "      <td>115420</td>\n",
       "      <td>115818</td>\n",
       "      <td>116216</td>\n",
       "      <td>116614</td>\n",
       "      <td>117012</td>\n",
       "      <td>117410</td>\n",
       "      <td>117808</td>\n",
       "      <td>118206</td>\n",
       "      <td>118604</td>\n",
       "      <td>119002</td>\n",
       "    </tr>\n",
       "    <tr>\n",
       "      <th>399</th>\n",
       "      <td>0</td>\n",
       "      <td>399</td>\n",
       "      <td>798</td>\n",
       "      <td>1197</td>\n",
       "      <td>1596</td>\n",
       "      <td>1995</td>\n",
       "      <td>2394</td>\n",
       "      <td>2793</td>\n",
       "      <td>3192</td>\n",
       "      <td>3591</td>\n",
       "      <td>...</td>\n",
       "      <td>115710</td>\n",
       "      <td>116109</td>\n",
       "      <td>116508</td>\n",
       "      <td>116907</td>\n",
       "      <td>117306</td>\n",
       "      <td>117705</td>\n",
       "      <td>118104</td>\n",
       "      <td>118503</td>\n",
       "      <td>118902</td>\n",
       "      <td>119301</td>\n",
       "    </tr>\n",
       "  </tbody>\n",
       "</table>\n",
       "<p>400 rows × 300 columns</p>\n",
       "</div>"
      ],
      "text/plain": [
       "     0    1    2     3     4     5     6     7     8     9    ...     290  \\\n",
       "0      0    0    0     0     0     0     0     0     0     0  ...       0   \n",
       "1      0    1    2     3     4     5     6     7     8     9  ...     290   \n",
       "2      0    2    4     6     8    10    12    14    16    18  ...     580   \n",
       "3      0    3    6     9    12    15    18    21    24    27  ...     870   \n",
       "4      0    4    8    12    16    20    24    28    32    36  ...    1160   \n",
       "..   ...  ...  ...   ...   ...   ...   ...   ...   ...   ...  ...     ...   \n",
       "395    0  395  790  1185  1580  1975  2370  2765  3160  3555  ...  114550   \n",
       "396    0  396  792  1188  1584  1980  2376  2772  3168  3564  ...  114840   \n",
       "397    0  397  794  1191  1588  1985  2382  2779  3176  3573  ...  115130   \n",
       "398    0  398  796  1194  1592  1990  2388  2786  3184  3582  ...  115420   \n",
       "399    0  399  798  1197  1596  1995  2394  2793  3192  3591  ...  115710   \n",
       "\n",
       "        291     292     293     294     295     296     297     298     299  \n",
       "0         0       0       0       0       0       0       0       0       0  \n",
       "1       291     292     293     294     295     296     297     298     299  \n",
       "2       582     584     586     588     590     592     594     596     598  \n",
       "3       873     876     879     882     885     888     891     894     897  \n",
       "4      1164    1168    1172    1176    1180    1184    1188    1192    1196  \n",
       "..      ...     ...     ...     ...     ...     ...     ...     ...     ...  \n",
       "395  114945  115340  115735  116130  116525  116920  117315  117710  118105  \n",
       "396  115236  115632  116028  116424  116820  117216  117612  118008  118404  \n",
       "397  115527  115924  116321  116718  117115  117512  117909  118306  118703  \n",
       "398  115818  116216  116614  117012  117410  117808  118206  118604  119002  \n",
       "399  116109  116508  116907  117306  117705  118104  118503  118902  119301  \n",
       "\n",
       "[400 rows x 300 columns]"
      ]
     },
     "execution_count": 70,
     "metadata": {},
     "output_type": "execute_result"
    }
   ],
   "source": [
    "pd.DataFrame(a)"
   ]
  },
  {
   "cell_type": "code",
   "execution_count": 73,
   "id": "3e7ea18f",
   "metadata": {},
   "outputs": [
    {
     "data": {
      "text/plain": [
       "array([[0.70995354, 0.02914574, 0.19373944, 0.9180294 ],\n",
       "       [0.36341738, 0.72976424, 0.54336466, 0.16357802],\n",
       "       [0.00667308, 0.50542201, 0.42981313, 0.1988347 ],\n",
       "       [0.14627755, 0.11549932, 0.51853082, 0.51961159],\n",
       "       [0.86543176, 0.87363709, 0.98240817, 0.61627436],\n",
       "       [0.55500738, 0.80359658, 0.26286531, 0.57055357],\n",
       "       [0.80708663, 0.41751694, 0.28295557, 0.41241686],\n",
       "       [0.89578459, 0.84318626, 0.59709483, 0.50363075],\n",
       "       [0.74235067, 0.7366551 , 0.98718921, 0.07635639],\n",
       "       [0.7900352 , 0.47640524, 0.78014908, 0.92049889],\n",
       "       [0.45960424, 0.37961488, 0.54720164, 0.20595418],\n",
       "       [0.80255512, 0.31345074, 0.75428257, 0.19741735],\n",
       "       [0.09429762, 0.56939948, 0.74416373, 0.94657062],\n",
       "       [0.28737548, 0.993427  , 0.96804127, 0.31644429],\n",
       "       [0.58033464, 0.92810123, 0.22923413, 0.61372205],\n",
       "       [0.5713556 , 0.91092976, 0.96827075, 0.79538088],\n",
       "       [0.99182922, 0.81781924, 0.77231876, 0.52381628],\n",
       "       [0.100918  , 0.71560338, 0.78568478, 0.43318188],\n",
       "       [0.28714459, 0.26789658, 0.07741999, 0.71898723],\n",
       "       [0.00536849, 0.7858416 , 0.06481419, 0.23390553],\n",
       "       [0.19483231, 0.16661453, 0.60626018, 0.21199351],\n",
       "       [0.1846459 , 0.5851208 , 0.36858273, 0.36409742],\n",
       "       [0.03064594, 0.37907989, 0.860126  , 0.62484451],\n",
       "       [0.25358758, 0.35744801, 0.36672151, 0.24596772],\n",
       "       [0.74503392, 0.10889735, 0.27825078, 0.73078734],\n",
       "       [0.9724681 , 0.37303697, 0.394968  , 0.1915426 ],\n",
       "       [0.14590352, 0.48314688, 0.41207498, 0.84767987],\n",
       "       [0.81548093, 0.61215981, 0.50375708, 0.74376331],\n",
       "       [0.28594562, 0.85316087, 0.1384395 , 0.03819424],\n",
       "       [0.56671262, 0.68581402, 0.1725053 , 0.70475311],\n",
       "       [0.75684312, 0.64826498, 0.30218608, 0.07194049],\n",
       "       [0.10278459, 0.02896437, 0.56353225, 0.85249787],\n",
       "       [0.15158322, 0.84638363, 0.03112815, 0.00298551],\n",
       "       [0.05447581, 0.0441696 , 0.38235206, 0.23295196],\n",
       "       [0.04200985, 0.91552952, 0.03340453, 0.3777321 ],\n",
       "       [0.10005632, 0.1778872 , 0.37636384, 0.24903522],\n",
       "       [0.84109227, 0.96303393, 0.67290861, 0.71633893],\n",
       "       [0.17235611, 0.4718427 , 0.10153391, 0.38919736],\n",
       "       [0.30697523, 0.63886407, 0.70157208, 0.63347197],\n",
       "       [0.36256649, 0.2733713 , 0.89460702, 0.83408936],\n",
       "       [0.82559139, 0.06530984, 0.703049  , 0.35757188],\n",
       "       [0.34196772, 0.50090285, 0.03753128, 0.36228873],\n",
       "       [0.63750185, 0.40293933, 0.4296854 , 0.86636454],\n",
       "       [0.96315919, 0.49162912, 0.41566378, 0.32399162],\n",
       "       [0.32482558, 0.39812959, 0.9249817 , 0.22051489],\n",
       "       [0.39612103, 0.17308333, 0.34183121, 0.48916478],\n",
       "       [0.73750695, 0.38861459, 0.16393023, 0.53544799],\n",
       "       [0.05816391, 0.92234201, 0.54655199, 0.5391561 ],\n",
       "       [0.35207582, 0.68832938, 0.84292051, 0.19239718],\n",
       "       [0.97810578, 0.63090792, 0.78809658, 0.09900748],\n",
       "       [0.42674993, 0.73154247, 0.77566708, 0.48367128],\n",
       "       [0.6332061 , 0.7369139 , 0.40225961, 0.16707768],\n",
       "       [0.80087415, 0.79428883, 0.85216272, 0.77383876],\n",
       "       [0.32680593, 0.38385722, 0.90727374, 0.07724003],\n",
       "       [0.6398811 , 0.56597356, 0.21798296, 0.51749764],\n",
       "       [0.48758325, 0.46411258, 0.76639765, 0.40849541],\n",
       "       [0.00565743, 0.50238483, 0.91872369, 0.87361422],\n",
       "       [0.54455513, 0.70249758, 0.23180605, 0.91643723],\n",
       "       [0.27733688, 0.44080965, 0.05744251, 0.40276563],\n",
       "       [0.86355741, 0.98626511, 0.69354783, 0.22783888],\n",
       "       [0.03179222, 0.52241082, 0.218224  , 0.92100927],\n",
       "       [0.31692806, 0.90580578, 0.72982958, 0.02957316],\n",
       "       [0.30119384, 0.78080894, 0.54919957, 0.49190235],\n",
       "       [0.64148517, 0.64896903, 0.2076188 , 0.81981713],\n",
       "       [0.31551197, 0.29670928, 0.38930532, 0.51901838],\n",
       "       [0.27420091, 0.79660625, 0.57729391, 0.31323193],\n",
       "       [0.7373471 , 0.28072274, 0.24034407, 0.17631429],\n",
       "       [0.63087808, 0.94060643, 0.47749613, 0.85964499],\n",
       "       [0.69195229, 0.0155854 , 0.37743159, 0.8509781 ],\n",
       "       [0.74762717, 0.99200963, 0.47611434, 0.87027634],\n",
       "       [0.17907408, 0.63926014, 0.81335153, 0.89856457],\n",
       "       [0.35506435, 0.22533408, 0.65266316, 0.87150876],\n",
       "       [0.1182467 , 0.37946014, 0.33756683, 0.97819574],\n",
       "       [0.50240885, 0.08532035, 0.55778977, 0.33059813],\n",
       "       [0.27180128, 0.19399675, 0.68680624, 0.74302673],\n",
       "       [0.26214587, 0.05833503, 0.19751246, 0.93544708],\n",
       "       [0.5846061 , 0.06395839, 0.03742302, 0.53234332],\n",
       "       [0.34887721, 0.84715535, 0.57681232, 0.82158659],\n",
       "       [0.24538341, 0.78894914, 0.69033505, 0.35235008],\n",
       "       [0.44906681, 0.0162189 , 0.23280773, 0.52299123],\n",
       "       [0.73986206, 0.73821059, 0.54643976, 0.52582305],\n",
       "       [0.65677031, 0.7078088 , 0.28130088, 0.36068684],\n",
       "       [0.80741319, 0.73157274, 0.09795121, 0.33333285],\n",
       "       [0.70963107, 0.46956269, 0.93448812, 0.51418948],\n",
       "       [0.0042368 , 0.10613752, 0.83718102, 0.98923278],\n",
       "       [0.72426357, 0.179496  , 0.17269288, 0.57673108],\n",
       "       [0.39974015, 0.89613043, 0.8661058 , 0.44276852],\n",
       "       [0.64299118, 0.75400168, 0.69840882, 0.77253185],\n",
       "       [0.89464744, 0.7925209 , 0.27429441, 0.99122582],\n",
       "       [0.23629138, 0.07385489, 0.87612389, 0.40458644],\n",
       "       [0.92239034, 0.73440512, 0.63718933, 0.72332356],\n",
       "       [0.56719372, 0.41680117, 0.94101039, 0.68606853],\n",
       "       [0.08439012, 0.40048881, 0.02117942, 0.38192278],\n",
       "       [0.48041274, 0.25253259, 0.39738168, 0.43746568],\n",
       "       [0.18764061, 0.7310958 , 0.67089527, 0.36441586],\n",
       "       [0.58201008, 0.1977781 , 0.0302198 , 0.19877918],\n",
       "       [0.09716981, 0.96308138, 0.1407134 , 0.87615302],\n",
       "       [0.20397878, 0.70238432, 0.04311375, 0.02508087],\n",
       "       [0.88073274, 0.93210253, 0.59084739, 0.64856996],\n",
       "       [0.42321175, 0.61814744, 0.20242141, 0.66432155]])"
      ]
     },
     "execution_count": 73,
     "metadata": {},
     "output_type": "execute_result"
    }
   ],
   "source": [
    "np.random.rand(100,4)"
   ]
  },
  {
   "cell_type": "code",
   "execution_count": 84,
   "id": "a370bdd3",
   "metadata": {},
   "outputs": [
    {
     "data": {
      "text/plain": [
       "20"
      ]
     },
     "execution_count": 84,
     "metadata": {},
     "output_type": "execute_result"
    }
   ],
   "source": [
    "np.random.randint(5,50)"
   ]
  },
  {
   "cell_type": "code",
   "execution_count": 89,
   "id": "cf7d60db",
   "metadata": {},
   "outputs": [
    {
     "data": {
      "text/plain": [
       "array([[ 0.22894465, -0.42646048, -1.27562582,  0.29325541,  1.57765389],\n",
       "       [ 0.58476686, -0.99010262,  0.85709646, -0.39824934, -0.4846553 ],\n",
       "       [ 1.13658915,  0.26247921,  2.35544467,  1.35720205, -0.16266424],\n",
       "       [-0.1437568 , -2.01975142,  0.05043799, -0.83109515,  0.56108625]])"
      ]
     },
     "execution_count": 89,
     "metadata": {},
     "output_type": "execute_result"
    }
   ],
   "source": [
    "np.random.randn(4,5)"
   ]
  },
  {
   "cell_type": "code",
   "execution_count": 90,
   "id": "a747cc1c",
   "metadata": {},
   "outputs": [
    {
     "data": {
      "text/html": [
       "<div>\n",
       "<style scoped>\n",
       "    .dataframe tbody tr th:only-of-type {\n",
       "        vertical-align: middle;\n",
       "    }\n",
       "\n",
       "    .dataframe tbody tr th {\n",
       "        vertical-align: top;\n",
       "    }\n",
       "\n",
       "    .dataframe thead th {\n",
       "        text-align: right;\n",
       "    }\n",
       "</style>\n",
       "<table border=\"1\" class=\"dataframe\">\n",
       "  <thead>\n",
       "    <tr style=\"text-align: right;\">\n",
       "      <th></th>\n",
       "      <th>0</th>\n",
       "      <th>1</th>\n",
       "      <th>2</th>\n",
       "      <th>3</th>\n",
       "      <th>4</th>\n",
       "    </tr>\n",
       "  </thead>\n",
       "  <tbody>\n",
       "    <tr>\n",
       "      <th>0</th>\n",
       "      <td>0.190405</td>\n",
       "      <td>-0.480095</td>\n",
       "      <td>-0.083191</td>\n",
       "      <td>0.136720</td>\n",
       "      <td>1.109273</td>\n",
       "    </tr>\n",
       "    <tr>\n",
       "      <th>1</th>\n",
       "      <td>-0.357326</td>\n",
       "      <td>1.564821</td>\n",
       "      <td>1.260428</td>\n",
       "      <td>0.528554</td>\n",
       "      <td>1.213559</td>\n",
       "    </tr>\n",
       "    <tr>\n",
       "      <th>2</th>\n",
       "      <td>1.663981</td>\n",
       "      <td>-0.213075</td>\n",
       "      <td>0.579968</td>\n",
       "      <td>-1.204549</td>\n",
       "      <td>-0.146163</td>\n",
       "    </tr>\n",
       "    <tr>\n",
       "      <th>3</th>\n",
       "      <td>-0.028711</td>\n",
       "      <td>0.824192</td>\n",
       "      <td>-0.806078</td>\n",
       "      <td>-0.371033</td>\n",
       "      <td>-0.465836</td>\n",
       "    </tr>\n",
       "  </tbody>\n",
       "</table>\n",
       "</div>"
      ],
      "text/plain": [
       "          0         1         2         3         4\n",
       "0  0.190405 -0.480095 -0.083191  0.136720  1.109273\n",
       "1 -0.357326  1.564821  1.260428  0.528554  1.213559\n",
       "2  1.663981 -0.213075  0.579968 -1.204549 -0.146163\n",
       "3 -0.028711  0.824192 -0.806078 -0.371033 -0.465836"
      ]
     },
     "execution_count": 90,
     "metadata": {},
     "output_type": "execute_result"
    }
   ],
   "source": [
    "pd.DataFrame(np.random.randn(4,5))"
   ]
  },
  {
   "cell_type": "code",
   "execution_count": null,
   "id": "3d7339d8",
   "metadata": {},
   "outputs": [],
   "source": [
    "np.fromfunction(lambda i,j,z : i*j*z, (3,3,2), dtype =int)"
   ]
  },
  {
   "cell_type": "code",
   "execution_count": 97,
   "id": "57703a78",
   "metadata": {},
   "outputs": [],
   "source": [
    "a=np.fromfunction(lambda i,j,z : i*j*z, (4,5,6), dtype =int)"
   ]
  },
  {
   "cell_type": "code",
   "execution_count": 98,
   "id": "80344972",
   "metadata": {},
   "outputs": [
    {
     "data": {
      "text/plain": [
       "array([[[ 0,  0,  0,  0,  0,  0],\n",
       "        [ 0,  0,  0,  0,  0,  0],\n",
       "        [ 0,  0,  0,  0,  0,  0],\n",
       "        [ 0,  0,  0,  0,  0,  0],\n",
       "        [ 0,  0,  0,  0,  0,  0]],\n",
       "\n",
       "       [[ 0,  0,  0,  0,  0,  0],\n",
       "        [ 0,  1,  2,  3,  4,  5],\n",
       "        [ 0,  2,  4,  6,  8, 10],\n",
       "        [ 0,  3,  6,  9, 12, 15],\n",
       "        [ 0,  4,  8, 12, 16, 20]],\n",
       "\n",
       "       [[ 0,  0,  0,  0,  0,  0],\n",
       "        [ 0,  2,  4,  6,  8, 10],\n",
       "        [ 0,  4,  8, 12, 16, 20],\n",
       "        [ 0,  6, 12, 18, 24, 30],\n",
       "        [ 0,  8, 16, 24, 32, 40]],\n",
       "\n",
       "       [[ 0,  0,  0,  0,  0,  0],\n",
       "        [ 0,  3,  6,  9, 12, 15],\n",
       "        [ 0,  6, 12, 18, 24, 30],\n",
       "        [ 0,  9, 18, 27, 36, 45],\n",
       "        [ 0, 12, 24, 36, 48, 60]]])"
      ]
     },
     "execution_count": 98,
     "metadata": {},
     "output_type": "execute_result"
    }
   ],
   "source": [
    "a"
   ]
  },
  {
   "cell_type": "code",
   "execution_count": 103,
   "id": "5367734a",
   "metadata": {},
   "outputs": [
    {
     "data": {
      "text/plain": [
       "array([[ 0,  0,  0,  0,  0,  0,  0,  0,  0,  0],\n",
       "       [ 0,  0,  0,  0,  0,  0,  0,  0,  0,  0],\n",
       "       [ 0,  0,  0,  0,  0,  0,  0,  0,  0,  0],\n",
       "       [ 0,  0,  0,  0,  0,  0,  0,  1,  2,  3],\n",
       "       [ 4,  5,  0,  2,  4,  6,  8, 10,  0,  3],\n",
       "       [ 6,  9, 12, 15,  0,  4,  8, 12, 16, 20],\n",
       "       [ 0,  0,  0,  0,  0,  0,  0,  2,  4,  6],\n",
       "       [ 8, 10,  0,  4,  8, 12, 16, 20,  0,  6],\n",
       "       [12, 18, 24, 30,  0,  8, 16, 24, 32, 40],\n",
       "       [ 0,  0,  0,  0,  0,  0,  0,  3,  6,  9],\n",
       "       [12, 15,  0,  6, 12, 18, 24, 30,  0,  9],\n",
       "       [18, 27, 36, 45,  0, 12, 24, 36, 48, 60]])"
      ]
     },
     "execution_count": 103,
     "metadata": {},
     "output_type": "execute_result"
    }
   ],
   "source": [
    "a.reshape(12,10)"
   ]
  },
  {
   "cell_type": "code",
   "execution_count": 104,
   "id": "b5de20cd",
   "metadata": {},
   "outputs": [
    {
     "data": {
      "text/html": [
       "<div>\n",
       "<style scoped>\n",
       "    .dataframe tbody tr th:only-of-type {\n",
       "        vertical-align: middle;\n",
       "    }\n",
       "\n",
       "    .dataframe tbody tr th {\n",
       "        vertical-align: top;\n",
       "    }\n",
       "\n",
       "    .dataframe thead th {\n",
       "        text-align: right;\n",
       "    }\n",
       "</style>\n",
       "<table border=\"1\" class=\"dataframe\">\n",
       "  <thead>\n",
       "    <tr style=\"text-align: right;\">\n",
       "      <th></th>\n",
       "      <th>0</th>\n",
       "      <th>1</th>\n",
       "      <th>2</th>\n",
       "      <th>3</th>\n",
       "      <th>4</th>\n",
       "      <th>5</th>\n",
       "      <th>6</th>\n",
       "      <th>7</th>\n",
       "      <th>8</th>\n",
       "      <th>9</th>\n",
       "    </tr>\n",
       "  </thead>\n",
       "  <tbody>\n",
       "    <tr>\n",
       "      <th>0</th>\n",
       "      <td>0</td>\n",
       "      <td>0</td>\n",
       "      <td>0</td>\n",
       "      <td>0</td>\n",
       "      <td>0</td>\n",
       "      <td>0</td>\n",
       "      <td>0</td>\n",
       "      <td>0</td>\n",
       "      <td>0</td>\n",
       "      <td>0</td>\n",
       "    </tr>\n",
       "    <tr>\n",
       "      <th>1</th>\n",
       "      <td>0</td>\n",
       "      <td>0</td>\n",
       "      <td>0</td>\n",
       "      <td>0</td>\n",
       "      <td>0</td>\n",
       "      <td>0</td>\n",
       "      <td>0</td>\n",
       "      <td>0</td>\n",
       "      <td>0</td>\n",
       "      <td>0</td>\n",
       "    </tr>\n",
       "    <tr>\n",
       "      <th>2</th>\n",
       "      <td>0</td>\n",
       "      <td>0</td>\n",
       "      <td>0</td>\n",
       "      <td>0</td>\n",
       "      <td>0</td>\n",
       "      <td>0</td>\n",
       "      <td>0</td>\n",
       "      <td>0</td>\n",
       "      <td>0</td>\n",
       "      <td>0</td>\n",
       "    </tr>\n",
       "    <tr>\n",
       "      <th>3</th>\n",
       "      <td>0</td>\n",
       "      <td>0</td>\n",
       "      <td>0</td>\n",
       "      <td>0</td>\n",
       "      <td>0</td>\n",
       "      <td>0</td>\n",
       "      <td>0</td>\n",
       "      <td>1</td>\n",
       "      <td>2</td>\n",
       "      <td>3</td>\n",
       "    </tr>\n",
       "    <tr>\n",
       "      <th>4</th>\n",
       "      <td>4</td>\n",
       "      <td>5</td>\n",
       "      <td>0</td>\n",
       "      <td>2</td>\n",
       "      <td>4</td>\n",
       "      <td>6</td>\n",
       "      <td>8</td>\n",
       "      <td>10</td>\n",
       "      <td>0</td>\n",
       "      <td>3</td>\n",
       "    </tr>\n",
       "    <tr>\n",
       "      <th>5</th>\n",
       "      <td>6</td>\n",
       "      <td>9</td>\n",
       "      <td>12</td>\n",
       "      <td>15</td>\n",
       "      <td>0</td>\n",
       "      <td>4</td>\n",
       "      <td>8</td>\n",
       "      <td>12</td>\n",
       "      <td>16</td>\n",
       "      <td>20</td>\n",
       "    </tr>\n",
       "    <tr>\n",
       "      <th>6</th>\n",
       "      <td>0</td>\n",
       "      <td>0</td>\n",
       "      <td>0</td>\n",
       "      <td>0</td>\n",
       "      <td>0</td>\n",
       "      <td>0</td>\n",
       "      <td>0</td>\n",
       "      <td>2</td>\n",
       "      <td>4</td>\n",
       "      <td>6</td>\n",
       "    </tr>\n",
       "    <tr>\n",
       "      <th>7</th>\n",
       "      <td>8</td>\n",
       "      <td>10</td>\n",
       "      <td>0</td>\n",
       "      <td>4</td>\n",
       "      <td>8</td>\n",
       "      <td>12</td>\n",
       "      <td>16</td>\n",
       "      <td>20</td>\n",
       "      <td>0</td>\n",
       "      <td>6</td>\n",
       "    </tr>\n",
       "    <tr>\n",
       "      <th>8</th>\n",
       "      <td>12</td>\n",
       "      <td>18</td>\n",
       "      <td>24</td>\n",
       "      <td>30</td>\n",
       "      <td>0</td>\n",
       "      <td>8</td>\n",
       "      <td>16</td>\n",
       "      <td>24</td>\n",
       "      <td>32</td>\n",
       "      <td>40</td>\n",
       "    </tr>\n",
       "    <tr>\n",
       "      <th>9</th>\n",
       "      <td>0</td>\n",
       "      <td>0</td>\n",
       "      <td>0</td>\n",
       "      <td>0</td>\n",
       "      <td>0</td>\n",
       "      <td>0</td>\n",
       "      <td>0</td>\n",
       "      <td>3</td>\n",
       "      <td>6</td>\n",
       "      <td>9</td>\n",
       "    </tr>\n",
       "    <tr>\n",
       "      <th>10</th>\n",
       "      <td>12</td>\n",
       "      <td>15</td>\n",
       "      <td>0</td>\n",
       "      <td>6</td>\n",
       "      <td>12</td>\n",
       "      <td>18</td>\n",
       "      <td>24</td>\n",
       "      <td>30</td>\n",
       "      <td>0</td>\n",
       "      <td>9</td>\n",
       "    </tr>\n",
       "    <tr>\n",
       "      <th>11</th>\n",
       "      <td>18</td>\n",
       "      <td>27</td>\n",
       "      <td>36</td>\n",
       "      <td>45</td>\n",
       "      <td>0</td>\n",
       "      <td>12</td>\n",
       "      <td>24</td>\n",
       "      <td>36</td>\n",
       "      <td>48</td>\n",
       "      <td>60</td>\n",
       "    </tr>\n",
       "  </tbody>\n",
       "</table>\n",
       "</div>"
      ],
      "text/plain": [
       "     0   1   2   3   4   5   6   7   8   9\n",
       "0    0   0   0   0   0   0   0   0   0   0\n",
       "1    0   0   0   0   0   0   0   0   0   0\n",
       "2    0   0   0   0   0   0   0   0   0   0\n",
       "3    0   0   0   0   0   0   0   1   2   3\n",
       "4    4   5   0   2   4   6   8  10   0   3\n",
       "5    6   9  12  15   0   4   8  12  16  20\n",
       "6    0   0   0   0   0   0   0   2   4   6\n",
       "7    8  10   0   4   8  12  16  20   0   6\n",
       "8   12  18  24  30   0   8  16  24  32  40\n",
       "9    0   0   0   0   0   0   0   3   6   9\n",
       "10  12  15   0   6  12  18  24  30   0   9\n",
       "11  18  27  36  45   0  12  24  36  48  60"
      ]
     },
     "execution_count": 104,
     "metadata": {},
     "output_type": "execute_result"
    }
   ],
   "source": [
    "pd.DataFrame(a.reshape(12,10))"
   ]
  },
  {
   "cell_type": "code",
   "execution_count": 106,
   "id": "5d0bd2bc",
   "metadata": {},
   "outputs": [
    {
     "data": {
      "text/plain": [
       "array([[[ 0,  0],\n",
       "        [ 0,  0],\n",
       "        [ 0,  0],\n",
       "        [ 0,  0],\n",
       "        [ 0,  0]],\n",
       "\n",
       "       [[ 0,  0],\n",
       "        [ 0,  0],\n",
       "        [ 0,  0],\n",
       "        [ 0,  0],\n",
       "        [ 0,  0]],\n",
       "\n",
       "       [[ 0,  0],\n",
       "        [ 0,  0],\n",
       "        [ 0,  0],\n",
       "        [ 0,  0],\n",
       "        [ 0,  0]],\n",
       "\n",
       "       [[ 0,  0],\n",
       "        [ 0,  0],\n",
       "        [ 0,  0],\n",
       "        [ 0,  1],\n",
       "        [ 2,  3]],\n",
       "\n",
       "       [[ 4,  5],\n",
       "        [ 0,  2],\n",
       "        [ 4,  6],\n",
       "        [ 8, 10],\n",
       "        [ 0,  3]],\n",
       "\n",
       "       [[ 6,  9],\n",
       "        [12, 15],\n",
       "        [ 0,  4],\n",
       "        [ 8, 12],\n",
       "        [16, 20]],\n",
       "\n",
       "       [[ 0,  0],\n",
       "        [ 0,  0],\n",
       "        [ 0,  0],\n",
       "        [ 0,  2],\n",
       "        [ 4,  6]],\n",
       "\n",
       "       [[ 8, 10],\n",
       "        [ 0,  4],\n",
       "        [ 8, 12],\n",
       "        [16, 20],\n",
       "        [ 0,  6]],\n",
       "\n",
       "       [[12, 18],\n",
       "        [24, 30],\n",
       "        [ 0,  8],\n",
       "        [16, 24],\n",
       "        [32, 40]],\n",
       "\n",
       "       [[ 0,  0],\n",
       "        [ 0,  0],\n",
       "        [ 0,  0],\n",
       "        [ 0,  3],\n",
       "        [ 6,  9]],\n",
       "\n",
       "       [[12, 15],\n",
       "        [ 0,  6],\n",
       "        [12, 18],\n",
       "        [24, 30],\n",
       "        [ 0,  9]],\n",
       "\n",
       "       [[18, 27],\n",
       "        [36, 45],\n",
       "        [ 0, 12],\n",
       "        [24, 36],\n",
       "        [48, 60]]])"
      ]
     },
     "execution_count": 106,
     "metadata": {},
     "output_type": "execute_result"
    }
   ],
   "source": [
    "# in 4-D\n",
    "a.reshape(12,5,2)"
   ]
  },
  {
   "cell_type": "code",
   "execution_count": 107,
   "id": "eb0d9dcc",
   "metadata": {},
   "outputs": [],
   "source": [
    "b=np.fromfunction(lambda a,b,c : a+b+c,(3,4,5),dtype=int)"
   ]
  },
  {
   "cell_type": "code",
   "execution_count": 108,
   "id": "1a100483",
   "metadata": {},
   "outputs": [
    {
     "data": {
      "text/plain": [
       "array([[[0, 1, 2, 3, 4],\n",
       "        [1, 2, 3, 4, 5],\n",
       "        [2, 3, 4, 5, 6],\n",
       "        [3, 4, 5, 6, 7]],\n",
       "\n",
       "       [[1, 2, 3, 4, 5],\n",
       "        [2, 3, 4, 5, 6],\n",
       "        [3, 4, 5, 6, 7],\n",
       "        [4, 5, 6, 7, 8]],\n",
       "\n",
       "       [[2, 3, 4, 5, 6],\n",
       "        [3, 4, 5, 6, 7],\n",
       "        [4, 5, 6, 7, 8],\n",
       "        [5, 6, 7, 8, 9]]])"
      ]
     },
     "execution_count": 108,
     "metadata": {},
     "output_type": "execute_result"
    }
   ],
   "source": [
    "b"
   ]
  },
  {
   "cell_type": "code",
   "execution_count": 110,
   "id": "10f12190",
   "metadata": {},
   "outputs": [
    {
     "ename": "ValueError",
     "evalue": "Must pass 2-d input. shape=(3, 4, 5)",
     "output_type": "error",
     "traceback": [
      "\u001b[1;31m---------------------------------------------------------------------------\u001b[0m",
      "\u001b[1;31mValueError\u001b[0m                                Traceback (most recent call last)",
      "Input \u001b[1;32mIn [110]\u001b[0m, in \u001b[0;36m<cell line: 1>\u001b[1;34m()\u001b[0m\n\u001b[1;32m----> 1\u001b[0m \u001b[43mpd\u001b[49m\u001b[38;5;241;43m.\u001b[39;49m\u001b[43mDataFrame\u001b[49m\u001b[43m(\u001b[49m\u001b[43mb\u001b[49m\u001b[43m)\u001b[49m\n",
      "File \u001b[1;32m~\\anaconda3\\lib\\site-packages\\pandas\\core\\frame.py:694\u001b[0m, in \u001b[0;36mDataFrame.__init__\u001b[1;34m(self, data, index, columns, dtype, copy)\u001b[0m\n\u001b[0;32m    684\u001b[0m         mgr \u001b[38;5;241m=\u001b[39m dict_to_mgr(\n\u001b[0;32m    685\u001b[0m             \u001b[38;5;66;03m# error: Item \"ndarray\" of \"Union[ndarray, Series, Index]\" has no\u001b[39;00m\n\u001b[0;32m    686\u001b[0m             \u001b[38;5;66;03m# attribute \"name\"\u001b[39;00m\n\u001b[1;32m   (...)\u001b[0m\n\u001b[0;32m    691\u001b[0m             typ\u001b[38;5;241m=\u001b[39mmanager,\n\u001b[0;32m    692\u001b[0m         )\n\u001b[0;32m    693\u001b[0m     \u001b[38;5;28;01melse\u001b[39;00m:\n\u001b[1;32m--> 694\u001b[0m         mgr \u001b[38;5;241m=\u001b[39m \u001b[43mndarray_to_mgr\u001b[49m\u001b[43m(\u001b[49m\n\u001b[0;32m    695\u001b[0m \u001b[43m            \u001b[49m\u001b[43mdata\u001b[49m\u001b[43m,\u001b[49m\n\u001b[0;32m    696\u001b[0m \u001b[43m            \u001b[49m\u001b[43mindex\u001b[49m\u001b[43m,\u001b[49m\n\u001b[0;32m    697\u001b[0m \u001b[43m            \u001b[49m\u001b[43mcolumns\u001b[49m\u001b[43m,\u001b[49m\n\u001b[0;32m    698\u001b[0m \u001b[43m            \u001b[49m\u001b[43mdtype\u001b[49m\u001b[38;5;241;43m=\u001b[39;49m\u001b[43mdtype\u001b[49m\u001b[43m,\u001b[49m\n\u001b[0;32m    699\u001b[0m \u001b[43m            \u001b[49m\u001b[43mcopy\u001b[49m\u001b[38;5;241;43m=\u001b[39;49m\u001b[43mcopy\u001b[49m\u001b[43m,\u001b[49m\n\u001b[0;32m    700\u001b[0m \u001b[43m            \u001b[49m\u001b[43mtyp\u001b[49m\u001b[38;5;241;43m=\u001b[39;49m\u001b[43mmanager\u001b[49m\u001b[43m,\u001b[49m\n\u001b[0;32m    701\u001b[0m \u001b[43m        \u001b[49m\u001b[43m)\u001b[49m\n\u001b[0;32m    703\u001b[0m \u001b[38;5;66;03m# For data is list-like, or Iterable (will consume into list)\u001b[39;00m\n\u001b[0;32m    704\u001b[0m \u001b[38;5;28;01melif\u001b[39;00m is_list_like(data):\n",
      "File \u001b[1;32m~\\anaconda3\\lib\\site-packages\\pandas\\core\\internals\\construction.py:331\u001b[0m, in \u001b[0;36mndarray_to_mgr\u001b[1;34m(values, index, columns, dtype, copy, typ)\u001b[0m\n\u001b[0;32m    326\u001b[0m         values \u001b[38;5;241m=\u001b[39m values\u001b[38;5;241m.\u001b[39mreshape(\u001b[38;5;241m-\u001b[39m\u001b[38;5;241m1\u001b[39m, \u001b[38;5;241m1\u001b[39m)\n\u001b[0;32m    328\u001b[0m \u001b[38;5;28;01melse\u001b[39;00m:\n\u001b[0;32m    329\u001b[0m     \u001b[38;5;66;03m# by definition an array here\u001b[39;00m\n\u001b[0;32m    330\u001b[0m     \u001b[38;5;66;03m# the dtypes will be coerced to a single dtype\u001b[39;00m\n\u001b[1;32m--> 331\u001b[0m     values \u001b[38;5;241m=\u001b[39m \u001b[43m_prep_ndarray\u001b[49m\u001b[43m(\u001b[49m\u001b[43mvalues\u001b[49m\u001b[43m,\u001b[49m\u001b[43m \u001b[49m\u001b[43mcopy\u001b[49m\u001b[38;5;241;43m=\u001b[39;49m\u001b[43mcopy_on_sanitize\u001b[49m\u001b[43m)\u001b[49m\n\u001b[0;32m    333\u001b[0m \u001b[38;5;28;01mif\u001b[39;00m dtype \u001b[38;5;129;01mis\u001b[39;00m \u001b[38;5;129;01mnot\u001b[39;00m \u001b[38;5;28;01mNone\u001b[39;00m \u001b[38;5;129;01mand\u001b[39;00m \u001b[38;5;129;01mnot\u001b[39;00m is_dtype_equal(values\u001b[38;5;241m.\u001b[39mdtype, dtype):\n\u001b[0;32m    334\u001b[0m     shape \u001b[38;5;241m=\u001b[39m values\u001b[38;5;241m.\u001b[39mshape\n",
      "File \u001b[1;32m~\\anaconda3\\lib\\site-packages\\pandas\\core\\internals\\construction.py:591\u001b[0m, in \u001b[0;36m_prep_ndarray\u001b[1;34m(values, copy)\u001b[0m\n\u001b[0;32m    589\u001b[0m     values \u001b[38;5;241m=\u001b[39m values\u001b[38;5;241m.\u001b[39mreshape((values\u001b[38;5;241m.\u001b[39mshape[\u001b[38;5;241m0\u001b[39m], \u001b[38;5;241m1\u001b[39m))\n\u001b[0;32m    590\u001b[0m \u001b[38;5;28;01melif\u001b[39;00m values\u001b[38;5;241m.\u001b[39mndim \u001b[38;5;241m!=\u001b[39m \u001b[38;5;241m2\u001b[39m:\n\u001b[1;32m--> 591\u001b[0m     \u001b[38;5;28;01mraise\u001b[39;00m \u001b[38;5;167;01mValueError\u001b[39;00m(\u001b[38;5;124mf\u001b[39m\u001b[38;5;124m\"\u001b[39m\u001b[38;5;124mMust pass 2-d input. shape=\u001b[39m\u001b[38;5;132;01m{\u001b[39;00mvalues\u001b[38;5;241m.\u001b[39mshape\u001b[38;5;132;01m}\u001b[39;00m\u001b[38;5;124m\"\u001b[39m)\n\u001b[0;32m    593\u001b[0m \u001b[38;5;28;01mreturn\u001b[39;00m values\n",
      "\u001b[1;31mValueError\u001b[0m: Must pass 2-d input. shape=(3, 4, 5)"
     ]
    }
   ],
   "source": [
    "pd.DataFrame(b)"
   ]
  },
  {
   "cell_type": "code",
   "execution_count": 118,
   "id": "998e1cbd",
   "metadata": {},
   "outputs": [
    {
     "data": {
      "text/plain": [
       "array([[0, 1, 2, 3, 4],\n",
       "       [1, 2, 3, 4, 5],\n",
       "       [2, 3, 4, 5, 6],\n",
       "       [3, 4, 5, 6, 7],\n",
       "       [1, 2, 3, 4, 5],\n",
       "       [2, 3, 4, 5, 6],\n",
       "       [3, 4, 5, 6, 7],\n",
       "       [4, 5, 6, 7, 8],\n",
       "       [2, 3, 4, 5, 6],\n",
       "       [3, 4, 5, 6, 7],\n",
       "       [4, 5, 6, 7, 8],\n",
       "       [5, 6, 7, 8, 9]])"
      ]
     },
     "execution_count": 118,
     "metadata": {},
     "output_type": "execute_result"
    }
   ],
   "source": [
    "# -(negative) is a deaufault value---- to take \n",
    "b.reshape(12,-1)"
   ]
  },
  {
   "cell_type": "code",
   "execution_count": 123,
   "id": "d271f14a",
   "metadata": {},
   "outputs": [
    {
     "data": {
      "text/html": [
       "<div>\n",
       "<style scoped>\n",
       "    .dataframe tbody tr th:only-of-type {\n",
       "        vertical-align: middle;\n",
       "    }\n",
       "\n",
       "    .dataframe tbody tr th {\n",
       "        vertical-align: top;\n",
       "    }\n",
       "\n",
       "    .dataframe thead th {\n",
       "        text-align: right;\n",
       "    }\n",
       "</style>\n",
       "<table border=\"1\" class=\"dataframe\">\n",
       "  <thead>\n",
       "    <tr style=\"text-align: right;\">\n",
       "      <th></th>\n",
       "      <th>0</th>\n",
       "      <th>1</th>\n",
       "      <th>2</th>\n",
       "      <th>3</th>\n",
       "      <th>4</th>\n",
       "      <th>5</th>\n",
       "      <th>6</th>\n",
       "      <th>7</th>\n",
       "      <th>8</th>\n",
       "      <th>9</th>\n",
       "      <th>10</th>\n",
       "      <th>11</th>\n",
       "    </tr>\n",
       "  </thead>\n",
       "  <tbody>\n",
       "    <tr>\n",
       "      <th>0</th>\n",
       "      <td>0</td>\n",
       "      <td>1</td>\n",
       "      <td>2</td>\n",
       "      <td>3</td>\n",
       "      <td>4</td>\n",
       "      <td>1</td>\n",
       "      <td>2</td>\n",
       "      <td>3</td>\n",
       "      <td>4</td>\n",
       "      <td>5</td>\n",
       "      <td>2</td>\n",
       "      <td>3</td>\n",
       "    </tr>\n",
       "    <tr>\n",
       "      <th>1</th>\n",
       "      <td>4</td>\n",
       "      <td>5</td>\n",
       "      <td>6</td>\n",
       "      <td>3</td>\n",
       "      <td>4</td>\n",
       "      <td>5</td>\n",
       "      <td>6</td>\n",
       "      <td>7</td>\n",
       "      <td>1</td>\n",
       "      <td>2</td>\n",
       "      <td>3</td>\n",
       "      <td>4</td>\n",
       "    </tr>\n",
       "    <tr>\n",
       "      <th>2</th>\n",
       "      <td>5</td>\n",
       "      <td>2</td>\n",
       "      <td>3</td>\n",
       "      <td>4</td>\n",
       "      <td>5</td>\n",
       "      <td>6</td>\n",
       "      <td>3</td>\n",
       "      <td>4</td>\n",
       "      <td>5</td>\n",
       "      <td>6</td>\n",
       "      <td>7</td>\n",
       "      <td>4</td>\n",
       "    </tr>\n",
       "    <tr>\n",
       "      <th>3</th>\n",
       "      <td>5</td>\n",
       "      <td>6</td>\n",
       "      <td>7</td>\n",
       "      <td>8</td>\n",
       "      <td>2</td>\n",
       "      <td>3</td>\n",
       "      <td>4</td>\n",
       "      <td>5</td>\n",
       "      <td>6</td>\n",
       "      <td>3</td>\n",
       "      <td>4</td>\n",
       "      <td>5</td>\n",
       "    </tr>\n",
       "    <tr>\n",
       "      <th>4</th>\n",
       "      <td>6</td>\n",
       "      <td>7</td>\n",
       "      <td>4</td>\n",
       "      <td>5</td>\n",
       "      <td>6</td>\n",
       "      <td>7</td>\n",
       "      <td>8</td>\n",
       "      <td>5</td>\n",
       "      <td>6</td>\n",
       "      <td>7</td>\n",
       "      <td>8</td>\n",
       "      <td>9</td>\n",
       "    </tr>\n",
       "  </tbody>\n",
       "</table>\n",
       "</div>"
      ],
      "text/plain": [
       "   0   1   2   3   4   5   6   7   8   9   10  11\n",
       "0   0   1   2   3   4   1   2   3   4   5   2   3\n",
       "1   4   5   6   3   4   5   6   7   1   2   3   4\n",
       "2   5   2   3   4   5   6   3   4   5   6   7   4\n",
       "3   5   6   7   8   2   3   4   5   6   3   4   5\n",
       "4   6   7   4   5   6   7   8   5   6   7   8   9"
      ]
     },
     "execution_count": 123,
     "metadata": {},
     "output_type": "execute_result"
    }
   ],
   "source": [
    "pd.DataFrame(b.reshape(5,12))"
   ]
  },
  {
   "cell_type": "code",
   "execution_count": 124,
   "id": "db170ebf",
   "metadata": {},
   "outputs": [
    {
     "data": {
      "text/plain": [
       "[4, 6, 8]"
      ]
     },
     "execution_count": 124,
     "metadata": {},
     "output_type": "execute_result"
    }
   ],
   "source": [
    "list(range(4,10,2))"
   ]
  },
  {
   "cell_type": "code",
   "execution_count": 125,
   "id": "4edcbf7e",
   "metadata": {},
   "outputs": [
    {
     "ename": "TypeError",
     "evalue": "'float' object cannot be interpreted as an integer",
     "output_type": "error",
     "traceback": [
      "\u001b[1;31m---------------------------------------------------------------------------\u001b[0m",
      "\u001b[1;31mTypeError\u001b[0m                                 Traceback (most recent call last)",
      "Input \u001b[1;32mIn [125]\u001b[0m, in \u001b[0;36m<cell line: 1>\u001b[1;34m()\u001b[0m\n\u001b[1;32m----> 1\u001b[0m \u001b[38;5;28mlist\u001b[39m(\u001b[38;5;28;43mrange\u001b[39;49m\u001b[43m(\u001b[49m\u001b[38;5;241;43m4\u001b[39;49m\u001b[43m,\u001b[49m\u001b[38;5;241;43m10\u001b[39;49m\u001b[43m,\u001b[49m\u001b[38;5;241;43m.2\u001b[39;49m\u001b[43m)\u001b[49m)\n",
      "\u001b[1;31mTypeError\u001b[0m: 'float' object cannot be interpreted as an integer"
     ]
    }
   ],
   "source": [
    "list(range(4,10,.2))"
   ]
  },
  {
   "cell_type": "code",
   "execution_count": 127,
   "id": "fa9a6adf",
   "metadata": {},
   "outputs": [
    {
     "data": {
      "text/plain": [
       "array([4. , 4.2, 4.4, 4.6, 4.8, 5. , 5.2, 5.4, 5.6, 5.8, 6. , 6.2, 6.4,\n",
       "       6.6, 6.8, 7. , 7.2, 7.4, 7.6, 7.8, 8. , 8.2, 8.4, 8.6, 8.8, 9. ,\n",
       "       9.2, 9.4, 9.6, 9.8])"
      ]
     },
     "execution_count": 127,
     "metadata": {},
     "output_type": "execute_result"
    }
   ],
   "source": [
    "np.arange(4,10,0.2)"
   ]
  },
  {
   "cell_type": "code",
   "execution_count": 132,
   "id": "c43b7b0c",
   "metadata": {},
   "outputs": [],
   "source": [
    "a = np.array([[1,2], [3,4]])\n",
    "b = np.array([[2,3], [4,5]])"
   ]
  },
  {
   "cell_type": "code",
   "execution_count": 133,
   "id": "4e870d1c",
   "metadata": {},
   "outputs": [
    {
     "data": {
      "text/plain": [
       "array([[1, 2],\n",
       "       [3, 4]])"
      ]
     },
     "execution_count": 133,
     "metadata": {},
     "output_type": "execute_result"
    }
   ],
   "source": [
    "a"
   ]
  },
  {
   "cell_type": "code",
   "execution_count": 134,
   "id": "d8ac3091",
   "metadata": {},
   "outputs": [
    {
     "data": {
      "text/plain": [
       "array([[2, 3],\n",
       "       [4, 5]])"
      ]
     },
     "execution_count": 134,
     "metadata": {},
     "output_type": "execute_result"
    }
   ],
   "source": [
    "b"
   ]
  },
  {
   "cell_type": "code",
   "execution_count": 135,
   "id": "89e83e5f",
   "metadata": {},
   "outputs": [
    {
     "data": {
      "text/plain": [
       "array([[ 2,  6],\n",
       "       [12, 20]])"
      ]
     },
     "execution_count": 135,
     "metadata": {},
     "output_type": "execute_result"
    }
   ],
   "source": [
    "a*b"
   ]
  },
  {
   "cell_type": "code",
   "execution_count": 136,
   "id": "8cd8a3d2",
   "metadata": {},
   "outputs": [
    {
     "data": {
      "text/plain": [
       "array([[10, 13],\n",
       "       [22, 29]])"
      ]
     },
     "execution_count": 136,
     "metadata": {},
     "output_type": "execute_result"
    }
   ],
   "source": [
    "# to do matrix multiplication\n",
    "a@b"
   ]
  },
  {
   "cell_type": "code",
   "execution_count": 137,
   "id": "81145f69",
   "metadata": {},
   "outputs": [],
   "source": [
    "m=a@b"
   ]
  },
  {
   "cell_type": "code",
   "execution_count": 138,
   "id": "f83be01c",
   "metadata": {},
   "outputs": [
    {
     "data": {
      "text/plain": [
       "array([[10, 13],\n",
       "       [22, 29]])"
      ]
     },
     "execution_count": 138,
     "metadata": {},
     "output_type": "execute_result"
    }
   ],
   "source": [
    "m"
   ]
  },
  {
   "cell_type": "code",
   "execution_count": 139,
   "id": "6ddfe353",
   "metadata": {},
   "outputs": [
    {
     "name": "stderr",
     "output_type": "stream",
     "text": [
      "C:\\Users\\win11\\AppData\\Local\\Temp\\ipykernel_21968\\3791875896.py:1: RuntimeWarning: divide by zero encountered in true_divide\n",
      "  m/0\n"
     ]
    },
    {
     "data": {
      "text/plain": [
       "array([[inf, inf],\n",
       "       [inf, inf]])"
      ]
     },
     "execution_count": 139,
     "metadata": {},
     "output_type": "execute_result"
    }
   ],
   "source": [
    "m/0"
   ]
  },
  {
   "cell_type": "code",
   "execution_count": null,
   "id": "3ac32f42",
   "metadata": {},
   "outputs": [],
   "source": []
  }
 ],
 "metadata": {
  "kernelspec": {
   "display_name": "Python 3 (ipykernel)",
   "language": "python",
   "name": "python3"
  },
  "language_info": {
   "codemirror_mode": {
    "name": "ipython",
    "version": 3
   },
   "file_extension": ".py",
   "mimetype": "text/x-python",
   "name": "python",
   "nbconvert_exporter": "python",
   "pygments_lexer": "ipython3",
   "version": "3.9.12"
  }
 },
 "nbformat": 4,
 "nbformat_minor": 5
}
