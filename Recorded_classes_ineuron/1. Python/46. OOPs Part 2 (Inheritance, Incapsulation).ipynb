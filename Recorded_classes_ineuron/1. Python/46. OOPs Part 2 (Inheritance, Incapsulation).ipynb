{
 "cells": [
  {
   "cell_type": "markdown",
   "id": "5bdaeaf3",
   "metadata": {},
   "source": [
    "## OOPs :- Inheritance, Incapsulation"
   ]
  },
  {
   "cell_type": "markdown",
   "id": "7cf040ff",
   "metadata": {},
   "source": [
    "### Inheritance ----->"
   ]
  },
  {
   "cell_type": "code",
   "execution_count": 1,
   "id": "de177501",
   "metadata": {},
   "outputs": [],
   "source": [
    "class xyz:\n",
    "    \n",
    "    def __init__(self,a,b,c):\n",
    "        self.a=a\n",
    "        self.b=b\n",
    "        self.c=c\n",
    "        \n",
    "    def test(self):\n",
    "        print(\"This is a method of xyz class\")\n",
    "        \n",
    "        \n",
    "class xyz_1:\n",
    "    \n",
    "    def __init__(self,p,q,v):\n",
    "        self.p=p\n",
    "        self.q=q\n",
    "        self.v=v\n",
    "        \n",
    "    def test_1(self):\n",
    "        print(\"This is method from class xyz_1\")"
   ]
  },
  {
   "cell_type": "code",
   "execution_count": 2,
   "id": "e85cf01e",
   "metadata": {},
   "outputs": [],
   "source": [
    "a=xyz(1,2,3)"
   ]
  },
  {
   "cell_type": "code",
   "execution_count": 3,
   "id": "011a50ab",
   "metadata": {},
   "outputs": [
    {
     "name": "stdout",
     "output_type": "stream",
     "text": [
      "This is a method of xyz class\n"
     ]
    }
   ],
   "source": [
    "a.test()"
   ]
  },
  {
   "cell_type": "code",
   "execution_count": 4,
   "id": "585afa39",
   "metadata": {},
   "outputs": [
    {
     "data": {
      "text/plain": [
       "1"
      ]
     },
     "execution_count": 4,
     "metadata": {},
     "output_type": "execute_result"
    }
   ],
   "source": [
    "a.a"
   ]
  },
  {
   "cell_type": "code",
   "execution_count": null,
   "id": "d0285263",
   "metadata": {},
   "outputs": [],
   "source": []
  },
  {
   "cell_type": "code",
   "execution_count": 5,
   "id": "0503ea38",
   "metadata": {},
   "outputs": [],
   "source": [
    "class xyz:\n",
    "    \n",
    "    def __init__(self,a,b,c):\n",
    "        self.a=a\n",
    "        self.b=b\n",
    "        self.c=c\n",
    "        \n",
    "    def test(self):\n",
    "        print(\"This is a method of xyz class\")\n",
    "        \n",
    "        \n",
    "class xyz_1:\n",
    "    \n",
    "    def __init__(self,p,q,v):\n",
    "        self.p=p\n",
    "        self.q=q\n",
    "        self.v=v\n",
    "        \n",
    "    def test_1(self):\n",
    "        print(\"This is method from class xyz_1\")\n",
    "        \n",
    "class child(xyz,xyz_1):\n",
    "    pass"
   ]
  },
  {
   "cell_type": "code",
   "execution_count": 6,
   "id": "59bb2e6a",
   "metadata": {},
   "outputs": [],
   "source": [
    "n=child(1,2,3)"
   ]
  },
  {
   "cell_type": "code",
   "execution_count": 7,
   "id": "4b43d690",
   "metadata": {},
   "outputs": [
    {
     "data": {
      "text/plain": [
       "1"
      ]
     },
     "execution_count": 7,
     "metadata": {},
     "output_type": "execute_result"
    }
   ],
   "source": [
    "n.a"
   ]
  },
  {
   "cell_type": "code",
   "execution_count": 8,
   "id": "1e3f5199",
   "metadata": {},
   "outputs": [
    {
     "ename": "AttributeError",
     "evalue": "'child' object has no attribute 'p'",
     "output_type": "error",
     "traceback": [
      "\u001b[1;31m---------------------------------------------------------------------------\u001b[0m",
      "\u001b[1;31mAttributeError\u001b[0m                            Traceback (most recent call last)",
      "Input \u001b[1;32mIn [8]\u001b[0m, in \u001b[0;36m<cell line: 1>\u001b[1;34m()\u001b[0m\n\u001b[1;32m----> 1\u001b[0m \u001b[43mn\u001b[49m\u001b[38;5;241;43m.\u001b[39;49m\u001b[43mp\u001b[49m\n",
      "\u001b[1;31mAttributeError\u001b[0m: 'child' object has no attribute 'p'"
     ]
    }
   ],
   "source": [
    "n.p"
   ]
  },
  {
   "cell_type": "code",
   "execution_count": 9,
   "id": "070d0569",
   "metadata": {},
   "outputs": [],
   "source": [
    "class xyz:\n",
    "    \n",
    "    def __init__(self,a,b,c):\n",
    "        self.a=a\n",
    "        self.b=b\n",
    "        self.c=c\n",
    "        \n",
    "    def test(self):\n",
    "        print(\"This is a method of xyz class\")\n",
    "        \n",
    "        \n",
    "class xyz_1:\n",
    "    \n",
    "    def __init__(self,p,q,v):\n",
    "        self.p=p\n",
    "        self.q=q\n",
    "        self.v=v\n",
    "        \n",
    "    def test_1(self):\n",
    "        print(\"This is method from class xyz_1\")\n",
    "        \n",
    "class child(xyz,xyz_1):\n",
    "    ''' this is a child class'''\n",
    "    \n",
    "    def __init__(self,*args,**kwargs):\n",
    "        xyz.__init__(self,*args)\n",
    "        xyz_1.__init__(self,**kwargs)"
   ]
  },
  {
   "cell_type": "code",
   "execution_count": 10,
   "id": "fc610a8a",
   "metadata": {},
   "outputs": [],
   "source": [
    "n=child(10,11,12,p=13,q=14,v=15)"
   ]
  },
  {
   "cell_type": "code",
   "execution_count": 11,
   "id": "58f76491",
   "metadata": {},
   "outputs": [
    {
     "data": {
      "text/plain": [
       "10"
      ]
     },
     "execution_count": 11,
     "metadata": {},
     "output_type": "execute_result"
    }
   ],
   "source": [
    "n.a"
   ]
  },
  {
   "cell_type": "code",
   "execution_count": 12,
   "id": "e0cd0047",
   "metadata": {},
   "outputs": [
    {
     "data": {
      "text/plain": [
       "14"
      ]
     },
     "execution_count": 12,
     "metadata": {},
     "output_type": "execute_result"
    }
   ],
   "source": [
    "n.q"
   ]
  },
  {
   "cell_type": "code",
   "execution_count": 13,
   "id": "40c4cbf8",
   "metadata": {},
   "outputs": [
    {
     "name": "stdout",
     "output_type": "stream",
     "text": [
      "This is method from class xyz_1\n"
     ]
    }
   ],
   "source": [
    "n.test_1()"
   ]
  },
  {
   "cell_type": "code",
   "execution_count": 15,
   "id": "82d1a984",
   "metadata": {},
   "outputs": [],
   "source": [
    "# multi-level Inheritance\n",
    "\n",
    "class xyz:\n",
    "    \n",
    "    def __init__(self,a,b,c):\n",
    "        self.a=a\n",
    "        self.b=b\n",
    "        self.c=c\n",
    "        \n",
    "    def test(self):\n",
    "        print(\"This is a method of xyz class\")\n",
    "        \n",
    "        \n",
    "class xyz_1(xyz):\n",
    "    \n",
    "\n",
    "    def test_1(self):\n",
    "        print(\"This is method from class xyz_1\")\n",
    "        \n",
    "class xyz_2(xyz_1):\n",
    "    def test_2(self):\n",
    "        print(\"This is a method from class xyz_2\")"
   ]
  },
  {
   "cell_type": "code",
   "execution_count": 16,
   "id": "77085127",
   "metadata": {},
   "outputs": [],
   "source": [
    "v=xyz_2(5,2,6)"
   ]
  },
  {
   "cell_type": "code",
   "execution_count": 18,
   "id": "cfa5e46f",
   "metadata": {},
   "outputs": [
    {
     "name": "stdout",
     "output_type": "stream",
     "text": [
      "This is a method of xyz class\n"
     ]
    }
   ],
   "source": [
    "v.test()"
   ]
  },
  {
   "cell_type": "code",
   "execution_count": 19,
   "id": "8a87e768",
   "metadata": {},
   "outputs": [
    {
     "name": "stdout",
     "output_type": "stream",
     "text": [
      "This is method from class xyz_1\n"
     ]
    }
   ],
   "source": [
    "v.test_1()"
   ]
  },
  {
   "cell_type": "code",
   "execution_count": 29,
   "id": "62afb413",
   "metadata": {},
   "outputs": [],
   "source": [
    "class read:\n",
    "    \n",
    "    def __init__(self,read):\n",
    "        self.read=read\n",
    "        \n",
    "    def just_read(self):\n",
    "        return open(\"for_write.txt\",\"r+\")\n",
    "    \n",
    "class write(read):\n",
    "    \n",
    "    def __init__(self,write):\n",
    "        self.write=write\n",
    "        \n",
    "    def just_write(self):\n",
    "        return open(\"for_write.txt\",\"w+\")\n",
    "    \n",
    "class read_write(write):\n",
    "    \n",
    "    def read_n_write_it(self):\n",
    "        return \"Use for both read and write\""
   ]
  },
  {
   "cell_type": "code",
   "execution_count": 30,
   "id": "5f6d2eb3",
   "metadata": {},
   "outputs": [],
   "source": [
    "r=read_write(\"djc\")"
   ]
  },
  {
   "cell_type": "code",
   "execution_count": 31,
   "id": "76d970a4",
   "metadata": {},
   "outputs": [
    {
     "data": {
      "text/plain": [
       "<_io.TextIOWrapper name='for_write.txt' mode='w+' encoding='cp1252'>"
      ]
     },
     "execution_count": 31,
     "metadata": {},
     "output_type": "execute_result"
    }
   ],
   "source": [
    "r.just_write()"
   ]
  },
  {
   "cell_type": "code",
   "execution_count": 33,
   "id": "3e67866d",
   "metadata": {},
   "outputs": [
    {
     "data": {
      "text/plain": [
       "<_io.TextIOWrapper name='for_write.txt' mode='w+' encoding='cp1252'>"
      ]
     },
     "execution_count": 33,
     "metadata": {},
     "output_type": "execute_result"
    }
   ],
   "source": [
    "r.just_write()"
   ]
  },
  {
   "cell_type": "code",
   "execution_count": 34,
   "id": "7362a81c",
   "metadata": {},
   "outputs": [],
   "source": [
    "r=\"kch\""
   ]
  },
  {
   "cell_type": "code",
   "execution_count": 35,
   "id": "f85bf35e",
   "metadata": {},
   "outputs": [],
   "source": [
    "import logging\n",
    "logging.basicConfig(filename=\"list.log\",level=logging.DEBUG,filemode=\"w\")\n",
    "\n",
    "class file:\n",
    "    def __init__(self,filename):\n",
    "        logging.info(\"creating a instance variable\")\n",
    "        self.file=filename\n",
    "        \n",
    "    def read(self):\n",
    "        logging.info(\"This is read method\")\n",
    "        try:\n",
    "            with open (f\"{self.file}.txt\",\"r+\") as f:\n",
    "                data=f.read()\n",
    "                return data\n",
    "        except Exception as e:\n",
    "            logging.error(\"Error occured while opening a file\")\n",
    "            logging.exception(f\"Error is {e}\")\n",
    "            \n",
    "    def write(self,data):\n",
    "        logging.info(\"excuting write method\")\n",
    "        try:\n",
    "            with open(f\"{self.file}.txt\",\"w+\") as f:\n",
    "                data =f.write(data)\n",
    "                \n",
    "        except Exception as e:\n",
    "            logging.error(\"Something is wrong\")\n",
    "            \n",
    "obj=file(\"abcdd\")"
   ]
  },
  {
   "cell_type": "code",
   "execution_count": 46,
   "id": "cf2b6e6c",
   "metadata": {},
   "outputs": [],
   "source": [
    "class file_operation:\n",
    "    def __init__(self,filepath):\n",
    "        self.filepath = filepath\n",
    "    def read(self):\n",
    "        try:\n",
    "            f=open(self.filepath,\"r+\")\n",
    "            print(f.read())\n",
    "        except Exception as e:\n",
    "            print(e)\n",
    "        f.write(\"writings\")\n",
    "        f.close()\n",
    "        \n",
    "class child(file_operation):\n",
    "    pass"
   ]
  },
  {
   "cell_type": "code",
   "execution_count": 47,
   "id": "aa84bd19",
   "metadata": {},
   "outputs": [],
   "source": [
    "ch=child(\"abc.txt\")"
   ]
  },
  {
   "cell_type": "code",
   "execution_count": 48,
   "id": "f57e9f75",
   "metadata": {},
   "outputs": [
    {
     "data": {
      "text/plain": [
       "'abc.txt'"
      ]
     },
     "execution_count": 48,
     "metadata": {},
     "output_type": "execute_result"
    }
   ],
   "source": [
    "ch.filepath"
   ]
  },
  {
   "cell_type": "code",
   "execution_count": 50,
   "id": "0c586e7b",
   "metadata": {},
   "outputs": [
    {
     "data": {
      "text/plain": [
       "<bound method file_operation.read of <__main__.child object at 0x0000026CC481F790>>"
      ]
     },
     "execution_count": 50,
     "metadata": {},
     "output_type": "execute_result"
    }
   ],
   "source": [
    "ch.read"
   ]
  },
  {
   "cell_type": "code",
   "execution_count": 53,
   "id": "73e35c16",
   "metadata": {},
   "outputs": [],
   "source": [
    "class filetask:\n",
    "    def __init__ (self,filename,filetype):\n",
    "        self.filename=filename\n",
    "        self.filetype=filetype\n",
    "        \n",
    "    def file_write(self):\n",
    "        f=open(self.filename,\"r\")\n",
    "        f.write(\"This is my class\")\n",
    "        f.close()\n",
    "        \n",
    "    def file_read(self):\n",
    "        f=open(self.filename,\"r\")\n",
    "        print(f.read())\n",
    "        f.close()\n",
    "        \n",
    "class child(filetask):\n",
    "    pass\n",
    "\n",
    "test1=filetask(\"testingclass\",\".txt\")\n",
    "test2=child(\"testingchild\",\".txt\")"
   ]
  },
  {
   "cell_type": "code",
   "execution_count": 56,
   "id": "a59dc80b",
   "metadata": {},
   "outputs": [
    {
     "data": {
      "text/plain": [
       "<bound method filetask.file_read of <__main__.filetask object at 0x0000026CC487F6A0>>"
      ]
     },
     "execution_count": 56,
     "metadata": {},
     "output_type": "execute_result"
    }
   ],
   "source": [
    "\n",
    "test1.file_read"
   ]
  },
  {
   "cell_type": "code",
   "execution_count": 59,
   "id": "0d52e7b9",
   "metadata": {},
   "outputs": [
    {
     "data": {
      "text/plain": [
       "<bound method filetask.file_read of <__main__.child object at 0x0000026CC487F250>>"
      ]
     },
     "execution_count": 59,
     "metadata": {},
     "output_type": "execute_result"
    }
   ],
   "source": [
    "test2.file_read"
   ]
  },
  {
   "cell_type": "code",
   "execution_count": 60,
   "id": "5eaa124d",
   "metadata": {},
   "outputs": [
    {
     "data": {
      "text/plain": [
       "'testingchild'"
      ]
     },
     "execution_count": 60,
     "metadata": {},
     "output_type": "execute_result"
    }
   ],
   "source": [
    "test2.filename"
   ]
  },
  {
   "cell_type": "markdown",
   "id": "3a03ea17",
   "metadata": {},
   "source": [
    "###  Public Private and Protected (know as incuplation)"
   ]
  },
  {
   "cell_type": "code",
   "execution_count": 62,
   "id": "ea6a5fab",
   "metadata": {},
   "outputs": [],
   "source": [
    "#  Public Private and Protected"
   ]
  },
  {
   "cell_type": "code",
   "execution_count": 63,
   "id": "77d9455e",
   "metadata": {},
   "outputs": [],
   "source": [
    "# __ private (use double underscore)\n",
    "# _  protected (use single underscore for protected)"
   ]
  },
  {
   "cell_type": "code",
   "execution_count": 69,
   "id": "9bd1762d",
   "metadata": {},
   "outputs": [],
   "source": [
    "class test:\n",
    "    def __init__(self):\n",
    "        self.a=4\n",
    "        \n",
    "class test1(test):\n",
    "    def __init__(self):\n",
    "        self.a=7\n",
    "        \n",
    "u=test()\n",
    "v=test1()"
   ]
  },
  {
   "cell_type": "code",
   "execution_count": 70,
   "id": "059d8eba",
   "metadata": {},
   "outputs": [
    {
     "data": {
      "text/plain": [
       "4"
      ]
     },
     "execution_count": 70,
     "metadata": {},
     "output_type": "execute_result"
    }
   ],
   "source": [
    "u.a"
   ]
  },
  {
   "cell_type": "code",
   "execution_count": 71,
   "id": "bb95051c",
   "metadata": {},
   "outputs": [
    {
     "data": {
      "text/plain": [
       "7"
      ]
     },
     "execution_count": 71,
     "metadata": {},
     "output_type": "execute_result"
    }
   ],
   "source": [
    "v.a"
   ]
  },
  {
   "cell_type": "code",
   "execution_count": 78,
   "id": "c2e938de",
   "metadata": {},
   "outputs": [],
   "source": [
    "class test:\n",
    "    def __init__(self):\n",
    "        self._a=4\n",
    "        \n",
    "class test1(test):\n",
    "    def __init__(self):\n",
    "        self._a=7\n",
    "        \n",
    "u=test()"
   ]
  },
  {
   "cell_type": "code",
   "execution_count": 79,
   "id": "0e179545",
   "metadata": {},
   "outputs": [
    {
     "ename": "AttributeError",
     "evalue": "'test' object has no attribute 'a'",
     "output_type": "error",
     "traceback": [
      "\u001b[1;31m---------------------------------------------------------------------------\u001b[0m",
      "\u001b[1;31mAttributeError\u001b[0m                            Traceback (most recent call last)",
      "Input \u001b[1;32mIn [79]\u001b[0m, in \u001b[0;36m<cell line: 1>\u001b[1;34m()\u001b[0m\n\u001b[1;32m----> 1\u001b[0m \u001b[43mu\u001b[49m\u001b[38;5;241;43m.\u001b[39;49m\u001b[43ma\u001b[49m\n",
      "\u001b[1;31mAttributeError\u001b[0m: 'test' object has no attribute 'a'"
     ]
    }
   ],
   "source": [
    "u.a"
   ]
  },
  {
   "cell_type": "code",
   "execution_count": 80,
   "id": "3667c84b",
   "metadata": {},
   "outputs": [
    {
     "data": {
      "text/plain": [
       "4"
      ]
     },
     "execution_count": 80,
     "metadata": {},
     "output_type": "execute_result"
    }
   ],
   "source": [
    "u._a"
   ]
  },
  {
   "cell_type": "code",
   "execution_count": 81,
   "id": "906b3523",
   "metadata": {},
   "outputs": [],
   "source": [
    "v=test1()"
   ]
  },
  {
   "cell_type": "code",
   "execution_count": 83,
   "id": "92770ead",
   "metadata": {},
   "outputs": [
    {
     "data": {
      "text/plain": [
       "7"
      ]
     },
     "execution_count": 83,
     "metadata": {},
     "output_type": "execute_result"
    }
   ],
   "source": [
    "v._a"
   ]
  },
  {
   "cell_type": "code",
   "execution_count": 84,
   "id": "4f08c3d7",
   "metadata": {},
   "outputs": [],
   "source": [
    "class test:\n",
    "    def __init__(self):\n",
    "        self.__a=4\n",
    "        \n",
    "class test1(test):\n",
    "    def __init__(self):\n",
    "        self.__a=7\n",
    "        \n",
    "u=test()\n",
    "v=test1()"
   ]
  },
  {
   "cell_type": "code",
   "execution_count": 86,
   "id": "9dac6738",
   "metadata": {},
   "outputs": [
    {
     "ename": "AttributeError",
     "evalue": "'test' object has no attribute '__a'",
     "output_type": "error",
     "traceback": [
      "\u001b[1;31m---------------------------------------------------------------------------\u001b[0m",
      "\u001b[1;31mAttributeError\u001b[0m                            Traceback (most recent call last)",
      "Input \u001b[1;32mIn [86]\u001b[0m, in \u001b[0;36m<cell line: 1>\u001b[1;34m()\u001b[0m\n\u001b[1;32m----> 1\u001b[0m \u001b[43mu\u001b[49m\u001b[38;5;241;43m.\u001b[39;49m\u001b[43m__a\u001b[49m\n",
      "\u001b[1;31mAttributeError\u001b[0m: 'test' object has no attribute '__a'"
     ]
    }
   ],
   "source": [
    "u.__a"
   ]
  },
  {
   "cell_type": "code",
   "execution_count": 87,
   "id": "9ec6f0e4",
   "metadata": {},
   "outputs": [
    {
     "ename": "AttributeError",
     "evalue": "'test1' object has no attribute '__a'",
     "output_type": "error",
     "traceback": [
      "\u001b[1;31m---------------------------------------------------------------------------\u001b[0m",
      "\u001b[1;31mAttributeError\u001b[0m                            Traceback (most recent call last)",
      "Input \u001b[1;32mIn [87]\u001b[0m, in \u001b[0;36m<cell line: 1>\u001b[1;34m()\u001b[0m\n\u001b[1;32m----> 1\u001b[0m \u001b[43mv\u001b[49m\u001b[38;5;241;43m.\u001b[39;49m\u001b[43m__a\u001b[49m\n",
      "\u001b[1;31mAttributeError\u001b[0m: 'test1' object has no attribute '__a'"
     ]
    }
   ],
   "source": [
    "v.__a"
   ]
  },
  {
   "cell_type": "code",
   "execution_count": 88,
   "id": "cf0e6e74",
   "metadata": {},
   "outputs": [],
   "source": [
    "# get output of private variable\n",
    "\n",
    "class test:\n",
    "    def __init__(self,a,b,c):\n",
    "        self._a=a\n",
    "        self.__b=b\n",
    "        self.c=c\n",
    "        \n",
    "v=test(1,2,3)"
   ]
  },
  {
   "cell_type": "code",
   "execution_count": 89,
   "id": "84aa42b0",
   "metadata": {},
   "outputs": [
    {
     "data": {
      "text/plain": [
       "1"
      ]
     },
     "execution_count": 89,
     "metadata": {},
     "output_type": "execute_result"
    }
   ],
   "source": [
    "v._a"
   ]
  },
  {
   "cell_type": "code",
   "execution_count": 90,
   "id": "3672d239",
   "metadata": {},
   "outputs": [
    {
     "ename": "AttributeError",
     "evalue": "'test' object has no attribute '__b'",
     "output_type": "error",
     "traceback": [
      "\u001b[1;31m---------------------------------------------------------------------------\u001b[0m",
      "\u001b[1;31mAttributeError\u001b[0m                            Traceback (most recent call last)",
      "Input \u001b[1;32mIn [90]\u001b[0m, in \u001b[0;36m<cell line: 1>\u001b[1;34m()\u001b[0m\n\u001b[1;32m----> 1\u001b[0m \u001b[43mv\u001b[49m\u001b[38;5;241;43m.\u001b[39;49m\u001b[43m__b\u001b[49m\n",
      "\u001b[1;31mAttributeError\u001b[0m: 'test' object has no attribute '__b'"
     ]
    }
   ],
   "source": [
    "v.__b"
   ]
  },
  {
   "cell_type": "code",
   "execution_count": 91,
   "id": "1ed9ee5d",
   "metadata": {},
   "outputs": [
    {
     "data": {
      "text/plain": [
       "2"
      ]
     },
     "execution_count": 91,
     "metadata": {},
     "output_type": "execute_result"
    }
   ],
   "source": [
    "v._test__b"
   ]
  },
  {
   "cell_type": "code",
   "execution_count": 92,
   "id": "1a8243e2",
   "metadata": {},
   "outputs": [],
   "source": [
    "class test:\n",
    "    def __init__(self,a,b,c):\n",
    "        self._a=a\n",
    "        self.__b=b\n",
    "        self.c=c\n",
    "        \n",
    "class test1(test):\n",
    "    pass\n",
    "\n",
    "v=test(1,2,3)"
   ]
  },
  {
   "cell_type": "code",
   "execution_count": 93,
   "id": "fcd87df2",
   "metadata": {},
   "outputs": [],
   "source": [
    "u=test1(6,5,4)"
   ]
  },
  {
   "cell_type": "code",
   "execution_count": 94,
   "id": "195d55c9",
   "metadata": {},
   "outputs": [
    {
     "data": {
      "text/plain": [
       "4"
      ]
     },
     "execution_count": 94,
     "metadata": {},
     "output_type": "execute_result"
    }
   ],
   "source": [
    "u.c"
   ]
  },
  {
   "cell_type": "code",
   "execution_count": 95,
   "id": "b5bc94c9",
   "metadata": {},
   "outputs": [
    {
     "data": {
      "text/plain": [
       "6"
      ]
     },
     "execution_count": 95,
     "metadata": {},
     "output_type": "execute_result"
    }
   ],
   "source": [
    "u._a"
   ]
  },
  {
   "cell_type": "code",
   "execution_count": 96,
   "id": "6bf79bd2",
   "metadata": {},
   "outputs": [
    {
     "ename": "AttributeError",
     "evalue": "'test1' object has no attribute '_test1__b'",
     "output_type": "error",
     "traceback": [
      "\u001b[1;31m---------------------------------------------------------------------------\u001b[0m",
      "\u001b[1;31mAttributeError\u001b[0m                            Traceback (most recent call last)",
      "Input \u001b[1;32mIn [96]\u001b[0m, in \u001b[0;36m<cell line: 1>\u001b[1;34m()\u001b[0m\n\u001b[1;32m----> 1\u001b[0m \u001b[43mu\u001b[49m\u001b[38;5;241;43m.\u001b[39;49m\u001b[43m_test1__b\u001b[49m\n",
      "\u001b[1;31mAttributeError\u001b[0m: 'test1' object has no attribute '_test1__b'"
     ]
    }
   ],
   "source": [
    "u._test1__b"
   ]
  },
  {
   "cell_type": "code",
   "execution_count": 97,
   "id": "2b5deebe",
   "metadata": {},
   "outputs": [
    {
     "data": {
      "text/plain": [
       "5"
      ]
     },
     "execution_count": 97,
     "metadata": {},
     "output_type": "execute_result"
    }
   ],
   "source": [
    "u._test__b"
   ]
  },
  {
   "cell_type": "code",
   "execution_count": 98,
   "id": "5a8514a1",
   "metadata": {},
   "outputs": [
    {
     "ename": "AttributeError",
     "evalue": "'test1' object has no attribute 'v'",
     "output_type": "error",
     "traceback": [
      "\u001b[1;31m---------------------------------------------------------------------------\u001b[0m",
      "\u001b[1;31mAttributeError\u001b[0m                            Traceback (most recent call last)",
      "Input \u001b[1;32mIn [98]\u001b[0m, in \u001b[0;36m<cell line: 1>\u001b[1;34m()\u001b[0m\n\u001b[1;32m----> 1\u001b[0m \u001b[43mu\u001b[49m\u001b[38;5;241;43m.\u001b[39;49m\u001b[43mv\u001b[49m\n",
      "\u001b[1;31mAttributeError\u001b[0m: 'test1' object has no attribute 'v'"
     ]
    }
   ],
   "source": [
    "u.v"
   ]
  },
  {
   "cell_type": "code",
   "execution_count": 99,
   "id": "7e392e7c",
   "metadata": {},
   "outputs": [],
   "source": [
    "class bonusclaculator:\n",
    "    def __init__(self, empid,empidrating):\n",
    "        self.empid=empid\n",
    "        self.empidrating=empidrating\n",
    "        self.__bonusforratingA=\"70%\"\n",
    "        self.__bonusforratingB=\"60%\"\n",
    "        self.__bonusforratingC=\"50%\"\n",
    "        \n",
    "    def bonuscalulator(self):\n",
    "        if self.empidrating == \"A\":\n",
    "            bonus=self.__bonusforratingA\n",
    "            return bonus\n",
    "        elif self.empidrating == \"B\":\n",
    "            bonus=self.__bonusforratingB\n",
    "            return bonus\n",
    "        else:\n",
    "            bonus=self.__bonusforratingC\n",
    "            return bonus"
   ]
  },
  {
   "cell_type": "code",
   "execution_count": 100,
   "id": "42f737c1",
   "metadata": {},
   "outputs": [],
   "source": [
    "emp1=bonusclaculator(101,\"A\")\n",
    "emp2=bonusclaculator(102,\"B\")\n",
    "emp3=bonusclaculator(103,\"C\")"
   ]
  },
  {
   "cell_type": "code",
   "execution_count": 105,
   "id": "bfbde978",
   "metadata": {},
   "outputs": [
    {
     "data": {
      "text/plain": [
       "'70%'"
      ]
     },
     "execution_count": 105,
     "metadata": {},
     "output_type": "execute_result"
    }
   ],
   "source": [
    "emp1.bonuscalulator()"
   ]
  },
  {
   "cell_type": "code",
   "execution_count": 106,
   "id": "64e9a457",
   "metadata": {},
   "outputs": [
    {
     "data": {
      "text/plain": [
       "'A'"
      ]
     },
     "execution_count": 106,
     "metadata": {},
     "output_type": "execute_result"
    }
   ],
   "source": [
    "emp1.empidrating"
   ]
  },
  {
   "cell_type": "code",
   "execution_count": 107,
   "id": "f3ea3e36",
   "metadata": {},
   "outputs": [
    {
     "data": {
      "text/plain": [
       "102"
      ]
     },
     "execution_count": 107,
     "metadata": {},
     "output_type": "execute_result"
    }
   ],
   "source": [
    "emp2.empid"
   ]
  },
  {
   "cell_type": "code",
   "execution_count": 109,
   "id": "226d908c",
   "metadata": {},
   "outputs": [
    {
     "data": {
      "text/plain": [
       "'60%'"
      ]
     },
     "execution_count": 109,
     "metadata": {},
     "output_type": "execute_result"
    }
   ],
   "source": [
    "\n",
    "emp2.bonuscalulator()"
   ]
  },
  {
   "cell_type": "code",
   "execution_count": 5,
   "id": "09cbdd60",
   "metadata": {},
   "outputs": [],
   "source": [
    " # we can't modify the private  until we give the \" _classname\".\n",
    "#  and in procted we can simply give it as it is"
   ]
  },
  {
   "cell_type": "code",
   "execution_count": null,
   "id": "809f4b1b",
   "metadata": {},
   "outputs": [],
   "source": []
  }
 ],
 "metadata": {
  "kernelspec": {
   "display_name": "Python 3 (ipykernel)",
   "language": "python",
   "name": "python3"
  },
  "language_info": {
   "codemirror_mode": {
    "name": "ipython",
    "version": 3
   },
   "file_extension": ".py",
   "mimetype": "text/x-python",
   "name": "python",
   "nbconvert_exporter": "python",
   "pygments_lexer": "ipython3",
   "version": "3.9.12"
  }
 },
 "nbformat": 4,
 "nbformat_minor": 5
}
