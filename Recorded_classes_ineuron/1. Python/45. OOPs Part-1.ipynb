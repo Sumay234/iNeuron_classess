{
 "cells": [
  {
   "cell_type": "markdown",
   "id": "cba11564",
   "metadata": {},
   "source": [
    "# OOPs"
   ]
  },
  {
   "cell_type": "code",
   "execution_count": 41,
   "id": "7655e8ae",
   "metadata": {},
   "outputs": [],
   "source": [
    "class car:\n",
    "    def __init__(self , body_type , engine , fuel_type):\n",
    "        self.body_type = body_type\n",
    "        self.engine = engine\n",
    "        self.fuel_type = fuel_type\n",
    "        \n",
    "    def test(self):\n",
    "        print(\"This is my first method class\")\n",
    "        \n",
    "        \n",
    "# __init__ : it is a constructor.\n",
    "#   self   : it is a pointer."
   ]
  },
  {
   "cell_type": "code",
   "execution_count": 42,
   "id": "1427babb",
   "metadata": {},
   "outputs": [],
   "source": [
    "fortune=car(\"suv\",\"bs4\",\"petrol\")"
   ]
  },
  {
   "cell_type": "code",
   "execution_count": 43,
   "id": "c073451c",
   "metadata": {},
   "outputs": [],
   "source": [
    "nexon=car(\"mini_suv\",\"bs6\",\"disel\")"
   ]
  },
  {
   "cell_type": "code",
   "execution_count": 51,
   "id": "463d7a0c",
   "metadata": {},
   "outputs": [
    {
     "data": {
      "text/plain": [
       "<__main__.car at 0x1fb83c65f70>"
      ]
     },
     "execution_count": 51,
     "metadata": {},
     "output_type": "execute_result"
    }
   ],
   "source": [
    "fortune"
   ]
  },
  {
   "cell_type": "code",
   "execution_count": 44,
   "id": "64f8c82b",
   "metadata": {},
   "outputs": [
    {
     "data": {
      "text/plain": [
       "'suv'"
      ]
     },
     "execution_count": 44,
     "metadata": {},
     "output_type": "execute_result"
    }
   ],
   "source": [
    "fortune.body_type"
   ]
  },
  {
   "cell_type": "code",
   "execution_count": 45,
   "id": "2f31215c",
   "metadata": {},
   "outputs": [
    {
     "data": {
      "text/plain": [
       "<__main__.car at 0x1fb83c65460>"
      ]
     },
     "execution_count": 45,
     "metadata": {},
     "output_type": "execute_result"
    }
   ],
   "source": [
    "nexon"
   ]
  },
  {
   "cell_type": "code",
   "execution_count": 6,
   "id": "08e26be6",
   "metadata": {},
   "outputs": [
    {
     "data": {
      "text/plain": [
       "'bs6'"
      ]
     },
     "execution_count": 6,
     "metadata": {},
     "output_type": "execute_result"
    }
   ],
   "source": [
    "nexon.engine"
   ]
  },
  {
   "cell_type": "code",
   "execution_count": 7,
   "id": "e27b6e6e",
   "metadata": {},
   "outputs": [
    {
     "name": "stdout",
     "output_type": "stream",
     "text": [
      "This is my first method class\n"
     ]
    }
   ],
   "source": [
    "fortune.test()"
   ]
  },
  {
   "cell_type": "code",
   "execution_count": 8,
   "id": "31e34ee6",
   "metadata": {},
   "outputs": [
    {
     "ename": "NameError",
     "evalue": "name 'test' is not defined",
     "output_type": "error",
     "traceback": [
      "\u001b[1;31m---------------------------------------------------------------------------\u001b[0m",
      "\u001b[1;31mNameError\u001b[0m                                 Traceback (most recent call last)",
      "Input \u001b[1;32mIn [8]\u001b[0m, in \u001b[0;36m<cell line: 1>\u001b[1;34m()\u001b[0m\n\u001b[1;32m----> 1\u001b[0m \u001b[43mtest\u001b[49m()\n",
      "\u001b[1;31mNameError\u001b[0m: name 'test' is not defined"
     ]
    }
   ],
   "source": [
    "test()"
   ]
  },
  {
   "cell_type": "code",
   "execution_count": null,
   "id": "92bc083f",
   "metadata": {},
   "outputs": [],
   "source": [
    "#  __init__  : it is just a method which will help you out to pass a data    \n",
    "#            to a class if it required.(\"it is a constructer\")\n",
    "\n",
    "# self is a pointer."
   ]
  },
  {
   "cell_type": "code",
   "execution_count": 9,
   "id": "8fbb5cbb",
   "metadata": {},
   "outputs": [],
   "source": [
    "class car:\n",
    "    \n",
    "    \n",
    "    def test(self):\n",
    "        print(\"This is my first method class\")"
   ]
  },
  {
   "cell_type": "code",
   "execution_count": 10,
   "id": "d1229c0f",
   "metadata": {},
   "outputs": [],
   "source": [
    "x=car()"
   ]
  },
  {
   "cell_type": "code",
   "execution_count": 13,
   "id": "76d5315a",
   "metadata": {},
   "outputs": [
    {
     "name": "stdout",
     "output_type": "stream",
     "text": [
      "This is my first method class\n"
     ]
    }
   ],
   "source": [
    "x.test()"
   ]
  },
  {
   "cell_type": "code",
   "execution_count": 16,
   "id": "0fc3b19b",
   "metadata": {},
   "outputs": [],
   "source": [
    "class list_parser:\n",
    "    \n",
    "    def parcer(self,a):\n",
    "        if type(a) == list:\n",
    "            for i in a:\n",
    "                print(i)"
   ]
  },
  {
   "cell_type": "code",
   "execution_count": 17,
   "id": "be523c30",
   "metadata": {},
   "outputs": [
    {
     "ename": "NameError",
     "evalue": "name 'parcer' is not defined",
     "output_type": "error",
     "traceback": [
      "\u001b[1;31m---------------------------------------------------------------------------\u001b[0m",
      "\u001b[1;31mNameError\u001b[0m                                 Traceback (most recent call last)",
      "Input \u001b[1;32mIn [17]\u001b[0m, in \u001b[0;36m<cell line: 1>\u001b[1;34m()\u001b[0m\n\u001b[1;32m----> 1\u001b[0m \u001b[43mparcer\u001b[49m([\u001b[38;5;241m1\u001b[39m,\u001b[38;5;241m2\u001b[39m,\u001b[38;5;241m3\u001b[39m,\u001b[38;5;241m4\u001b[39m])\n",
      "\u001b[1;31mNameError\u001b[0m: name 'parcer' is not defined"
     ]
    }
   ],
   "source": [
    "parcer([1,2,3,4])"
   ]
  },
  {
   "cell_type": "code",
   "execution_count": 19,
   "id": "1c5fec95",
   "metadata": {},
   "outputs": [
    {
     "name": "stdout",
     "output_type": "stream",
     "text": [
      "1\n",
      "2\n",
      "3\n",
      "4\n"
     ]
    }
   ],
   "source": [
    "list_parser().parcer([1,2,3,4])"
   ]
  },
  {
   "cell_type": "code",
   "execution_count": 21,
   "id": "522abf90",
   "metadata": {},
   "outputs": [
    {
     "name": "stdout",
     "output_type": "stream",
     "text": [
      "1\n",
      "2\n",
      "3\n"
     ]
    }
   ],
   "source": [
    "c=list_parser()\n",
    "c.parcer([1,2,3])"
   ]
  },
  {
   "cell_type": "code",
   "execution_count": 22,
   "id": "c3b50a94",
   "metadata": {},
   "outputs": [
    {
     "data": {
      "text/plain": [
       "__main__.list_parser"
      ]
     },
     "execution_count": 22,
     "metadata": {},
     "output_type": "execute_result"
    }
   ],
   "source": [
    "type(c)"
   ]
  },
  {
   "cell_type": "code",
   "execution_count": 31,
   "id": "c51fb2f5",
   "metadata": {},
   "outputs": [],
   "source": [
    "class list_parser:\n",
    "    \n",
    "    def parcer(self,a):\n",
    "        if type(a) == list:\n",
    "            for i in a:\n",
    "                print(i)\n",
    "    \n",
    "    def reverse_list(self,z):\n",
    "        if type(z) == list:\n",
    "            return z[::-1]"
   ]
  },
  {
   "cell_type": "code",
   "execution_count": 32,
   "id": "2fcba8c3",
   "metadata": {},
   "outputs": [],
   "source": [
    "c=list_parser()"
   ]
  },
  {
   "cell_type": "code",
   "execution_count": 33,
   "id": "99e07797",
   "metadata": {},
   "outputs": [
    {
     "data": {
      "text/plain": [
       "[9, 8, 7, 6, 5, 4, 3, 2, 1]"
      ]
     },
     "execution_count": 33,
     "metadata": {},
     "output_type": "execute_result"
    }
   ],
   "source": [
    "c.reverse_list([1,2,3,4,5,6,7,8,9])"
   ]
  },
  {
   "cell_type": "code",
   "execution_count": 52,
   "id": "09d6ea01",
   "metadata": {},
   "outputs": [],
   "source": [
    "class list_parser:\n",
    "    def __init__(self,l):\n",
    "        self.l=l\n",
    "        \n",
    "    def parcer(self):\n",
    "        if type(self.l) == list:\n",
    "            for i in self.l:\n",
    "                print(i)\n",
    "    \n",
    "    def reverse_list(self): \n",
    "        if type(self.l) == list:\n",
    "            return self.l[::-1]"
   ]
  },
  {
   "cell_type": "code",
   "execution_count": 53,
   "id": "8a482f72",
   "metadata": {},
   "outputs": [],
   "source": [
    "c=list_parser([1,2,3,4,5,6,7])"
   ]
  },
  {
   "cell_type": "code",
   "execution_count": 54,
   "id": "2d6ec0da",
   "metadata": {},
   "outputs": [
    {
     "name": "stdout",
     "output_type": "stream",
     "text": [
      "1\n",
      "2\n",
      "3\n",
      "4\n",
      "5\n",
      "6\n",
      "7\n"
     ]
    }
   ],
   "source": [
    "c.parcer()"
   ]
  },
  {
   "cell_type": "code",
   "execution_count": 55,
   "id": "238808a5",
   "metadata": {},
   "outputs": [
    {
     "data": {
      "text/plain": [
       "[7, 6, 5, 4, 3, 2, 1]"
      ]
     },
     "execution_count": 55,
     "metadata": {},
     "output_type": "execute_result"
    }
   ],
   "source": [
    "c.reverse_list()"
   ]
  },
  {
   "cell_type": "code",
   "execution_count": 61,
   "id": "ea9ee95b",
   "metadata": {},
   "outputs": [
    {
     "name": "stdout",
     "output_type": "stream",
     "text": [
      "1\n",
      "2\n",
      "3\n",
      "4\n",
      "5\n",
      "6\n"
     ]
    }
   ],
   "source": [
    "q=list_parser([1,2,3,4,5,6])\n",
    "q.parcer()"
   ]
  },
  {
   "cell_type": "code",
   "execution_count": 63,
   "id": "57c7a85f",
   "metadata": {},
   "outputs": [
    {
     "data": {
      "text/plain": [
       "[6, 5, 4, 3, 2, 1]"
      ]
     },
     "execution_count": 63,
     "metadata": {},
     "output_type": "execute_result"
    }
   ],
   "source": [
    "q.reverse_list()"
   ]
  },
  {
   "cell_type": "code",
   "execution_count": null,
   "id": "ce4b205c",
   "metadata": {},
   "outputs": [],
   "source": [
    "class list_parser:\n",
    "    def __init__(self,l):\n",
    "        self.l=l\n",
    "        \n",
    "    def parcer(self):\n",
    "        if type(self.l) == list:\n",
    "            for i in self.l:\n",
    "                print(i)\n",
    "    \n",
    "    def reverse_list(self): \n",
    "        if type(self.l) == list:\n",
    "            return self.l[::-1]"
   ]
  },
  {
   "cell_type": "code",
   "execution_count": 150,
   "id": "38682b47",
   "metadata": {},
   "outputs": [],
   "source": [
    "class dictonary:\n",
    "    \n",
    "    def __init__(self , variable):\n",
    "        self.variable=variable\n",
    "        \n",
    "    def keys(self):\n",
    "        if type(self.variable) == dict:\n",
    "            for i in self.variable:\n",
    "                print(i.keys())"
   ]
  },
  {
   "cell_type": "code",
   "execution_count": 151,
   "id": "1e5a832a",
   "metadata": {},
   "outputs": [],
   "source": [
    "a=dictonary"
   ]
  },
  {
   "cell_type": "code",
   "execution_count": 152,
   "id": "b8cfa885",
   "metadata": {},
   "outputs": [
    {
     "ename": "AttributeError",
     "evalue": "'dict' object has no attribute 'variable'",
     "output_type": "error",
     "traceback": [
      "\u001b[1;31m---------------------------------------------------------------------------\u001b[0m",
      "\u001b[1;31mAttributeError\u001b[0m                            Traceback (most recent call last)",
      "Input \u001b[1;32mIn [152]\u001b[0m, in \u001b[0;36m<cell line: 1>\u001b[1;34m()\u001b[0m\n\u001b[1;32m----> 1\u001b[0m \u001b[43mdictonary\u001b[49m\u001b[38;5;241;43m.\u001b[39;49m\u001b[43mkeys\u001b[49m\u001b[43m(\u001b[49m\u001b[43m{\u001b[49m\u001b[38;5;124;43m\"\u001b[39;49m\u001b[38;5;124;43ma\u001b[39;49m\u001b[38;5;124;43m\"\u001b[39;49m\u001b[43m:\u001b[49m\u001b[38;5;241;43m1\u001b[39;49m\u001b[43m,\u001b[49m\u001b[38;5;124;43m\"\u001b[39;49m\u001b[38;5;124;43mb\u001b[39;49m\u001b[38;5;124;43m\"\u001b[39;49m\u001b[43m:\u001b[49m\u001b[38;5;241;43m2\u001b[39;49m\u001b[43m,\u001b[49m\u001b[38;5;124;43m\"\u001b[39;49m\u001b[38;5;124;43mc\u001b[39;49m\u001b[38;5;124;43m\"\u001b[39;49m\u001b[43m:\u001b[49m\u001b[38;5;241;43m3\u001b[39;49m\u001b[43m}\u001b[49m\u001b[43m)\u001b[49m\n",
      "Input \u001b[1;32mIn [150]\u001b[0m, in \u001b[0;36mdictonary.keys\u001b[1;34m(self)\u001b[0m\n\u001b[0;32m      6\u001b[0m \u001b[38;5;28;01mdef\u001b[39;00m \u001b[38;5;21mkeys\u001b[39m(\u001b[38;5;28mself\u001b[39m):\n\u001b[1;32m----> 7\u001b[0m     \u001b[38;5;28;01mif\u001b[39;00m \u001b[38;5;28mtype\u001b[39m(\u001b[38;5;28;43mself\u001b[39;49m\u001b[38;5;241;43m.\u001b[39;49m\u001b[43mvariable\u001b[49m) \u001b[38;5;241m==\u001b[39m \u001b[38;5;28mdict\u001b[39m:\n\u001b[0;32m      8\u001b[0m         \u001b[38;5;28;01mfor\u001b[39;00m i \u001b[38;5;129;01min\u001b[39;00m \u001b[38;5;28mself\u001b[39m\u001b[38;5;241m.\u001b[39mvariable:\n\u001b[0;32m      9\u001b[0m             \u001b[38;5;28mprint\u001b[39m(i\u001b[38;5;241m.\u001b[39mkeys())\n",
      "\u001b[1;31mAttributeError\u001b[0m: 'dict' object has no attribute 'variable'"
     ]
    }
   ],
   "source": [
    "dictonary.keys({\"a\":1,\"b\":2,\"c\":3})"
   ]
  },
  {
   "cell_type": "code",
   "execution_count": 153,
   "id": "822ce362",
   "metadata": {},
   "outputs": [
    {
     "data": {
      "text/plain": [
       "{'a': 1, 'b': 2, 'c': 3}"
      ]
     },
     "execution_count": 153,
     "metadata": {},
     "output_type": "execute_result"
    }
   ],
   "source": [
    "{\"a\":1,\"b\":2,\"c\":3}"
   ]
  },
  {
   "cell_type": "code",
   "execution_count": 10,
   "id": "1a74b222",
   "metadata": {},
   "outputs": [],
   "source": [
    "class dict_parsing:\n",
    "    \n",
    "    def __init__(self,a):\n",
    "        self.a = a\n",
    "        \n",
    "    def getkeys(self):\n",
    "        if self.a():\n",
    "            return list(self.a.keys())"
   ]
  },
  {
   "cell_type": "code",
   "execution_count": null,
   "id": "834f4ef9",
   "metadata": {},
   "outputs": [],
   "source": []
  },
  {
   "cell_type": "code",
   "execution_count": 11,
   "id": "d913bdb3",
   "metadata": {},
   "outputs": [],
   "source": [
    "d=dict_parsing({\"a\":1,\"b\":2,\"c\":3,\"d\":4})"
   ]
  },
  {
   "cell_type": "code",
   "execution_count": 12,
   "id": "a0a6d090",
   "metadata": {},
   "outputs": [
    {
     "ename": "TypeError",
     "evalue": "'dict' object is not callable",
     "output_type": "error",
     "traceback": [
      "\u001b[1;31m---------------------------------------------------------------------------\u001b[0m",
      "\u001b[1;31mTypeError\u001b[0m                                 Traceback (most recent call last)",
      "Input \u001b[1;32mIn [12]\u001b[0m, in \u001b[0;36m<cell line: 1>\u001b[1;34m()\u001b[0m\n\u001b[1;32m----> 1\u001b[0m \u001b[43md\u001b[49m\u001b[38;5;241;43m.\u001b[39;49m\u001b[43mgetkeys\u001b[49m\u001b[43m(\u001b[49m\u001b[43m)\u001b[49m\n",
      "Input \u001b[1;32mIn [10]\u001b[0m, in \u001b[0;36mdict_parsing.getkeys\u001b[1;34m(self)\u001b[0m\n\u001b[0;32m      6\u001b[0m \u001b[38;5;28;01mdef\u001b[39;00m \u001b[38;5;21mgetkeys\u001b[39m(\u001b[38;5;28mself\u001b[39m):\n\u001b[1;32m----> 7\u001b[0m     \u001b[38;5;28;01mif\u001b[39;00m \u001b[38;5;28;43mself\u001b[39;49m\u001b[38;5;241;43m.\u001b[39;49m\u001b[43ma\u001b[49m\u001b[43m(\u001b[49m\u001b[43m)\u001b[49m:\n\u001b[0;32m      8\u001b[0m         \u001b[38;5;28;01mreturn\u001b[39;00m \u001b[38;5;28mlist\u001b[39m(\u001b[38;5;28mself\u001b[39m\u001b[38;5;241m.\u001b[39ma\u001b[38;5;241m.\u001b[39mkeys())\n",
      "\u001b[1;31mTypeError\u001b[0m: 'dict' object is not callable"
     ]
    }
   ],
   "source": [
    "d.getkeys()"
   ]
  },
  {
   "cell_type": "code",
   "execution_count": 17,
   "id": "546483c1",
   "metadata": {},
   "outputs": [],
   "source": [
    "class dictparser:\n",
    "    \n",
    "    def __init__(self,d):\n",
    "        self.d = d\n",
    "    \n",
    "    def my_keys(self):\n",
    "        if type(self.d) == dict:\n",
    "            return self.d.keys()\n",
    "        \n",
    "    def my_values(self):\n",
    "        if type(self.d) == dict:\n",
    "            return self.d.values()\n",
    "        \n",
    "    def input_key(self):\n",
    "        a=input(\"enter key \")\n",
    "        b=input(\"enter values \")\n",
    "        self.d[a] = b"
   ]
  },
  {
   "cell_type": "code",
   "execution_count": 18,
   "id": "ee7fd7ed",
   "metadata": {},
   "outputs": [],
   "source": [
    "d=dictparser({\"a\":1,\"b\":2,\"c\":3,\"d\":4})"
   ]
  },
  {
   "cell_type": "code",
   "execution_count": 19,
   "id": "b936e1a5",
   "metadata": {},
   "outputs": [
    {
     "data": {
      "text/plain": [
       "dict_keys(['a', 'b', 'c', 'd'])"
      ]
     },
     "execution_count": 19,
     "metadata": {},
     "output_type": "execute_result"
    }
   ],
   "source": [
    "d.my_keys()"
   ]
  },
  {
   "cell_type": "code",
   "execution_count": 20,
   "id": "7f20ce0e",
   "metadata": {},
   "outputs": [
    {
     "data": {
      "text/plain": [
       "dict_values([1, 2, 3, 4])"
      ]
     },
     "execution_count": 20,
     "metadata": {},
     "output_type": "execute_result"
    }
   ],
   "source": [
    "d.my_values()"
   ]
  },
  {
   "cell_type": "code",
   "execution_count": 21,
   "id": "63e9c47f",
   "metadata": {},
   "outputs": [
    {
     "name": "stdout",
     "output_type": "stream",
     "text": [
      "enter key ram\n",
      "enter values 12\n"
     ]
    }
   ],
   "source": [
    "d.input_key()"
   ]
  },
  {
   "cell_type": "code",
   "execution_count": 73,
   "id": "cb488fbb",
   "metadata": {},
   "outputs": [
    {
     "ename": "SyntaxError",
     "evalue": "expression cannot contain assignment, perhaps you meant \"==\"? (521020591.py, line 22)",
     "output_type": "error",
     "traceback": [
      "\u001b[1;36m  Input \u001b[1;32mIn [73]\u001b[1;36m\u001b[0m\n\u001b[1;33m    print(self.dic[key] = value)\u001b[0m\n\u001b[1;37m          ^\u001b[0m\n\u001b[1;31mSyntaxError\u001b[0m\u001b[1;31m:\u001b[0m expression cannot contain assignment, perhaps you meant \"==\"?\n"
     ]
    }
   ],
   "source": [
    "class dect_parser:\n",
    "    \n",
    "    def __init__(self,dic):\n",
    "        if type(dic) != dict:\n",
    "            raise Exception (\"You have to give dictonary \")\n",
    "        else:\n",
    "            self.dic = dic\n",
    "    \n",
    "    def get_key(self):\n",
    "        return self.dic.keys()\n",
    "    \n",
    "    def get_values(self):\n",
    "        return self.dic.values()\n",
    "    \n",
    "    def take_input(self):\n",
    "        a=input(\"Enter key \")\n",
    "        b=input(\"Enter value \")\n",
    "        self.dic[a] = b\n",
    "        \n",
    "    def insert_key_value_pair(self,key,value):\n",
    "        self.dic[key] = value\n",
    "        return (\"value_inserted\")"
   ]
  },
  {
   "cell_type": "code",
   "execution_count": 66,
   "id": "1ce31708",
   "metadata": {},
   "outputs": [
    {
     "data": {
      "text/plain": [
       "<__main__.dect_parser at 0x1fb83cc0730>"
      ]
     },
     "execution_count": 66,
     "metadata": {},
     "output_type": "execute_result"
    }
   ],
   "source": [
    "dect_parser({\"a\":1,\"b\":2,\"c\":3,\"d\":4,\"e\":5})"
   ]
  },
  {
   "cell_type": "code",
   "execution_count": 67,
   "id": "406a026c",
   "metadata": {},
   "outputs": [
    {
     "data": {
      "text/plain": [
       "dict_keys(['a', 'b', 'c', 'd', 'e'])"
      ]
     },
     "execution_count": 67,
     "metadata": {},
     "output_type": "execute_result"
    }
   ],
   "source": [
    "dect_parser({\"a\":1,\"b\":2,\"c\":3,\"d\":4,\"e\":5}).get_key()"
   ]
  },
  {
   "cell_type": "code",
   "execution_count": 68,
   "id": "5a397d65",
   "metadata": {},
   "outputs": [],
   "source": [
    "a=dect_parser({\"a\":1,\"b\":2,\"c\":3,\"d\":4,\"e\":5})"
   ]
  },
  {
   "cell_type": "code",
   "execution_count": 69,
   "id": "506777fa",
   "metadata": {},
   "outputs": [
    {
     "data": {
      "text/plain": [
       "dict_keys(['a', 'b', 'c', 'd', 'e'])"
      ]
     },
     "execution_count": 69,
     "metadata": {},
     "output_type": "execute_result"
    }
   ],
   "source": [
    "a.get_key()"
   ]
  },
  {
   "cell_type": "code",
   "execution_count": 70,
   "id": "1680d419",
   "metadata": {},
   "outputs": [
    {
     "data": {
      "text/plain": [
       "dict_values([1, 2, 3, 4, 5])"
      ]
     },
     "execution_count": 70,
     "metadata": {},
     "output_type": "execute_result"
    }
   ],
   "source": [
    "a.get_values()"
   ]
  },
  {
   "cell_type": "code",
   "execution_count": 58,
   "id": "e7f5a6d2",
   "metadata": {},
   "outputs": [
    {
     "name": "stdout",
     "output_type": "stream",
     "text": [
      "Enter key qwr\n",
      "Enter value 1236\n"
     ]
    }
   ],
   "source": [
    "a.take_input()"
   ]
  },
  {
   "cell_type": "code",
   "execution_count": 71,
   "id": "21d15b4f",
   "metadata": {},
   "outputs": [
    {
     "data": {
      "text/plain": [
       "'value_inserted'"
      ]
     },
     "execution_count": 71,
     "metadata": {},
     "output_type": "execute_result"
    }
   ],
   "source": [
    "a.insert_key_value_pair(\"hlo_bro\",25)"
   ]
  },
  {
   "cell_type": "code",
   "execution_count": 72,
   "id": "01ab940b",
   "metadata": {},
   "outputs": [
    {
     "data": {
      "text/plain": [
       "__main__.dect_parser"
      ]
     },
     "execution_count": 72,
     "metadata": {},
     "output_type": "execute_result"
    }
   ],
   "source": [
    "dect_parser"
   ]
  },
  {
   "cell_type": "code",
   "execution_count": 88,
   "id": "1029f71e",
   "metadata": {},
   "outputs": [],
   "source": [
    "class dect_parser:\n",
    "    \n",
    "    def __init__(self,dic):\n",
    "        if type(dic) != dict:\n",
    "            raise Exception (\"You have to give dictonary \")\n",
    "        else:\n",
    "            self.dic = dic\n",
    "    \n",
    "    def get_key(self):\n",
    "        return self.dic.keys()\n",
    "    \n",
    "    def get_values(self):\n",
    "        return self.dic.values()\n",
    "    \n",
    "    def take_input(self):\n",
    "        a=input(\"Enter key \")\n",
    "        b=input(\"Enter value \")\n",
    "        self.dic[a] = b\n",
    "        return \"input accepted\"\n",
    "        \n",
    "    def insert_key_value_pair(self,key,value):\n",
    "        show = self.dic[key] = value\n",
    "        print(show)\n",
    "        return (\"value_inserted\")"
   ]
  },
  {
   "cell_type": "code",
   "execution_count": 89,
   "id": "e8d24403",
   "metadata": {},
   "outputs": [],
   "source": [
    "a=dect_parser({\"a\":1,\"b\":2,\"c\":3,\"d\":4,\"e\":5})"
   ]
  },
  {
   "cell_type": "code",
   "execution_count": 90,
   "id": "04b4b3b9",
   "metadata": {},
   "outputs": [
    {
     "name": "stdout",
     "output_type": "stream",
     "text": [
      "456\n"
     ]
    },
    {
     "data": {
      "text/plain": [
       "'value_inserted'"
      ]
     },
     "execution_count": 90,
     "metadata": {},
     "output_type": "execute_result"
    }
   ],
   "source": [
    "a.insert_key_value_pair(\"pls_work\",456)"
   ]
  },
  {
   "cell_type": "code",
   "execution_count": 91,
   "id": "12adc311",
   "metadata": {},
   "outputs": [
    {
     "name": "stdout",
     "output_type": "stream",
     "text": [
      "Enter key qwertyu\n",
      "Enter value 745896\n"
     ]
    },
    {
     "data": {
      "text/plain": [
       "'input accepted'"
      ]
     },
     "execution_count": 91,
     "metadata": {},
     "output_type": "execute_result"
    }
   ],
   "source": [
    "a.take_input()"
   ]
  },
  {
   "cell_type": "code",
   "execution_count": 92,
   "id": "fbad9967",
   "metadata": {},
   "outputs": [],
   "source": [
    "# file = module   (mostly .py file)\n",
    "# folder = pacakage"
   ]
  },
  {
   "cell_type": "markdown",
   "id": "d6ce7798",
   "metadata": {},
   "source": [
    "## Creating .py file and save the code in it and try to reuse in other file."
   ]
  },
  {
   "cell_type": "code",
   "execution_count": 2,
   "id": "da116e45",
   "metadata": {},
   "outputs": [],
   "source": [
    "f=open(\"oppss.py\",\"w+\")"
   ]
  },
  {
   "cell_type": "code",
   "execution_count": 1,
   "id": "d073ae5c",
   "metadata": {},
   "outputs": [],
   "source": [
    "from oppss import dect_parser"
   ]
  },
  {
   "cell_type": "code",
   "execution_count": 2,
   "id": "b97df7c6",
   "metadata": {},
   "outputs": [],
   "source": [
    "d1=dect_parser({\"a\":1,\"b\":2,\"c\":3})"
   ]
  },
  {
   "cell_type": "code",
   "execution_count": 3,
   "id": "11509345",
   "metadata": {},
   "outputs": [
    {
     "data": {
      "text/plain": [
       "dict_keys(['a', 'b', 'c'])"
      ]
     },
     "execution_count": 3,
     "metadata": {},
     "output_type": "execute_result"
    }
   ],
   "source": [
    "d1.get_key()"
   ]
  },
  {
   "cell_type": "code",
   "execution_count": 4,
   "id": "6543ed29",
   "metadata": {},
   "outputs": [
    {
     "data": {
      "text/plain": [
       "{'a': 1, 'b': 2, 'c': 3}"
      ]
     },
     "execution_count": 4,
     "metadata": {},
     "output_type": "execute_result"
    }
   ],
   "source": [
    "d1.dic"
   ]
  },
  {
   "cell_type": "code",
   "execution_count": 5,
   "id": "a1d6f30a",
   "metadata": {},
   "outputs": [],
   "source": [
    "from oppss import dect_parser_1"
   ]
  },
  {
   "cell_type": "code",
   "execution_count": 6,
   "id": "d654c0ba",
   "metadata": {},
   "outputs": [],
   "source": [
    "d2=dect_parser_1({\"d\":4,\"e\":5,\"f\":6,\"g\":7})"
   ]
  },
  {
   "cell_type": "code",
   "execution_count": 7,
   "id": "3e58150f",
   "metadata": {},
   "outputs": [
    {
     "data": {
      "text/plain": [
       "dict_keys(['d', 'e', 'f', 'g'])"
      ]
     },
     "execution_count": 7,
     "metadata": {},
     "output_type": "execute_result"
    }
   ],
   "source": [
    "d2.get_key_1()"
   ]
  },
  {
   "cell_type": "code",
   "execution_count": 8,
   "id": "f02a38b1",
   "metadata": {},
   "outputs": [
    {
     "name": "stdout",
     "output_type": "stream",
     "text": [
      "Enter key raja\n",
      "Enter value 458\n"
     ]
    },
    {
     "data": {
      "text/plain": [
       "'input accepted'"
      ]
     },
     "execution_count": 8,
     "metadata": {},
     "output_type": "execute_result"
    }
   ],
   "source": [
    "d2.take_input_1()"
   ]
  },
  {
   "cell_type": "code",
   "execution_count": 9,
   "id": "ab661070",
   "metadata": {},
   "outputs": [
    {
     "data": {
      "text/plain": [
       "{'d': 4, 'e': 5, 'f': 6, 'g': 7, 'raja': '458'}"
      ]
     },
     "execution_count": 9,
     "metadata": {},
     "output_type": "execute_result"
    }
   ],
   "source": [
    "d2.dic"
   ]
  },
  {
   "cell_type": "code",
   "execution_count": 10,
   "id": "8be36e8d",
   "metadata": {},
   "outputs": [],
   "source": [
    "from oppss import dect_parser_2"
   ]
  },
  {
   "cell_type": "code",
   "execution_count": 11,
   "id": "24944c16",
   "metadata": {},
   "outputs": [],
   "source": [
    "d3=dect_parser_2({\"h\":45,\"i\":41,\"j\":6,\"k\":5})"
   ]
  },
  {
   "cell_type": "code",
   "execution_count": 12,
   "id": "7258a7ed",
   "metadata": {},
   "outputs": [
    {
     "data": {
      "text/plain": [
       "{'h': 45, 'i': 41, 'j': 6, 'k': 5}"
      ]
     },
     "execution_count": 12,
     "metadata": {},
     "output_type": "execute_result"
    }
   ],
   "source": [
    "d3.dic"
   ]
  },
  {
   "cell_type": "code",
   "execution_count": null,
   "id": "261641de",
   "metadata": {},
   "outputs": [],
   "source": [
    "class oops_task:\n",
    "    \n",
    "    def __init__ (self,it_is_list,a_tuple,dictionary):\n",
    "        self.it_is_list=it_is_list\n",
    "        self.a_tuple=a_tuple\n",
    "        self.dictionary=dictionary\n",
    "        \n",
    "    def get_list(self):\n",
    "        try:\n",
    "            if type(it_is_list) == list:\n",
    "                logging.info(\"Its is a list: \",self.it_is_list)\n",
    "        except Exception as e:\n",
    "            logging.exception(\"Pls enter dictionary\",e)\n",
    "                \n",
    "    def get_tuple(self):\n",
    "        try:\n",
    "            if type(a_tuple) == tuple:\n",
    "                logging.info(\"its a tuple: \",self.a_tuple)\n",
    "        except Exception as e:\n",
    "            logging.exception(\"pls enter a tuple\",e)\n",
    "            \n",
    "    def get_dictionary(self):\n",
    "        try:\n",
    "            if type(dictionary) == dict:\n",
    "                logging.info(\"its a dictionary: \",dictionary)\n",
    "        except Exception as e:\n",
    "            logging.exception(\"Pls give a dictonary\",e)"
   ]
  }
 ],
 "metadata": {
  "kernelspec": {
   "display_name": "Python 3 (ipykernel)",
   "language": "python",
   "name": "python3"
  },
  "language_info": {
   "codemirror_mode": {
    "name": "ipython",
    "version": 3
   },
   "file_extension": ".py",
   "mimetype": "text/x-python",
   "name": "python",
   "nbconvert_exporter": "python",
   "pygments_lexer": "ipython3",
   "version": "3.9.12"
  }
 },
 "nbformat": 4,
 "nbformat_minor": 5
}
