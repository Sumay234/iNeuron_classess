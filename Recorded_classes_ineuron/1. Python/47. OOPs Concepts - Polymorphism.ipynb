{
 "cells": [
  {
   "cell_type": "markdown",
   "id": "c730416a",
   "metadata": {},
   "source": [
    "# OOPs -- Polymorphism"
   ]
  },
  {
   "cell_type": "code",
   "execution_count": 1,
   "id": "534e55e9",
   "metadata": {},
   "outputs": [],
   "source": [
    "def test(a,b):\n",
    "    return a + b"
   ]
  },
  {
   "cell_type": "code",
   "execution_count": 2,
   "id": "4934dd76",
   "metadata": {},
   "outputs": [
    {
     "data": {
      "text/plain": [
       "7"
      ]
     },
     "execution_count": 2,
     "metadata": {},
     "output_type": "execute_result"
    }
   ],
   "source": [
    "test(2,5)"
   ]
  },
  {
   "cell_type": "code",
   "execution_count": 3,
   "id": "edaf2647",
   "metadata": {},
   "outputs": [
    {
     "data": {
      "text/plain": [
       "'sumay raja'"
      ]
     },
     "execution_count": 3,
     "metadata": {},
     "output_type": "execute_result"
    }
   ],
   "source": [
    "test(\"sumay\",\" raja\")"
   ]
  },
  {
   "cell_type": "code",
   "execution_count": 4,
   "id": "f2c6fd7b",
   "metadata": {},
   "outputs": [],
   "source": [
    "class insta:\n",
    "    def share_stories(self):\n",
    "        print(\"This will share my insta stories\")\n",
    "        \n",
    "class facebook:\n",
    "    def share_stories(self):\n",
    "        print(\"This will share my facebook stories\")"
   ]
  },
  {
   "cell_type": "code",
   "execution_count": 5,
   "id": "583942b5",
   "metadata": {},
   "outputs": [],
   "source": [
    "def sharestories(app):\n",
    "    app.share_stories()"
   ]
  },
  {
   "cell_type": "code",
   "execution_count": 6,
   "id": "dba63e20",
   "metadata": {},
   "outputs": [],
   "source": [
    "i=insta()\n",
    "f=facebook()"
   ]
  },
  {
   "cell_type": "code",
   "execution_count": 7,
   "id": "9118b1f8",
   "metadata": {},
   "outputs": [
    {
     "name": "stdout",
     "output_type": "stream",
     "text": [
      "This will share my insta stories\n"
     ]
    }
   ],
   "source": [
    "sharestories(i)"
   ]
  },
  {
   "cell_type": "code",
   "execution_count": 9,
   "id": "0be761e9",
   "metadata": {},
   "outputs": [
    {
     "name": "stdout",
     "output_type": "stream",
     "text": [
      "This will share my facebook stories\n"
     ]
    }
   ],
   "source": [
    "sharestories(f)"
   ]
  },
  {
   "cell_type": "code",
   "execution_count": 30,
   "id": "b7d0b851",
   "metadata": {},
   "outputs": [],
   "source": [
    "class social_media:\n",
    "    \n",
    "    def share_stories(self):\n",
    "        print(\"This is my social meadia class witout overwrite\")\n",
    "    def upload_pic(self):\n",
    "        print(\"This is my upload pic section\")\n",
    "        \n",
    "class facebook(social_media):\n",
    "    \n",
    "    def share_stories(self):\n",
    "        print(\"Overwrit_1: This is facebook class\")\n",
    "        \n",
    "class insta(social_media):\n",
    "    \n",
    "    \n",
    "        def share_stories(self):\n",
    "            print(\"overwrite_2: this is insta class\")"
   ]
  },
  {
   "cell_type": "code",
   "execution_count": 31,
   "id": "45a55fd1",
   "metadata": {},
   "outputs": [],
   "source": [
    "s=social_media()\n",
    "f=facebook()\n",
    "i=insta()"
   ]
  },
  {
   "cell_type": "code",
   "execution_count": 32,
   "id": "b3d80ac9",
   "metadata": {},
   "outputs": [
    {
     "name": "stdout",
     "output_type": "stream",
     "text": [
      "This is my social meadia class witout overwrite\n"
     ]
    }
   ],
   "source": [
    "s.share_stories()"
   ]
  },
  {
   "cell_type": "code",
   "execution_count": 33,
   "id": "3f3749b4",
   "metadata": {},
   "outputs": [
    {
     "name": "stdout",
     "output_type": "stream",
     "text": [
      "Overwrit_1: This is facebook class\n"
     ]
    }
   ],
   "source": [
    "f.share_stories()"
   ]
  },
  {
   "cell_type": "code",
   "execution_count": 29,
   "id": "b61b00c1",
   "metadata": {},
   "outputs": [
    {
     "name": "stdout",
     "output_type": "stream",
     "text": [
      "overwrite_2: this is insta class\n"
     ]
    }
   ],
   "source": [
    "i.share_stories()"
   ]
  },
  {
   "cell_type": "code",
   "execution_count": 34,
   "id": "eccceaf7",
   "metadata": {},
   "outputs": [
    {
     "name": "stdout",
     "output_type": "stream",
     "text": [
      "This is my upload pic section\n"
     ]
    }
   ],
   "source": [
    "f.upload_pic()"
   ]
  },
  {
   "cell_type": "code",
   "execution_count": 35,
   "id": "d64c3976",
   "metadata": {},
   "outputs": [
    {
     "name": "stdout",
     "output_type": "stream",
     "text": [
      "This is my upload pic section\n"
     ]
    }
   ],
   "source": [
    "i.upload_pic()"
   ]
  },
  {
   "cell_type": "code",
   "execution_count": 36,
   "id": "984115f8",
   "metadata": {},
   "outputs": [],
   "source": [
    "class test(Exception):\n",
    "    def __init__(self,msg):\n",
    "        self.msg=msg"
   ]
  },
  {
   "cell_type": "code",
   "execution_count": 37,
   "id": "9fdd2da8",
   "metadata": {},
   "outputs": [
    {
     "name": "stdout",
     "output_type": "stream",
     "text": [
      "This is my own exception class\n"
     ]
    }
   ],
   "source": [
    "try:\n",
    "    raise(test(\"This is my own exception class\"))\n",
    "except test as t:\n",
    "    print(t)"
   ]
  },
  {
   "cell_type": "code",
   "execution_count": 39,
   "id": "fa762178",
   "metadata": {},
   "outputs": [
    {
     "ename": "ZeroDivisionError",
     "evalue": "division by zero",
     "output_type": "error",
     "traceback": [
      "\u001b[1;31m---------------------------------------------------------------------------\u001b[0m",
      "\u001b[1;31mZeroDivisionError\u001b[0m                         Traceback (most recent call last)",
      "Input \u001b[1;32mIn [39]\u001b[0m, in \u001b[0;36m<cell line: 1>\u001b[1;34m()\u001b[0m\n\u001b[0;32m      1\u001b[0m \u001b[38;5;28;01mtry\u001b[39;00m:\n\u001b[1;32m----> 2\u001b[0m     \u001b[38;5;241;43m5\u001b[39;49m\u001b[38;5;241;43m/\u001b[39;49m\u001b[38;5;241;43m0\u001b[39;49m\n\u001b[0;32m      3\u001b[0m \u001b[38;5;28;01mexcept\u001b[39;00m test \u001b[38;5;28;01mas\u001b[39;00m t:\n\u001b[0;32m      4\u001b[0m     \u001b[38;5;28mprint\u001b[39m(t)\n",
      "\u001b[1;31mZeroDivisionError\u001b[0m: division by zero"
     ]
    }
   ],
   "source": [
    "try:\n",
    "    5/0\n",
    "except test as t:\n",
    "    print(t)"
   ]
  },
  {
   "cell_type": "code",
   "execution_count": 40,
   "id": "238996ab",
   "metadata": {},
   "outputs": [
    {
     "name": "stdout",
     "output_type": "stream",
     "text": [
      "This is my own exception class\n"
     ]
    }
   ],
   "source": [
    "try:   # user define exception classes\n",
    "    raise(test(\"This is my own exception class\"))\n",
    "    5/0\n",
    "except test as t:\n",
    "    print(t)"
   ]
  },
  {
   "cell_type": "code",
   "execution_count": 41,
   "id": "746ae18a",
   "metadata": {},
   "outputs": [
    {
     "name": "stdout",
     "output_type": "stream",
     "text": [
      "division by zero\n"
     ]
    }
   ],
   "source": [
    "try:\n",
    "    5/0\n",
    "except Exception as e:\n",
    "    print(e)"
   ]
  },
  {
   "cell_type": "code",
   "execution_count": 42,
   "id": "9ccd168e",
   "metadata": {},
   "outputs": [
    {
     "data": {
      "text/plain": [
       "'\\nq1) create your own class for to achive multiple , multilevel inheritance\\nq2  create your own class to represent ploymorprism\\nq3) create your own class for custum exception\\nq4) create your own class to achive encaptulation\\nq5'"
      ]
     },
     "execution_count": 42,
     "metadata": {},
     "output_type": "execute_result"
    }
   ],
   "source": [
    "'''\n",
    "q1) create your own class for to achive multiple , multilevel inheritance\n",
    "q2  create your own class to represent ploymorprism\n",
    "q3) create your own class for custum exception\n",
    "q4) create your own class to achive encaptulation\n",
    "q5) create your own class to achive method overloading and overriding\n",
    "'''"
   ]
  },
  {
   "cell_type": "code",
   "execution_count": 90,
   "id": "25278aec",
   "metadata": {},
   "outputs": [],
   "source": [
    "# Multiple inheritance--\n",
    "\n",
    "# Parent class-1\n",
    "class batch_number:\n",
    "    \n",
    "    def batch(self):\n",
    "        self.batch=4   # after writing __init__ instance variable or object\n",
    "        print(self.batch)\n",
    "        \n",
    "# Parent class-2\n",
    "class course_name:\n",
    "    def course(self):\n",
    "        self.course=\"python\"\n",
    "        print(self.course)\n",
    "        \n",
    "# Child class --\n",
    "class studen(batch_number,course_name):\n",
    "    def data(self):\n",
    "        print(\"Btach = \",self.batch)\n",
    "        print(\"course name\",self.course_name)"
   ]
  },
  {
   "cell_type": "code",
   "execution_count": 2,
   "id": "17dc7df4",
   "metadata": {},
   "outputs": [
    {
     "name": "stdout",
     "output_type": "stream",
     "text": [
      "Btach =  5\n",
      "course name FSDS 2.0\n"
     ]
    }
   ],
   "source": [
    "# Multiple inheritance--\n",
    "\n",
    "# Parent class-1\n",
    "class batch_number:\n",
    "    batchnumber = \"\"  # know as class variable or static variable\n",
    "    def batch(self):\n",
    "        print(self.batchnumber)   # after writing __init__ instance variable or object\n",
    "        \n",
    "        \n",
    "# Parent class-2\n",
    "class course_name:\n",
    "    cname= \"\"\n",
    "    def course(self):\n",
    "        print(self.cname)\n",
    "        \n",
    "# Child class --\n",
    "class student(batch_number,course_name):\n",
    "    def data(self):\n",
    "        print(\"Btach = \",self.batchnumber)\n",
    "        print(\"course name\",self.cname)\n",
    "        \n",
    "s1=student()\n",
    "s1.batchnumber = \"5\"\n",
    "s1.cname = \"FSDS 2.0\"\n",
    "s1.data()"
   ]
  },
  {
   "cell_type": "code",
   "execution_count": null,
   "id": "40494cfb",
   "metadata": {},
   "outputs": [],
   "source": [
    "# Multiple inheritance--\n",
    "\n",
    "# Parent class-1\n",
    "class batch_number:\n",
    "    batchnumber = \"\"  # know as class variable or static variable\n",
    "    def __init__(self,a,b,c):\n",
    "        self.a=a\n",
    "        self.b=b\n",
    "        self.c=c\n",
    "        \n",
    "    @staticmethod     #( this is a decorator function is use to consider\n",
    "                      #  the next function as class function not a variable function)\n",
    "    def batch(self):\n",
    "        print(self.batchnumber)   # after writing __init__ instance variable or object\n",
    "        \n",
    "        \n",
    "# Parent class-2\n",
    "class course_name:\n",
    "    cname= \"\"\n",
    "    def course(self):\n",
    "        print(self.cname)\n",
    "        \n",
    "# Child class --\n",
    "class student(batch_number,course_name):\n",
    "    def data(self):\n",
    "        print(\"Btach = \",self.batchnumber)\n",
    "        print(\"course name\",self.cname)\n",
    "        "
   ]
  },
  {
   "cell_type": "code",
   "execution_count": null,
   "id": "5bd2e729",
   "metadata": {},
   "outputs": [],
   "source": []
  },
  {
   "cell_type": "code",
   "execution_count": null,
   "id": "39cbd7b8",
   "metadata": {},
   "outputs": [],
   "source": []
  },
  {
   "cell_type": "code",
   "execution_count": null,
   "id": "e020e99a",
   "metadata": {},
   "outputs": [],
   "source": []
  },
  {
   "cell_type": "code",
   "execution_count": 5,
   "id": "59de55f0",
   "metadata": {},
   "outputs": [
    {
     "data": {
      "text/plain": [
       "'5'"
      ]
     },
     "execution_count": 5,
     "metadata": {},
     "output_type": "execute_result"
    }
   ],
   "source": [
    "s1.batchnumber"
   ]
  },
  {
   "cell_type": "code",
   "execution_count": 91,
   "id": "89b0a7e8",
   "metadata": {},
   "outputs": [],
   "source": [
    "data=(4,\"edw\")"
   ]
  },
  {
   "cell_type": "code",
   "execution_count": 93,
   "id": "0956e5d6",
   "metadata": {},
   "outputs": [
    {
     "data": {
      "text/plain": [
       "<__main__.studen at 0x1f55af16bb0>"
      ]
     },
     "execution_count": 93,
     "metadata": {},
     "output_type": "execute_result"
    }
   ],
   "source": [
    "studen()"
   ]
  },
  {
   "cell_type": "code",
   "execution_count": 75,
   "id": "5f10117d",
   "metadata": {},
   "outputs": [],
   "source": [
    "# multilevel inheritance\n",
    "\n",
    "class one:\n",
    "    def __init__(self,a,b,c):\n",
    "        self.a=a\n",
    "        self.b=b\n",
    "        self.c=c\n",
    "        \n",
    "    def fun_1(self):\n",
    "        return (f\"Hi! i am fun_1 of class one with value {self.a}\")\n",
    "    \n",
    "class two(one):\n",
    "    \n",
    "    def fun_2(self):\n",
    "        print(\"hey! you know that i am fun_2 of class two\")\n",
    "        \n",
    "    def fun_3(self):\n",
    "        print(\"This is fun_3 of class two\")\n",
    "        \n",
    "class three(two):\n",
    "    \n",
    "    def fun_4(self):\n",
    "        print(\"Hi everyone i am fun_4 of class three\")\n",
    "        \n",
    "    def fun_5(self):\n",
    "        print(\"someone call me fun_5 of class three\")\n",
    "        \n",
    "    def fun_6(self):\n",
    "        return self.c"
   ]
  },
  {
   "cell_type": "code",
   "execution_count": 76,
   "id": "08702ccd",
   "metadata": {},
   "outputs": [],
   "source": [
    "var_1=three(4,5,6)\n"
   ]
  },
  {
   "cell_type": "code",
   "execution_count": 77,
   "id": "8d320863",
   "metadata": {},
   "outputs": [
    {
     "data": {
      "text/plain": [
       "4"
      ]
     },
     "execution_count": 77,
     "metadata": {},
     "output_type": "execute_result"
    }
   ],
   "source": [
    "var_1.a"
   ]
  },
  {
   "cell_type": "code",
   "execution_count": 71,
   "id": "593e6809",
   "metadata": {},
   "outputs": [
    {
     "data": {
      "text/plain": [
       "'Hi! i am fun_1 of class one with value 4'"
      ]
     },
     "execution_count": 71,
     "metadata": {},
     "output_type": "execute_result"
    }
   ],
   "source": [
    "var_1.fun_1()"
   ]
  },
  {
   "cell_type": "code",
   "execution_count": 73,
   "id": "d288a967",
   "metadata": {},
   "outputs": [
    {
     "name": "stdout",
     "output_type": "stream",
     "text": [
      "someone call me fun_5 of class three\n"
     ]
    }
   ],
   "source": [
    "var_1.fun_5()"
   ]
  },
  {
   "cell_type": "code",
   "execution_count": 74,
   "id": "fb996508",
   "metadata": {},
   "outputs": [
    {
     "data": {
      "text/plain": [
       "6"
      ]
     },
     "execution_count": 74,
     "metadata": {},
     "output_type": "execute_result"
    }
   ],
   "source": [
    "var_1.c"
   ]
  },
  {
   "cell_type": "code",
   "execution_count": 79,
   "id": "63dfe4ba",
   "metadata": {},
   "outputs": [
    {
     "data": {
      "text/plain": [
       "6"
      ]
     },
     "execution_count": 79,
     "metadata": {},
     "output_type": "execute_result"
    }
   ],
   "source": [
    "var_1.fun_6()"
   ]
  },
  {
   "cell_type": "code",
   "execution_count": 94,
   "id": "8d090dbd",
   "metadata": {},
   "outputs": [],
   "source": [
    "class abc:\n",
    "    def just_try(self):\n",
    "        print(\"AAh! its class abc & just_try method\")\n",
    "        \n",
    "class cde:\n",
    "    def just_try(self):\n",
    "        print(\"oh! i just overwrite class cde with class abc with same method\")\n",
    "        \n",
    "def use_it(store):\n",
    "    store.just_try()"
   ]
  },
  {
   "cell_type": "code",
   "execution_count": 98,
   "id": "d95d3504",
   "metadata": {},
   "outputs": [],
   "source": [
    "a=abc()\n",
    "c=cde()"
   ]
  },
  {
   "cell_type": "code",
   "execution_count": 99,
   "id": "758ec956",
   "metadata": {},
   "outputs": [
    {
     "name": "stdout",
     "output_type": "stream",
     "text": [
      "AAh! its class abc & just_try method\n"
     ]
    }
   ],
   "source": [
    "use_it(a)"
   ]
  },
  {
   "cell_type": "code",
   "execution_count": 101,
   "id": "abc42d42",
   "metadata": {},
   "outputs": [
    {
     "name": "stdout",
     "output_type": "stream",
     "text": [
      "oh! i just overwrite class cde with class abc with same method\n"
     ]
    }
   ],
   "source": [
    "use_it(c)"
   ]
  },
  {
   "cell_type": "code",
   "execution_count": 102,
   "id": "b2356317",
   "metadata": {},
   "outputs": [
    {
     "name": "stdout",
     "output_type": "stream",
     "text": [
      "oh! i just overwrite class cde with class abc with same method\n"
     ]
    }
   ],
   "source": [
    "use_it(cde())"
   ]
  },
  {
   "cell_type": "code",
   "execution_count": null,
   "id": "dbad6d50",
   "metadata": {},
   "outputs": [],
   "source": [
    "# Multiple inheritance--\n",
    "\n",
    "# Parent class-1\n",
    "class batch_number:\n",
    "    batchnumber = \"\"  # know as class variable or static variable\n",
    "    def __init__(self,a,b,c):\n",
    "        self.a=a      # Instance variable\n",
    "        self.b=b\n",
    "        self.c=c\n",
    "        \n",
    "    @staticmethod     #( this is a decorator function is use to consider\n",
    "                      #  the next function as class function not a variable function)\n",
    "    def batch():\n",
    "        print(self.batchnumber)   # after writing __init__ instance variable or object\n",
    "        \n",
    "        \n",
    "# Parent class-2\n",
    "class course_name:\n",
    "    cname= \"\"\n",
    "    def course(self):\n",
    "        print(self.cname)\n",
    "        \n",
    "# Child class --\n",
    "class student(batch_number,course_name):\n",
    "    def data(self):\n",
    "        print(\"Btach = \",self.batchnumber)\n",
    "        print(\"course name\",self.cname)\n",
    "        "
   ]
  },
  {
   "cell_type": "code",
   "execution_count": 6,
   "id": "43f2104c",
   "metadata": {},
   "outputs": [],
   "source": [
    "class batch_number:\n",
    "    batchnumber = \"\"  \n",
    "    def __init__(self,a,b,c):\n",
    "        self.a=a\n",
    "        self.b=b\n",
    "        self.c=c\n",
    "        \n",
    "    #@staticmethod    \n",
    "    def batch(self):   # without using decorator use object or instance method\n",
    "        print(self.batchnumber)"
   ]
  },
  {
   "cell_type": "code",
   "execution_count": 7,
   "id": "2d06b1a5",
   "metadata": {},
   "outputs": [],
   "source": [
    "bn=batch_number(1,2,3)"
   ]
  },
  {
   "cell_type": "code",
   "execution_count": 8,
   "id": "3f10e547",
   "metadata": {},
   "outputs": [
    {
     "name": "stdout",
     "output_type": "stream",
     "text": [
      "\n"
     ]
    }
   ],
   "source": [
    "bn.batch()"
   ]
  },
  {
   "cell_type": "code",
   "execution_count": 18,
   "id": "9296adbb",
   "metadata": {},
   "outputs": [],
   "source": [
    "class batch_number:\n",
    "    batchnumber = \"FSDS\"  \n",
    "    def __init__(self,a,b,c):\n",
    "        self.a=a\n",
    "        self.b=b\n",
    "        self.c=c\n",
    "        \n",
    "    @staticmethod    \n",
    "    def batch():   \n",
    "        print(\"This is static method\")\n",
    "        \n",
    "    def batch_1(self):\n",
    "        print(\"This is other method\")"
   ]
  },
  {
   "cell_type": "code",
   "execution_count": 19,
   "id": "f03e5360",
   "metadata": {},
   "outputs": [
    {
     "data": {
      "text/plain": [
       "'FSDS'"
      ]
     },
     "execution_count": 19,
     "metadata": {},
     "output_type": "execute_result"
    }
   ],
   "source": [
    "batch_number.batchnumber"
   ]
  },
  {
   "cell_type": "code",
   "execution_count": 20,
   "id": "53db39bc",
   "metadata": {},
   "outputs": [
    {
     "name": "stdout",
     "output_type": "stream",
     "text": [
      "This is static method\n"
     ]
    }
   ],
   "source": [
    "batch_number.batch()"
   ]
  },
  {
   "cell_type": "code",
   "execution_count": 21,
   "id": "330473d2",
   "metadata": {},
   "outputs": [
    {
     "ename": "TypeError",
     "evalue": "batch_1() missing 1 required positional argument: 'self'",
     "output_type": "error",
     "traceback": [
      "\u001b[1;31m---------------------------------------------------------------------------\u001b[0m",
      "\u001b[1;31mTypeError\u001b[0m                                 Traceback (most recent call last)",
      "Input \u001b[1;32mIn [21]\u001b[0m, in \u001b[0;36m<cell line: 1>\u001b[1;34m()\u001b[0m\n\u001b[1;32m----> 1\u001b[0m \u001b[43mbatch_number\u001b[49m\u001b[38;5;241;43m.\u001b[39;49m\u001b[43mbatch_1\u001b[49m\u001b[43m(\u001b[49m\u001b[43m)\u001b[49m\n",
      "\u001b[1;31mTypeError\u001b[0m: batch_1() missing 1 required positional argument: 'self'"
     ]
    }
   ],
   "source": [
    "batch_number.batch_1()"
   ]
  },
  {
   "cell_type": "code",
   "execution_count": 22,
   "id": "fc68dbc9",
   "metadata": {},
   "outputs": [],
   "source": [
    "b=batch_number(2,5,8)"
   ]
  },
  {
   "cell_type": "code",
   "execution_count": 23,
   "id": "cbcc1a51",
   "metadata": {},
   "outputs": [
    {
     "data": {
      "text/plain": [
       "8"
      ]
     },
     "execution_count": 23,
     "metadata": {},
     "output_type": "execute_result"
    }
   ],
   "source": [
    "b.c"
   ]
  },
  {
   "cell_type": "code",
   "execution_count": 24,
   "id": "fc38897f",
   "metadata": {},
   "outputs": [
    {
     "data": {
      "text/plain": [
       "'FSDS'"
      ]
     },
     "execution_count": 24,
     "metadata": {},
     "output_type": "execute_result"
    }
   ],
   "source": [
    "b.batchnumber"
   ]
  },
  {
   "cell_type": "code",
   "execution_count": 25,
   "id": "36e2a744",
   "metadata": {},
   "outputs": [
    {
     "name": "stdout",
     "output_type": "stream",
     "text": [
      "This is static method\n"
     ]
    }
   ],
   "source": [
    "b.batch()"
   ]
  },
  {
   "cell_type": "code",
   "execution_count": 26,
   "id": "f8082008",
   "metadata": {},
   "outputs": [
    {
     "name": "stdout",
     "output_type": "stream",
     "text": [
      "This is other method\n"
     ]
    }
   ],
   "source": [
    "b.batch_1()"
   ]
  },
  {
   "cell_type": "code",
   "execution_count": 27,
   "id": "b50adfc7",
   "metadata": {},
   "outputs": [
    {
     "data": {
      "text/plain": [
       "'FSDS'"
      ]
     },
     "execution_count": 27,
     "metadata": {},
     "output_type": "execute_result"
    }
   ],
   "source": [
    "b.batchnumber"
   ]
  },
  {
   "cell_type": "code",
   "execution_count": 28,
   "id": "217936e6",
   "metadata": {},
   "outputs": [],
   "source": [
    "class accountdeatils:\n",
    "    account_no = \"1525246977\"\n",
    "    \n",
    "    def __init__(self,amount):\n",
    "        self.amount = amount\n",
    "        \n",
    "    def show_balance(self,deduction):\n",
    "        self.amount = self.amount-deduction\n",
    "        return self.amount\n",
    "    "
   ]
  },
  {
   "cell_type": "code",
   "execution_count": 35,
   "id": "0710c8ca",
   "metadata": {},
   "outputs": [
    {
     "data": {
      "text/plain": [
       "'1525246977'"
      ]
     },
     "execution_count": 35,
     "metadata": {},
     "output_type": "execute_result"
    }
   ],
   "source": [
    "a.account_no"
   ]
  },
  {
   "cell_type": "code",
   "execution_count": 29,
   "id": "ced00f1d",
   "metadata": {},
   "outputs": [],
   "source": [
    "a=accountdeatils(12000)"
   ]
  },
  {
   "cell_type": "code",
   "execution_count": 34,
   "id": "75dd7b90",
   "metadata": {},
   "outputs": [
    {
     "data": {
      "text/plain": [
       "2000"
      ]
     },
     "execution_count": 34,
     "metadata": {},
     "output_type": "execute_result"
    }
   ],
   "source": [
    "a.show_balance(10000)"
   ]
  },
  {
   "cell_type": "code",
   "execution_count": 58,
   "id": "63014916",
   "metadata": {},
   "outputs": [
    {
     "name": "stdout",
     "output_type": "stream",
     "text": [
      "Enter the first no 458\n",
      "Enter the second no. 485\n",
      "0.9443298969072165\n"
     ]
    }
   ],
   "source": [
    "class division_by_5(Exception):\n",
    "    def __init__(self,msg):\n",
    "        self.msg=msg\n",
    "        \n",
    "try:\n",
    "    a = int(input(\"Enter the first no \"))\n",
    "    b = int(input(\"Enter the second no. \"))\n",
    "    if b == 5:\n",
    "        raise division_by_5(\"Pls use other instead of 5\")\n",
    "        \n",
    "except ValueError as ve:\n",
    "    print(\"it is a value_error\",ve)\n",
    "except ZeroDivisionError as ze:\n",
    "    print(\"it is zero_division_error\",ze)\n",
    "\n",
    "else:\n",
    "    try:\n",
    "        result = a/b\n",
    "        print(result)\n",
    "    except Exception as e:\n",
    "        print(e)"
   ]
  },
  {
   "cell_type": "code",
   "execution_count": 51,
   "id": "93a78c23",
   "metadata": {},
   "outputs": [
    {
     "name": "stdout",
     "output_type": "stream",
     "text": [
      "Enter the first no 10\n",
      "Enter the second no. 5\n",
      "Pls use other instead of 5\n"
     ]
    }
   ],
   "source": [
    "class division_by_5(Exception):\n",
    "    def __init__(self,msg):\n",
    "        self.msg=msg\n",
    "        \n",
    "try:\n",
    "    a = int(input(\"Enter the first no \"))\n",
    "    b = int(input(\"Enter the second no. \"))\n",
    "    if b == 5:\n",
    "        raise division_by_5(\"Pls use other instead of 5\")\n",
    "        \n",
    "except ValueError as msg:\n",
    "    print(\"it is a value_error\",msg)\n",
    "except ZeroDivisionError as msg:\n",
    "    print(\"it is zero_division_error\",msg)\n",
    "except division_by_5 as msg:\n",
    "    print(msg)\n",
    "\n",
    "else:\n",
    "    try:\n",
    "        result = a/b\n",
    "        print(result)\n",
    "    except Exception as e:\n",
    "        print(e)"
   ]
  },
  {
   "cell_type": "code",
   "execution_count": 52,
   "id": "57e3f44d",
   "metadata": {},
   "outputs": [
    {
     "name": "stdout",
     "output_type": "stream",
     "text": [
      "Enter the first no 52\n",
      "Enter the second no. 5\n",
      "Pls use other instead of 5\n"
     ]
    }
   ],
   "source": [
    "class division_by_5(Exception):\n",
    "    def __init__(self,msg):\n",
    "        self.msg=msg\n",
    "        \n",
    "try:\n",
    "    a = int(input(\"Enter the first no \"))\n",
    "    b = int(input(\"Enter the second no. \"))\n",
    "    if b == 5:\n",
    "        raise division_by_5(\"Pls use other instead of 5\")\n",
    "        \n",
    "except ValueError as ve:\n",
    "    print(\"it is a value_error\",ve)\n",
    "except ZeroDivisionError as ze:\n",
    "    print(\"it is zero_division_error\",ze)\n",
    "except division_by_5 as m:\n",
    "    print(m)\n",
    "\n",
    "\n",
    "else:\n",
    "    try:\n",
    "        result = a/b\n",
    "        print(result)\n",
    "    except Exception as e:\n",
    "        print(e)"
   ]
  },
  {
   "cell_type": "code",
   "execution_count": 61,
   "id": "148b343a",
   "metadata": {},
   "outputs": [
    {
     "name": "stdout",
     "output_type": "stream",
     "text": [
      "Enter the first no 5\n",
      "Enter the second no. 0\n",
      "division by zero\n"
     ]
    }
   ],
   "source": [
    "class division_by_5(Exception):\n",
    "    def __init__(self,msg):\n",
    "        self.msg=msg\n",
    "        \n",
    "try:\n",
    "    a = int(input(\"Enter the first no \"))\n",
    "    b = int(input(\"Enter the second no. \"))\n",
    "    if b == 5:\n",
    "        raise division_by_5(\"Pls use other instead of 5\")\n",
    "        \n",
    "except Exception as e:\n",
    "    print(\"it is division by 5\",e)\n",
    "\n",
    "else:\n",
    "    try:\n",
    "        result = a/b\n",
    "        print(result)\n",
    "    except Exception as e:\n",
    "        print(e)"
   ]
  },
  {
   "cell_type": "code",
   "execution_count": 83,
   "id": "460f8fd4",
   "metadata": {},
   "outputs": [],
   "source": [
    "# Multiple inheritance--\n",
    "\n",
    "class operation_1:\n",
    "    def __init__(self,a,b,c):\n",
    "        self.a=a\n",
    "        self.b=b\n",
    "        self.c=c\n",
    "        \n",
    "    def add(self):\n",
    "        return (\"addition =\", self.a + self.b + self.c)\n",
    "    def desc_1(self):\n",
    "        print (\"Its a addition\")\n",
    "        \n",
    "class operation_2:\n",
    "    def __init__(self,x,y,z):\n",
    "        self.x=x\n",
    "        self.y=y\n",
    "        self.z=z\n",
    "        \n",
    "    def multiply(self):\n",
    "        return (\"Multiplication = \",self.x*self.y*self.z)\n",
    "    \n",
    "    def desc_2(self):\n",
    "        print(\"It is a multiplocation\")\n",
    "        \n",
    "class main_operation(operation_1,operation_2):\n",
    "    def __init__ (self, *args, **kwargs):\n",
    "        operation_1.__init__(self,*args)\n",
    "        operation_2.__init__(self,**kwargs)"
   ]
  },
  {
   "cell_type": "code",
   "execution_count": 84,
   "id": "d3ba9fd5",
   "metadata": {},
   "outputs": [],
   "source": [
    "mo=main_operation(1,2,3,x=4,y=5,z=6)"
   ]
  },
  {
   "cell_type": "code",
   "execution_count": 85,
   "id": "4203d135",
   "metadata": {},
   "outputs": [
    {
     "data": {
      "text/plain": [
       "('addition =', 6)"
      ]
     },
     "execution_count": 85,
     "metadata": {},
     "output_type": "execute_result"
    }
   ],
   "source": [
    "mo.add()"
   ]
  },
  {
   "cell_type": "code",
   "execution_count": 86,
   "id": "09745f1e",
   "metadata": {},
   "outputs": [
    {
     "data": {
      "text/plain": [
       "('Multiplication = ', 120)"
      ]
     },
     "execution_count": 86,
     "metadata": {},
     "output_type": "execute_result"
    }
   ],
   "source": [
    "mo.multiply()"
   ]
  },
  {
   "cell_type": "code",
   "execution_count": 87,
   "id": "0aed409a",
   "metadata": {},
   "outputs": [
    {
     "name": "stdout",
     "output_type": "stream",
     "text": [
      "Its a addition\n"
     ]
    }
   ],
   "source": [
    "mo.desc_1()"
   ]
  },
  {
   "cell_type": "code",
   "execution_count": null,
   "id": "34cc11f5",
   "metadata": {},
   "outputs": [],
   "source": []
  },
  {
   "cell_type": "code",
   "execution_count": null,
   "id": "ec6243a7",
   "metadata": {},
   "outputs": [],
   "source": []
  },
  {
   "cell_type": "code",
   "execution_count": null,
   "id": "4afcbc20",
   "metadata": {},
   "outputs": [],
   "source": []
  },
  {
   "cell_type": "code",
   "execution_count": null,
   "id": "be9b871f",
   "metadata": {},
   "outputs": [],
   "source": []
  },
  {
   "cell_type": "code",
   "execution_count": null,
   "id": "c31ab70a",
   "metadata": {},
   "outputs": [],
   "source": []
  },
  {
   "cell_type": "code",
   "execution_count": null,
   "id": "104e35f9",
   "metadata": {},
   "outputs": [],
   "source": []
  },
  {
   "cell_type": "code",
   "execution_count": null,
   "id": "30ade7a1",
   "metadata": {},
   "outputs": [],
   "source": []
  },
  {
   "cell_type": "code",
   "execution_count": null,
   "id": "3a40d7fc",
   "metadata": {},
   "outputs": [],
   "source": []
  },
  {
   "cell_type": "code",
   "execution_count": null,
   "id": "7ffe1119",
   "metadata": {},
   "outputs": [],
   "source": []
  },
  {
   "cell_type": "code",
   "execution_count": null,
   "id": "48569cc4",
   "metadata": {},
   "outputs": [],
   "source": []
  },
  {
   "cell_type": "code",
   "execution_count": null,
   "id": "0588f3be",
   "metadata": {},
   "outputs": [],
   "source": []
  }
 ],
 "metadata": {
  "kernelspec": {
   "display_name": "Python 3 (ipykernel)",
   "language": "python",
   "name": "python3"
  },
  "language_info": {
   "codemirror_mode": {
    "name": "ipython",
    "version": 3
   },
   "file_extension": ".py",
   "mimetype": "text/x-python",
   "name": "python",
   "nbconvert_exporter": "python",
   "pygments_lexer": "ipython3",
   "version": "3.9.12"
  }
 },
 "nbformat": 4,
 "nbformat_minor": 5
}
