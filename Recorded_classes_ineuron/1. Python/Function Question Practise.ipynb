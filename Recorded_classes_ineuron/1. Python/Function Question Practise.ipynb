{
 "cells": [
  {
   "cell_type": "markdown",
   "id": "10105e81",
   "metadata": {},
   "source": [
    "# Question Practise of Function"
   ]
  },
  {
   "cell_type": "code",
   "execution_count": 3,
   "id": "84ae3d31",
   "metadata": {},
   "outputs": [
    {
     "data": {
      "text/plain": [
       "8"
      ]
     },
     "execution_count": 3,
     "metadata": {},
     "output_type": "execute_result"
    }
   ],
   "source": [
    "'''1. you have to write a fun will take string and return a len\n",
    "      of it without using a inbulit fun. '''\n",
    "\n",
    "def strn(s):\n",
    "    if type(s)==str:\n",
    "        \n",
    "        count=0\n",
    "        for i in s:\n",
    "            count=count+1\n",
    "        return count\n",
    "    \n",
    "strn(\"abcdefgh\")"
   ]
  },
  {
   "cell_type": "code",
   "execution_count": 15,
   "id": "3069241a",
   "metadata": {},
   "outputs": [
    {
     "name": "stdout",
     "output_type": "stream",
     "text": [
      "Index of 12 is 0 \n",
      "Index of 52 is 1 \n",
      "Index of [12, 21] is 2 \n",
      "Index of (1, 2, 3) is 3 \n",
      "Index of ram is 4 \n"
     ]
    }
   ],
   "source": [
    "'''2. write a fun which will be able to print an index of all premitive \n",
    "     element which you will pass'''\n",
    "\n",
    "def ele(*l):\n",
    "    if type(l) == list or type(l) == tuple or type(l) == str:\n",
    "        for i in range(len(l)):\n",
    "            print(f\"Index of {l[i]} is {i} \")\n",
    "            \n",
    "ele(12,52,[12,21],(1,2,3),\"ram\")"
   ]
  },
  {
   "cell_type": "code",
   "execution_count": 22,
   "id": "e605bfbd",
   "metadata": {},
   "outputs": [
    {
     "data": {
      "text/plain": [
       "['index of 12 is 0',\n",
       " 'index of 52 is 1',\n",
       " 'index of [12, 21] is 2',\n",
       " 'index of (1, 2, 3) is 3',\n",
       " 'index of ram is 4']"
      ]
     },
     "execution_count": 22,
     "metadata": {},
     "output_type": "execute_result"
    }
   ],
   "source": [
    "def ele2(*l):\n",
    "    if type(l) == list or type(l) == tuple or type(l) == str:\n",
    "        a=[]\n",
    "        for i in range(len(l)):\n",
    "            a.append(f\"index of {l[i]} is {i}\")\n",
    "        return a\n",
    "            \n",
    "ele2(12,52,[12,21],(1,2,3),\"ram\")"
   ]
  },
  {
   "cell_type": "code",
   "execution_count": null,
   "id": "cc958925",
   "metadata": {},
   "outputs": [],
   "source": [
    "''' 3. write a fun which will take a input as a dict and give me out as a\n",
    "       list of all the values even in case of 2 level nesting\n",
    "        it should work. '''\n",
    "\n"
   ]
  },
  {
   "cell_type": "code",
   "execution_count": 27,
   "id": "063da43b",
   "metadata": {},
   "outputs": [
    {
     "data": {
      "text/plain": [
       "[0, 1, 2, 3, 4]"
      ]
     },
     "execution_count": 27,
     "metadata": {},
     "output_type": "execute_result"
    }
   ],
   "source": [
    "''' 4. write a function which will take another function as an input \n",
    "        and return me an output'''\n",
    "\n",
    "def fun4a(n):\n",
    "    return list(range(n))\n",
    "\n",
    "def fun4(fun):\n",
    "    if type(fun) == list:\n",
    "        l=[]\n",
    "        for i in fun:\n",
    "            l.append(i)\n",
    "        return l\n",
    "    \n",
    "fun4(fun4a(5))"
   ]
  },
  {
   "cell_type": "code",
   "execution_count": 33,
   "id": "261a4487",
   "metadata": {},
   "outputs": [
    {
     "data": {
      "text/plain": [
       "[1, 2, 3, 4, 5, 6, 7, 'a', 'b', 'c']"
      ]
     },
     "execution_count": 33,
     "metadata": {},
     "output_type": "execute_result"
    }
   ],
   "source": [
    "''' 5. write a function which will take list as a input and give me a \n",
    "       concatation of all the element as an output'''\n",
    "\n",
    "def fun5(*args):\n",
    "    l=[]\n",
    "    for i in args:\n",
    "        if type(i) == list:\n",
    "            l=l+i\n",
    "    return l\n",
    "\n",
    "fun5([1,2,3],[4,5,6,7],\"Ram\",[\"a\",\"b\",\"c\"],(8,9,10))"
   ]
  },
  {
   "cell_type": "code",
   "execution_count": 34,
   "id": "bb60c973",
   "metadata": {},
   "outputs": [
    {
     "data": {
      "text/plain": [
       "[[1, 2, 3], [4, 5, 6, 7], ['a', 'b', 'c']]"
      ]
     },
     "execution_count": 34,
     "metadata": {},
     "output_type": "execute_result"
    }
   ],
   "source": [
    "def fun5(*args):\n",
    "    l=[]\n",
    "    for i in args:\n",
    "        if type(i) == list:\n",
    "            l.append(i)\n",
    "    return l\n",
    "\n",
    "fun5([1,2,3],[4,5,6,7],\"Ram\",[\"a\",\"b\",\"c\"],(8,9,10))"
   ]
  },
  {
   "cell_type": "code",
   "execution_count": 46,
   "id": "ea75bc9d",
   "metadata": {},
   "outputs": [
    {
     "data": {
      "text/plain": [
       "[1, 2, 3, 1, 2, 3, 4, 56, 7, 8, 9, 1, 2, 3, 4, 1, 2, 3]"
      ]
     },
     "execution_count": 46,
     "metadata": {},
     "output_type": "execute_result"
    }
   ],
   "source": [
    "''' 6. write a function which will be able to take a list as an input return\n",
    "       an index  of each element like a inbulit index function \n",
    "       but even if we have repeted the element'''\n",
    "\n",
    "def fun6(*args):\n",
    "    l=[]\n",
    "    for i in args:\n",
    "        if type(i) == list or type(i):\n",
    "            l=l+i\n",
    "            \n",
    "    return l\n",
    "\n",
    "fun6([1,2,3,1,2,3,4,56,7,8,9],[1,2,3,4],[1,2,3])"
   ]
  },
  {
   "cell_type": "code",
   "execution_count": 49,
   "id": "417cdc2d",
   "metadata": {},
   "outputs": [
    {
     "data": {
      "text/plain": [
       "['.ipynb_checkpoints',\n",
       " '10._9th_oct_Control_Flow_Statement.ipynb',\n",
       " '34. Function Part_1.ipynb',\n",
       " '36. Function Part-2.ipynb',\n",
       " '38. Iterator Generator File System.ipynb',\n",
       " 'Discussion in Loops .ipynb',\n",
       " 'Exceptional_handling_class_2.ipynb',\n",
       " 'For loop and while loop (another_classes).ipynb',\n",
       " 'Function Question Practise.ipynb',\n",
       " 'If, Else, For_loop and While_loop.ipynb',\n",
       " 'Logging.ipynb',\n",
       " 'test.txt',\n",
       " 'test2.txt',\n",
       " 'Test_2.log']"
      ]
     },
     "execution_count": 49,
     "metadata": {},
     "output_type": "execute_result"
    }
   ],
   "source": [
    "''' 7. write a function which will would return list of all the \n",
    "        file name from a directory.'''\n",
    "import os\n",
    "os.listdir()"
   ]
  },
  {
   "cell_type": "code",
   "execution_count": null,
   "id": "17334ffa",
   "metadata": {},
   "outputs": [],
   "source": []
  }
 ],
 "metadata": {
  "kernelspec": {
   "display_name": "Python 3 (ipykernel)",
   "language": "python",
   "name": "python3"
  },
  "language_info": {
   "codemirror_mode": {
    "name": "ipython",
    "version": 3
   },
   "file_extension": ".py",
   "mimetype": "text/x-python",
   "name": "python",
   "nbconvert_exporter": "python",
   "pygments_lexer": "ipython3",
   "version": "3.9.12"
  }
 },
 "nbformat": 4,
 "nbformat_minor": 5
}
