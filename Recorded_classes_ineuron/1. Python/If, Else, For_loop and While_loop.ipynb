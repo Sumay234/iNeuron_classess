{
 "cells": [
  {
   "cell_type": "markdown",
   "id": "85292712",
   "metadata": {},
   "source": [
    "# If ,Else and For Loop"
   ]
  },
  {
   "cell_type": "code",
   "execution_count": null,
   "id": "0feb7d50",
   "metadata": {
    "scrolled": true
   },
   "outputs": [],
   "source": [
    "income=int(input(\"Put your salary:- \"))\n",
    "if income < 5000:\n",
    "    print(\"I will buy a phone\")\n",
    "elif income < 7000:\n",
    "    print(\"I will buy a car\")\n",
    "elif income < 9000:\n",
    "    print(\"I will buy a house\")\n",
    "else:\n",
    "    print(\"Uff i can't buy anything\")"
   ]
  },
  {
   "cell_type": "code",
   "execution_count": null,
   "id": "532e4c54",
   "metadata": {
    "scrolled": true
   },
   "outputs": [],
   "source": [
    "try:\n",
    "    income=15000\n",
    "    if income < 5000:\n",
    "        print(\"I can't buy anything \")\n",
    "    elif income < 7000:\n",
    "        print(\"I can buy only a phone\")\n",
    "    elif income < 9000:\n",
    "        print(\"I can buy a house\")\n",
    "    else:\n",
    "        print(\"Hurray!, i have good income so i can buy anything\")\n",
    "\n",
    "except Exception as e:\n",
    "    print(e)"
   ]
  },
  {
   "cell_type": "code",
   "execution_count": null,
   "id": "2b751451",
   "metadata": {
    "scrolled": true
   },
   "outputs": [],
   "source": [
    "try:\n",
    "    income=int(input(\"Enter your salary MR.- \"))\n",
    "    if income < 5000:\n",
    "        print(\"I can't buy anything \")\n",
    "    elif income < 7000:\n",
    "        print(\"I can buy only a phone\")\n",
    "    elif income < 9000:\n",
    "        print(\"I can buy a house\")\n",
    "    else:\n",
    "        print(\"Hurray!, i have good income so i can buy anything\")\n",
    "\n",
    "except Exception as e:\n",
    "    print(F\"You have enter wrong output, {e} \")"
   ]
  },
  {
   "cell_type": "code",
   "execution_count": null,
   "id": "77f4e0a9",
   "metadata": {
    "scrolled": true
   },
   "outputs": [],
   "source": []
  },
  {
   "cell_type": "code",
   "execution_count": 36,
   "id": "cd4a6262",
   "metadata": {
    "scrolled": true
   },
   "outputs": [
    {
     "name": "stdout",
     "output_type": "stream",
     "text": [
      "4565\n",
      "discount 228.25\n"
     ]
    }
   ],
   "source": [
    "price=int(input())\n",
    "if price > 20000:\n",
    "    discount= price*0.20\n",
    "    print(\"discount\",discount)\n",
    "elif price <= 7000:\n",
    "    discount= price*.05\n",
    "    print(\"discount\", discount)\n",
    "else:\n",
    "    print(\"no discount\")"
   ]
  },
  {
   "cell_type": "code",
   "execution_count": 34,
   "id": "3537615d",
   "metadata": {
    "scrolled": true
   },
   "outputs": [
    {
     "name": "stdout",
     "output_type": "stream",
     "text": [
      "Enter the course price: 25000\n",
      "Your discount price is : 5000.0\n",
      "After discount your price is : 20000.0\n"
     ]
    }
   ],
   "source": [
    "total_price=int(input(\"Enter the course price: \"))\n",
    "if total_price > 20000:\n",
    "    discount= total_price* 0.20\n",
    "    print(f\"Your discount price is : {discount}\")\n",
    "    print(f\"After discount your price is : {total_price-discount}\")\n",
    "elif total_price >= 11000:\n",
    "    discount =total_price*0.05\n",
    "    print(f\"Your discount price is: {discount}\")\n",
    "    print(f\"After discount your price is: {total_price-discount}\")\n",
    "elif total_price >= 9000:\n",
    "    discount =total_price*0.04\n",
    "    print(f\"Your Discount price is: {discount}\")\n",
    "    print(f\"After discount your total price is: {total_price-discount}\")\n",
    "else:\n",
    "    print (\"So Sorry! your purchasing price is too low \")"
   ]
  },
  {
   "cell_type": "code",
   "execution_count": 40,
   "id": "ff4961e5",
   "metadata": {
    "scrolled": true
   },
   "outputs": [
    {
     "name": "stdout",
     "output_type": "stream",
     "text": [
      "Enter the coupn code: 4558\n",
      "Kindly use valid coupoun code\n"
     ]
    }
   ],
   "source": [
    "## Using coupon code\n",
    "\n",
    "coup=input(\"Enter the coupn code: \")\n",
    "if coup==\"SUDH50\":\n",
    "    print(\"you will be able to get a discount of 5%\")\n",
    "    paid_amount=7080*0.05\n",
    "    print(\"Discount of \",paid_amount)\n",
    "else:\n",
    "    print(\"Kindly use valid coupoun code\")"
   ]
  },
  {
   "cell_type": "code",
   "execution_count": 47,
   "id": "f7ab127a",
   "metadata": {
    "scrolled": true
   },
   "outputs": [
    {
     "name": "stdout",
     "output_type": "stream",
     "text": [
      "Enter the coupn code: HGFGH\n",
      "Kindly use valid coupoun code\n"
     ]
    }
   ],
   "source": [
    "## Using coupon code\n",
    "\n",
    "coup=input(\"Enter the coupn code: \")\n",
    "if coup==\"SUDH50\" or coup==\"sudh50\":\n",
    "    \n",
    "    print(\"you will be able to get a discount of 5%\")\n",
    "    paid_amount=7080*0.05\n",
    "    print(\"Discount of \",paid_amount)\n",
    "else:\n",
    "    print(\"Kindly use valid coupoun code\")"
   ]
  },
  {
   "cell_type": "code",
   "execution_count": 71,
   "id": "af40408e",
   "metadata": {},
   "outputs": [
    {
     "name": "stdout",
     "output_type": "stream",
     "text": [
      "What is your Study Hours:- 1\n",
      "it will take more than 9 months to complete the course\n"
     ]
    }
   ],
   "source": [
    "study_hour=int(input(\"What is your Study Hours:- \"))\n",
    "\n",
    "if study_hour <= 2:\n",
    "    print(\"it will take more than 9 months to complete the course\")\n",
    "elif study_hour < 6 and study_hour > 4:\n",
    "    print(\"It will take only 6 month to complete the entire course\")\n",
    "elif study_hour > 10:\n",
    "    print(\"It will take just 3 months to complete thecourse\")\n",
    "    \n",
    "else:\n",
    "    print(\"it will be hard\")"
   ]
  },
  {
   "cell_type": "markdown",
   "id": "b471dcb6",
   "metadata": {},
   "source": [
    "# While loop and For Loop"
   ]
  },
  {
   "cell_type": "code",
   "execution_count": 72,
   "id": "4978f6e0",
   "metadata": {},
   "outputs": [
    {
     "name": "stdout",
     "output_type": "stream",
     "text": [
      "1\n",
      "2\n",
      "3\n",
      "4\n",
      "5\n"
     ]
    }
   ],
   "source": [
    "l=[1,2,3,4,5]\n",
    "for i in l:\n",
    "    print(i)"
   ]
  },
  {
   "cell_type": "code",
   "execution_count": 73,
   "id": "8b07c005",
   "metadata": {},
   "outputs": [
    {
     "name": "stdout",
     "output_type": "stream",
     "text": [
      "<class 'int'>\n",
      "<class 'int'>\n",
      "<class 'float'>\n",
      "<class 'complex'>\n",
      "<class 'str'>\n"
     ]
    }
   ],
   "source": [
    "l=[1,2,5.6,5+7j,\"rahul\"]\n",
    "for i in l:\n",
    "    print(type(i))"
   ]
  },
  {
   "cell_type": "code",
   "execution_count": 75,
   "id": "089ed7f7",
   "metadata": {},
   "outputs": [
    {
     "name": "stdout",
     "output_type": "stream",
     "text": [
      "<class 'int'> type of  1\n",
      "<class 'int'> type of  2\n",
      "<class 'float'> type of  5.6\n",
      "<class 'complex'> type of  (5+7j)\n",
      "<class 'str'> type of  rahul\n"
     ]
    }
   ],
   "source": [
    "l=[1,2,5.6,5+7j,\"rahul\"]\n",
    "for i in l:\n",
    "    print(type(i), \"type of \", i)"
   ]
  },
  {
   "cell_type": "code",
   "execution_count": 76,
   "id": "ca2c9b7b",
   "metadata": {},
   "outputs": [
    {
     "name": "stdout",
     "output_type": "stream",
     "text": [
      "3\n",
      "6\n",
      "7.6\n",
      "9\n",
      "10\n"
     ]
    }
   ],
   "source": [
    "l=[1,4,5.6,7,8]\n",
    "for i in l:\n",
    "    print(i+2)"
   ]
  },
  {
   "cell_type": "code",
   "execution_count": 80,
   "id": "ec7edb03",
   "metadata": {},
   "outputs": [
    {
     "name": "stdout",
     "output_type": "stream",
     "text": [
      "3\n",
      "6\n",
      "7.6\n",
      "9\n",
      "10\n",
      "[3, 6, 7.6, 9, 10]\n"
     ]
    }
   ],
   "source": [
    "l=[1,4,5.6,7,8]\n",
    "l1=[]\n",
    "for i in l:\n",
    "    print(i+2)\n",
    "    l1.append(i+2)\n",
    "    \n",
    "print(l1)"
   ]
  },
  {
   "cell_type": "code",
   "execution_count": 81,
   "id": "170a39ad",
   "metadata": {},
   "outputs": [
    {
     "data": {
      "text/plain": [
       "[3, 6, 7.6, 9, 10]"
      ]
     },
     "execution_count": 81,
     "metadata": {},
     "output_type": "execute_result"
    }
   ],
   "source": [
    "l1"
   ]
  },
  {
   "cell_type": "code",
   "execution_count": 87,
   "id": "41f52d77",
   "metadata": {},
   "outputs": [
    {
     "name": "stdout",
     "output_type": "stream",
     "text": [
      "2\n",
      "45\n",
      "78\n",
      "12\n",
      "\n",
      "\n",
      "\n"
     ]
    }
   ],
   "source": [
    "l=[2,45,78,12,\"sudh\",6+7j,[4,5,6]]\n",
    "\n",
    "for i in l:\n",
    "    if type(i)==int:\n",
    "        print(i)\n",
    "    else:\n",
    "        print()"
   ]
  },
  {
   "cell_type": "code",
   "execution_count": 89,
   "id": "61a5d827",
   "metadata": {},
   "outputs": [
    {
     "name": "stdout",
     "output_type": "stream",
     "text": [
      "2\n",
      "45\n",
      "78\n",
      "12\n",
      "489\n"
     ]
    }
   ],
   "source": [
    "l=[2,45,78,12,545.3,54.5,489,\"sudh\",6+7j,[4,5,6]]\n",
    "\n",
    "for i in l:\n",
    "    if type(i)==int:\n",
    "        print(i)"
   ]
  },
  {
   "cell_type": "code",
   "execution_count": 90,
   "id": "b28e3b8b",
   "metadata": {},
   "outputs": [
    {
     "name": "stdout",
     "output_type": "stream",
     "text": [
      "sudh\n"
     ]
    }
   ],
   "source": [
    "for i in l:\n",
    "    if type(i)==str:\n",
    "        print(i)"
   ]
  },
  {
   "cell_type": "code",
   "execution_count": 101,
   "id": "93184e50",
   "metadata": {},
   "outputs": [
    {
     "name": "stdout",
     "output_type": "stream",
     "text": [
      "4\n",
      "2025\n",
      "6084\n",
      "144\n",
      "239121\n",
      "\n",
      "[4, 2025, 6084, 144, 239121]\n"
     ]
    }
   ],
   "source": [
    "l=[2,45,78,12,545.3,54.5,489,\"sudh\",6+7j,[4,5,6]]\n",
    "l1=[]\n",
    "\n",
    "for i in l:\n",
    "    if type(i)==int:\n",
    "        print(i**2)\n",
    "        l1.append(i**2)\n",
    "        \n",
    "        \n",
    "print()        \n",
    "print(l1)"
   ]
  },
  {
   "cell_type": "code",
   "execution_count": 105,
   "id": "f797ad8c",
   "metadata": {},
   "outputs": [
    {
     "data": {
      "text/plain": [
       "range(0, 5)"
      ]
     },
     "execution_count": 105,
     "metadata": {},
     "output_type": "execute_result"
    }
   ],
   "source": [
    "range(5)"
   ]
  },
  {
   "cell_type": "code",
   "execution_count": 107,
   "id": "f3fd3db9",
   "metadata": {},
   "outputs": [
    {
     "data": {
      "text/plain": [
       "10"
      ]
     },
     "execution_count": 107,
     "metadata": {},
     "output_type": "execute_result"
    }
   ],
   "source": [
    "len(l)"
   ]
  },
  {
   "cell_type": "code",
   "execution_count": 102,
   "id": "4f0352c2",
   "metadata": {},
   "outputs": [
    {
     "name": "stdout",
     "output_type": "stream",
     "text": [
      "index  0  for an element  2\n",
      "index  1  for an element  45\n",
      "index  2  for an element  78\n",
      "index  3  for an element  12\n",
      "index  4  for an element  545.3\n",
      "index  5  for an element  54.5\n",
      "index  6  for an element  489\n",
      "index  7  for an element  sudh\n",
      "index  8  for an element  (6+7j)\n",
      "index  9  for an element  [4, 5, 6]\n"
     ]
    }
   ],
   "source": [
    "for i in range(len(l)):\n",
    "    print(\"index \", i , \" for an element \", l[i])"
   ]
  },
  {
   "cell_type": "code",
   "execution_count": 108,
   "id": "f2020dff",
   "metadata": {},
   "outputs": [
    {
     "name": "stdout",
     "output_type": "stream",
     "text": [
      "(0, 2)\n",
      "(1, 45)\n",
      "(2, 78)\n",
      "(3, 12)\n",
      "(4, 545.3)\n",
      "(5, 54.5)\n",
      "(6, 489)\n",
      "(7, 'sudh')\n",
      "(8, (6+7j))\n",
      "(9, [4, 5, 6])\n"
     ]
    }
   ],
   "source": [
    "for i in enumerate(l):\n",
    "    print(i)"
   ]
  },
  {
   "cell_type": "code",
   "execution_count": 110,
   "id": "e5efe0ca",
   "metadata": {},
   "outputs": [
    {
     "name": "stdout",
     "output_type": "stream",
     "text": [
      "0 2\n",
      "1 45\n",
      "2 78\n",
      "3 12\n",
      "4 545.3\n",
      "5 54.5\n",
      "6 489\n",
      "7 sudh\n",
      "8 (6+7j)\n",
      "9 [4, 5, 6]\n"
     ]
    }
   ],
   "source": [
    "for i,j in enumerate(l):\n",
    "    print(i,j)"
   ]
  },
  {
   "cell_type": "code",
   "execution_count": null,
   "id": "ceb062ec",
   "metadata": {},
   "outputs": [],
   "source": []
  },
  {
   "cell_type": "code",
   "execution_count": null,
   "id": "42448805",
   "metadata": {},
   "outputs": [],
   "source": []
  },
  {
   "cell_type": "code",
   "execution_count": null,
   "id": "e7a9640f",
   "metadata": {},
   "outputs": [],
   "source": []
  },
  {
   "cell_type": "code",
   "execution_count": null,
   "id": "12c34ad1",
   "metadata": {},
   "outputs": [],
   "source": []
  },
  {
   "cell_type": "code",
   "execution_count": null,
   "id": "6cae7927",
   "metadata": {},
   "outputs": [],
   "source": []
  }
 ],
 "metadata": {
  "kernelspec": {
   "display_name": "Python 3 (ipykernel)",
   "language": "python",
   "name": "python3"
  },
  "language_info": {
   "codemirror_mode": {
    "name": "ipython",
    "version": 3
   },
   "file_extension": ".py",
   "mimetype": "text/x-python",
   "name": "python",
   "nbconvert_exporter": "python",
   "pygments_lexer": "ipython3",
   "version": "3.9.12"
  }
 },
 "nbformat": 4,
 "nbformat_minor": 5
}
