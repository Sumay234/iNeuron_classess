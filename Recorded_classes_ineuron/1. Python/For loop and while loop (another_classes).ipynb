{
 "cells": [
  {
   "cell_type": "markdown",
   "id": "d14873e3",
   "metadata": {},
   "source": [
    "# For Loop and While Loop"
   ]
  },
  {
   "cell_type": "code",
   "execution_count": 1,
   "id": "654c8bc2",
   "metadata": {},
   "outputs": [],
   "source": [
    "l=[\"name\",\"game\",\"fame\",45,25]"
   ]
  },
  {
   "cell_type": "code",
   "execution_count": 2,
   "id": "31d72066",
   "metadata": {},
   "outputs": [
    {
     "name": "stdout",
     "output_type": "stream",
     "text": [
      "name\n",
      "game\n",
      "fame\n",
      "45\n",
      "25\n",
      "\n",
      "If i is going to run than only it will executed\n"
     ]
    }
   ],
   "source": [
    "for i in l:\n",
    "    print(i)\n",
    "else:\n",
    "    print()\n",
    "    print(\"If i is going to run than only it will executed\")"
   ]
  },
  {
   "cell_type": "code",
   "execution_count": 3,
   "id": "7b998071",
   "metadata": {},
   "outputs": [
    {
     "name": "stdout",
     "output_type": "stream",
     "text": [
      "name\n",
      "Check the statement\n",
      "Check the statement\n",
      "Check the statement\n",
      "Check the statement\n"
     ]
    }
   ],
   "source": [
    "for i in l:\n",
    "    if i ==\"name\":\n",
    "        print(i)\n",
    "    else:\n",
    "        print(\"Check the statement\")\n",
    "        "
   ]
  },
  {
   "cell_type": "code",
   "execution_count": 4,
   "id": "1c0ec4f7",
   "metadata": {},
   "outputs": [
    {
     "name": "stdout",
     "output_type": "stream",
     "text": [
      "name\n",
      "Check the statement\n"
     ]
    }
   ],
   "source": [
    "for i in l:\n",
    "    if i ==\"name\":\n",
    "        print(i)\n",
    "else:\n",
    "    print(\"Check the statement\")"
   ]
  },
  {
   "cell_type": "code",
   "execution_count": 5,
   "id": "8249584f",
   "metadata": {},
   "outputs": [],
   "source": [
    "for i in l:\n",
    "    if i ==\"name\":\n",
    "        break\n",
    "        print(i)\n",
    "else:\n",
    "        print(\"Check the statement\")"
   ]
  },
  {
   "cell_type": "code",
   "execution_count": 6,
   "id": "37eeb970",
   "metadata": {},
   "outputs": [
    {
     "name": "stdout",
     "output_type": "stream",
     "text": [
      "name\n"
     ]
    }
   ],
   "source": [
    "for i in l:\n",
    "    if i ==\"game\":\n",
    "        break\n",
    "    print(i)\n",
    "else:\n",
    "        print(\"Check the statement\")"
   ]
  },
  {
   "cell_type": "code",
   "execution_count": 7,
   "id": "e4ad48d0",
   "metadata": {},
   "outputs": [
    {
     "data": {
      "text/plain": [
       "['name', 'game', 'fame', 45, 25]"
      ]
     },
     "execution_count": 7,
     "metadata": {},
     "output_type": "execute_result"
    }
   ],
   "source": [
    "l"
   ]
  },
  {
   "cell_type": "code",
   "execution_count": 8,
   "id": "8f57ed49",
   "metadata": {},
   "outputs": [
    {
     "name": "stdout",
     "output_type": "stream",
     "text": [
      "name\n",
      "game\n"
     ]
    }
   ],
   "source": [
    "for i in l:\n",
    "    if i ==\"fame\":\n",
    "        break\n",
    "    print(i)\n",
    "else:\n",
    "        print(\"Check the statement\")"
   ]
  },
  {
   "cell_type": "code",
   "execution_count": 9,
   "id": "9c814733",
   "metadata": {},
   "outputs": [],
   "source": [
    "s=\"sudhansu\"\n",
    "\n",
    "for i in s:\n",
    "    if i == \"n\":\n",
    "        break\n",
    "else:\n",
    "    print(\"When my name will execute than it will print\")"
   ]
  },
  {
   "cell_type": "code",
   "execution_count": 10,
   "id": "d3545b07",
   "metadata": {},
   "outputs": [
    {
     "name": "stdout",
     "output_type": "stream",
     "text": [
      "s\n",
      "u\n"
     ]
    }
   ],
   "source": [
    "# if we put print aside break it will print the given statement\n",
    "\n",
    "for i in s:\n",
    "    if i == \"d\":\n",
    "        break\n",
    "    print(i)\n",
    "\n",
    "else:\n",
    "    print(\"When my name will execute than it will print\")\n",
    "    "
   ]
  },
  {
   "cell_type": "code",
   "execution_count": 11,
   "id": "f3b73369",
   "metadata": {},
   "outputs": [],
   "source": [
    "# if we put print under break it will print the given statement\n",
    "\n",
    "for i in s:\n",
    "    if i == \"d\":\n",
    "        break\n",
    "        print(i)\n",
    "\n",
    "else:\n",
    "    print(\"When my name will execute than it will print\")"
   ]
  },
  {
   "cell_type": "code",
   "execution_count": 12,
   "id": "60fcacea",
   "metadata": {},
   "outputs": [],
   "source": [
    "for i in s:\n",
    "    if i == \"s\":\n",
    "        break\n",
    "        print(i)\n",
    "\n",
    "else:\n",
    "    print(\"When my name will execute than it will print\")"
   ]
  },
  {
   "cell_type": "code",
   "execution_count": 13,
   "id": "f8e60799",
   "metadata": {},
   "outputs": [],
   "source": [
    "for i in l:\n",
    "    if i ==\"fame\":\n",
    "        break\n",
    "        print(i)\n",
    "else:\n",
    "        print(\"Check the statement\")"
   ]
  },
  {
   "cell_type": "markdown",
   "id": "4747ba4d",
   "metadata": {},
   "source": [
    " For loop just iterated the collection whereas,                        \n",
    " While loop check statement  wheather it is True or not    "
   ]
  },
  {
   "cell_type": "code",
   "execution_count": 14,
   "id": "a4dee0a0",
   "metadata": {},
   "outputs": [
    {
     "name": "stdout",
     "output_type": "stream",
     "text": [
      "1\n",
      "2\n",
      "3\n",
      "4\n",
      "5\n"
     ]
    }
   ],
   "source": [
    "a=1\n",
    "while a <6:\n",
    "    print(a)\n",
    "    a=a+1\n",
    "    \n",
    "     # This is a correct code"
   ]
  },
  {
   "cell_type": "code",
   "execution_count": 15,
   "id": "260459c2",
   "metadata": {},
   "outputs": [],
   "source": [
    "a=1\n",
    "while a>6:\n",
    "    print(a)\n",
    "    a=a+1\n",
    "    \n",
    "    # This is a wrong code"
   ]
  },
  {
   "cell_type": "code",
   "execution_count": 16,
   "id": "f2d5f657",
   "metadata": {},
   "outputs": [
    {
     "name": "stdout",
     "output_type": "stream",
     "text": [
      "1\n"
     ]
    }
   ],
   "source": [
    "a=1\n",
    "while a==1:\n",
    "    print(a)\n",
    "    a=a+1\n",
    "    \n",
    "    # This is a wrong code"
   ]
  },
  {
   "cell_type": "code",
   "execution_count": 17,
   "id": "5ea14d5d",
   "metadata": {},
   "outputs": [
    {
     "name": "stdout",
     "output_type": "stream",
     "text": [
      "1\n",
      "2\n",
      "3\n",
      "4\n",
      "5\n",
      "6\n",
      "7\n",
      "8\n",
      "9\n"
     ]
    }
   ],
   "source": [
    "a=1\n",
    "while a <10:\n",
    "    print(a)\n",
    "    a=a+1\n",
    "    \n",
    "    # This is a right code"
   ]
  },
  {
   "cell_type": "code",
   "execution_count": 18,
   "id": "f8432be2",
   "metadata": {},
   "outputs": [
    {
     "name": "stdout",
     "output_type": "stream",
     "text": [
      "1\n"
     ]
    }
   ],
   "source": [
    "a=1\n",
    "if a < 6:\n",
    "    print(a)\n",
    "    a=a+1"
   ]
  },
  {
   "cell_type": "code",
   "execution_count": 19,
   "id": "a37d91ee",
   "metadata": {},
   "outputs": [
    {
     "name": "stdout",
     "output_type": "stream",
     "text": [
      "1\n",
      "2\n",
      "3\n",
      "4\n"
     ]
    }
   ],
   "source": [
    "a=1\n",
    "while a < 9:\n",
    "    print(a)\n",
    "    if a==4:\n",
    "        break\n",
    "    a=a+1\n",
    "    \n",
    "    # This is a correct code"
   ]
  },
  {
   "cell_type": "code",
   "execution_count": 20,
   "id": "636b80b2",
   "metadata": {},
   "outputs": [
    {
     "name": "stdout",
     "output_type": "stream",
     "text": [
      "2\n",
      "3\n",
      "4\n"
     ]
    }
   ],
   "source": [
    "a=1\n",
    "while a < 5:\n",
    "    \n",
    "    if a==4:\n",
    "        break\n",
    "    a=a+1\n",
    "    print(a)\n",
    "    \n",
    "    # This is a wrong code"
   ]
  },
  {
   "cell_type": "code",
   "execution_count": 21,
   "id": "5a6caba2",
   "metadata": {},
   "outputs": [
    {
     "name": "stdout",
     "output_type": "stream",
     "text": [
      "4\n"
     ]
    }
   ],
   "source": [
    "a=1\n",
    "while a < 5:\n",
    "    \n",
    "    if a==4:\n",
    "        print(a)\n",
    "        break\n",
    "    a=a+1\n",
    "    \n",
    "    # This is a wrong code"
   ]
  },
  {
   "cell_type": "code",
   "execution_count": 34,
   "id": "3f7dd458",
   "metadata": {},
   "outputs": [
    {
     "name": "stdout",
     "output_type": "stream",
     "text": [
      "2\n",
      "3\n",
      "4\n",
      "5\n"
     ]
    }
   ],
   "source": [
    "a=2\n",
    "while a < 6:\n",
    "    print(a)\n",
    "    if a==5:\n",
    "        break\n",
    "    a=a+1"
   ]
  },
  {
   "cell_type": "code",
   "execution_count": 31,
   "id": "07152889",
   "metadata": {},
   "outputs": [
    {
     "name": "stdout",
     "output_type": "stream",
     "text": [
      "1\n",
      "2\n",
      "3\n",
      "4\n",
      "5\n",
      "6\n",
      "7\n",
      "8\n",
      "9\n",
      "10\n"
     ]
    }
   ],
   "source": [
    "a=1\n",
    "while a < 19:\n",
    "    print(a)\n",
    "    if a==10:\n",
    "        break\n",
    "    a=a+1\n",
    "    \n",
    "    # This is a correct code"
   ]
  },
  {
   "cell_type": "markdown",
   "id": "d98d7196",
   "metadata": {},
   "source": [
    "# range"
   ]
  },
  {
   "cell_type": "code",
   "execution_count": 35,
   "id": "1792ec5f",
   "metadata": {},
   "outputs": [
    {
     "data": {
      "text/plain": [
       "range(0, 6)"
      ]
     },
     "execution_count": 35,
     "metadata": {},
     "output_type": "execute_result"
    }
   ],
   "source": [
    "range(6)"
   ]
  },
  {
   "cell_type": "code",
   "execution_count": 36,
   "id": "7c32685f",
   "metadata": {},
   "outputs": [
    {
     "name": "stdout",
     "output_type": "stream",
     "text": [
      "0\n",
      "1\n",
      "2\n",
      "3\n",
      "4\n",
      "5\n"
     ]
    }
   ],
   "source": [
    "for i in range(6):\n",
    "    print(i)"
   ]
  },
  {
   "cell_type": "code",
   "execution_count": 37,
   "id": "32f34fd4",
   "metadata": {},
   "outputs": [
    {
     "data": {
      "text/plain": [
       "[0, 1, 2, 3, 4, 5]"
      ]
     },
     "execution_count": 37,
     "metadata": {},
     "output_type": "execute_result"
    }
   ],
   "source": [
    "list(range(6))"
   ]
  },
  {
   "cell_type": "code",
   "execution_count": 38,
   "id": "7d926f38",
   "metadata": {},
   "outputs": [
    {
     "data": {
      "text/plain": [
       "[]"
      ]
     },
     "execution_count": 38,
     "metadata": {},
     "output_type": "execute_result"
    }
   ],
   "source": [
    "list(range(2,10,-1))"
   ]
  },
  {
   "cell_type": "code",
   "execution_count": 41,
   "id": "e08a7774",
   "metadata": {},
   "outputs": [
    {
     "data": {
      "text/plain": [
       "[2, 1, 0, -1, -2, -3, -4, -5, -6, -7, -8, -9]"
      ]
     },
     "execution_count": 41,
     "metadata": {},
     "output_type": "execute_result"
    }
   ],
   "source": [
    "list(range(2,-10,-1))"
   ]
  },
  {
   "cell_type": "code",
   "execution_count": 42,
   "id": "3c4836c3",
   "metadata": {},
   "outputs": [
    {
     "data": {
      "text/plain": [
       "[]"
      ]
     },
     "execution_count": 42,
     "metadata": {},
     "output_type": "execute_result"
    }
   ],
   "source": [
    "list(range(10,6,1))"
   ]
  },
  {
   "cell_type": "code",
   "execution_count": 43,
   "id": "6c2c426d",
   "metadata": {},
   "outputs": [
    {
     "data": {
      "text/plain": [
       "[10, 9, 8, 7]"
      ]
     },
     "execution_count": 43,
     "metadata": {},
     "output_type": "execute_result"
    }
   ],
   "source": [
    "list(range(10,6,-1))"
   ]
  },
  {
   "cell_type": "code",
   "execution_count": 44,
   "id": "52d0df52",
   "metadata": {},
   "outputs": [
    {
     "name": "stdout",
     "output_type": "stream",
     "text": [
      "*\r\n",
      "**\r\n",
      "***\r\n",
      "****\r\n",
      "*****\r\n"
     ]
    }
   ],
   "source": [
    "n=5\n",
    "for i in range(0,n):\n",
    "    for j in range(0,i+1):\n",
    "        print(\"*\", end =\"\")\n",
    "    print(\"\\r\")"
   ]
  },
  {
   "cell_type": "code",
   "execution_count": 48,
   "id": "cd4e1055",
   "metadata": {},
   "outputs": [
    {
     "name": "stdout",
     "output_type": "stream",
     "text": [
      "*\r\n",
      "**\r\n",
      "***\r\n",
      "****\r\n",
      "*****\r\n"
     ]
    }
   ],
   "source": [
    "n=5\n",
    "for i in range(0,n):\n",
    "    for j in range(0,i+1):\n",
    "        print(\"*\",end =\"\")\n",
    "    print(\"\\r\")"
   ]
  },
  {
   "cell_type": "code",
   "execution_count": 50,
   "id": "ea50ad4f",
   "metadata": {},
   "outputs": [
    {
     "name": "stdout",
     "output_type": "stream",
     "text": [
      "*\r\n",
      "**\r\n",
      "***\r\n",
      "****\r\n",
      "*****\r\n"
     ]
    }
   ],
   "source": [
    "n=5\n",
    "for i in range(0,n):\n",
    "    for j in range(0,i+1):\n",
    "        print(\"*\",end =\"\")\n",
    "    print(\"\\r\")"
   ]
  },
  {
   "cell_type": "code",
   "execution_count": 54,
   "id": "7ed078e5",
   "metadata": {},
   "outputs": [
    {
     "data": {
      "text/plain": [
       "4"
      ]
     },
     "execution_count": 54,
     "metadata": {},
     "output_type": "execute_result"
    }
   ],
   "source": [
    "t=(1,2,3,4,5,6,7,8,9)\n",
    "t.index(5)"
   ]
  },
  {
   "cell_type": "code",
   "execution_count": 55,
   "id": "3e1fe2fc",
   "metadata": {},
   "outputs": [
    {
     "data": {
      "text/plain": [
       "9"
      ]
     },
     "execution_count": 55,
     "metadata": {},
     "output_type": "execute_result"
    }
   ],
   "source": [
    "t=(1,2,3,4,5,6,7,8,9)\n",
    "len(t)"
   ]
  },
  {
   "cell_type": "code",
   "execution_count": 56,
   "id": "b05a716a",
   "metadata": {},
   "outputs": [
    {
     "data": {
      "text/plain": [
       "range(0, 9)"
      ]
     },
     "execution_count": 56,
     "metadata": {},
     "output_type": "execute_result"
    }
   ],
   "source": [
    "t=(1,2,3,4,5,6,7,8,9)\n",
    "range(len(t))"
   ]
  },
  {
   "cell_type": "code",
   "execution_count": 61,
   "id": "00919881",
   "metadata": {},
   "outputs": [
    {
     "name": "stdout",
     "output_type": "stream",
     "text": [
      "0 1\n",
      "1 2\n",
      "2 30\n",
      "3 45\n",
      "4 15\n",
      "5 6\n",
      "6 7\n",
      "7 8\n",
      "8 9\n"
     ]
    }
   ],
   "source": [
    "t=(1,2,30,45,15,6,7,8,9)\n",
    "for i in range(len(t)):\n",
    "    print(i, t[i])"
   ]
  },
  {
   "cell_type": "code",
   "execution_count": 63,
   "id": "78209954",
   "metadata": {},
   "outputs": [
    {
     "name": "stdout",
     "output_type": "stream",
     "text": [
      "8 9\n",
      "7 8\n",
      "6 7\n",
      "5 6\n",
      "4 15\n",
      "3 45\n",
      "2 30\n",
      "1 2\n",
      "0 1\n"
     ]
    }
   ],
   "source": [
    "# in reverse\n",
    "for i in range(len(t)-1,-1,-1):\n",
    "    print(i, t[i])"
   ]
  },
  {
   "cell_type": "code",
   "execution_count": 66,
   "id": "20bb8b86",
   "metadata": {},
   "outputs": [
    {
     "name": "stdout",
     "output_type": "stream",
     "text": [
      "8 9\n",
      "7 8\n",
      "6 7\n",
      "5 6\n",
      "4 15\n",
      "3 45\n",
      "2 30\n",
      "1 2\n"
     ]
    }
   ],
   "source": [
    "for i in range(len(t)-1,0,-1):\n",
    "    print(i, t[i])"
   ]
  },
  {
   "cell_type": "code",
   "execution_count": 69,
   "id": "1b8afc35",
   "metadata": {},
   "outputs": [
    {
     "data": {
      "text/plain": [
       "{'a': 'ram', 'b': 'shyam', 'c': 'krish', 'd': [1, 2, 3, 4], 'e': (5, 6, 7, 8)}"
      ]
     },
     "execution_count": 69,
     "metadata": {},
     "output_type": "execute_result"
    }
   ],
   "source": [
    "d={\"a\":\"ram\",\"b\":\"shyam\",\"c\":\"krish\",\"d\":[1,2,3,4],\"e\":(5,6,7,8)}\n",
    "d"
   ]
  },
  {
   "cell_type": "code",
   "execution_count": 70,
   "id": "77a5297c",
   "metadata": {},
   "outputs": [
    {
     "name": "stdout",
     "output_type": "stream",
     "text": [
      "a\n",
      "b\n",
      "c\n",
      "d\n",
      "e\n"
     ]
    }
   ],
   "source": [
    "for i in d:\n",
    "    print(i)"
   ]
  },
  {
   "cell_type": "code",
   "execution_count": 71,
   "id": "09a95010",
   "metadata": {},
   "outputs": [
    {
     "name": "stdout",
     "output_type": "stream",
     "text": [
      "a ram\n",
      "b shyam\n",
      "c krish\n",
      "d [1, 2, 3, 4]\n",
      "e (5, 6, 7, 8)\n"
     ]
    }
   ],
   "source": [
    "for i in d:\n",
    "    print(i, d[i])"
   ]
  },
  {
   "cell_type": "code",
   "execution_count": 73,
   "id": "9395265f",
   "metadata": {},
   "outputs": [
    {
     "data": {
      "text/plain": [
       "dict_items([('a', 'ram'), ('b', 'shyam'), ('c', 'krish'), ('d', [1, 2, 3, 4]), ('e', (5, 6, 7, 8))])"
      ]
     },
     "execution_count": 73,
     "metadata": {},
     "output_type": "execute_result"
    }
   ],
   "source": [
    "d.items()"
   ]
  },
  {
   "cell_type": "code",
   "execution_count": 74,
   "id": "9389b61c",
   "metadata": {},
   "outputs": [
    {
     "name": "stdout",
     "output_type": "stream",
     "text": [
      "('a', 'ram')\n",
      "('b', 'shyam')\n",
      "('c', 'krish')\n",
      "('d', [1, 2, 3, 4])\n",
      "('e', (5, 6, 7, 8))\n"
     ]
    }
   ],
   "source": [
    "for i in d.items():\n",
    "    print(i)"
   ]
  },
  {
   "cell_type": "code",
   "execution_count": 76,
   "id": "a421f7a5",
   "metadata": {},
   "outputs": [
    {
     "data": {
      "text/plain": [
       "{2, 3, 4, 5, 6, 7, 8, 55, 65, 85, 88, 122, 665, 989}"
      ]
     },
     "execution_count": 76,
     "metadata": {},
     "output_type": "execute_result"
    }
   ],
   "source": [
    "set={2,3,5,4,8,5,5,5,5,6,4,5,7,8,122,5,88,5,85,4,989,5,665,5,55,65,4,5,5,5,85,8,5,8}\n",
    "set"
   ]
  },
  {
   "cell_type": "code",
   "execution_count": 77,
   "id": "28bce14f",
   "metadata": {},
   "outputs": [
    {
     "name": "stdout",
     "output_type": "stream",
     "text": [
      "65\n",
      "2\n",
      "3\n",
      "4\n",
      "5\n",
      "6\n",
      "7\n",
      "8\n",
      "85\n",
      "55\n",
      "88\n",
      "665\n",
      "122\n",
      "989\n"
     ]
    }
   ],
   "source": [
    "for i in set:\n",
    "    print(i)"
   ]
  },
  {
   "cell_type": "code",
   "execution_count": null,
   "id": "6d325c8f",
   "metadata": {},
   "outputs": [],
   "source": []
  },
  {
   "cell_type": "code",
   "execution_count": null,
   "id": "bd299ab7",
   "metadata": {},
   "outputs": [],
   "source": []
  }
 ],
 "metadata": {
  "kernelspec": {
   "display_name": "Python 3 (ipykernel)",
   "language": "python",
   "name": "python3"
  },
  "language_info": {
   "codemirror_mode": {
    "name": "ipython",
    "version": 3
   },
   "file_extension": ".py",
   "mimetype": "text/x-python",
   "name": "python",
   "nbconvert_exporter": "python",
   "pygments_lexer": "ipython3",
   "version": "3.9.12"
  }
 },
 "nbformat": 4,
 "nbformat_minor": 5
}
