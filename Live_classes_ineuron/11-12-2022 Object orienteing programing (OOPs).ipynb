{
 "cells": [
  {
   "cell_type": "code",
   "execution_count": 4,
   "id": "8ede086f",
   "metadata": {},
   "outputs": [
    {
     "name": "stderr",
     "output_type": "stream",
     "text": [
      "__main__ - WARNING - This is a warning\n",
      "__main__ - ERROR - This is a error\n"
     ]
    }
   ],
   "source": [
    "import logging\n",
    "\n",
    "#create a custom logger\n",
    "logger =logging.getLogger(__name__)\n",
    "\n",
    "#create handlers\n",
    "c_handler=logging.StreamHandler()\n",
    "f_handler=logging.FileHandler(\"abc.log\")\n",
    "c_handler.setLevel(logging.WARNING)\n",
    "f_handler.setLevel(logging.ERROR)\n",
    "\n",
    "# creatte formatters and add it to the handler\n",
    "\n",
    "c_format=logging.Formatter(\"%(name)s - %(levelname)s - %(message)s\")\n",
    "f_format=logging.Formatter(\"%(asctime)s - %(name)s - %(levelname)s - %(message)s\")\n",
    "c_handler.setFormatter(c_format)\n",
    "f_handler.setFormatter(f_format)\n",
    "\n",
    "# Add handler to the logger\n",
    "\n",
    "logger.addHandler(c_handler)\n",
    "logger.addHandler(f_handler)\n",
    "\n",
    "logger.warning(\"This is a warning\")\n",
    "logger.error(\"This is a error\")"
   ]
  },
  {
   "cell_type": "markdown",
   "id": "7d9e3c98",
   "metadata": {},
   "source": [
    "# OBJECT ORINATED PROGRAM (OOPs)"
   ]
  },
  {
   "cell_type": "markdown",
   "id": "8751facd",
   "metadata": {},
   "source": [
    "class: is a blueprint or code templeates for object creation.             \n",
    "object: object is instance of class"
   ]
  },
  {
   "cell_type": "markdown",
   "id": "6c6c5d31",
   "metadata": {},
   "source": [
    "properties of object ----> attributes or instance variable.          \n",
    "functionality of object ---> method/function().  "
   ]
  },
  {
   "cell_type": "code",
   "execution_count": 6,
   "id": "3843a4d4",
   "metadata": {},
   "outputs": [],
   "source": [
    "# creating a class--\n",
    "\n",
    "class Emp(): #class\n",
    "    pass"
   ]
  },
  {
   "cell_type": "code",
   "execution_count": 19,
   "id": "1bea691d",
   "metadata": {},
   "outputs": [],
   "source": [
    "# creating a object--(putting a class in variable is only creating a object)\n",
    "\n",
    "e=Emp()  #object"
   ]
  },
  {
   "cell_type": "code",
   "execution_count": 9,
   "id": "f3570f56",
   "metadata": {},
   "outputs": [
    {
     "data": {
      "text/plain": [
       "1782639979248"
      ]
     },
     "execution_count": 9,
     "metadata": {},
     "output_type": "execute_result"
    }
   ],
   "source": [
    "id(e)"
   ]
  },
  {
   "cell_type": "code",
   "execution_count": 14,
   "id": "043de605",
   "metadata": {},
   "outputs": [],
   "source": [
    "class Robot:\n",
    "    \n",
    "    def introduce_self(self):\n",
    "        print(\"my name is \" + self.name)"
   ]
  },
  {
   "cell_type": "code",
   "execution_count": 15,
   "id": "6b4e16ea",
   "metadata": {},
   "outputs": [],
   "source": [
    "r1=Robot()"
   ]
  },
  {
   "cell_type": "code",
   "execution_count": 16,
   "id": "8084a621",
   "metadata": {},
   "outputs": [],
   "source": [
    "r1.name=\"abc\""
   ]
  },
  {
   "cell_type": "code",
   "execution_count": 17,
   "id": "f284b5c1",
   "metadata": {},
   "outputs": [
    {
     "name": "stdout",
     "output_type": "stream",
     "text": [
      "my name is abc\n"
     ]
    }
   ],
   "source": [
    "r1.introduce_self()"
   ]
  },
  {
   "cell_type": "code",
   "execution_count": 18,
   "id": "11522461",
   "metadata": {},
   "outputs": [],
   "source": [
    "r2=Robot()"
   ]
  },
  {
   "cell_type": "code",
   "execution_count": 20,
   "id": "7619df5b",
   "metadata": {},
   "outputs": [],
   "source": [
    "r2.name=\"raja\""
   ]
  },
  {
   "cell_type": "code",
   "execution_count": 21,
   "id": "672a8e7f",
   "metadata": {},
   "outputs": [
    {
     "name": "stdout",
     "output_type": "stream",
     "text": [
      "my name is raja\n"
     ]
    }
   ],
   "source": [
    "r2.introduce_self()"
   ]
  },
  {
   "cell_type": "code",
   "execution_count": 23,
   "id": "d6627fc1",
   "metadata": {},
   "outputs": [
    {
     "data": {
      "text/plain": [
       "['__class__',\n",
       " '__delattr__',\n",
       " '__dict__',\n",
       " '__dir__',\n",
       " '__doc__',\n",
       " '__eq__',\n",
       " '__format__',\n",
       " '__ge__',\n",
       " '__getattribute__',\n",
       " '__gt__',\n",
       " '__hash__',\n",
       " '__init__',\n",
       " '__init_subclass__',\n",
       " '__le__',\n",
       " '__lt__',\n",
       " '__module__',\n",
       " '__ne__',\n",
       " '__new__',\n",
       " '__reduce__',\n",
       " '__reduce_ex__',\n",
       " '__repr__',\n",
       " '__setattr__',\n",
       " '__sizeof__',\n",
       " '__str__',\n",
       " '__subclasshook__',\n",
       " '__weakref__',\n",
       " 'introduce_self',\n",
       " 'name']"
      ]
     },
     "execution_count": 23,
     "metadata": {},
     "output_type": "execute_result"
    }
   ],
   "source": [
    "dir(r1)"
   ]
  },
  {
   "cell_type": "code",
   "execution_count": 24,
   "id": "515aef2d",
   "metadata": {},
   "outputs": [],
   "source": [
    "class Person:\n",
    "    \n",
    "    def __init__(self,name,gender,profession):\n",
    "        self.name=name\n",
    "        self.gender=gender\n",
    "        self.profession=profession\n",
    "        \n",
    "    def show(self):\n",
    "        print(\"Name\",self.name,\"Gender\",self.gender,\"Profession\",self.profession)\n",
    "        \n",
    "    def work(self):\n",
    "        print(self.name,\"working as a\",self.profession)"
   ]
  },
  {
   "cell_type": "code",
   "execution_count": 25,
   "id": "f8adf33f",
   "metadata": {},
   "outputs": [],
   "source": [
    "o1=Person(\"Raja\",\"male\",\"Student\")"
   ]
  },
  {
   "cell_type": "code",
   "execution_count": 26,
   "id": "32ea19a3",
   "metadata": {},
   "outputs": [
    {
     "name": "stdout",
     "output_type": "stream",
     "text": [
      "Name Raja Gender male Profession Student\n"
     ]
    }
   ],
   "source": [
    "o1.show()"
   ]
  },
  {
   "cell_type": "code",
   "execution_count": null,
   "id": "1c275b18",
   "metadata": {},
   "outputs": [],
   "source": []
  },
  {
   "cell_type": "code",
   "execution_count": null,
   "id": "b64f7be2",
   "metadata": {},
   "outputs": [],
   "source": []
  },
  {
   "cell_type": "code",
   "execution_count": null,
   "id": "8f67e76d",
   "metadata": {},
   "outputs": [],
   "source": []
  },
  {
   "cell_type": "code",
   "execution_count": null,
   "id": "defba3c8",
   "metadata": {},
   "outputs": [],
   "source": []
  },
  {
   "cell_type": "code",
   "execution_count": null,
   "id": "34c3dc13",
   "metadata": {},
   "outputs": [],
   "source": []
  },
  {
   "cell_type": "code",
   "execution_count": null,
   "id": "da37013f",
   "metadata": {},
   "outputs": [],
   "source": []
  },
  {
   "cell_type": "code",
   "execution_count": null,
   "id": "4cd35da3",
   "metadata": {},
   "outputs": [],
   "source": []
  },
  {
   "cell_type": "code",
   "execution_count": null,
   "id": "b932137e",
   "metadata": {},
   "outputs": [],
   "source": []
  },
  {
   "cell_type": "code",
   "execution_count": null,
   "id": "e3725b91",
   "metadata": {},
   "outputs": [],
   "source": []
  },
  {
   "cell_type": "code",
   "execution_count": null,
   "id": "4a2b1a94",
   "metadata": {},
   "outputs": [],
   "source": []
  },
  {
   "cell_type": "code",
   "execution_count": null,
   "id": "c6f8deb4",
   "metadata": {},
   "outputs": [],
   "source": []
  },
  {
   "cell_type": "code",
   "execution_count": null,
   "id": "dffbee8c",
   "metadata": {},
   "outputs": [],
   "source": []
  },
  {
   "cell_type": "code",
   "execution_count": null,
   "id": "e8e3f1fc",
   "metadata": {},
   "outputs": [],
   "source": []
  }
 ],
 "metadata": {
  "kernelspec": {
   "display_name": "Python 3 (ipykernel)",
   "language": "python",
   "name": "python3"
  },
  "language_info": {
   "codemirror_mode": {
    "name": "ipython",
    "version": 3
   },
   "file_extension": ".py",
   "mimetype": "text/x-python",
   "name": "python",
   "nbconvert_exporter": "python",
   "pygments_lexer": "ipython3",
   "version": "3.9.12"
  }
 },
 "nbformat": 4,
 "nbformat_minor": 5
}
