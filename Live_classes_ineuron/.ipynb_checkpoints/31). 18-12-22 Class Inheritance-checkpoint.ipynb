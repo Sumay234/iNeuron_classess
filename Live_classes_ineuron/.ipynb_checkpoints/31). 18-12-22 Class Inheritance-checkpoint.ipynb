{
 "cells": [
  {
   "cell_type": "markdown",
   "id": "c44d47d7",
   "metadata": {},
   "source": [
    "## Class inheritance"
   ]
  },
  {
   "cell_type": "code",
   "execution_count": null,
   "id": "72af33f6",
   "metadata": {},
   "outputs": [],
   "source": [
    "# Two type of inhertiance\n",
    "# 1) Parent class\n",
    "# 2) Child class"
   ]
  },
  {
   "cell_type": "code",
   "execution_count": null,
   "id": "7645e721",
   "metadata": {},
   "outputs": [],
   "source": [
    "#  Single inheritance"
   ]
  },
  {
   "cell_type": "code",
   "execution_count": 1,
   "id": "a651fea7",
   "metadata": {},
   "outputs": [],
   "source": [
    "class paraent:\n",
    "    def fun1(self):\n",
    "        print(\"hello paraent\")\n",
    "        \n",
    "class child(paraent):\n",
    "    def fun2(self):\n",
    "        print(\"hello child\")"
   ]
  },
  {
   "cell_type": "code",
   "execution_count": 2,
   "id": "fc7481a8",
   "metadata": {},
   "outputs": [],
   "source": [
    "test=child()"
   ]
  },
  {
   "cell_type": "code",
   "execution_count": 4,
   "id": "fe0ea7f0",
   "metadata": {},
   "outputs": [
    {
     "name": "stdout",
     "output_type": "stream",
     "text": [
      "hello paraent\n"
     ]
    }
   ],
   "source": [
    "test.fun1()"
   ]
  },
  {
   "cell_type": "code",
   "execution_count": 5,
   "id": "73ef2864",
   "metadata": {},
   "outputs": [
    {
     "name": "stdout",
     "output_type": "stream",
     "text": [
      "hello child\n"
     ]
    }
   ],
   "source": [
    "test.fun2()"
   ]
  },
  {
   "cell_type": "code",
   "execution_count": 6,
   "id": "9d2147f8",
   "metadata": {},
   "outputs": [],
   "source": [
    "class ineuron:\n",
    "    company_website = \"https: // ineuron.ai\"\n",
    "    name= \"iNeuron\"\n",
    "    \n",
    "    def contact_details(self):\n",
    "        print(\"countact us at : \",self.company_website)\n",
    "        \n",
    "class datascience(ineuron):\n",
    "    \n",
    "    def __init__(self):\n",
    "        self.year_of_establishment = 2018\n",
    "        \n",
    "    def est_details(self):\n",
    "        print(\"est details\", self.name,self.year_of_establishment)"
   ]
  },
  {
   "cell_type": "code",
   "execution_count": 7,
   "id": "6283266f",
   "metadata": {},
   "outputs": [],
   "source": [
    "dt=datascience()"
   ]
  },
  {
   "cell_type": "code",
   "execution_count": 9,
   "id": "365c88bd",
   "metadata": {},
   "outputs": [
    {
     "data": {
      "text/plain": [
       "'https: // ineuron.ai'"
      ]
     },
     "execution_count": 9,
     "metadata": {},
     "output_type": "execute_result"
    }
   ],
   "source": [
    "dt.company_website"
   ]
  },
  {
   "cell_type": "code",
   "execution_count": 11,
   "id": "ce9d85cf",
   "metadata": {},
   "outputs": [
    {
     "name": "stdout",
     "output_type": "stream",
     "text": [
      "est details iNeuron 2018\n"
     ]
    }
   ],
   "source": [
    "dt.est_details()"
   ]
  },
  {
   "cell_type": "code",
   "execution_count": 12,
   "id": "fe50fb5f",
   "metadata": {},
   "outputs": [
    {
     "data": {
      "text/plain": [
       "2018"
      ]
     },
     "execution_count": 12,
     "metadata": {},
     "output_type": "execute_result"
    }
   ],
   "source": [
    "dt.year_of_establishment"
   ]
  },
  {
   "cell_type": "code",
   "execution_count": 13,
   "id": "7b623bcd",
   "metadata": {},
   "outputs": [],
   "source": [
    "# Multiple inheritance--"
   ]
  },
  {
   "cell_type": "code",
   "execution_count": 14,
   "id": "2f12e6b8",
   "metadata": {},
   "outputs": [],
   "source": [
    "class parent_1:\n",
    "    def func1(self):\n",
    "        print(\"Hello from parent_1 \")\n",
    "\n",
    "class parent_2:\n",
    "    def func2(self):\n",
    "        print(\"Hello from parent_2\")\n",
    "        \n",
    "class child(parent_1,parent_2):\n",
    "    def func3(self):\n",
    "        print(\"Hello child\")"
   ]
  },
  {
   "cell_type": "code",
   "execution_count": 15,
   "id": "2493f864",
   "metadata": {},
   "outputs": [],
   "source": [
    "test=child()"
   ]
  },
  {
   "cell_type": "code",
   "execution_count": 17,
   "id": "a0d2107a",
   "metadata": {},
   "outputs": [
    {
     "name": "stdout",
     "output_type": "stream",
     "text": [
      "Hello from parent_1 \n"
     ]
    }
   ],
   "source": [
    "test.func1()"
   ]
  },
  {
   "cell_type": "code",
   "execution_count": 18,
   "id": "10352505",
   "metadata": {},
   "outputs": [
    {
     "name": "stdout",
     "output_type": "stream",
     "text": [
      "Hello child\n"
     ]
    }
   ],
   "source": [
    "test.func3()"
   ]
  },
  {
   "cell_type": "code",
   "execution_count": 19,
   "id": "c73f9833",
   "metadata": {},
   "outputs": [],
   "source": [
    "# Parent class 1--\n",
    "\n",
    "class batch_number:\n",
    "    batchnumber=\"\"\n",
    "    \n",
    "    def __init__(self,a,b,c):\n",
    "        self.a=a\n",
    "        self.b=b\n",
    "        self.c=c\n",
    "        \n",
    "    def batch(self):\n",
    "        print(self.batch_number)\n",
    "\n",
    "        \n",
    "# Parent Class 2--\n",
    "\n",
    "class course_name:\n",
    "    cname=\"\"\n",
    "    def course(self):\n",
    "        print(self.cname)\n",
    "        \n",
    "# Child class--\n",
    "\n",
    "class student(batch_number, course_name):\n",
    "    \n",
    "    def show(self):\n",
    "        print(\"Batch: \", self.batchnumber)\n",
    "        print(\"course: \", self.cname)"
   ]
  },
  {
   "cell_type": "code",
   "execution_count": 21,
   "id": "7cee203c",
   "metadata": {},
   "outputs": [],
   "source": [
    "s1=student(4,5,6)"
   ]
  },
  {
   "cell_type": "code",
   "execution_count": 22,
   "id": "bbcba5d0",
   "metadata": {},
   "outputs": [
    {
     "data": {
      "text/plain": [
       "4"
      ]
     },
     "execution_count": 22,
     "metadata": {},
     "output_type": "execute_result"
    }
   ],
   "source": [
    "s1.a"
   ]
  },
  {
   "cell_type": "code",
   "execution_count": 28,
   "id": "33a6d671",
   "metadata": {},
   "outputs": [
    {
     "data": {
      "text/plain": [
       "6"
      ]
     },
     "execution_count": 28,
     "metadata": {},
     "output_type": "execute_result"
    }
   ],
   "source": [
    "s1.c"
   ]
  },
  {
   "cell_type": "code",
   "execution_count": 32,
   "id": "f1aebe80",
   "metadata": {},
   "outputs": [],
   "source": [
    "s1.cname=\"abcd\""
   ]
  },
  {
   "cell_type": "code",
   "execution_count": 33,
   "id": "5ffb1163",
   "metadata": {},
   "outputs": [
    {
     "data": {
      "text/plain": [
       "'abcd'"
      ]
     },
     "execution_count": 33,
     "metadata": {},
     "output_type": "execute_result"
    }
   ],
   "source": [
    "s1.cname"
   ]
  },
  {
   "cell_type": "code",
   "execution_count": 34,
   "id": "def4a1fb",
   "metadata": {},
   "outputs": [],
   "source": [
    "# Multilevel inheritance"
   ]
  },
  {
   "cell_type": "code",
   "execution_count": 35,
   "id": "36d74e43",
   "metadata": {},
   "outputs": [],
   "source": [
    "class test1:\n",
    "    def a (self):\n",
    "        print(\"Inside test1....\")\n",
    "        \n",
    "class test2(test1):\n",
    "    def b(self):\n",
    "        print(\"Inside test2......\")\n",
    "        \n",
    "class test3(test2):\n",
    "    def c(self):\n",
    "        print(\"Inside test3....\")"
   ]
  },
  {
   "cell_type": "code",
   "execution_count": 36,
   "id": "5d8b4b30",
   "metadata": {},
   "outputs": [],
   "source": [
    "t1=test3()"
   ]
  },
  {
   "cell_type": "code",
   "execution_count": 38,
   "id": "e2453b08",
   "metadata": {},
   "outputs": [
    {
     "name": "stdout",
     "output_type": "stream",
     "text": [
      "Inside test1....\n"
     ]
    }
   ],
   "source": [
    "t1.a()"
   ]
  },
  {
   "cell_type": "code",
   "execution_count": 39,
   "id": "352c5fbb",
   "metadata": {},
   "outputs": [
    {
     "name": "stdout",
     "output_type": "stream",
     "text": [
      "Inside test2......\n"
     ]
    }
   ],
   "source": [
    "t1.b()"
   ]
  },
  {
   "cell_type": "code",
   "execution_count": 40,
   "id": "e30a99d4",
   "metadata": {},
   "outputs": [],
   "source": [
    "t2=test1()"
   ]
  },
  {
   "cell_type": "code",
   "execution_count": 42,
   "id": "ad46df0d",
   "metadata": {},
   "outputs": [
    {
     "name": "stdout",
     "output_type": "stream",
     "text": [
      "Inside test1....\n"
     ]
    }
   ],
   "source": [
    "t2.a()"
   ]
  },
  {
   "cell_type": "code",
   "execution_count": 43,
   "id": "f9592cc5",
   "metadata": {},
   "outputs": [],
   "source": [
    "t3=test2()"
   ]
  },
  {
   "cell_type": "code",
   "execution_count": 45,
   "id": "7a6c21f7",
   "metadata": {},
   "outputs": [
    {
     "name": "stdout",
     "output_type": "stream",
     "text": [
      "Inside test1....\n"
     ]
    }
   ],
   "source": [
    "t3.a()"
   ]
  },
  {
   "cell_type": "code",
   "execution_count": 46,
   "id": "4f0460a2",
   "metadata": {},
   "outputs": [],
   "source": [
    "class vehicle:\n",
    "    def info(self):\n",
    "        print(\"Inside vehical class\")\n",
    "        \n",
    "class car(vehicle):\n",
    "    def car_info(self):\n",
    "        print(\"inside car class\")\n",
    "        \n",
    "class sportcar(car):\n",
    "    def sport_car(self):\n",
    "        print(\"inside sport car\")\n",
    "        "
   ]
  },
  {
   "cell_type": "code",
   "execution_count": 47,
   "id": "95ff130c",
   "metadata": {},
   "outputs": [],
   "source": [
    "s=sportcar()"
   ]
  },
  {
   "cell_type": "code",
   "execution_count": null,
   "id": "e511cc78",
   "metadata": {},
   "outputs": [],
   "source": []
  },
  {
   "cell_type": "code",
   "execution_count": null,
   "id": "566e2278",
   "metadata": {},
   "outputs": [],
   "source": []
  },
  {
   "cell_type": "code",
   "execution_count": 50,
   "id": "d68c52eb",
   "metadata": {},
   "outputs": [],
   "source": [
    "# Multi level inheritance---\n",
    "\n",
    "class phone:\n",
    "    def __init__ (self,brand,model,price):\n",
    "        self.brand=brand\n",
    "        self.model=model\n",
    "        self.price=price\n",
    "        \n",
    "    def specs(self):\n",
    "        return (\"brand\",self.brand,\"price\",self.price)\n",
    "    \n",
    "    def type_of_phone(self):\n",
    "        if self.phone < 25000:\n",
    "            return \"This is my budget phone\"\n",
    "        else:\n",
    "            return \"This is mid range phone\"\n",
    "        \n",
    "class smart_phone(phone):\n",
    "    def __init__ (self,brand,model,price,ram,storage):\n",
    "        super(). __init__ (brand,model,price)\n",
    "        self.ram=ram\n",
    "        self.storage=storage\n",
    "        \n",
    "class flashipphone(smart_phone):\n",
    "    def __init__(self,brand,model,price,ram,storage,frontcamera,backcamera,display):\n",
    "        super(). __init__ (brand,model,price,ram,storage)\n",
    "        self.frontcamera=frontcamera\n",
    "        self.backcamera=backcamera\n",
    "        self.display=display"
   ]
  },
  {
   "cell_type": "code",
   "execution_count": 53,
   "id": "98fcce95",
   "metadata": {},
   "outputs": [],
   "source": [
    "p1=flashipphone(\"samsung\",\"s3\",60000,128,60,\"yes\",\"yes\",\"LCD\")"
   ]
  },
  {
   "cell_type": "code",
   "execution_count": 54,
   "id": "100bb5cb",
   "metadata": {},
   "outputs": [
    {
     "data": {
      "text/plain": [
       "60"
      ]
     },
     "execution_count": 54,
     "metadata": {},
     "output_type": "execute_result"
    }
   ],
   "source": [
    "p1.storage"
   ]
  },
  {
   "cell_type": "code",
   "execution_count": 57,
   "id": "6135b6c1",
   "metadata": {},
   "outputs": [
    {
     "data": {
      "text/plain": [
       "'samsung'"
      ]
     },
     "execution_count": 57,
     "metadata": {},
     "output_type": "execute_result"
    }
   ],
   "source": [
    "p1.brand"
   ]
  },
  {
   "cell_type": "code",
   "execution_count": 60,
   "id": "584ab9a9",
   "metadata": {},
   "outputs": [
    {
     "data": {
      "text/plain": [
       "'yes'"
      ]
     },
     "execution_count": 60,
     "metadata": {},
     "output_type": "execute_result"
    }
   ],
   "source": [
    "p1.frontcamera\n"
   ]
  },
  {
   "cell_type": "code",
   "execution_count": 63,
   "id": "04571863",
   "metadata": {},
   "outputs": [
    {
     "ename": "AttributeError",
     "evalue": "'flashipphone' object has no attribute 'flashipphone'",
     "output_type": "error",
     "traceback": [
      "\u001b[1;31m---------------------------------------------------------------------------\u001b[0m",
      "\u001b[1;31mAttributeError\u001b[0m                            Traceback (most recent call last)",
      "Input \u001b[1;32mIn [63]\u001b[0m, in \u001b[0;36m<cell line: 1>\u001b[1;34m()\u001b[0m\n\u001b[1;32m----> 1\u001b[0m \u001b[43mp1\u001b[49m\u001b[38;5;241;43m.\u001b[39;49m\u001b[43mflashipphone\u001b[49m()\n",
      "\u001b[1;31mAttributeError\u001b[0m: 'flashipphone' object has no attribute 'flashipphone'"
     ]
    }
   ],
   "source": [
    "p1.flashipphone()"
   ]
  },
  {
   "cell_type": "code",
   "execution_count": 64,
   "id": "651126c9",
   "metadata": {},
   "outputs": [
    {
     "data": {
      "text/plain": [
       "128"
      ]
     },
     "execution_count": 64,
     "metadata": {},
     "output_type": "execute_result"
    }
   ],
   "source": [
    "p1.ram"
   ]
  },
  {
   "cell_type": "code",
   "execution_count": 65,
   "id": "408f0667",
   "metadata": {},
   "outputs": [
    {
     "data": {
      "text/plain": [
       "60000"
      ]
     },
     "execution_count": 65,
     "metadata": {},
     "output_type": "execute_result"
    }
   ],
   "source": [
    "p1.price"
   ]
  },
  {
   "cell_type": "code",
   "execution_count": 71,
   "id": "c77938d2",
   "metadata": {},
   "outputs": [
    {
     "ename": "AttributeError",
     "evalue": "'flashipphone' object has no attribute 'phone'",
     "output_type": "error",
     "traceback": [
      "\u001b[1;31m---------------------------------------------------------------------------\u001b[0m",
      "\u001b[1;31mAttributeError\u001b[0m                            Traceback (most recent call last)",
      "Input \u001b[1;32mIn [71]\u001b[0m, in \u001b[0;36m<cell line: 1>\u001b[1;34m()\u001b[0m\n\u001b[1;32m----> 1\u001b[0m \u001b[43mp1\u001b[49m\u001b[38;5;241;43m.\u001b[39;49m\u001b[43mtype_of_phone\u001b[49m\u001b[43m(\u001b[49m\u001b[43m)\u001b[49m\n",
      "Input \u001b[1;32mIn [50]\u001b[0m, in \u001b[0;36mphone.type_of_phone\u001b[1;34m(self)\u001b[0m\n\u001b[0;32m     10\u001b[0m \u001b[38;5;28;01mdef\u001b[39;00m \u001b[38;5;21mtype_of_phone\u001b[39m(\u001b[38;5;28mself\u001b[39m):\n\u001b[1;32m---> 11\u001b[0m     \u001b[38;5;28;01mif\u001b[39;00m \u001b[38;5;28;43mself\u001b[39;49m\u001b[38;5;241;43m.\u001b[39;49m\u001b[43mphone\u001b[49m \u001b[38;5;241m<\u001b[39m \u001b[38;5;241m25000\u001b[39m:\n\u001b[0;32m     12\u001b[0m         \u001b[38;5;28;01mreturn\u001b[39;00m \u001b[38;5;124m\"\u001b[39m\u001b[38;5;124mThis is my budget phone\u001b[39m\u001b[38;5;124m\"\u001b[39m\n\u001b[0;32m     13\u001b[0m     \u001b[38;5;28;01melse\u001b[39;00m:\n",
      "\u001b[1;31mAttributeError\u001b[0m: 'flashipphone' object has no attribute 'phone'"
     ]
    }
   ],
   "source": [
    "p1.type_of_phone()"
   ]
  },
  {
   "cell_type": "code",
   "execution_count": 86,
   "id": "77b0570c",
   "metadata": {},
   "outputs": [],
   "source": [
    "#### Hierachial inheritance--"
   ]
  },
  {
   "cell_type": "code",
   "execution_count": 73,
   "id": "8e217d55",
   "metadata": {},
   "outputs": [],
   "source": [
    "class vehicle:\n",
    "    def info(self):\n",
    "        print(\"This is vechicle\")\n",
    "        \n",
    "class car(vehicle):\n",
    "    def car_info(self,name):\n",
    "        print(\"Car name\",self.name)\n",
    "        \n",
    "class truck(vehicle):\n",
    "    def truck_info(self,name):\n",
    "        print(\"truck_namr\",self.name)"
   ]
  },
  {
   "cell_type": "code",
   "execution_count": 82,
   "id": "ff73f04f",
   "metadata": {},
   "outputs": [],
   "source": [
    "s1=car()"
   ]
  },
  {
   "cell_type": "code",
   "execution_count": 75,
   "id": "d93f8555",
   "metadata": {},
   "outputs": [
    {
     "name": "stdout",
     "output_type": "stream",
     "text": [
      "This is vechicle\n"
     ]
    }
   ],
   "source": [
    "s1.info()"
   ]
  },
  {
   "cell_type": "code",
   "execution_count": 77,
   "id": "3a467047",
   "metadata": {},
   "outputs": [
    {
     "name": "stdout",
     "output_type": "stream",
     "text": [
      "This is vechicle\n"
     ]
    }
   ],
   "source": [
    "s1.info()"
   ]
  },
  {
   "cell_type": "code",
   "execution_count": 78,
   "id": "fb60e5b1",
   "metadata": {},
   "outputs": [],
   "source": [
    "s2=vehicle()"
   ]
  },
  {
   "cell_type": "code",
   "execution_count": 79,
   "id": "72b005a9",
   "metadata": {},
   "outputs": [
    {
     "name": "stdout",
     "output_type": "stream",
     "text": [
      "This is vechicle\n"
     ]
    }
   ],
   "source": [
    "s2.info()"
   ]
  },
  {
   "cell_type": "code",
   "execution_count": 80,
   "id": "8e2463ed",
   "metadata": {},
   "outputs": [],
   "source": [
    "s3=truck()"
   ]
  },
  {
   "cell_type": "code",
   "execution_count": 85,
   "id": "92638216",
   "metadata": {},
   "outputs": [
    {
     "ename": "TypeError",
     "evalue": "truck_info() missing 1 required positional argument: 'name'",
     "output_type": "error",
     "traceback": [
      "\u001b[1;31m---------------------------------------------------------------------------\u001b[0m",
      "\u001b[1;31mTypeError\u001b[0m                                 Traceback (most recent call last)",
      "Input \u001b[1;32mIn [85]\u001b[0m, in \u001b[0;36m<cell line: 1>\u001b[1;34m()\u001b[0m\n\u001b[1;32m----> 1\u001b[0m \u001b[43ms3\u001b[49m\u001b[38;5;241;43m.\u001b[39;49m\u001b[43mtruck_info\u001b[49m\u001b[43m(\u001b[49m\u001b[43m)\u001b[49m\n",
      "\u001b[1;31mTypeError\u001b[0m: truck_info() missing 1 required positional argument: 'name'"
     ]
    }
   ],
   "source": [
    "s3.truck_info()"
   ]
  },
  {
   "cell_type": "code",
   "execution_count": 87,
   "id": "c5079175",
   "metadata": {},
   "outputs": [],
   "source": [
    "# Hybrid inheritance"
   ]
  },
  {
   "cell_type": "code",
   "execution_count": 107,
   "id": "729561ff",
   "metadata": {},
   "outputs": [],
   "source": [
    "class vehicle:\n",
    "    def info(self):\n",
    "        print(\"This is vechicle\")\n",
    "        \n",
    "class car(vehicle):\n",
    "    def car_info(self,name):\n",
    "        print(\"Car name\",self.name)\n",
    "        \n",
    "class truck(vehicle):\n",
    "    def truck_info(self,name):\n",
    "        print(\"truck_namr\",self.name)\n",
    "        \n",
    "class sportcar(car,vehicle):\n",
    "    def sport_car1(self):\n",
    "        print(\"this is sports cclass\",self.car)\n",
    "        "
   ]
  },
  {
   "cell_type": "code",
   "execution_count": 108,
   "id": "de2d3872",
   "metadata": {},
   "outputs": [],
   "source": [
    "d1=sportcar()"
   ]
  },
  {
   "cell_type": "code",
   "execution_count": 109,
   "id": "d308f8b2",
   "metadata": {},
   "outputs": [
    {
     "name": "stdout",
     "output_type": "stream",
     "text": [
      "This is vechicle\n"
     ]
    }
   ],
   "source": [
    "d1.info()"
   ]
  },
  {
   "cell_type": "code",
   "execution_count": 110,
   "id": "3654d949",
   "metadata": {},
   "outputs": [],
   "source": [
    "d2=vehicle()"
   ]
  },
  {
   "cell_type": "code",
   "execution_count": 111,
   "id": "619e2a43",
   "metadata": {},
   "outputs": [],
   "source": [
    "d2=d1"
   ]
  },
  {
   "cell_type": "code",
   "execution_count": 115,
   "id": "26a47b87",
   "metadata": {},
   "outputs": [
    {
     "ename": "AttributeError",
     "evalue": "'sportcar' object has no attribute 'name'",
     "output_type": "error",
     "traceback": [
      "\u001b[1;31m---------------------------------------------------------------------------\u001b[0m",
      "\u001b[1;31mAttributeError\u001b[0m                            Traceback (most recent call last)",
      "Input \u001b[1;32mIn [115]\u001b[0m, in \u001b[0;36m<cell line: 1>\u001b[1;34m()\u001b[0m\n\u001b[1;32m----> 1\u001b[0m \u001b[43md1\u001b[49m\u001b[38;5;241;43m.\u001b[39;49m\u001b[43mcar_info\u001b[49m\u001b[43m(\u001b[49m\u001b[38;5;124;43m\"\u001b[39;49m\u001b[38;5;124;43mRRFAR\u001b[39;49m\u001b[38;5;124;43m\"\u001b[39;49m\u001b[43m)\u001b[49m\n",
      "Input \u001b[1;32mIn [107]\u001b[0m, in \u001b[0;36mcar.car_info\u001b[1;34m(self, name)\u001b[0m\n\u001b[0;32m      6\u001b[0m \u001b[38;5;28;01mdef\u001b[39;00m \u001b[38;5;21mcar_info\u001b[39m(\u001b[38;5;28mself\u001b[39m,name):\n\u001b[1;32m----> 7\u001b[0m     \u001b[38;5;28mprint\u001b[39m(\u001b[38;5;124m\"\u001b[39m\u001b[38;5;124mCar name\u001b[39m\u001b[38;5;124m\"\u001b[39m,\u001b[38;5;28;43mself\u001b[39;49m\u001b[38;5;241;43m.\u001b[39;49m\u001b[43mname\u001b[49m)\n",
      "\u001b[1;31mAttributeError\u001b[0m: 'sportcar' object has no attribute 'name'"
     ]
    }
   ],
   "source": [
    "d1.car_info(\"RRFAR\")"
   ]
  },
  {
   "cell_type": "code",
   "execution_count": 113,
   "id": "26242613",
   "metadata": {},
   "outputs": [],
   "source": [
    "# Parent class 1--\n",
    "\n",
    "class batch_number:\n",
    "    batchnumber=\"\"\n",
    "    \n",
    "    def __init__(self,a,b,c):\n",
    "        self.a=a\n",
    "        self.b=b\n",
    "        self.c=c\n",
    "        \n",
    "    def batch(self):\n",
    "        print(self.batch_number)\n",
    "\n",
    "        \n",
    "# Parent Class 2--\n",
    "\n",
    "class course_name:\n",
    "    cname=\"\"\n",
    "    def course(self):\n",
    "        print(self.cname)\n",
    "        \n",
    "# Child class--\n",
    "\n",
    "class student(batch_number, course_name):\n",
    "    \n",
    "    def show(self):\n",
    "        print(\"Batch: \", self.batchnumber)\n",
    "        print(\"course: \", self.cname)"
   ]
  },
  {
   "cell_type": "markdown",
   "id": "ca80a767",
   "metadata": {},
   "source": [
    "## Super Method\n"
   ]
  },
  {
   "cell_type": "code",
   "execution_count": 116,
   "id": "721a9ad1",
   "metadata": {},
   "outputs": [],
   "source": [
    "## Super"
   ]
  },
  {
   "cell_type": "code",
   "execution_count": 117,
   "id": "56391274",
   "metadata": {},
   "outputs": [],
   "source": [
    "# super() is used when we need a build classes(child class) that \n",
    "#     extend the functionality of previously build classes(parent class).\n",
    "\n",
    "# super function in python is used to access method of immediate parent class."
   ]
  },
  {
   "cell_type": "code",
   "execution_count": 118,
   "id": "bcc2b7a2",
   "metadata": {},
   "outputs": [],
   "source": [
    "class company:\n",
    "    def company_name(self):\n",
    "        return \"iNeuron\"\n",
    "    \n",
    "class employee(company):\n",
    "    def info(Self):\n",
    "        c_name=super().company_name()\n",
    "        print(\"i work at\",c_name)\n",
    "        "
   ]
  },
  {
   "cell_type": "code",
   "execution_count": 119,
   "id": "7f79d566",
   "metadata": {},
   "outputs": [],
   "source": [
    "emp=employee()"
   ]
  },
  {
   "cell_type": "code",
   "execution_count": 120,
   "id": "9b295da1",
   "metadata": {},
   "outputs": [
    {
     "data": {
      "text/plain": [
       "'iNeuron'"
      ]
     },
     "execution_count": 120,
     "metadata": {},
     "output_type": "execute_result"
    }
   ],
   "source": [
    "emp.company_name()"
   ]
  },
  {
   "cell_type": "code",
   "execution_count": 122,
   "id": "5227a172",
   "metadata": {},
   "outputs": [
    {
     "name": "stdout",
     "output_type": "stream",
     "text": [
      "i work at iNeuron\n"
     ]
    }
   ],
   "source": [
    "emp.info()"
   ]
  },
  {
   "cell_type": "code",
   "execution_count": null,
   "id": "6ea8750c",
   "metadata": {},
   "outputs": [],
   "source": [
    "# when you intialize a child class in python you can call super().__init__() method\n",
    "# this initilize the parent class object into child class."
   ]
  },
  {
   "cell_type": "code",
   "execution_count": 123,
   "id": "6a77e4c7",
   "metadata": {},
   "outputs": [],
   "source": [
    "class parent:\n",
    "    def __init__(self,v1,v2):\n",
    "        self.v1=v1\n",
    "        self.v2=v2\n",
    "        \n",
    "class child(parent):\n",
    "    def __init__(self,v1,v2,v3):\n",
    "        super().__init__(v1,v2)\n",
    "        self.v3=v3"
   ]
  },
  {
   "cell_type": "code",
   "execution_count": 126,
   "id": "56a08d7c",
   "metadata": {},
   "outputs": [],
   "source": [
    "c1=child(1,2,3)"
   ]
  },
  {
   "cell_type": "code",
   "execution_count": 127,
   "id": "ed5cbfdf",
   "metadata": {},
   "outputs": [
    {
     "data": {
      "text/plain": [
       "1"
      ]
     },
     "execution_count": 127,
     "metadata": {},
     "output_type": "execute_result"
    }
   ],
   "source": [
    "c1.v1"
   ]
  },
  {
   "cell_type": "code",
   "execution_count": 128,
   "id": "d1e8dc9a",
   "metadata": {},
   "outputs": [],
   "source": [
    "class parent:\n",
    "    def __init__(self):\n",
    "        print(\"This is the parent class\")\n",
    "        \n",
    "class parent1:\n",
    "    def __init__(self):\n",
    "        print(\"This is the parent1 class\")\n",
    "        \n",
    "class parent2:\n",
    "    def __init__(self):\n",
    "        print(\"This is the parent2 class\")\n",
    "        \n",
    "class child(parent2,parent1,parent):\n",
    "    def __init__ (self):\n",
    "        super().__init__()"
   ]
  },
  {
   "cell_type": "code",
   "execution_count": 129,
   "id": "d0aa2641",
   "metadata": {},
   "outputs": [
    {
     "name": "stdout",
     "output_type": "stream",
     "text": [
      "This is the parent2 class\n"
     ]
    }
   ],
   "source": [
    "t1=child()"
   ]
  },
  {
   "cell_type": "code",
   "execution_count": 132,
   "id": "3ca0c205",
   "metadata": {},
   "outputs": [],
   "source": [
    "class parent:\n",
    "    def __init__(self):\n",
    "        print(\"This is the parent class\")\n",
    "        \n",
    "class parent1:\n",
    "    def __init__(self):\n",
    "        print(\"This is the parent1 class\")\n",
    "        \n",
    "class parent2:\n",
    "    def __init__(self):\n",
    "        print(\"This is the parent2 class\")\n",
    "        \n",
    "class child(parent1,parent2,parent):\n",
    "    def __init__ (self):\n",
    "        super(child,self).__init__()"
   ]
  },
  {
   "cell_type": "code",
   "execution_count": 133,
   "id": "567b6bdc",
   "metadata": {},
   "outputs": [
    {
     "name": "stdout",
     "output_type": "stream",
     "text": [
      "This is the parent1 class\n"
     ]
    }
   ],
   "source": [
    "t2=child()"
   ]
  },
  {
   "cell_type": "code",
   "execution_count": null,
   "id": "34fa7923",
   "metadata": {},
   "outputs": [],
   "source": []
  }
 ],
 "metadata": {
  "kernelspec": {
   "display_name": "Python 3 (ipykernel)",
   "language": "python",
   "name": "python3"
  },
  "language_info": {
   "codemirror_mode": {
    "name": "ipython",
    "version": 3
   },
   "file_extension": ".py",
   "mimetype": "text/x-python",
   "name": "python",
   "nbconvert_exporter": "python",
   "pygments_lexer": "ipython3",
   "version": "3.9.12"
  }
 },
 "nbformat": 4,
 "nbformat_minor": 5
}
