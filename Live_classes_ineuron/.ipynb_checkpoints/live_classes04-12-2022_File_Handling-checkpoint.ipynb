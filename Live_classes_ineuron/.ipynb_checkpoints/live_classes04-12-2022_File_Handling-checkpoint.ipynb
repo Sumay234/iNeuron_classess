{
 "cells": [
  {
   "cell_type": "markdown",
   "id": "d57139bf",
   "metadata": {},
   "source": [
    "# File Handling, Itreator and Generator"
   ]
  },
  {
   "cell_type": "markdown",
   "id": "a0d1fbe6",
   "metadata": {},
   "source": [
    "## File Handaling"
   ]
  },
  {
   "cell_type": "code",
   "execution_count": 1,
   "id": "bcebc785",
   "metadata": {},
   "outputs": [
    {
     "data": {
      "text/plain": [
       "'C:\\\\Users\\\\win11\\\\iNeuron_Practise'"
      ]
     },
     "execution_count": 1,
     "metadata": {},
     "output_type": "execute_result"
    }
   ],
   "source": [
    "pwd()"
   ]
  },
  {
   "cell_type": "code",
   "execution_count": 2,
   "id": "9c783f14",
   "metadata": {},
   "outputs": [
    {
     "name": "stderr",
     "output_type": "stream",
     "text": [
      "UsageError: Line magic function `%1s` not found.\n"
     ]
    }
   ],
   "source": [
    "%1s"
   ]
  },
  {
   "cell_type": "markdown",
   "id": "aa67996a",
   "metadata": {},
   "source": [
    "### How to read file"
   ]
  },
  {
   "cell_type": "code",
   "execution_count": 4,
   "id": "c8c8690c",
   "metadata": {},
   "outputs": [],
   "source": [
    "f=open(r\"H:\\dataset_csv\\Country-Code.xlsx\")"
   ]
  },
  {
   "cell_type": "code",
   "execution_count": 5,
   "id": "7ff62917",
   "metadata": {},
   "outputs": [
    {
     "data": {
      "text/plain": [
       "_io.TextIOWrapper"
      ]
     },
     "execution_count": 5,
     "metadata": {},
     "output_type": "execute_result"
    }
   ],
   "source": [
    "type(f)"
   ]
  },
  {
   "cell_type": "code",
   "execution_count": 6,
   "id": "b26d504d",
   "metadata": {},
   "outputs": [],
   "source": [
    "f.close()"
   ]
  },
  {
   "cell_type": "code",
   "execution_count": 16,
   "id": "7fcf56e7",
   "metadata": {},
   "outputs": [],
   "source": [
    "f=open(r\"C:\\Users\\win11\\Desktop\\New Text Document.txt\")"
   ]
  },
  {
   "cell_type": "code",
   "execution_count": 17,
   "id": "740b5180",
   "metadata": {},
   "outputs": [
    {
     "data": {
      "text/plain": [
       "'http://buyalenovo.com/redeem/\\n\\nabcd\\nefgh\\nigklm\\nopqrstuvwxyz'"
      ]
     },
     "execution_count": 17,
     "metadata": {},
     "output_type": "execute_result"
    }
   ],
   "source": [
    "f.read()"
   ]
  },
  {
   "cell_type": "code",
   "execution_count": 18,
   "id": "2eb75811",
   "metadata": {},
   "outputs": [
    {
     "data": {
      "text/plain": [
       "64"
      ]
     },
     "execution_count": 18,
     "metadata": {},
     "output_type": "execute_result"
    }
   ],
   "source": [
    "f.tell()"
   ]
  },
  {
   "cell_type": "code",
   "execution_count": 22,
   "id": "b172fcd2",
   "metadata": {},
   "outputs": [
    {
     "data": {
      "text/plain": [
       "0"
      ]
     },
     "execution_count": 22,
     "metadata": {},
     "output_type": "execute_result"
    }
   ],
   "source": [
    "f.seek(0)"
   ]
  },
  {
   "cell_type": "code",
   "execution_count": 24,
   "id": "0770c281",
   "metadata": {},
   "outputs": [],
   "source": [
    "try:\n",
    "    f=open(r\"C:\\Users\\win11\\Desktop\\New Text Document.txt\")\n",
    "finally:\n",
    "    f.close()\n",
    "    \n",
    "    \n",
    "# Here we have to closed the file by own"
   ]
  },
  {
   "cell_type": "code",
   "execution_count": 25,
   "id": "af80fa4b",
   "metadata": {},
   "outputs": [],
   "source": [
    "# here the file will closed automitically no need to use close()--\n",
    "\n",
    "with open (r\"C:\\Users\\win11\\Desktop\\New Text Document.txt\") as f:\n",
    "    f.read()\n",
    "    pass"
   ]
  },
  {
   "cell_type": "code",
   "execution_count": 26,
   "id": "591582d5",
   "metadata": {},
   "outputs": [
    {
     "name": "stdout",
     "output_type": "stream",
     "text": [
      "done\n"
     ]
    }
   ],
   "source": [
    "# How to write a file in python--\n",
    "\n",
    "data=\"ineuron\"\n",
    "f=open(\"new_04-12-2020\",\"w\")\n",
    "f.write(data)\n",
    "print(\"done\")"
   ]
  },
  {
   "cell_type": "code",
   "execution_count": 29,
   "id": "01da0ae4",
   "metadata": {},
   "outputs": [
    {
     "data": {
      "text/plain": [
       "'C:\\\\Users\\\\win11\\\\iNeuron_Practise'"
      ]
     },
     "execution_count": 29,
     "metadata": {},
     "output_type": "execute_result"
    }
   ],
   "source": [
    "pwd(f) # to check the file location"
   ]
  },
  {
   "cell_type": "code",
   "execution_count": 31,
   "id": "de313e70",
   "metadata": {},
   "outputs": [
    {
     "name": "stdout",
     "output_type": "stream",
     "text": [
      "Enter the first no. :2\n",
      "Enter the second no. :0\n",
      "there is some issue with my code division by zero\n"
     ]
    },
    {
     "ename": "TypeError",
     "evalue": "write() argument must be str, not ZeroDivisionError",
     "output_type": "error",
     "traceback": [
      "\u001b[1;31m---------------------------------------------------------------------------\u001b[0m",
      "\u001b[1;31mZeroDivisionError\u001b[0m                         Traceback (most recent call last)",
      "Input \u001b[1;32mIn [31]\u001b[0m, in \u001b[0;36m<cell line: 1>\u001b[1;34m()\u001b[0m\n\u001b[0;32m      3\u001b[0m     b\u001b[38;5;241m=\u001b[39m\u001b[38;5;28mint\u001b[39m(\u001b[38;5;28minput\u001b[39m(\u001b[38;5;124m\"\u001b[39m\u001b[38;5;124mEnter the second no. :\u001b[39m\u001b[38;5;124m\"\u001b[39m))\n\u001b[1;32m----> 4\u001b[0m     c\u001b[38;5;241m=\u001b[39m\u001b[43ma\u001b[49m\u001b[38;5;241;43m/\u001b[39;49m\u001b[43mb\u001b[49m\n\u001b[0;32m      5\u001b[0m \u001b[38;5;28;01mexcept\u001b[39;00m \u001b[38;5;167;01mArithmeticError\u001b[39;00m \u001b[38;5;28;01mas\u001b[39;00m e:\n",
      "\u001b[1;31mZeroDivisionError\u001b[0m: division by zero",
      "\nDuring handling of the above exception, another exception occurred:\n",
      "\u001b[1;31mTypeError\u001b[0m                                 Traceback (most recent call last)",
      "Input \u001b[1;32mIn [31]\u001b[0m, in \u001b[0;36m<cell line: 1>\u001b[1;34m()\u001b[0m\n\u001b[0;32m      6\u001b[0m     \u001b[38;5;28mprint\u001b[39m(\u001b[38;5;124m\"\u001b[39m\u001b[38;5;124mthere is some issue with my code\u001b[39m\u001b[38;5;124m\"\u001b[39m,e)\n\u001b[0;32m      7\u001b[0m     f\u001b[38;5;241m=\u001b[39m\u001b[38;5;28mopen\u001b[39m(\u001b[38;5;124m\"\u001b[39m\u001b[38;5;124mineuron_txt2.txt\u001b[39m\u001b[38;5;124m\"\u001b[39m,\u001b[38;5;124m\"\u001b[39m\u001b[38;5;124mw+\u001b[39m\u001b[38;5;124m\"\u001b[39m)\n\u001b[1;32m----> 8\u001b[0m     \u001b[43mf\u001b[49m\u001b[38;5;241;43m.\u001b[39;49m\u001b[43mwrite\u001b[49m\u001b[43m(\u001b[49m\u001b[43me\u001b[49m\u001b[43m)\u001b[49m\n\u001b[0;32m      9\u001b[0m     f\u001b[38;5;241m.\u001b[39mread()\n\u001b[0;32m     10\u001b[0m \u001b[38;5;28;01melse\u001b[39;00m:\n",
      "\u001b[1;31mTypeError\u001b[0m: write() argument must be str, not ZeroDivisionError"
     ]
    }
   ],
   "source": [
    "try:\n",
    "    a=int(input(\"Enter the first no. :\"))\n",
    "    b=int(input(\"Enter the second no. :\"))\n",
    "    c=a/b\n",
    "except ArithmeticError as e:\n",
    "    print(\"there is some issue with my code\",e)\n",
    "    f=open(\"ineuron_txt2.txt\",\"w+\")\n",
    "    f.write(e)\n",
    "    f.read()\n",
    "else:\n",
    "    print(\"this will excectude one try is success\")\n",
    "    try:\n",
    "        f=open(\"text3.txt\",\"w\")\n",
    "    except:\n",
    "        print(\"this is and issue with try block\")"
   ]
  },
  {
   "cell_type": "code",
   "execution_count": 33,
   "id": "91b44b63",
   "metadata": {},
   "outputs": [
    {
     "name": "stdout",
     "output_type": "stream",
     "text": [
      "Enter the first no. :8\n",
      "Enter the second no. :2\n",
      "this will excectude one try is success\n"
     ]
    }
   ],
   "source": [
    "# Not working this code\n",
    "\n",
    "\n",
    "try:\n",
    "    a=int(input(\"Enter the first no. :\"))\n",
    "    b=int(input(\"Enter the second no. :\"))\n",
    "    c=a/b\n",
    "except ArithmeticError as e:\n",
    "    print(\"there is some issue with my code\",e)\n",
    "    f=open(\"ineuron_txt2.txt\",\"w+\")\n",
    "    data1=\"hi bro how are you\"\n",
    "    f.write(data1)\n",
    "    f.write(strr)\n",
    "    f.read()\n",
    "else:\n",
    "    print(\"this will excectude one try is success\")\n",
    "    try:\n",
    "        f=open(\"text3.txt\",\"w\")\n",
    "    except:\n",
    "        print(\"this is and issue with try block\")"
   ]
  },
  {
   "cell_type": "code",
   "execution_count": 40,
   "id": "a83aafa3",
   "metadata": {},
   "outputs": [
    {
     "name": "stdout",
     "output_type": "stream",
     "text": [
      "Enter the first no. :9\n",
      "Enter the second no. :0\n",
      "there is some issue with my code division by zero\n"
     ]
    }
   ],
   "source": [
    "# not worrking this code:\n",
    "\n",
    "\n",
    "try:\n",
    "    a=int(input(\"Enter the first no. :\"))\n",
    "    b=int(input(\"Enter the second no. :\"))\n",
    "    c=a/b\n",
    "except ArithmeticError as e:\n",
    "    print(\"there is some issue with my code\",e)\n",
    "    f=open(\"error.txt\",\"w+\")\n",
    "    f.write(\"hiiiiiii  \")\n",
    "    f.write(str(e))\n",
    "    f.read()\n",
    "else:\n",
    "    print(\"this will excectude one try is success\")\n",
    "    try:\n",
    "        f=open(\"text3_new1.txt\",\"w\")\n",
    "    except:\n",
    "        print(\"this is and issue with try block\")"
   ]
  },
  {
   "cell_type": "markdown",
   "id": "5e160dd6",
   "metadata": {},
   "source": [
    "observation:\n",
    "          \n",
    "          \"r\" open a file for reading.\n",
    "          \"w\" is use for writting file and will create new file\n",
    "          \"a\" open a file for appending at the file\n",
    "          \"+\" open a file for updating(reading & writting)\n",
    "          \"x\" open a new file but didn\"t over write and open file again & again. "
   ]
  },
  {
   "cell_type": "code",
   "execution_count": 41,
   "id": "6145efba",
   "metadata": {},
   "outputs": [],
   "source": [
    "f=open(\"new.5.txt\",\"x\")"
   ]
  },
  {
   "cell_type": "code",
   "execution_count": 45,
   "id": "a6f91dd9",
   "metadata": {},
   "outputs": [
    {
     "ename": "FileExistsError",
     "evalue": "[Errno 17] File exists: 'new.5.txt'",
     "output_type": "error",
     "traceback": [
      "\u001b[1;31m---------------------------------------------------------------------------\u001b[0m",
      "\u001b[1;31mFileExistsError\u001b[0m                           Traceback (most recent call last)",
      "Input \u001b[1;32mIn [45]\u001b[0m, in \u001b[0;36m<cell line: 1>\u001b[1;34m()\u001b[0m\n\u001b[1;32m----> 1\u001b[0m f\u001b[38;5;241m=\u001b[39m\u001b[38;5;28;43mopen\u001b[39;49m\u001b[43m(\u001b[49m\u001b[38;5;124;43m\"\u001b[39;49m\u001b[38;5;124;43mnew.5.txt\u001b[39;49m\u001b[38;5;124;43m\"\u001b[39;49m\u001b[43m,\u001b[49m\u001b[38;5;124;43m\"\u001b[39;49m\u001b[38;5;124;43mx\u001b[39;49m\u001b[38;5;124;43m\"\u001b[39;49m\u001b[43m)\u001b[49m\n",
      "\u001b[1;31mFileExistsError\u001b[0m: [Errno 17] File exists: 'new.5.txt'"
     ]
    }
   ],
   "source": [
    "f=open(\"new.5.txt\",\"x\") # Didn't overwrite here \"x\" whereas \"w\" did"
   ]
  },
  {
   "cell_type": "code",
   "execution_count": 43,
   "id": "cc8770c3",
   "metadata": {},
   "outputs": [],
   "source": [
    "f=open(\"new.6.txt\",\"w\") # over write here because wee use \"w\""
   ]
  },
  {
   "cell_type": "code",
   "execution_count": 44,
   "id": "3363cb3a",
   "metadata": {},
   "outputs": [],
   "source": [
    "f=open(\"new.5.txt\",\"w\")"
   ]
  },
  {
   "cell_type": "markdown",
   "id": "ce7dc0ed",
   "metadata": {},
   "source": [
    "## Iteration , Iterator and Generator"
   ]
  },
  {
   "cell_type": "code",
   "execution_count": null,
   "id": "e939a7c5",
   "metadata": {},
   "outputs": [],
   "source": []
  },
  {
   "cell_type": "code",
   "execution_count": null,
   "id": "a2afe89d",
   "metadata": {},
   "outputs": [],
   "source": []
  },
  {
   "cell_type": "code",
   "execution_count": null,
   "id": "107105d0",
   "metadata": {},
   "outputs": [],
   "source": []
  },
  {
   "cell_type": "code",
   "execution_count": 47,
   "id": "c8de3ce4",
   "metadata": {},
   "outputs": [],
   "source": [
    "data=[\"ineuron\",\"abcd\",\"india\"]\n"
   ]
  },
  {
   "cell_type": "code",
   "execution_count": 49,
   "id": "b9183047",
   "metadata": {},
   "outputs": [
    {
     "ename": "TypeError",
     "evalue": "'list' object is not an iterator",
     "output_type": "error",
     "traceback": [
      "\u001b[1;31m---------------------------------------------------------------------------\u001b[0m",
      "\u001b[1;31mTypeError\u001b[0m                                 Traceback (most recent call last)",
      "Input \u001b[1;32mIn [49]\u001b[0m, in \u001b[0;36m<cell line: 1>\u001b[1;34m()\u001b[0m\n\u001b[1;32m----> 1\u001b[0m \u001b[38;5;28;43mnext\u001b[39;49m\u001b[43m(\u001b[49m\u001b[43mdata\u001b[49m\u001b[43m)\u001b[49m\n",
      "\u001b[1;31mTypeError\u001b[0m: 'list' object is not an iterator"
     ]
    }
   ],
   "source": [
    "next(data)"
   ]
  },
  {
   "cell_type": "code",
   "execution_count": 50,
   "id": "3186765e",
   "metadata": {},
   "outputs": [
    {
     "name": "stdout",
     "output_type": "stream",
     "text": [
      "ineuron\n",
      "abcd\n",
      "india\n"
     ]
    }
   ],
   "source": [
    "for i in data:\n",
    "    print(i)"
   ]
  },
  {
   "cell_type": "code",
   "execution_count": 51,
   "id": "531a36ef",
   "metadata": {},
   "outputs": [
    {
     "data": {
      "text/plain": [
       "list"
      ]
     },
     "execution_count": 51,
     "metadata": {},
     "output_type": "execute_result"
    }
   ],
   "source": [
    "type(data)"
   ]
  },
  {
   "cell_type": "code",
   "execution_count": 52,
   "id": "0ba4a4f4",
   "metadata": {},
   "outputs": [],
   "source": [
    "# converting the data into iterator;\n",
    "x=iter(data)"
   ]
  },
  {
   "cell_type": "code",
   "execution_count": 54,
   "id": "78477f24",
   "metadata": {},
   "outputs": [
    {
     "data": {
      "text/plain": [
       "'abcd'"
      ]
     },
     "execution_count": 54,
     "metadata": {},
     "output_type": "execute_result"
    }
   ],
   "source": [
    "next(x)"
   ]
  },
  {
   "cell_type": "code",
   "execution_count": 55,
   "id": "be2ec8d2",
   "metadata": {},
   "outputs": [
    {
     "data": {
      "text/plain": [
       "list_iterator"
      ]
     },
     "execution_count": 55,
     "metadata": {},
     "output_type": "execute_result"
    }
   ],
   "source": [
    "type(x)"
   ]
  },
  {
   "cell_type": "code",
   "execution_count": 56,
   "id": "2aa2decd",
   "metadata": {},
   "outputs": [
    {
     "name": "stdout",
     "output_type": "stream",
     "text": [
      "i\n",
      "n\n",
      "e\n",
      "u\n",
      "r\n",
      "o\n",
      "n\n"
     ]
    }
   ],
   "source": [
    "m=\"ineuron\"\n",
    "for i in m:\n",
    "    print(i)"
   ]
  },
  {
   "cell_type": "code",
   "execution_count": 57,
   "id": "27111301",
   "metadata": {},
   "outputs": [
    {
     "ename": "TypeError",
     "evalue": "'str' object is not an iterator",
     "output_type": "error",
     "traceback": [
      "\u001b[1;31m---------------------------------------------------------------------------\u001b[0m",
      "\u001b[1;31mTypeError\u001b[0m                                 Traceback (most recent call last)",
      "Input \u001b[1;32mIn [57]\u001b[0m, in \u001b[0;36m<cell line: 1>\u001b[1;34m()\u001b[0m\n\u001b[1;32m----> 1\u001b[0m \u001b[38;5;28;43mnext\u001b[39;49m\u001b[43m(\u001b[49m\u001b[43mm\u001b[49m\u001b[43m)\u001b[49m\n",
      "\u001b[1;31mTypeError\u001b[0m: 'str' object is not an iterator"
     ]
    }
   ],
   "source": [
    "next(m)"
   ]
  },
  {
   "cell_type": "code",
   "execution_count": 61,
   "id": "a8341ab3",
   "metadata": {},
   "outputs": [
    {
     "data": {
      "text/plain": [
       "str"
      ]
     },
     "execution_count": 61,
     "metadata": {},
     "output_type": "execute_result"
    }
   ],
   "source": [
    "type(m)"
   ]
  },
  {
   "cell_type": "code",
   "execution_count": 60,
   "id": "d10944dc",
   "metadata": {},
   "outputs": [
    {
     "data": {
      "text/plain": [
       "['__class__',\n",
       " '__delattr__',\n",
       " '__dir__',\n",
       " '__doc__',\n",
       " '__eq__',\n",
       " '__format__',\n",
       " '__ge__',\n",
       " '__getattribute__',\n",
       " '__gt__',\n",
       " '__hash__',\n",
       " '__init__',\n",
       " '__init_subclass__',\n",
       " '__iter__',\n",
       " '__le__',\n",
       " '__length_hint__',\n",
       " '__lt__',\n",
       " '__ne__',\n",
       " '__new__',\n",
       " '__next__',\n",
       " '__reduce__',\n",
       " '__reduce_ex__',\n",
       " '__repr__',\n",
       " '__setattr__',\n",
       " '__setstate__',\n",
       " '__sizeof__',\n",
       " '__str__',\n",
       " '__subclasshook__']"
      ]
     },
     "execution_count": 60,
     "metadata": {},
     "output_type": "execute_result"
    }
   ],
   "source": [
    "dir(x)"
   ]
  },
  {
   "cell_type": "code",
   "execution_count": 63,
   "id": "5ce12af5",
   "metadata": {},
   "outputs": [
    {
     "data": {
      "text/plain": [
       "['__add__',\n",
       " '__class__',\n",
       " '__contains__',\n",
       " '__delattr__',\n",
       " '__dir__',\n",
       " '__doc__',\n",
       " '__eq__',\n",
       " '__format__',\n",
       " '__ge__',\n",
       " '__getattribute__',\n",
       " '__getitem__',\n",
       " '__getnewargs__',\n",
       " '__gt__',\n",
       " '__hash__',\n",
       " '__init__',\n",
       " '__init_subclass__',\n",
       " '__iter__',\n",
       " '__le__',\n",
       " '__len__',\n",
       " '__lt__',\n",
       " '__mod__',\n",
       " '__mul__',\n",
       " '__ne__',\n",
       " '__new__',\n",
       " '__reduce__',\n",
       " '__reduce_ex__',\n",
       " '__repr__',\n",
       " '__rmod__',\n",
       " '__rmul__',\n",
       " '__setattr__',\n",
       " '__sizeof__',\n",
       " '__str__',\n",
       " '__subclasshook__',\n",
       " 'capitalize',\n",
       " 'casefold',\n",
       " 'center',\n",
       " 'count',\n",
       " 'encode',\n",
       " 'endswith',\n",
       " 'expandtabs',\n",
       " 'find',\n",
       " 'format',\n",
       " 'format_map',\n",
       " 'index',\n",
       " 'isalnum',\n",
       " 'isalpha',\n",
       " 'isascii',\n",
       " 'isdecimal',\n",
       " 'isdigit',\n",
       " 'isidentifier',\n",
       " 'islower',\n",
       " 'isnumeric',\n",
       " 'isprintable',\n",
       " 'isspace',\n",
       " 'istitle',\n",
       " 'isupper',\n",
       " 'join',\n",
       " 'ljust',\n",
       " 'lower',\n",
       " 'lstrip',\n",
       " 'maketrans',\n",
       " 'partition',\n",
       " 'removeprefix',\n",
       " 'removesuffix',\n",
       " 'replace',\n",
       " 'rfind',\n",
       " 'rindex',\n",
       " 'rjust',\n",
       " 'rpartition',\n",
       " 'rsplit',\n",
       " 'rstrip',\n",
       " 'split',\n",
       " 'splitlines',\n",
       " 'startswith',\n",
       " 'strip',\n",
       " 'swapcase',\n",
       " 'title',\n",
       " 'translate',\n",
       " 'upper',\n",
       " 'zfill']"
      ]
     },
     "execution_count": 63,
     "metadata": {},
     "output_type": "execute_result"
    }
   ],
   "source": [
    "dir(m)"
   ]
  },
  {
   "cell_type": "code",
   "execution_count": null,
   "id": "c0ba242c",
   "metadata": {},
   "outputs": [],
   "source": [
    "## iterat are not"
   ]
  },
  {
   "cell_type": "markdown",
   "id": "f3e75a70",
   "metadata": {},
   "source": [
    "## Generator"
   ]
  },
  {
   "cell_type": "code",
   "execution_count": null,
   "id": "07a2948b",
   "metadata": {},
   "outputs": [],
   "source": [
    "# Generator is the other way of creating Iterator"
   ]
  },
  {
   "cell_type": "code",
   "execution_count": 64,
   "id": "ce3d3bc8",
   "metadata": {},
   "outputs": [
    {
     "data": {
      "text/plain": [
       "0"
      ]
     },
     "execution_count": 64,
     "metadata": {},
     "output_type": "execute_result"
    }
   ],
   "source": [
    "# Normal function---\n",
    "\n",
    "def square(n):\n",
    "    for i in range(n):\n",
    "        return i**2\n",
    "square(3)"
   ]
  },
  {
   "cell_type": "code",
   "execution_count": 66,
   "id": "7936e9d1",
   "metadata": {},
   "outputs": [
    {
     "ename": "TypeError",
     "evalue": "'int' object is not iterable",
     "output_type": "error",
     "traceback": [
      "\u001b[1;31m---------------------------------------------------------------------------\u001b[0m",
      "\u001b[1;31mTypeError\u001b[0m                                 Traceback (most recent call last)",
      "Input \u001b[1;32mIn [66]\u001b[0m, in \u001b[0;36m<cell line: 6>\u001b[1;34m()\u001b[0m\n\u001b[0;32m      2\u001b[0m     \u001b[38;5;28;01mfor\u001b[39;00m i \u001b[38;5;129;01min\u001b[39;00m n:\n\u001b[0;32m      3\u001b[0m         \u001b[38;5;28;01mreturn\u001b[39;00m i\u001b[38;5;241m*\u001b[39m\u001b[38;5;241m*\u001b[39m\u001b[38;5;241m2\u001b[39m\n\u001b[1;32m----> 6\u001b[0m \u001b[43msquare\u001b[49m\u001b[43m(\u001b[49m\u001b[38;5;241;43m3\u001b[39;49m\u001b[43m)\u001b[49m\n",
      "Input \u001b[1;32mIn [66]\u001b[0m, in \u001b[0;36msquare\u001b[1;34m(n)\u001b[0m\n\u001b[0;32m      1\u001b[0m \u001b[38;5;28;01mdef\u001b[39;00m \u001b[38;5;21msquare\u001b[39m(n):\n\u001b[1;32m----> 2\u001b[0m     \u001b[38;5;28;01mfor\u001b[39;00m i \u001b[38;5;129;01min\u001b[39;00m n:\n\u001b[0;32m      3\u001b[0m         \u001b[38;5;28;01mreturn\u001b[39;00m i\u001b[38;5;241m*\u001b[39m\u001b[38;5;241m*\u001b[39m\u001b[38;5;241m2\u001b[39m\n",
      "\u001b[1;31mTypeError\u001b[0m: 'int' object is not iterable"
     ]
    }
   ],
   "source": [
    "def square(n):\n",
    "    for i in n:\n",
    "        return i**2\n",
    "        \n",
    "        \n",
    "square(3)"
   ]
  },
  {
   "cell_type": "code",
   "execution_count": 86,
   "id": "ade80300",
   "metadata": {},
   "outputs": [
    {
     "data": {
      "text/plain": [
       "<generator object square at 0x000002C6BEF66DD0>"
      ]
     },
     "execution_count": 86,
     "metadata": {},
     "output_type": "execute_result"
    }
   ],
   "source": [
    "# Generator function--\n",
    "# where there is yield that is a generator function\n",
    "\n",
    "\n",
    "def square(n):\n",
    "    for i in range(n):\n",
    "        yield i**2\n",
    "\n",
    "square(3)"
   ]
  },
  {
   "cell_type": "code",
   "execution_count": 83,
   "id": "3f5f8a90",
   "metadata": {},
   "outputs": [
    {
     "data": {
      "text/plain": [
       "<generator object square at 0x000002C6BEF66BA0>"
      ]
     },
     "execution_count": 83,
     "metadata": {},
     "output_type": "execute_result"
    }
   ],
   "source": [
    "k=square(6)\n",
    "k"
   ]
  },
  {
   "cell_type": "code",
   "execution_count": 84,
   "id": "de093f7d",
   "metadata": {},
   "outputs": [
    {
     "data": {
      "text/plain": [
       "generator"
      ]
     },
     "execution_count": 84,
     "metadata": {},
     "output_type": "execute_result"
    }
   ],
   "source": [
    "type(k)"
   ]
  },
  {
   "cell_type": "code",
   "execution_count": 85,
   "id": "bc0eae27",
   "metadata": {},
   "outputs": [
    {
     "name": "stdout",
     "output_type": "stream",
     "text": [
      "0\n",
      "1\n",
      "4\n",
      "9\n",
      "16\n",
      "25\n"
     ]
    }
   ],
   "source": [
    "for i in k:\n",
    "    print(i)"
   ]
  },
  {
   "cell_type": "code",
   "execution_count": 89,
   "id": "7e36bfe6",
   "metadata": {},
   "outputs": [],
   "source": [
    "def new():\n",
    "    n=1\n",
    "    print(\"line one\")\n",
    "    yield n\n",
    "    \n",
    "    n=n+1\n",
    "    print(\"second line\")\n",
    "    yield n\n",
    "    \n",
    "    n=n+1\n",
    "    print(\"third line\")\n",
    "    yield n"
   ]
  },
  {
   "cell_type": "code",
   "execution_count": 91,
   "id": "68201aa6",
   "metadata": {},
   "outputs": [
    {
     "name": "stdout",
     "output_type": "stream",
     "text": [
      "line one\n",
      "1\n",
      "second line\n",
      "2\n",
      "third line\n",
      "3\n"
     ]
    }
   ],
   "source": [
    "for i in new():\n",
    "    print(i)"
   ]
  },
  {
   "cell_type": "code",
   "execution_count": null,
   "id": "d20a1030",
   "metadata": {},
   "outputs": [],
   "source": []
  }
 ],
 "metadata": {
  "kernelspec": {
   "display_name": "Python 3 (ipykernel)",
   "language": "python",
   "name": "python3"
  },
  "language_info": {
   "codemirror_mode": {
    "name": "ipython",
    "version": 3
   },
   "file_extension": ".py",
   "mimetype": "text/x-python",
   "name": "python",
   "nbconvert_exporter": "python",
   "pygments_lexer": "ipython3",
   "version": "3.9.12"
  }
 },
 "nbformat": 4,
 "nbformat_minor": 5
}
