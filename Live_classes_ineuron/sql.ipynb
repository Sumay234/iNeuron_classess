{
 "cells": [
  {
   "cell_type": "code",
   "execution_count": 2,
   "id": "be9100a0",
   "metadata": {},
   "outputs": [
    {
     "name": "stdout",
     "output_type": "stream",
     "text": [
      "True\n"
     ]
    }
   ],
   "source": [
    "import mysql.connector\n",
    "mydb = mysql.connector.connect(\n",
    "  host=\"localhost\",\n",
    "  user=\"root\",\n",
    "  password=\"123456\"\n",
    ")\n",
    "\n",
    "print(sudh.is_connected())\n",
    "\n"
   ]
  },
  {
   "cell_type": "code",
   "execution_count": 6,
   "id": "7d698b0b",
   "metadata": {},
   "outputs": [],
   "source": [
    "mycursor = mydb.cursor()\n",
    "mycursor = mydb.cursor()\n",
    "mycursor.execute('create database ineuron')"
   ]
  },
  {
   "cell_type": "code",
   "execution_count": 8,
   "id": "59cf09df",
   "metadata": {},
   "outputs": [],
   "source": [
    "mycursor.execute('create table ineuron.fsds(studentid int , firstname varchar(50) , lastname varchar(50) , registrationdate DATE,class varchar(20) , course_name varchar(50))')\n"
   ]
  },
  {
   "cell_type": "code",
   "execution_count": 9,
   "id": "0b20ed99",
   "metadata": {},
   "outputs": [],
   "source": [
    "mycursor.execute(\"\"\"insert into ineuron.fsds values(123 , 'sudhanshu', 'kumar','2022-11-11','sql','fsds'),\n",
    "(124 , 'r', 'singh','2022-11-11','sql','fsds'),\n",
    "(125 , 'rohan', 'kumar','2022-11-11','sql','fsds'),\n",
    "(126 , 'shreeja', 'maynale','2022-11-11','sql','fsds'),\n",
    "(127 , 'shubham', 'vedi','2022-11-11','sql','fsds'),\n",
    "(128 , 'abhishek', 'saini','2022-11-11','sql','fsds'),\n",
    "(129 , 'manoj', 'tripathi','2022-11-11','sql','fsds'),\n",
    "(130 , 'mayur ', 'gupta','2022-11-11','sql','fsds'),\n",
    "(131 , 'sumay', 'cahtterjee','2022-11-11','sql','fsds'),\n",
    "(132 , 'raunak', 'shgaow','2022-11-11','sql','fsds'),\n",
    "(133 , 'danish', 'khan','2022-11-11','sql','fsds')\"\"\")\n",
    "\n",
    "mydb.commit()\n"
   ]
  },
  {
   "cell_type": "code",
   "execution_count": 10,
   "id": "97e7336d",
   "metadata": {},
   "outputs": [],
   "source": [
    "mycursor.execute('select * from ineuron.fsds')"
   ]
  },
  {
   "cell_type": "code",
   "execution_count": 11,
   "id": "4195f523",
   "metadata": {},
   "outputs": [
    {
     "name": "stdout",
     "output_type": "stream",
     "text": [
      "(123, 'sudhanshu', 'kumar', datetime.date(2022, 11, 11), 'sql', 'fsds')\n",
      "(124, 'r', 'singh', datetime.date(2022, 11, 11), 'sql', 'fsds')\n",
      "(125, 'rohan', 'kumar', datetime.date(2022, 11, 11), 'sql', 'fsds')\n",
      "(126, 'shreeja', 'maynale', datetime.date(2022, 11, 11), 'sql', 'fsds')\n",
      "(127, 'shubham', 'vedi', datetime.date(2022, 11, 11), 'sql', 'fsds')\n",
      "(128, 'abhishek', 'saini', datetime.date(2022, 11, 11), 'sql', 'fsds')\n",
      "(129, 'manoj', 'tripathi', datetime.date(2022, 11, 11), 'sql', 'fsds')\n",
      "(130, 'mayur ', 'gupta', datetime.date(2022, 11, 11), 'sql', 'fsds')\n",
      "(131, 'sumay', 'cahtterjee', datetime.date(2022, 11, 11), 'sql', 'fsds')\n",
      "(132, 'raunak', 'shgaow', datetime.date(2022, 11, 11), 'sql', 'fsds')\n",
      "(133, 'danish', 'khan', datetime.date(2022, 11, 11), 'sql', 'fsds')\n"
     ]
    }
   ],
   "source": [
    "for i in mycursor:\n",
    "    print(i)\n",
    "    "
   ]
  },
  {
   "cell_type": "code",
   "execution_count": 13,
   "id": "15699df4",
   "metadata": {},
   "outputs": [],
   "source": [
    "mycursor.execute(\"show databases\")"
   ]
  },
  {
   "cell_type": "code",
   "execution_count": 15,
   "id": "b4a08f16",
   "metadata": {},
   "outputs": [
    {
     "data": {
      "text/plain": [
       "[('glass',),\n",
       " ('ineuron',),\n",
       " ('information_schema',),\n",
       " ('mysql',),\n",
       " ('performance_schema',),\n",
       " ('sakila',),\n",
       " ('sys',),\n",
       " ('test',),\n",
       " ('testsudhineuron',),\n",
       " ('world',)]"
      ]
     },
     "execution_count": 15,
     "metadata": {},
     "output_type": "execute_result"
    }
   ],
   "source": [
    "mycursor.fetchall()"
   ]
  },
  {
   "cell_type": "code",
   "execution_count": null,
   "id": "6d7a2ca5",
   "metadata": {},
   "outputs": [],
   "source": []
  }
 ],
 "metadata": {
  "kernelspec": {
   "display_name": "Python 3 (ipykernel)",
   "language": "python",
   "name": "python3"
  },
  "language_info": {
   "codemirror_mode": {
    "name": "ipython",
    "version": 3
   },
   "file_extension": ".py",
   "mimetype": "text/x-python",
   "name": "python",
   "nbconvert_exporter": "python",
   "pygments_lexer": "ipython3",
   "version": "3.9.12"
  }
 },
 "nbformat": 4,
 "nbformat_minor": 5
}
