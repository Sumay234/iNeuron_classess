{
 "cells": [
  {
   "cell_type": "code",
   "execution_count": 1,
   "id": "067a8982",
   "metadata": {},
   "outputs": [],
   "source": [
    "class car:\n",
    "    pass"
   ]
  },
  {
   "cell_type": "code",
   "execution_count": 2,
   "id": "a08118d9",
   "metadata": {},
   "outputs": [],
   "source": [
    "audi=car()"
   ]
  },
  {
   "cell_type": "code",
   "execution_count": null,
   "id": "cc2bdbd2",
   "metadata": {},
   "outputs": [],
   "source": [
    "audi.milage=10\n",
    "audi.year=2007\n"
   ]
  },
  {
   "cell_type": "code",
   "execution_count": null,
   "id": "bec464e0",
   "metadata": {},
   "outputs": [],
   "source": []
  },
  {
   "cell_type": "code",
   "execution_count": null,
   "id": "9cdcbb34",
   "metadata": {},
   "outputs": [],
   "source": []
  },
  {
   "cell_type": "code",
   "execution_count": null,
   "id": "aef74f43",
   "metadata": {},
   "outputs": [],
   "source": []
  },
  {
   "cell_type": "code",
   "execution_count": 3,
   "id": "1e60bc8e",
   "metadata": {},
   "outputs": [],
   "source": [
    "class car:\n",
    "    def __init__(self,milage,year,make,model):\n",
    "        self.milage=milage\n",
    "        self.year=year\n",
    "        self.make=make\n",
    "        self.model=model"
   ]
  },
  {
   "cell_type": "code",
   "execution_count": 14,
   "id": "8ef07ec6",
   "metadata": {},
   "outputs": [],
   "source": [
    "class person:\n",
    "    \n",
    "    def __init__(self,first_name,last_name,age):\n",
    "        self.first_name=first_name\n",
    "        self.last_name=last_name\n",
    "        self.age=age\n",
    "        \n",
    "    def __str__(self):\n",
    "        return \"this is a __str__ person class\""
   ]
  },
  {
   "cell_type": "code",
   "execution_count": 15,
   "id": "30fa4176",
   "metadata": {},
   "outputs": [],
   "source": [
    "raja=person(\"raja\",\"parja\",25)"
   ]
  },
  {
   "cell_type": "code",
   "execution_count": 16,
   "id": "30de5002",
   "metadata": {},
   "outputs": [
    {
     "data": {
      "text/plain": [
       "25"
      ]
     },
     "execution_count": 16,
     "metadata": {},
     "output_type": "execute_result"
    }
   ],
   "source": [
    "raja.age"
   ]
  },
  {
   "cell_type": "code",
   "execution_count": 117,
   "id": "e16c1014",
   "metadata": {},
   "outputs": [
    {
     "ename": "NameError",
     "evalue": "name 'self' is not defined",
     "output_type": "error",
     "traceback": [
      "\u001b[1;31m---------------------------------------------------------------------------\u001b[0m",
      "\u001b[1;31mNameError\u001b[0m                                 Traceback (most recent call last)",
      "Input \u001b[1;32mIn [117]\u001b[0m, in \u001b[0;36m<cell line: 1>\u001b[1;34m()\u001b[0m\n\u001b[1;32m----> 1\u001b[0m raja(\u001b[38;5;28;43mself\u001b[39;49m)\n",
      "\u001b[1;31mNameError\u001b[0m: name 'self' is not defined"
     ]
    }
   ],
   "source": [
    "raja()"
   ]
  },
  {
   "cell_type": "code",
   "execution_count": 17,
   "id": "ba3b6375",
   "metadata": {},
   "outputs": [
    {
     "ename": "AttributeError",
     "evalue": "type object 'person' has no attribute 'age'",
     "output_type": "error",
     "traceback": [
      "\u001b[1;31m---------------------------------------------------------------------------\u001b[0m",
      "\u001b[1;31mAttributeError\u001b[0m                            Traceback (most recent call last)",
      "Input \u001b[1;32mIn [17]\u001b[0m, in \u001b[0;36m<cell line: 1>\u001b[1;34m()\u001b[0m\n\u001b[1;32m----> 1\u001b[0m \u001b[43mperson\u001b[49m\u001b[38;5;241;43m.\u001b[39;49m\u001b[43mage\u001b[49m\n",
      "\u001b[1;31mAttributeError\u001b[0m: type object 'person' has no attribute 'age'"
     ]
    }
   ],
   "source": [
    "person.age"
   ]
  },
  {
   "cell_type": "code",
   "execution_count": 29,
   "id": "9196b12e",
   "metadata": {},
   "outputs": [],
   "source": [
    "class student:\n",
    "    \n",
    "    def __init__(self,name,rollno,joining_date,current_topic):\n",
    "        self.name=name\n",
    "        self.rollno=rollno\n",
    "        self.joining_date=joining_date\n",
    "        self.current_topic=current_topic\n",
    "        \n",
    "    def cur_topic(self):\n",
    "        print(\"current topic disscuin in class is \", self.current_topic)\n",
    "        \n",
    "    def str_rollno(self):\n",
    "        \n",
    "        try:\n",
    "            if type(self.rollno) == str:\n",
    "                print(\"do nothing\")\n",
    "                \n",
    "            else:\n",
    "                return str(self.rollno)\n",
    "            \n",
    "        except Exception as e:\n",
    "            print(\"this is my error message \",e)\n",
    "            \n",
    "    def duration(self,current_date):\n",
    "        print(\"duration of student in my class is: \",current_date - self.joining_date)\n",
    "        \n",
    "    def __str__(self):\n",
    "        return \"this is student class\"\n",
    "    "
   ]
  },
  {
   "cell_type": "code",
   "execution_count": 33,
   "id": "1fc86a45",
   "metadata": {},
   "outputs": [],
   "source": [
    "s1=student(\"sumay\",45,2018,\"data_science\")"
   ]
  },
  {
   "cell_type": "code",
   "execution_count": 34,
   "id": "be11f5f9",
   "metadata": {},
   "outputs": [
    {
     "name": "stdout",
     "output_type": "stream",
     "text": [
      "this is student class\n"
     ]
    }
   ],
   "source": [
    "print(s1)"
   ]
  },
  {
   "cell_type": "code",
   "execution_count": 36,
   "id": "f60b6c37",
   "metadata": {},
   "outputs": [
    {
     "name": "stdout",
     "output_type": "stream",
     "text": [
      "duration of student in my class is:  4\n"
     ]
    }
   ],
   "source": [
    "s1.duration(2022)"
   ]
  },
  {
   "cell_type": "code",
   "execution_count": 64,
   "id": "58859455",
   "metadata": {},
   "outputs": [],
   "source": [
    "class calculator:\n",
    "    \n",
    "    def __init__(self,a,b):\n",
    "        self.a=a\n",
    "        self.b=b\n",
    "        \n",
    "    def add(self):\n",
    "        return self.a + self.b\n",
    "    \n",
    "    def sub(self):\n",
    "        return self.a - self.b"
   ]
  },
  {
   "cell_type": "code",
   "execution_count": 68,
   "id": "6afed057",
   "metadata": {},
   "outputs": [],
   "source": [
    "c=calculator(5,4)"
   ]
  },
  {
   "cell_type": "code",
   "execution_count": 69,
   "id": "dfe4041d",
   "metadata": {},
   "outputs": [
    {
     "data": {
      "text/plain": [
       "9"
      ]
     },
     "execution_count": 69,
     "metadata": {},
     "output_type": "execute_result"
    }
   ],
   "source": [
    "c.add()"
   ]
  },
  {
   "cell_type": "code",
   "execution_count": 70,
   "id": "68c3f99c",
   "metadata": {},
   "outputs": [
    {
     "data": {
      "text/plain": [
       "1"
      ]
     },
     "execution_count": 70,
     "metadata": {},
     "output_type": "execute_result"
    }
   ],
   "source": [
    "c.sub()"
   ]
  },
  {
   "cell_type": "code",
   "execution_count": null,
   "id": "9125fb90",
   "metadata": {},
   "outputs": [],
   "source": []
  },
  {
   "cell_type": "code",
   "execution_count": 65,
   "id": "ebf03b81",
   "metadata": {},
   "outputs": [],
   "source": [
    "class company:\n",
    "    \n",
    "    def __init__(self):\n",
    "        self.name=\"ineuron\"\n",
    "        self.address=\"bangalore\"\n",
    "        \n",
    "    def show(self):\n",
    "        print(\"name :\",self.name,\"address: \",self.address)"
   ]
  },
  {
   "cell_type": "code",
   "execution_count": 66,
   "id": "93da5ed2",
   "metadata": {},
   "outputs": [],
   "source": [
    "c1=company()"
   ]
  },
  {
   "cell_type": "code",
   "execution_count": 67,
   "id": "faf78c02",
   "metadata": {},
   "outputs": [
    {
     "data": {
      "text/plain": [
       "'bangalore'"
      ]
     },
     "execution_count": 67,
     "metadata": {},
     "output_type": "execute_result"
    }
   ],
   "source": [
    "c1.address"
   ]
  },
  {
   "cell_type": "code",
   "execution_count": 68,
   "id": "325a508b",
   "metadata": {},
   "outputs": [
    {
     "name": "stdout",
     "output_type": "stream",
     "text": [
      "name : ineuron address:  bangalore\n"
     ]
    }
   ],
   "source": [
    "c1.show()"
   ]
  },
  {
   "cell_type": "code",
   "execution_count": 75,
   "id": "6e93b347",
   "metadata": {},
   "outputs": [],
   "source": [
    "class pub_mod:\n",
    "    \n",
    "    def __init__(self,name,age):\n",
    "        self.name=name\n",
    "        self.age=age\n",
    "        \n",
    "    def age1(self):\n",
    "        return (\"age\", self.age)"
   ]
  },
  {
   "cell_type": "code",
   "execution_count": 76,
   "id": "cfc09d3e",
   "metadata": {},
   "outputs": [],
   "source": [
    "c1=pub_mod(\"raja\",21)"
   ]
  },
  {
   "cell_type": "code",
   "execution_count": 79,
   "id": "ddcf2641",
   "metadata": {},
   "outputs": [
    {
     "data": {
      "text/plain": [
       "('age', 21)"
      ]
     },
     "execution_count": 79,
     "metadata": {},
     "output_type": "execute_result"
    }
   ],
   "source": [
    "c1.age1()"
   ]
  },
  {
   "cell_type": "code",
   "execution_count": 78,
   "id": "d51d52d7",
   "metadata": {},
   "outputs": [],
   "source": [
    "#    _abc=\"protected\" (single underscore)\n",
    "#   __abc= \"private\"\n",
    "\n",
    "# incap"
   ]
  },
  {
   "cell_type": "code",
   "execution_count": 85,
   "id": "8ac6e8d4",
   "metadata": {},
   "outputs": [],
   "source": [
    "class pub_mod:\n",
    "    \n",
    "    def __init__(self,name,age):\n",
    "        self._name=name       # here we use _ it means that name is procted \n",
    "        self.age=age\n",
    "        \n",
    "    def age1(self):\n",
    "        return (\"age\", self.age)"
   ]
  },
  {
   "cell_type": "code",
   "execution_count": 86,
   "id": "0ae0dc3d",
   "metadata": {},
   "outputs": [],
   "source": [
    "c2=pub_mod(\"abcd\",10)"
   ]
  },
  {
   "cell_type": "code",
   "execution_count": 93,
   "id": "fa76da83",
   "metadata": {},
   "outputs": [
    {
     "data": {
      "text/plain": [
       "('age', 10)"
      ]
     },
     "execution_count": 93,
     "metadata": {},
     "output_type": "execute_result"
    }
   ],
   "source": [
    "c2.age1()"
   ]
  },
  {
   "cell_type": "code",
   "execution_count": 102,
   "id": "c5c37280",
   "metadata": {},
   "outputs": [],
   "source": [
    "class rectange:\n",
    "    __lenght = 0\n",
    "    __breadth = 0\n",
    "    \n",
    "    def __init__(self):\n",
    "        self.__lenght = 5\n",
    "        self.__breadth = 3\n",
    "        \n",
    "        print(self.__lenght)\n",
    "        print(self.__breadth)"
   ]
  },
  {
   "cell_type": "code",
   "execution_count": 103,
   "id": "80efd64e",
   "metadata": {},
   "outputs": [
    {
     "name": "stdout",
     "output_type": "stream",
     "text": [
      "5\n",
      "3\n"
     ]
    }
   ],
   "source": [
    "r1=rectange()"
   ]
  },
  {
   "cell_type": "code",
   "execution_count": 106,
   "id": "5f7e8eb6",
   "metadata": {},
   "outputs": [
    {
     "ename": "AttributeError",
     "evalue": "'rectange' object has no attribute 'lenght'",
     "output_type": "error",
     "traceback": [
      "\u001b[1;31m---------------------------------------------------------------------------\u001b[0m",
      "\u001b[1;31mAttributeError\u001b[0m                            Traceback (most recent call last)",
      "Input \u001b[1;32mIn [106]\u001b[0m, in \u001b[0;36m<cell line: 1>\u001b[1;34m()\u001b[0m\n\u001b[1;32m----> 1\u001b[0m \u001b[43mr1\u001b[49m\u001b[38;5;241;43m.\u001b[39;49m\u001b[43mlenght\u001b[49m\n",
      "\u001b[1;31mAttributeError\u001b[0m: 'rectange' object has no attribute 'lenght'"
     ]
    }
   ],
   "source": [
    "r1.lenght"
   ]
  },
  {
   "cell_type": "code",
   "execution_count": 107,
   "id": "b60f8db7",
   "metadata": {},
   "outputs": [],
   "source": [
    "class rectange:\n",
    "   #  __lenght = 0\n",
    "    # __breadth = 0\n",
    "    \n",
    "    def __init__(self):\n",
    "        self.lenght = 12\n",
    "        self.__breadth = 10\n",
    "        \n",
    "        print(self.lenght)\n",
    "        print(self.__breadth)"
   ]
  },
  {
   "cell_type": "code",
   "execution_count": 110,
   "id": "bbc60b82",
   "metadata": {},
   "outputs": [
    {
     "name": "stdout",
     "output_type": "stream",
     "text": [
      "12\n",
      "10\n"
     ]
    }
   ],
   "source": [
    "r2=rectange()"
   ]
  },
  {
   "cell_type": "code",
   "execution_count": 113,
   "id": "55f78023",
   "metadata": {},
   "outputs": [
    {
     "data": {
      "text/plain": [
       "12"
      ]
     },
     "execution_count": 113,
     "metadata": {},
     "output_type": "execute_result"
    }
   ],
   "source": [
    "r2.lenght"
   ]
  },
  {
   "cell_type": "code",
   "execution_count": 114,
   "id": "94b8d4f5",
   "metadata": {},
   "outputs": [
    {
     "ename": "AttributeError",
     "evalue": "'rectange' object has no attribute 'breadth'",
     "output_type": "error",
     "traceback": [
      "\u001b[1;31m---------------------------------------------------------------------------\u001b[0m",
      "\u001b[1;31mAttributeError\u001b[0m                            Traceback (most recent call last)",
      "Input \u001b[1;32mIn [114]\u001b[0m, in \u001b[0;36m<cell line: 1>\u001b[1;34m()\u001b[0m\n\u001b[1;32m----> 1\u001b[0m \u001b[43mr2\u001b[49m\u001b[38;5;241;43m.\u001b[39;49m\u001b[43mbreadth\u001b[49m\n",
      "\u001b[1;31mAttributeError\u001b[0m: 'rectange' object has no attribute 'breadth'"
     ]
    }
   ],
   "source": [
    "r2.breadth"
   ]
  },
  {
   "cell_type": "code",
   "execution_count": null,
   "id": "b4278d5f",
   "metadata": {},
   "outputs": [],
   "source": []
  },
  {
   "cell_type": "code",
   "execution_count": null,
   "id": "413d101e",
   "metadata": {},
   "outputs": [],
   "source": []
  },
  {
   "cell_type": "code",
   "execution_count": 21,
   "id": "c421c742",
   "metadata": {},
   "outputs": [],
   "source": [
    "class test:\n",
    "    \n",
    "    def __init__(self):\n",
    "        self.a=6\n",
    "        self._b=5\n",
    "        self.__c=8\n",
    "        \n",
    "        print(\"public \",self.a,\"procted \",self._b,\"privated\", self.__c)"
   ]
  },
  {
   "cell_type": "code",
   "execution_count": 22,
   "id": "e550de09",
   "metadata": {},
   "outputs": [
    {
     "name": "stdout",
     "output_type": "stream",
     "text": [
      "public  6 procted  5 privated 8\n"
     ]
    }
   ],
   "source": [
    "t1=test()"
   ]
  },
  {
   "cell_type": "code",
   "execution_count": 24,
   "id": "b48d437b",
   "metadata": {},
   "outputs": [
    {
     "data": {
      "text/plain": [
       "6"
      ]
     },
     "execution_count": 24,
     "metadata": {},
     "output_type": "execute_result"
    }
   ],
   "source": [
    "t1.a"
   ]
  },
  {
   "cell_type": "code",
   "execution_count": 25,
   "id": "be41fa5e",
   "metadata": {},
   "outputs": [
    {
     "data": {
      "text/plain": [
       "6"
      ]
     },
     "execution_count": 25,
     "metadata": {},
     "output_type": "execute_result"
    }
   ],
   "source": [
    "t1.a"
   ]
  },
  {
   "cell_type": "code",
   "execution_count": 26,
   "id": "a92b6924",
   "metadata": {},
   "outputs": [
    {
     "data": {
      "text/plain": [
       "5"
      ]
     },
     "execution_count": 26,
     "metadata": {},
     "output_type": "execute_result"
    }
   ],
   "source": [
    "t1._b"
   ]
  },
  {
   "cell_type": "code",
   "execution_count": 34,
   "id": "ac70c0fb",
   "metadata": {},
   "outputs": [
    {
     "data": {
      "text/plain": [
       "5"
      ]
     },
     "execution_count": 34,
     "metadata": {},
     "output_type": "execute_result"
    }
   ],
   "source": [
    "t1._b"
   ]
  },
  {
   "cell_type": "code",
   "execution_count": 31,
   "id": "ef3d46e4",
   "metadata": {},
   "outputs": [
    {
     "ename": "AttributeError",
     "evalue": "'test' object has no attribute 'c'",
     "output_type": "error",
     "traceback": [
      "\u001b[1;31m---------------------------------------------------------------------------\u001b[0m",
      "\u001b[1;31mAttributeError\u001b[0m                            Traceback (most recent call last)",
      "Input \u001b[1;32mIn [31]\u001b[0m, in \u001b[0;36m<cell line: 1>\u001b[1;34m()\u001b[0m\n\u001b[1;32m----> 1\u001b[0m \u001b[43mt1\u001b[49m\u001b[38;5;241;43m.\u001b[39;49m\u001b[43mc\u001b[49m\n",
      "\u001b[1;31mAttributeError\u001b[0m: 'test' object has no attribute 'c'"
     ]
    }
   ],
   "source": [
    "t1.c"
   ]
  },
  {
   "cell_type": "code",
   "execution_count": 30,
   "id": "f38c0ecd",
   "metadata": {},
   "outputs": [
    {
     "data": {
      "text/plain": [
       "8"
      ]
     },
     "execution_count": 30,
     "metadata": {},
     "output_type": "execute_result"
    }
   ],
   "source": [
    "t1._test__c"
   ]
  },
  {
   "cell_type": "code",
   "execution_count": 41,
   "id": "a4856579",
   "metadata": {},
   "outputs": [],
   "source": [
    "class types:\n",
    "    \n",
    "    def __init__(self,branch,belted_bias,opt_press):\n",
    "        self.branch=branch\n",
    "        self.belted_bias=belted_bias\n",
    "        self.opt_press=opt_press\n",
    "        \n",
    "    def __str__(self):\n",
    "        return (\"Types: \\n \\tBranch \" + self.branch +\n",
    "                \"\\n \\t Belted_bias \" + str(self.belted_bias) +\n",
    "                 \"\\n\\t OPTIMAL PRESSURE \" + str(self.opt_press))\n",
    "    \n",
    "class engine:\n",
    "    \n",
    "    def __init__(self,fuel_type,noise_level):\n",
    "        self.fuel_type=fuel_type\n",
    "        self.noise_level=noise_level\n",
    "        \n",
    "    def __str__(self):\n",
    "        return (\"Engine: \\n \\t fuel type \" + self.fuel_type +\n",
    "                \"\\n \\t Noise level: \" + str(self.noise_level))\n",
    "    \n",
    "class body:\n",
    "    \n",
    "    def __init__(self,size):\n",
    "        self.size=size\n",
    "        \n",
    "    def __str__(self):\n",
    "        return (\"Body: \\n \\t size \" + self.size)\n",
    "    \n",
    "\n",
    "class car:\n",
    "    \n",
    "    def __init__(self,tyres,engine,body):\n",
    "        self.tyres=tyres\n",
    "        self.engine=engine\n",
    "        self.body=body\n",
    "        \n",
    "    def __str__(self):\n",
    "        return (str(self.tyres) + \"\\n\" + str(self.engine) +\"\\n\" + str(self.body))\n",
    "    \n",
    "    "
   ]
  },
  {
   "cell_type": "code",
   "execution_count": 42,
   "id": "4afd27c5",
   "metadata": {},
   "outputs": [],
   "source": [
    "t=types(\"bangalore \", True,2.0)\n",
    "e=engine(\"Disel \",3)\n",
    "b=body(\"Medium \")"
   ]
  },
  {
   "cell_type": "code",
   "execution_count": 43,
   "id": "3dee5c72",
   "metadata": {},
   "outputs": [
    {
     "name": "stdout",
     "output_type": "stream",
     "text": [
      "Types: \n",
      " \tBranch bangalore \n",
      " \t Belted_bias True\n",
      "\t OPTIMAL PRESSURE 2.0\n",
      "Engine: \n",
      " \t fuel type Disel \n",
      " \t Noise level: 3\n",
      "Body: \n",
      " \t size Medium \n"
     ]
    }
   ],
   "source": [
    "c=car(t,e,b)\n",
    "print(c)"
   ]
  },
  {
   "cell_type": "code",
   "execution_count": 44,
   "id": "9c1a358f",
   "metadata": {},
   "outputs": [],
   "source": [
    "# three types of modifier--\n",
    "# 1)Private     __abc= \"private\"\n",
    "# 2)Procted     _abc=\"protected\" (single underscore)\n",
    "# 3) public"
   ]
  },
  {
   "cell_type": "code",
   "execution_count": 50,
   "id": "a0621620",
   "metadata": {},
   "outputs": [
    {
     "data": {
      "text/plain": [
       "<__main__.types at 0x2b96afaf430>"
      ]
     },
     "execution_count": 50,
     "metadata": {},
     "output_type": "execute_result"
    }
   ],
   "source": [
    "c.tyres"
   ]
  },
  {
   "cell_type": "code",
   "execution_count": 51,
   "id": "62b5d865",
   "metadata": {},
   "outputs": [
    {
     "ename": "TypeError",
     "evalue": "'types' object is not callable",
     "output_type": "error",
     "traceback": [
      "\u001b[1;31m---------------------------------------------------------------------------\u001b[0m",
      "\u001b[1;31mTypeError\u001b[0m                                 Traceback (most recent call last)",
      "Input \u001b[1;32mIn [51]\u001b[0m, in \u001b[0;36m<cell line: 1>\u001b[1;34m()\u001b[0m\n\u001b[1;32m----> 1\u001b[0m \u001b[43mc\u001b[49m\u001b[38;5;241;43m.\u001b[39;49m\u001b[43mtyres\u001b[49m\u001b[43m(\u001b[49m\u001b[43m)\u001b[49m\n",
      "\u001b[1;31mTypeError\u001b[0m: 'types' object is not callable"
     ]
    }
   ],
   "source": [
    "c.tyres()"
   ]
  },
  {
   "cell_type": "code",
   "execution_count": 49,
   "id": "8baa8fce",
   "metadata": {},
   "outputs": [
    {
     "name": "stdout",
     "output_type": "stream",
     "text": [
      "Types: \n",
      " \tBranch bangalore \n",
      " \t Belted_bias True\n",
      "\t OPTIMAL PRESSURE 2.0\n"
     ]
    }
   ],
   "source": [
    "print(c.tyres)"
   ]
  },
  {
   "cell_type": "code",
   "execution_count": 54,
   "id": "69138966",
   "metadata": {},
   "outputs": [
    {
     "name": "stdout",
     "output_type": "stream",
     "text": [
      "Engine: \n",
      " \t fuel type Disel \n",
      " \t Noise level: 3\n"
     ]
    }
   ],
   "source": [
    "print(c.engine)"
   ]
  },
  {
   "cell_type": "code",
   "execution_count": 55,
   "id": "5bfcca3f",
   "metadata": {},
   "outputs": [
    {
     "name": "stdout",
     "output_type": "stream",
     "text": [
      "Body: \n",
      " \t size Medium \n"
     ]
    }
   ],
   "source": [
    "print(c.body)"
   ]
  },
  {
   "cell_type": "code",
   "execution_count": null,
   "id": "db742cd4",
   "metadata": {},
   "outputs": [],
   "source": []
  }
 ],
 "metadata": {
  "kernelspec": {
   "display_name": "Python 3 (ipykernel)",
   "language": "python",
   "name": "python3"
  },
  "language_info": {
   "codemirror_mode": {
    "name": "ipython",
    "version": 3
   },
   "file_extension": ".py",
   "mimetype": "text/x-python",
   "name": "python",
   "nbconvert_exporter": "python",
   "pygments_lexer": "ipython3",
   "version": "3.9.12"
  }
 },
 "nbformat": 4,
 "nbformat_minor": 5
}
